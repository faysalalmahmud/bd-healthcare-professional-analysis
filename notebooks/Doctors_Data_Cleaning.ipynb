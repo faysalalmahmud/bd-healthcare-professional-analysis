{
  "cells": [
    {
      "cell_type": "markdown",
      "metadata": {
        "id": "775fb140"
      },
      "source": [
        "## Importing necessary libraries"
      ]
    },
    {
      "cell_type": "code",
      "execution_count": 1,
      "metadata": {
        "id": "yCFjIumDFpgE"
      },
      "outputs": [],
      "source": [
        "import pandas as pd\n",
        "import re"
      ]
    },
    {
      "cell_type": "markdown",
      "metadata": {
        "id": "WQPvIjHKnI5H"
      },
      "source": [
        "## Loading the dataset and displaying the first few rows"
      ]
    },
    {
      "cell_type": "code",
      "execution_count": 2,
      "metadata": {
        "colab": {
          "base_uri": "https://localhost:8080/",
          "height": 293
        },
        "id": "8QjFLR_AF_oS",
        "outputId": "a982bd79-f438-4d82-a7cd-70606fbf1c45"
      },
      "outputs": [
        {
          "data": {
            "text/html": [
              "<div>\n",
              "<style scoped>\n",
              "    .dataframe tbody tr th:only-of-type {\n",
              "        vertical-align: middle;\n",
              "    }\n",
              "\n",
              "    .dataframe tbody tr th {\n",
              "        vertical-align: top;\n",
              "    }\n",
              "\n",
              "    .dataframe thead th {\n",
              "        text-align: right;\n",
              "    }\n",
              "</style>\n",
              "<table border=\"1\" class=\"dataframe\">\n",
              "  <thead>\n",
              "    <tr style=\"text-align: right;\">\n",
              "      <th></th>\n",
              "      <th>Doctor Name</th>\n",
              "      <th>Education</th>\n",
              "      <th>Speciality</th>\n",
              "      <th>Experience</th>\n",
              "      <th>Chamber</th>\n",
              "      <th>Location</th>\n",
              "      <th>Concentration</th>\n",
              "    </tr>\n",
              "  </thead>\n",
              "  <tbody>\n",
              "    <tr>\n",
              "      <th>0</th>\n",
              "      <td>Asst. Prof. Dr. Nurun Nahar Mohua</td>\n",
              "      <td>MBBS,D-CARD,PHD</td>\n",
              "      <td>Cardiologist</td>\n",
              "      <td>16.0</td>\n",
              "      <td>Aalok Healthcare Ltd. | Mirpur 10</td>\n",
              "      <td>Dhaka-1216</td>\n",
              "      <td>Bacterial Endocarditis,Cardiac Ablation,Cardia...</td>\n",
              "    </tr>\n",
              "    <tr>\n",
              "      <th>1</th>\n",
              "      <td>Dr. Rezaul Alam Khan</td>\n",
              "      <td>MBBS,CCD,MD (Medicine)</td>\n",
              "      <td>Medicine Specialist</td>\n",
              "      <td>23.0</td>\n",
              "      <td>Aalok Healthcare Ltd. | Mirpur 10</td>\n",
              "      <td>Dhaka-1216</td>\n",
              "      <td>Adolescent Medicine,Aesthetic Medicine,Cardiac...</td>\n",
              "    </tr>\n",
              "    <tr>\n",
              "      <th>2</th>\n",
              "      <td>Dr. Ummy Salma Munni</td>\n",
              "      <td>MSc,MPhil,PhD (Nutrition &amp; Food Science),INFS ...</td>\n",
              "      <td>Nutritionist</td>\n",
              "      <td>14.0</td>\n",
              "      <td>BRB Hospitals Limited</td>\n",
              "      <td>Dhaka-1205</td>\n",
              "      <td>Diabetes Management,Diet Management,Food Aller...</td>\n",
              "    </tr>\n",
              "    <tr>\n",
              "      <th>3</th>\n",
              "      <td>Dr. Mostafa Kamal Rouf</td>\n",
              "      <td>MBBS,BCS (Health),FCPS (Medicine),PGT (Neurology)</td>\n",
              "      <td>Medicine Specialist</td>\n",
              "      <td>23.0</td>\n",
              "      <td>Aalok Healthcare Ltd. | Mirpur 10</td>\n",
              "      <td>Dhaka-1216</td>\n",
              "      <td>Aesthetic Medicine,Alzheimer's Disease,Arthrit...</td>\n",
              "    </tr>\n",
              "    <tr>\n",
              "      <th>4</th>\n",
              "      <td>Asst. Prof. Dr. Akhlak Ahmed</td>\n",
              "      <td>MBBS (Dhaka),BCS (Health) FCPS (Medicine),MACP...</td>\n",
              "      <td>Medicine Specialist</td>\n",
              "      <td>19.0</td>\n",
              "      <td>Aalok Healthcare Ltd. | Mirpur 10</td>\n",
              "      <td>Dhaka-1216</td>\n",
              "      <td>Adolescent Medicine,Aesthetic Medicine,Cardiac...</td>\n",
              "    </tr>\n",
              "  </tbody>\n",
              "</table>\n",
              "</div>"
            ],
            "text/plain": [
              "                         Doctor Name  \\\n",
              "0  Asst. Prof. Dr. Nurun Nahar Mohua   \n",
              "1               Dr. Rezaul Alam Khan   \n",
              "2               Dr. Ummy Salma Munni   \n",
              "3             Dr. Mostafa Kamal Rouf   \n",
              "4       Asst. Prof. Dr. Akhlak Ahmed   \n",
              "\n",
              "                                           Education           Speciality  \\\n",
              "0                                    MBBS,D-CARD,PHD         Cardiologist   \n",
              "1                             MBBS,CCD,MD (Medicine)  Medicine Specialist   \n",
              "2  MSc,MPhil,PhD (Nutrition & Food Science),INFS ...         Nutritionist   \n",
              "3  MBBS,BCS (Health),FCPS (Medicine),PGT (Neurology)  Medicine Specialist   \n",
              "4  MBBS (Dhaka),BCS (Health) FCPS (Medicine),MACP...  Medicine Specialist   \n",
              "\n",
              "   Experience                            Chamber     Location  \\\n",
              "0        16.0  Aalok Healthcare Ltd. | Mirpur 10   Dhaka-1216   \n",
              "1        23.0  Aalok Healthcare Ltd. | Mirpur 10   Dhaka-1216   \n",
              "2        14.0              BRB Hospitals Limited   Dhaka-1205   \n",
              "3        23.0  Aalok Healthcare Ltd. | Mirpur 10   Dhaka-1216   \n",
              "4        19.0  Aalok Healthcare Ltd. | Mirpur 10   Dhaka-1216   \n",
              "\n",
              "                                       Concentration  \n",
              "0  Bacterial Endocarditis,Cardiac Ablation,Cardia...  \n",
              "1  Adolescent Medicine,Aesthetic Medicine,Cardiac...  \n",
              "2  Diabetes Management,Diet Management,Food Aller...  \n",
              "3  Aesthetic Medicine,Alzheimer's Disease,Arthrit...  \n",
              "4  Adolescent Medicine,Aesthetic Medicine,Cardiac...  "
            ]
          },
          "execution_count": 2,
          "metadata": {},
          "output_type": "execute_result"
        }
      ],
      "source": [
        "df = pd.read_csv('../data/combined/doctors_combined_data.csv')\n",
        "df.head()"
      ]
    },
    {
      "cell_type": "markdown",
      "metadata": {
        "id": "0xNjnAUkm5Pv"
      },
      "source": [
        "## Displaying DataFrame information"
      ]
    },
    {
      "cell_type": "code",
      "execution_count": 3,
      "metadata": {
        "colab": {
          "base_uri": "https://localhost:8080/"
        },
        "collapsed": true,
        "id": "aUWJI_yyGbun",
        "outputId": "d91e5d03-963e-4d4d-b034-52996d1b80bd"
      },
      "outputs": [
        {
          "name": "stdout",
          "output_type": "stream",
          "text": [
            "<class 'pandas.core.frame.DataFrame'>\n",
            "RangeIndex: 6520 entries, 0 to 6519\n",
            "Data columns (total 7 columns):\n",
            " #   Column         Non-Null Count  Dtype  \n",
            "---  ------         --------------  -----  \n",
            " 0   Doctor Name    6520 non-null   object \n",
            " 1   Education      6520 non-null   object \n",
            " 2   Speciality     6520 non-null   object \n",
            " 3   Experience     6341 non-null   float64\n",
            " 4   Chamber        6520 non-null   object \n",
            " 5   Location       6341 non-null   object \n",
            " 6   Concentration  6520 non-null   object \n",
            "dtypes: float64(1), object(6)\n",
            "memory usage: 356.7+ KB\n"
          ]
        }
      ],
      "source": [
        "df.info()"
      ]
    },
    {
      "cell_type": "markdown",
      "metadata": {
        "id": "qcqK07uPmWVe"
      },
      "source": [
        "## Data Cleaning & Processing"
      ]
    },
    {
      "cell_type": "markdown",
      "metadata": {
        "id": "t0bNJLqGoO9i"
      },
      "source": [
        "### Drop Duplicates rows & rows of the Missing Values"
      ]
    },
    {
      "cell_type": "code",
      "execution_count": 4,
      "metadata": {
        "colab": {
          "base_uri": "https://localhost:8080/"
        },
        "id": "MHHZlYJuGfTA",
        "outputId": "b4a09dc6-3633-4f3b-bccc-822116d492b7"
      },
      "outputs": [
        {
          "name": "stdout",
          "output_type": "stream",
          "text": [
            "(6047, 7)\n"
          ]
        }
      ],
      "source": [
        "#Drop Duplicates rows & rows of the Missing Values\n",
        "df.drop_duplicates(inplace=True)  # Remove duplicate rows\n",
        "df.reset_index(drop=True, inplace=True)  # Reset the index after dropping duplicates\n",
        "df.dropna(inplace=True)  # Remove rows with any missing values\n",
        "df.reset_index(drop=True, inplace=True)  # Reset the index after dropping rows with missing\n",
        "print(df.shape) # Display the shape of the DataFrame after processing\n"
      ]
    },
    {
      "cell_type": "markdown",
      "metadata": {
        "id": "zTwKgHEroaRT"
      },
      "source": [
        "### Split the Education & Concentration Field"
      ]
    },
    {
      "cell_type": "code",
      "execution_count": 5,
      "metadata": {
        "colab": {
          "base_uri": "https://localhost:8080/",
          "height": 310
        },
        "id": "cBUgMrq-LBGe",
        "outputId": "ee0f3986-c9ad-42e6-8772-09bbe8e4fd85"
      },
      "outputs": [
        {
          "name": "stdout",
          "output_type": "stream",
          "text": [
            "After Splitting 'Education' and 'Concentration':\n"
          ]
        },
        {
          "data": {
            "text/html": [
              "<div>\n",
              "<style scoped>\n",
              "    .dataframe tbody tr th:only-of-type {\n",
              "        vertical-align: middle;\n",
              "    }\n",
              "\n",
              "    .dataframe tbody tr th {\n",
              "        vertical-align: top;\n",
              "    }\n",
              "\n",
              "    .dataframe thead th {\n",
              "        text-align: right;\n",
              "    }\n",
              "</style>\n",
              "<table border=\"1\" class=\"dataframe\">\n",
              "  <thead>\n",
              "    <tr style=\"text-align: right;\">\n",
              "      <th></th>\n",
              "      <th>Doctor Name</th>\n",
              "      <th>Education</th>\n",
              "      <th>Speciality</th>\n",
              "      <th>Experience</th>\n",
              "      <th>Chamber</th>\n",
              "      <th>Location</th>\n",
              "      <th>Concentration</th>\n",
              "    </tr>\n",
              "  </thead>\n",
              "  <tbody>\n",
              "    <tr>\n",
              "      <th>0</th>\n",
              "      <td>Asst. Prof. Dr. Nurun Nahar Mohua</td>\n",
              "      <td>[MBBS, D-CARD, PHD]</td>\n",
              "      <td>Cardiologist</td>\n",
              "      <td>16.0</td>\n",
              "      <td>Aalok Healthcare Ltd. | Mirpur 10</td>\n",
              "      <td>Dhaka-1216</td>\n",
              "      <td>[Bacterial Endocarditis, Cardiac Ablation, Car...</td>\n",
              "    </tr>\n",
              "    <tr>\n",
              "      <th>1</th>\n",
              "      <td>Dr. Rezaul Alam Khan</td>\n",
              "      <td>[MBBS, CCD, MD (Medicine)]</td>\n",
              "      <td>Medicine Specialist</td>\n",
              "      <td>23.0</td>\n",
              "      <td>Aalok Healthcare Ltd. | Mirpur 10</td>\n",
              "      <td>Dhaka-1216</td>\n",
              "      <td>[Adolescent Medicine, Aesthetic Medicine, Card...</td>\n",
              "    </tr>\n",
              "    <tr>\n",
              "      <th>2</th>\n",
              "      <td>Dr. Ummy Salma Munni</td>\n",
              "      <td>[MSc, MPhil, PhD (Nutrition &amp; Food Science), I...</td>\n",
              "      <td>Nutritionist</td>\n",
              "      <td>14.0</td>\n",
              "      <td>BRB Hospitals Limited</td>\n",
              "      <td>Dhaka-1205</td>\n",
              "      <td>[Diabetes Management, Diet Management, Food Al...</td>\n",
              "    </tr>\n",
              "    <tr>\n",
              "      <th>3</th>\n",
              "      <td>Dr. Mostafa Kamal Rouf</td>\n",
              "      <td>[MBBS, BCS (Health), FCPS (Medicine), PGT (Neu...</td>\n",
              "      <td>Medicine Specialist</td>\n",
              "      <td>23.0</td>\n",
              "      <td>Aalok Healthcare Ltd. | Mirpur 10</td>\n",
              "      <td>Dhaka-1216</td>\n",
              "      <td>[Aesthetic Medicine, Alzheimer's Disease, Arth...</td>\n",
              "    </tr>\n",
              "    <tr>\n",
              "      <th>4</th>\n",
              "      <td>Asst. Prof. Dr. Akhlak Ahmed</td>\n",
              "      <td>[MBBS (Dhaka), BCS (Health) FCPS (Medicine), M...</td>\n",
              "      <td>Medicine Specialist</td>\n",
              "      <td>19.0</td>\n",
              "      <td>Aalok Healthcare Ltd. | Mirpur 10</td>\n",
              "      <td>Dhaka-1216</td>\n",
              "      <td>[Adolescent Medicine, Aesthetic Medicine, Card...</td>\n",
              "    </tr>\n",
              "  </tbody>\n",
              "</table>\n",
              "</div>"
            ],
            "text/plain": [
              "                         Doctor Name  \\\n",
              "0  Asst. Prof. Dr. Nurun Nahar Mohua   \n",
              "1               Dr. Rezaul Alam Khan   \n",
              "2               Dr. Ummy Salma Munni   \n",
              "3             Dr. Mostafa Kamal Rouf   \n",
              "4       Asst. Prof. Dr. Akhlak Ahmed   \n",
              "\n",
              "                                           Education           Speciality  \\\n",
              "0                                [MBBS, D-CARD, PHD]         Cardiologist   \n",
              "1                         [MBBS, CCD, MD (Medicine)]  Medicine Specialist   \n",
              "2  [MSc, MPhil, PhD (Nutrition & Food Science), I...         Nutritionist   \n",
              "3  [MBBS, BCS (Health), FCPS (Medicine), PGT (Neu...  Medicine Specialist   \n",
              "4  [MBBS (Dhaka), BCS (Health) FCPS (Medicine), M...  Medicine Specialist   \n",
              "\n",
              "   Experience                            Chamber     Location  \\\n",
              "0        16.0  Aalok Healthcare Ltd. | Mirpur 10   Dhaka-1216   \n",
              "1        23.0  Aalok Healthcare Ltd. | Mirpur 10   Dhaka-1216   \n",
              "2        14.0              BRB Hospitals Limited   Dhaka-1205   \n",
              "3        23.0  Aalok Healthcare Ltd. | Mirpur 10   Dhaka-1216   \n",
              "4        19.0  Aalok Healthcare Ltd. | Mirpur 10   Dhaka-1216   \n",
              "\n",
              "                                       Concentration  \n",
              "0  [Bacterial Endocarditis, Cardiac Ablation, Car...  \n",
              "1  [Adolescent Medicine, Aesthetic Medicine, Card...  \n",
              "2  [Diabetes Management, Diet Management, Food Al...  \n",
              "3  [Aesthetic Medicine, Alzheimer's Disease, Arth...  \n",
              "4  [Adolescent Medicine, Aesthetic Medicine, Card...  "
            ]
          },
          "execution_count": 5,
          "metadata": {},
          "output_type": "execute_result"
        }
      ],
      "source": [
        "#Split the Education & Concentration Field\n",
        "df['Education'] = df['Education'].str.split(',')\n",
        "df[\"Concentration\"] = df[\"Concentration\"].str.split(',')\n",
        "print(\"After Splitting 'Education' and 'Concentration':\")\n",
        "df.head()"
      ]
    },
    {
      "cell_type": "markdown",
      "metadata": {
        "id": "Qt4FR_FVpreY"
      },
      "source": [
        "### Change the Case of Education & Concentration Field"
      ]
    },
    {
      "cell_type": "code",
      "execution_count": 6,
      "metadata": {
        "colab": {
          "base_uri": "https://localhost:8080/",
          "height": 293
        },
        "collapsed": true,
        "id": "ho_KnljCNRBk",
        "outputId": "f6ba7fe5-e4d1-4522-aa32-8749a555ea97"
      },
      "outputs": [
        {
          "data": {
            "text/html": [
              "<div>\n",
              "<style scoped>\n",
              "    .dataframe tbody tr th:only-of-type {\n",
              "        vertical-align: middle;\n",
              "    }\n",
              "\n",
              "    .dataframe tbody tr th {\n",
              "        vertical-align: top;\n",
              "    }\n",
              "\n",
              "    .dataframe thead th {\n",
              "        text-align: right;\n",
              "    }\n",
              "</style>\n",
              "<table border=\"1\" class=\"dataframe\">\n",
              "  <thead>\n",
              "    <tr style=\"text-align: right;\">\n",
              "      <th></th>\n",
              "      <th>Doctor Name</th>\n",
              "      <th>Education</th>\n",
              "      <th>Speciality</th>\n",
              "      <th>Experience</th>\n",
              "      <th>Chamber</th>\n",
              "      <th>Location</th>\n",
              "      <th>Concentration</th>\n",
              "    </tr>\n",
              "  </thead>\n",
              "  <tbody>\n",
              "    <tr>\n",
              "      <th>0</th>\n",
              "      <td>Asst. Prof. Dr. Nurun Nahar Mohua</td>\n",
              "      <td>[MBBS, D-CARD, PHD]</td>\n",
              "      <td>Cardiologist</td>\n",
              "      <td>16.0</td>\n",
              "      <td>Aalok Healthcare Ltd. | Mirpur 10</td>\n",
              "      <td>Dhaka-1216</td>\n",
              "      <td>[Bacterial Endocarditis, Cardiac Ablation, Car...</td>\n",
              "    </tr>\n",
              "    <tr>\n",
              "      <th>1</th>\n",
              "      <td>Dr. Rezaul Alam Khan</td>\n",
              "      <td>[MBBS, CCD, MD (MEDICINE)]</td>\n",
              "      <td>Medicine Specialist</td>\n",
              "      <td>23.0</td>\n",
              "      <td>Aalok Healthcare Ltd. | Mirpur 10</td>\n",
              "      <td>Dhaka-1216</td>\n",
              "      <td>[Adolescent Medicine, Aesthetic Medicine, Card...</td>\n",
              "    </tr>\n",
              "    <tr>\n",
              "      <th>2</th>\n",
              "      <td>Dr. Ummy Salma Munni</td>\n",
              "      <td>[MSC, MPHIL, PHD (NUTRITION &amp; FOOD SCIENCE), I...</td>\n",
              "      <td>Nutritionist</td>\n",
              "      <td>14.0</td>\n",
              "      <td>BRB Hospitals Limited</td>\n",
              "      <td>Dhaka-1205</td>\n",
              "      <td>[Diabetes Management, Diet Management, Food Al...</td>\n",
              "    </tr>\n",
              "    <tr>\n",
              "      <th>3</th>\n",
              "      <td>Dr. Mostafa Kamal Rouf</td>\n",
              "      <td>[MBBS, BCS (HEALTH), FCPS (MEDICINE), PGT (NEU...</td>\n",
              "      <td>Medicine Specialist</td>\n",
              "      <td>23.0</td>\n",
              "      <td>Aalok Healthcare Ltd. | Mirpur 10</td>\n",
              "      <td>Dhaka-1216</td>\n",
              "      <td>[Aesthetic Medicine, Alzheimer'S Disease, Arth...</td>\n",
              "    </tr>\n",
              "    <tr>\n",
              "      <th>4</th>\n",
              "      <td>Asst. Prof. Dr. Akhlak Ahmed</td>\n",
              "      <td>[MBBS (DHAKA), BCS (HEALTH) FCPS (MEDICINE), M...</td>\n",
              "      <td>Medicine Specialist</td>\n",
              "      <td>19.0</td>\n",
              "      <td>Aalok Healthcare Ltd. | Mirpur 10</td>\n",
              "      <td>Dhaka-1216</td>\n",
              "      <td>[Adolescent Medicine, Aesthetic Medicine, Card...</td>\n",
              "    </tr>\n",
              "  </tbody>\n",
              "</table>\n",
              "</div>"
            ],
            "text/plain": [
              "                         Doctor Name  \\\n",
              "0  Asst. Prof. Dr. Nurun Nahar Mohua   \n",
              "1               Dr. Rezaul Alam Khan   \n",
              "2               Dr. Ummy Salma Munni   \n",
              "3             Dr. Mostafa Kamal Rouf   \n",
              "4       Asst. Prof. Dr. Akhlak Ahmed   \n",
              "\n",
              "                                           Education           Speciality  \\\n",
              "0                                [MBBS, D-CARD, PHD]         Cardiologist   \n",
              "1                         [MBBS, CCD, MD (MEDICINE)]  Medicine Specialist   \n",
              "2  [MSC, MPHIL, PHD (NUTRITION & FOOD SCIENCE), I...         Nutritionist   \n",
              "3  [MBBS, BCS (HEALTH), FCPS (MEDICINE), PGT (NEU...  Medicine Specialist   \n",
              "4  [MBBS (DHAKA), BCS (HEALTH) FCPS (MEDICINE), M...  Medicine Specialist   \n",
              "\n",
              "   Experience                            Chamber     Location  \\\n",
              "0        16.0  Aalok Healthcare Ltd. | Mirpur 10   Dhaka-1216   \n",
              "1        23.0  Aalok Healthcare Ltd. | Mirpur 10   Dhaka-1216   \n",
              "2        14.0              BRB Hospitals Limited   Dhaka-1205   \n",
              "3        23.0  Aalok Healthcare Ltd. | Mirpur 10   Dhaka-1216   \n",
              "4        19.0  Aalok Healthcare Ltd. | Mirpur 10   Dhaka-1216   \n",
              "\n",
              "                                       Concentration  \n",
              "0  [Bacterial Endocarditis, Cardiac Ablation, Car...  \n",
              "1  [Adolescent Medicine, Aesthetic Medicine, Card...  \n",
              "2  [Diabetes Management, Diet Management, Food Al...  \n",
              "3  [Aesthetic Medicine, Alzheimer'S Disease, Arth...  \n",
              "4  [Adolescent Medicine, Aesthetic Medicine, Card...  "
            ]
          },
          "execution_count": 6,
          "metadata": {},
          "output_type": "execute_result"
        }
      ],
      "source": [
        "#Change the Case of Education & Concentration field to Upper and Title respectively\n",
        "df[\"Education\"] = df[\"Education\"].apply(lambda x: [item.upper() for item in x])\n",
        "df[\"Concentration\"] = df[\"Concentration\"].apply(lambda x: [item.title() for item in x])\n",
        "df.head()"
      ]
    },
    {
      "cell_type": "code",
      "execution_count": 7,
      "metadata": {
        "colab": {
          "base_uri": "https://localhost:8080/"
        },
        "id": "hoj3hI9nb2ib",
        "outputId": "68ce454d-f433-46f9-fe2c-d5a6bb932798"
      },
      "outputs": [
        {
          "name": "stdout",
          "output_type": "stream",
          "text": [
            "Unique Education Entries after changing the case:\n",
            "No. of unique education: 2817\n",
            "['MBBS', 'D-CARD', 'PHD', 'CCD', 'MD (MEDICINE)', 'MSC', 'MPHIL', 'PHD (NUTRITION & FOOD SCIENCE)', 'INFS (DU)', 'BCS (HEALTH)', 'FCPS (MEDICINE)', 'PGT (NEUROLOGY)', 'MBBS (DHAKA)', 'BCS (HEALTH) FCPS (MEDICINE)', 'MACP (USA)', 'MPH', 'MD (INTERNAL MEDICINE)', 'FACP (USA)', 'MD (RESPIRATORY MEDICINE)', 'MD (CARDIOLOGY)', 'MPH (DHAKA)', 'MS (OBS & GYNAE)', 'FCPS (GENERAL SURGERY)', 'MS (PLASTIC SURGERY)', 'MCPS', 'FELLOW IN RHEUMATOLOGY', 'FRCP (UK)', 'FCPS (OBGYN)', 'FCPS(OBS&GYNAE)', 'FRCP (GLASGOW)', 'FCPS (HEMATOLOGY)', 'MS (UROLOGY)', 'MSC (UK)', 'FCPS', 'DO', 'MBBS (DMC)', 'MD (NEUROLOGY)', 'BDS', 'FCPS (OMFS)', 'FHN (SURGERY)', 'FTMJ', 'DCH(GLASGOW)', 'MRCP(UK)', 'FCPS (PEDIATRICS)', 'FRCP', 'FRCPCH', 'MRCP (UK)', 'FRCP (LONDON)', 'MD (ENDOCRINOLOGY)', 'FCPS (CARDIOLOGY)', 'FCPS (SURGERY)', 'MCPS (MEDICINE)', 'MD (CHEST)', 'MD (GASTRO)', 'MACP', 'M.MED (UK)', 'BCS (HEALTH) FCPS (MEDICINE) FCPS (NEUROLOGY)', 'DTM', 'PHD (PLASTIC SURGERY', ' JAPAN)', 'FCPS (ENT)', 'FICS', 'M.PHIL.', 'FCPS (RADIOTHERAPY)', 'FCPS (PAEDIATRICS)', 'MS (NITOR)', 'AO-BASIC (INDIA)', 'DDV', 'DEM (BIRDEM)', 'MACE (USA)', 'MCPS (SURGERY)', 'MS (CARDIOTHORACIC SURGERY)', 'ADVANCED VATS TRAINING (INDIA)', 'M.PHIL', 'MD (NEUROMEDICINE)', 'FCPS (OBS & GYNAE)', 'FCPS (PSYCHIATRY)', 'CCD (BIRDEM)', 'MD (NEPHROLOGY)', 'DDV (BSMMU)', 'FRCP (GLASGOW', 'FCPS (MED))', 'BCS', 'MS (CVTS)', 'MD-CARD (NICVD)', 'FACC (USA)', 'MS (CARDIOVASCULAR & THORACIC SURGERY)', 'MBBS (DNMC)', 'DA (DMC)', 'FCPS (ANAESTHESIOLOGY)', 'MCPS (ANESTHESIOLOGY)', 'FCPS (ORBS & GYNAE)', 'DGO', 'FRCOG (LONDON)', 'MS (GYNAE)', 'DGO (OBS & GYNAE)', 'MRCOG', 'FCPS (GYNAE & OBS)', 'MD', 'MACP (MEDICINE)', 'MD (HAEMATOLOGY)', 'MD (HEMATOLOGY)', '(HEALTH)', 'MD (ENDOCRINOLOGY AND METABOLISM)', 'FACE (AMERICA)', 'FCPS (PHYSICAL MEDICINE & REHABILITATION)', 'MD (PHYSICAL MEDICINE)', 'M. PHIL ( RADIATION ONCOLOGY )', 'PGT (MEDICINE)', 'M.PHIL. (RADIOATION & ONOCOLOGY)', 'DMRT', 'MBBS (CMC)', 'MCPS (PSYCHIATRY)', 'MD (PSYCHIATRY)', 'MPHIL (MENTAL DISEASES)', 'BCS ( HEALTH )', 'MPH (EPIDIMILLOGY)', 'MS (SURGERY)', 'FACS (USA)', 'MS (NEUROSURGERY)', 'FCPS ( SURGERY)', 'MS (NEURO-MEDICINE)', 'MS (NEURO-SURGERY)', 'MD ( PULMONOLOGY)', 'FCPS (MEDICINE-FP)', 'MD (CHEST DISEASES)', 'DTCD', 'FCCP (AMERICA)', 'MD (CHEST MEDICINE)', 'MBBS (SSMC)', 'MRCS', 'MS (GENERAL SURGERY)', 'BCS (HEALTH) MS (UROLOGY)', 'FCPS (SKIN&VD)', '(HEALTH) MD', 'FCPS (SKIN & VD)', 'MD (DERMATOLOGY & VENEREOLOGY)', '(DHAKA)', 'FCPS (SKIN & SEX)', 'DLO (ENT)', 'DLO', 'MS (ENT)', 'MD (GASTROENTEROLOGY)', 'MACG (USA)', 'DDV (DU)', 'MPHIL (PSYCHIATRIC)', 'PHD (USA)', 'FCPS (OBS & GYNE)', 'MCPS (PEDIATRICS)', 'MD (PEDIATRICS)', 'MD (CHILD MEDICINE)', 'DCH', 'PGPN (BOSTON)', 'DGO (DMC)', 'FCPS (GYNEA&OBS)', 'MBBS. BCS (HEALTH)', 'D ORTHO', 'MS (ORTHO SURGERY)', 'D - ORTHO', 'D-ORTHO', 'DTCD (CHEST)', 'FCCP (USA)', 'MD (PHYSICAL MEDICINE AND REHABILITATION)', 'FCPS (GYNE & OBS)', 'FELLOWSHIP IN IVA (DUBAI)', 'DIPLOMA IN CLINICAL RESEARCH (CANADA)', 'FCPS (GYN & OBS)', 'FELLOW COLORECTAL SURGERY (NUH', ' SINGAPORE)', 'MD (ENDOCRINOLOGY & METABOLISM)', 'BDS (CU)', 'PGT (BSMMU)', 'MS (OMS)', 'BDS (DU)', 'PGT (OMS)', 'FCPS (OPHTHALMOLOGY)', 'FICO (LONDON)', 'FCPS (NEUROSURGERY)', 'FCPS (PLASTIC & RECONSTRUCTIVE SURGERY) ADVANCED TRAINING IN USA', 'UK', 'SINGAPORE', 'THAILAND & INDIA', 'D- CARD (CARDIOLOGY)', 'MS (THORACIC SURGERY)', 'CMU', 'DCH (CHILD) (BSMMU)', 'FCPS (PAED)', 'MD (PAED GASTROENTEROLOGY )', 'MBBS (SOMC)', 'FCPS (RADIATION ONCOLOGY)', 'MCPS (RADIATION ONCOLOGY)', 'FCPS (NEUROLOGY)', 'BCS (HEALTH) MD (NEUROLOGY)', 'FCPS (GYNAE)', 'MRCP (UK LONDON)', 'MACP (AMERICA)', 'FCPS(MEDICINE)', 'MD (NEURO MEDICINE)', 'FCCS (CCM-USA)', 'MRCP (LONDON)', 'FCPS (PEDIATRIC)', 'MCPS (GYNAE & OBS)', 'MS (ORTHO)', 'MS (ORTHOPEDICS)', 'MS (ORTHOPAEDICS)', 'MS (NEURO SURGERY)', 'MCPS (INTERNAL MEDICINE)', 'FMAS (INDIA)', 'FRCS (GLASGOW', ' UK)', 'MD ( HEPATOLOGY)', 'DM (GASTROENTEROLOGY)', 'FRCS (EDIN)', 'MCPS (ENT)', 'FCPS (OTOLARYNGOLOGY- HEAD & NECK SURGERY)', 'FCPS (DERMATOLOGY)', 'MSC (LONDON)', 'FICD', 'BDS (DHAKA)', 'MSC (ORTHODONTICS', ' MALAYSIA)', 'FCPS (ORAL AND MAXILLOFACIAL SURGERY)', 'M. PHIL (RADIOTHERAPY)', 'MD (ONCOLOGY)', 'DEM (DIABETOLOGY & ENDOCRINOLOGY)', 'FCPS (UROLOGY)', 'FRCS (UK)', 'FCPS (PHYSICAL MEDICINE)', 'MD (DERMATOLOGY)', 'FCGP (MEDICINE)', 'FCPS (CHEST)', 'MBBS (DU) PGT', 'E.O.C. (GAINI & OBS)', 'DMU (STATE UNIVERSITY)', 'DCM', 'FCPS - GENERAL SURGERY', 'FACS (AMERICA)', 'MRCPS (GLASGOW)', 'FCPS (PM&R)', 'PHD (UK)', 'FCPS (NEPHROLOGY)', 'PHD (NEPHROLOGY)', 'MD (HEPATOLOGY)', 'MS (GYNAE & OBS', '(BSMMU)', 'CMU (ULTRA)', 'FSCAI (USA)', 'FMD', 'MS (EYE)', 'FCCS (SG)', 'DNB (CARDIOLOGY)', 'FCCP', 'BCS (HEALTH) M.PHIL (RADIOTHERAPY)', 'BCS (HEALTH) MCPS', 'DCH (BSMMU)', 'DVD', 'D-CARD (NICVD)', 'DLO (DU)', 'FRCS (GLASSGOW)', 'FESC', 'MBBC', 'D-CARD (DHAKA)', 'MBBS (CU)', 'DLO (BSMMU)', 'MPHIL (RADIOTHERAPY)', 'FCPS (ANESTHESIA)', 'MD (PEDIATRIC)', 'MD (CARDIO', ' NICVD)', 'DO (DU)', 'MS (UK)', 'DCH (DU)', 'D-CARD (BSMMU)', 'DIPLOMA IN ASTHMA (UK)', 'MCPS (ONCOLOGY)', 'IAIA (FELLOW)', 'MS (SURGICAL ONCOLOGY)', 'MS', 'DDV (SKIN & SEX)', 'MBBS (DU)', 'DD (THAILAND & JAPAN)', 'MCPS (BCPS)', 'DLO (B.S.M.M.U)', 'FCPS (GASTRO-THESIS)', 'MRCP (PASHAS-LONDON)', 'PGPN', 'MD (CHILD HEALTH)', 'MD (CHILD)', 'PGPN (USA)', 'FCPS (NEONETOLOGY)', 'MSC (COGNITIVE & CLINICAL NEUROSCIENCE', 'D-CARD (CARDIOLOGY)', 'MBBS (DHAKA). BCS (HEALTH). MS (ORTHOPEDIC)', 'MBBS (DHAKA MEDICAL)', 'MS (ORTHOPAEDIC SURGERY)', '(DHAKA). BCS', 'MS (ORTHOPEDIC)', 'D-ORTHO (BSMMU)', 'FWHO (THAILAND)', 'D-ORTHO (NITOR)', 'MS-ORTHO (BSMMU)', 'MCPS (OBGYN)', 'DGO (BSMMU)', 'FRCP (EDIN)', 'FRSPH', 'MACP (US)', 'MRCP (LONDON', 'BCS (HEALTH) DEM (DIABETES & HORMONE-BIRDEM)', '(DMC)', 'MS (ORTHOSURGERY)', 'MS (OBGYN)', 'MCPS (OBS & GYNAE)', 'MCPS (CLINICAL PATHOLOGY', 'DCP', 'MBBS (CMCH)', 'MCPS (DERMATOLOGY)', 'MCPS (SKIN & SEX)', 'DDV(CU)', 'DTCD (CHEST DISEASES)', 'PH.D (PHYSICAL MEDICINE)', 'MBBS (GOLD MEDALIST)', 'BCS (HEALTH) MD (CARDIOLOGY)', 'PHD (JAPAN)', 'FUAMS (USA)', 'POST DOC (USA)', 'MS (PEDIATRIC SURGERY)', 'MS (CHILD SURGERY-BSMMU)', 'MD (RHEUMATOLOGY)', 'MD (CHEST DISEASE)', 'MD (PEDIATRIC GASTROENTEROLOGY)', 'FCPS (ORAL & MAXILLOFACIAL SURGERY)', 'MCPS (DENTAL SURGERY)', 'MS (PROSTHODONTICS)', 'PGT (DENTISTRY)', 'MD (SKIN & VD)', 'MCPS (SKIN & VD)', 'MBBS (RMC)', 'DDV (DHAKA)', 'FMD (DHAKA)', 'DDOC (AUSTRIA)', 'DDV(BSMMU)', 'FCPS (EYE)', 'M-PHIL (RADIOTHERAPY)', 'MS (ENT-BSMMU)', 'BCS(HEALTH)', 'FCPS (CHILD)', 'MD (NEWBORN MEDICINE)', 'AO TRAUMA (INDIA)', 'MS (ORTHO-SURGERY)', 'D-ORTHO ( DMC)', 'FCPS (GYNAE & OBSTETRICS)', 'MCPS (GYNAE & OBSTETRICS)', 'FMAS', 'FACS', 'BSMMU', 'FCPS (P-2)', 'MD (NEPHROLOGY', ' COURSE)', 'MS (CV & TS)', 'MRCS (UK)', 'MS (CARDIOVASCULAR AND THORACIC SURGERY)', 'FEBCTS (EUROPE)', 'M.PHIL (ONCOLOGY)', 'MD (NEURO-MEDICINE)', 'MCPS (HEMATOLOGY)', 'MD (CHILD HEMATO-ONCOLO)', 'MS (COLORECTAL SURGERY', ' BSMMU)', 'MBBS. BCS. FCPS. MS', 'CCD (DIABETES', 'BIRDEM)', 'PGT (MEDICINE', 'NEPHROLOGY', ' NEURO MEDICINE', 'CARDIOLOGY)', 'MRCP (USA)', 'MS(SURGERY)', 'MS ( COLORECTAL SURGERY)', 'MBBS. MS (ORTHO)', 'D.ORTHO', 'MBBS. CCD. D-ORTHO', 'FCPS (DERMATOLOGY & VD)', 'FAMS', 'FCPS (PART-LL)', 'CRP (DMC)', 'PGT', 'PGT (DENTISTRY & OMS)', 'BDS. DDS. PHD', 'MACP (NEPHROLOGY)', 'FCPS (UROLOGY- FINAL PHASE)', 'FCPS(SKIN & VD)', 'MCPS (OPH)', 'MS (OPH)', 'MCPS (CHILD)', 'FCPS (MEDICINE) FINAL', 'PGT (NEURO)', 'D-CARD (D.U)', 'CCD ( BIRDEM )', 'MBBS. BCS. MD', 'FCPS (INFERTILITY)', 'DGO (OBST.& GYNAE)', 'MS (GYNAE&OBS)', 'FCPS (GYNAE&OBS)', 'MBBS (KMC)', 'FCPS (INTERNAL MEDICINE)', 'MRCP', 'D.ORTHO (NITOR', 'DHAKA)', 'AO TRAUMA(FELLOW)', 'BDS (RMCH)', 'PGT (CNSERVATIVE DENTISTRY AND ENDODONTICS)', 'BDS (RMC)', 'DDS (BSMMU)', 'MS (SURGICAL ONCOLOGY', 'FCPS( SURGERY)', 'FMAS ( INDIA)', 'MS (OBS AND GYNAE)', 'PGT (BSMMU).', 'PHD (ONCOLOGY)', 'M. PHILL (BSMMU)', 'FANMB', 'B.SC (HONS)', 'MS(FOOD & NUTRITION', 'DU)', 'M.PHIL(NUTRITION & FOOD SCIENCE', 'INFS', \"B.SC HON'S. M.S. (NUTRITION SCIENCE)\", 'FCCP ( AMERICA)', 'FCPS ( MEDICINE)', 'CCD(BIRDEM)', 'BSC', 'MS (N&F TECHNOLOGY)', 'MS(GENARAL SURGERY)', 'MBBS(DHAKA)', 'PH.D. (JAPAN)', 'MD(GASTRO)', 'FCPS (CARDIOLOGY', ' THESIS)', 'FCPS (MEDICINE GOLD MEDALIST)', 'MCPS (MEDCINE)', 'FCPS (CARIDOLOGY)', 'FRCP (GLASGO)', 'M.SC FOOD AND NUTIRITION', 'MD (RADIOLOGY&IMAGING)', 'M-PHIL (RADIOLOGY&IMAGING)', 'FCPS (RADIOLOGY)', 'MS (PAEDIATRIC SURGERY)', 'FCPS (CHILD HAEMATOLOGY & ONCOLOGY)', 'B.S.C', 'M.S.C', '(FOOD & NUTRITION)', 'INTERNSHIP IN CLINICAL NUTRITION (BIRDEM)', 'C.N.D (MIRDEM)', 'MBBS ( DHAKA)', 'MS.(BSMMU)', 'FCPS (MEDI)', 'MBBS (DHAKA). DCH (DHAKA CHILD HOSPITAL). BCS (HEALTH). FRSH (LONDON). MD (PEDIATRIC)', 'DCARD (BSMMU)', 'MS(CARDIOVASCULAR & THORACIC SURGERY)', 'FCPS ( CARDIOVASCULAR SURGERY )', 'MBBS (DHAKA MEDICAL COLLEGE)', 'FCPS (PAEDIATRIC NEUROLOGY & DEVELOPMENT)', 'MD (PAEDIATRICS)', 'MACP(USA)', 'MD(HEPATOLOGY)', 'DDV (DERMATOLOGY & VENEREOLOGY) (DMC)', 'PGT (CHEST DISEASE', ' GASTROLIVER)', 'DMU', 'MS (GYNAE & OBS)', 'DA', 'FIPM', 'FCPS (RHEUMATOLOGY)', 'DMU (BIRDEM)', 'DEM', 'MACE (BIRDEM)', 'MS (VASCULAR SURGERY)-BSMMU', 'FCPS (SUR)', 'MS (COLORECTAL SURGERY)', 'MRCS ED', '.DCN (ITALY)', 'MSC(LONDON)', 'MD(CHILD)', 'FELLOW', 'CHILD NUTRITON (BOSTON', ' USA)', 'PHD (CARD)', 'FSCAI (AMERICA)', 'FRCP (GLASSGOW)', 'MS(ORTHO)', 'MBBS. BCS', 'BSC (HONS)', 'MSC (FOOD & NUTRITION)', 'MBBS(DMC)', 'CCU (B.S.U)', '', 'EAORL-HNS (DIPLOMA)', 'MD (DERMATOLOGY & VD)', 'MS-(ORTHO)', 'AO FELLOW (INDIA)', 'WHO FELLOW ( INDONESIA)', 'BCS (HEALTH). MS-ORTHOPEDIC SURGERY', 'FICS(ORTHO)', 'BCS ( HEALTH)', 'FCPS ( GYNAECOLOGICAL ONCOLOGY )', 'MMED', 'IFAPA (USA)', 'DD', 'MBBS (DMC )', 'BCS ( HEALTH ) FCPS ( MEDICINE )', 'MD ( CARDIOLOGY )', 'FCPS (BSMMU)', 'MS (ORTHOPAEDIC SURGERY', 'NITOR)', 'FCPS (GOLD MEDALIST)', 'BSC (HEALTH)', 'FCPS (ENT) HEAD & NECK SURGERY', 'BDS (DHAKA DENTAL COLLEGE)', 'MS (ORAL & MAXILLOFACIAL SURGERY)', 'FCPS (GYNECOLOGY & OBS)', 'FCPS (PART-1)', 'DO (U-R)', 'MS (OPTH-UG)', 'FCPS (PART-2)', 'DTM&H (THAILAND)', 'MSC IN DIABETES(UK)', 'M.SC', 'DCH/IPPC', 'MS (ORAL & MAXILLOFACIAL SURGEON)', 'AO(TRAUMA)', 'FCPS(CHILD)', 'IPPN (CHILD NUTRITION-AUSTRALIA)', 'DCH-CHILD', 'CCCD', 'FCPS (OBS & GYNEACOLOGY)', 'FCPS (REPRODUCTIVE ENDOCRINOLOGY & INFERTILITY)', 'DMCH', 'FCPGS', 'DTCD (CHEST MEDICINE-CC)', 'BCPS', 'MD (BSMMU/PG HOSPITAL) DLO (ENT)', 'CCD-DIABETOLOGY (BIRDEM)', 'D-ORTHO (BSMMU/PG HOSPITAL)', 'MACP (AMERIKA)', 'D-CARD (CARDIOLOGY-CC)', 'CCD-DIABETIES (BIRDEM)', 'MS (UROLOGY COURSE)', 'PGPN (BOSTAN', ' USA) CCD (BIRDEM)', 'BCS (HEALTH) FCPS (GYNAE & OBS)', 'MS (CHILD SURGERY', 'BSMMU)', 'MRCS (ENGLAND)', 'MRCS (EDIN)', 'DMJ (DHAKA)', 'PGT (CHILD HEALTH)', 'DMU (ULTRA)', 'MS (ENT', 'FCPS (NOSE', ' EAR AND THROAT', ' FP)', 'PGT (SKIN & DV)', 'DVD (JAPAN', ' THAILAND)', 'DGO (GYNAE & OBS- BSMMU)', 'FCPS (GYNAE & OBS-FP)', 'PGT (DIABETIC & HORMONAL)', 'MS (GYNAE & OBS - FINAL PART)', 'PGT (ORTHO)', 'FCGP', 'MS (DHAKA)', 'MBBS (CEU)', 'DVD (BSMMU)', 'MD (PAEDIATRIC)', 'MD (KIDNEY', 'B. SC', 'M.SC. (FOOD AND NUTRITION)', 'MCPS (DERMA & VD)', 'GRADING COURSE( AFMI)', 'POSTGRADUATE DIPLOMA (UK)', 'FCPS (GYNAECOLOGY & OBSTETRICS)', 'BDS (RU)', 'MPH (NIPSOM)', 'MD(CARDIOLOGY)', 'FCPS (MEDICINE', 'MCPS (GYNAE AND OBS)', 'FCPS (GYNAE AND OBS)', 'PGT (JAPAN)', 'FCPS (OBS & GYNAECOLOGY)', 'DVD (DU)', 'MSC (SUB)', 'DCPD (ENGLAND)', 'MPH (CHILD HEALTH)', 'PGT (DERMATOLOGY & VENEREOLOGY)', 'PGT (ANAESTHESIA)', 'POST GRADUATE DIPLOMA IN CLINICAL COSMETOLOGY (INDIA)', 'FCPS (PLASTIC & RECONSTRUCTIVE SURGERY)', 'BCS HEALTH', 'FCPC (ENGLAND)', 'CCP (CANADA)', 'CCD (DIABETES)', 'DOC (SKIN', ' SEX', ' ALLERGY)', 'SMO (MEDICINE)', 'FCPS (PLASTIC AND RECONSTRUCTIVE SURGERY)', 'DDCM &V', 'MS (INFERTILITY)', 'MD (PED', ' NEUROLOGY)', 'FCPS (ENT & HEAD-NECK SURGERY)', 'FCPS(SURGERY)', 'MS(SURGICAL ONCOLOGY)', 'DD (JAPAN)', 'DD (THAILAND)', 'PHYSIOTHERAPY', 'MD (RADIATION ONCOLOGY)', 'FCPS (GYNAECOLOGY & OBS)', 'MD (CHEST-RESIDENT)', 'D-ORTHO (PONGU HOSPITAL)', 'PGT (SURGERY)', 'DVD (SKIN & DERMATOLOGY)', 'ACLS (BIRDEM)', 'PGT (CARDIOLOGY)', 'PGT (NEURO-MEDICINE)', 'MS (ORTHO-SURGERY', 'MBBS (DMU)', 'DIPLOMA IN MEDICAL ULTRASOUND (DMU)', 'MCPS (GYNAE&OBS)', 'MBBS (SHSMC)', 'PGT(MEDICINE)', 'FCPS (II)', 'MD (THESIS', ' NEPHROLOGY)', 'D-ORTHO (DU)', 'MS (ORTHOPEDIC SURGERY)', 'BDS (CMC)', 'MS (PROSTHODONTICS', 'DDS', 'FIN (NEPHROLOGY) INDIA', 'FCPS (PART - II)', 'DOMS', 'MPH (OPTH)', 'D-ORTHO (COURSE)', 'MBBS (SRILANKA)', 'MBBS (DAC)', 'DTM&H (BANGKOK)', 'DIP-IN-SAF & MGM.(GENEVA)', 'GAMC (UK)', 'FRSH (UK)', 'DCP (DU)', 'FCPS (HAEMATOLOGY)', 'FCPS (PAEDIATRICS', 'MD (NEONATAL & CHILD MEDICINE)', 'DGO (GYNAE)', 'MD (NEONATALOGY)', 'FCPS (OBS & GYNAE-ONCOLOGY)', 'MMMED', 'MCPS (FM)', 'MPH (DU)', 'FRSH (LONDON)', 'MRCP (MEDICINE- IRELAND)', 'D - CARD (CARDIOLOGY)', 'BCS (HEALTH) DE-CARD', 'DCH (BSMMU', ' PG HOSPITAL)', 'PH.D (PAED) (MOSCOW)', 'BCS (HEALTH) M', 'PHIL (CLINICAL PATHOLOGY)', 'MD (CHEST', 'MCPS (GYNAECOLOGY & OBS)', 'FCPS (GYNAECOLOGY CANCER)', 'MS (PAEDIATRIC SURGEON)', 'FCPS (SKIN & DERMATOLOGY', 'FCPS (FP)', 'FCPS (OBST & GYNAE)', 'FCP (PART-1)', 'BCS (HEALTH) FCPS', 'MRCOG (PART-1)', 'D.CARD (DU)', 'MS-ORTHO', 'TVS', 'D.ORTHO (NITOR)', 'MRCPI (GENERAL MEDICINE)', 'MESC', 'DDS (DENTAL SURGERY)', 'MS (RESIDENCY COURSE)', 'BCS (HEATH)', 'D.CARD', 'FCPS (MEDICINE-II)', 'FCPS (GYNA & OBS)', 'MBBS (DMC) FCPS', 'FCPS (NEUROLOGY FORCE). MRCP (PESEN)', 'FPMD (GASTROENTEROLOGY)', 'FCPS (ONCOLOGY)', 'MRCOG (LONDON)', 'DCH (PAEDIATRIC)', 'MD (PAEDIATRIC).', 'MS (GENERAL SURGERY', 'FCPS (GENERAL SURGERY', ' PART-I)', 'PGT (GS)', ' PART-II)', 'PGT MEDICINE (DMCAE)', 'MBBS (IBRAHIM MEDICAL COLLEGE)', 'PGT (GYNAE & OBS.)', 'DMU (SONOLOGIST)', 'MSC (FOOD & NUTRITION', ' DU)', 'PGT IN NUTRITION & DIET THERAPY (DCC)', 'CND (BIRDEM)', 'MPH (NSU)', 'PGT (ORAL & MAXILLOFACIAL SURGERY)', 'PGT (CONSERVATIVE SURGERY)', 'PGT (PG HOSPITAL)', 'FCPS (FINAL PART-BSMMU)', 'MPH (USA)', 'FCPS (IN COURSE)', 'MSC (NUTRITION) DU', '(FMC) BCS (HEALTH) MS (ORTHOPEDIC SURGERY)', 'MSC(TROPICAL & INFECTIOUS DISEASES)', 'MD(ENDOCRINOLOGY & METABOLISM)', 'MD(INTERNAL MEDICINE)', 'FCPS(RHEUMATOLOGY)', 'MD (HEPATOLOGY', 'FCPS (GYNAE & OBS.)', 'MS (OBS. & GYNAE-BSMMU)', 'DGO (GYNAE & OBS.)', 'FCPS (NEPHROLOGY-FP)', 'MSC IN NEPHROLOGY (UK)', 'MPHIL (PSM)', 'PGT (ENT)', 'DFM (BSMMU)', 'FCPS (PAEDIATRIC)', 'PHD (PHYSIO)', 'MS (PHYSIO', ' INDIA)', 'BSPT', 'ADIE (DU)- RESOURCE PERSON', 'PGD (MEDICINE', ' BELGIUM)', 'PGT (MULLIGAN', 'FCPS (OBS & GYNAE) DGO', 'FCPS(OBGYN)', 'MS(GYNAE & OBSTETRICS)', 'FCPS (GASTROENTEROLOGY)', 'MS (GY & OBS)', 'BDS (DDC)', 'MS (BSMMU)', 'MS (COURSE', ' DMCH)', 'MRCP PART 2 (UK)', 'PGT (PAEDIATRICS)', 'MD (BIO)', 'PGT (MEDICINE & CARDIO)', 'MBBS (RU)', 'PGT (GYNAE & OBS)', 'CMU (USG)', 'FCPS (GYNAE & OBS', 'CCD (BMJ/FORTIS', 'FMD (FAMILY MEDICINE)', 'FCGP (FAMILY MEDICINE)', 'DOC (DERMATOLOGY)', 'D-ORTHO (ORTHO-SURGERY)', 'MPH (BELGIUM)', 'DGO (GYNAE & OBS)', 'FCGP (DHAKA)', 'MS ( PEDIATRIC SURGERY)', 'MD(DERMATOLOGY', 'PGT (CONSER)', 'DDCH', 'FCPS (PART-II)', 'D-ORTHO (ORTHO SURGERY', 'MS (ORTHOPAEDIC)', 'EPID (AUSTRALIA)', 'FCPS (INFECTIOUS DISEASES)', 'FCPS (PHYSICAL MEDICINE', ' FP) PGT (PHYSICAL MEDICINE AND REHABILITATION)', 'POST GRADUATE TRAINING IN MEDICINE', 'MBBS (DANDONG MEDICAL COLLEGE', ' CHINA)', 'BDS (RAJ)', 'PGT (CONSERVATIVE DENTISTRY)', 'DVD (COURSE)', 'MCGP', 'DLO (ENT', 'MBBS (AFMC', 'A.O TRAUMA-BASIC AND ADVANCE (INDIA)', 'AND FCPS (ENT)', 'MD (PED)', 'MD (NEONATOLOGY)', 'MD (PHYSICAL MEDICINE REHABILITATION)', 'FCPS (ORAL & MAXILOFACIAL SURGRY)', 'MD(CHEST DISEASES)', 'FCPS(CHEST DISEASES)', 'FCPS (DERMATOLOGY & VENEREOLOGY)', 'FCPS (BD)', 'FCPS (PAK)', 'FRCP (EDIN', ' GLASGOW', ' IRELAND)', 'DM (UK)', 'MPHIL (PSYCHIATRY)', 'MS(UROLOGY)', 'MS(CVTS)', 'PGT (CHILD)', 'MRCS (ENT)', 'DLO (UK)', 'FRCS (EDINBURGH)', 'MBBS (SMC)', 'MCTM (THAILAND)', 'FCPS (GYNAECOLOGICAL ONCOLOGY)', 'MD (CARDIOLOGY) (NICVD)', 'MS (CARDIOVUSCULAR & THORACIC SURGERY)', 'CHD (USA)', 'TSTD (THAILAND)', 'C-ULTRA', 'MBBS (RPMC)', 'M-PHIL (BSMMU)', 'MD (CARDIOLOGY', 'MPH (MATERNAL & CHILD HEALTH)', 'DVD (PG)', 'BDS (SWC)', 'FCPS (SURGERY', 'MS (NEUROSURGERY-COURSE)', 'PHD (PSYCHIATRY)', 'MS(THORACIC SURGERY)', 'MCPS(SURGERY)', 'FICS(USA)', 'FACC', 'PGT (NEONATAL)', 'DCH (PAEDIATRICS)', ' BARDEM)', ' ON COURSE)', 'CMU (SONOLOGIST)', 'MPH (PUBLIC HEALTH)', 'ADVANCED DIPLOMA IN MEDICAL ULTRASOUND. FORMERLY (BIRDEM)', 'MCPS (RT)', 'FWHO (INDIA)', 'FIEA (SINGAPORE', 'ENS (GERMANY)', 'MD (PHASE-B)', 'DEM (ENDOCRINOLOGY)', 'MRCP (EDIN)', 'AFMC', 'MBBS(DU)', '(DU)', 'MRCOG (UK)', 'MBBS MS (GENERAL SURGERY', '(DU) BCS (HEALTH)', 'FICS (AMERICA)', 'IFHNOS (MSKCC-USA)', '(DERMATOLOGY & VENEREOLOGY)', 'DCH (NEONATOLOGY & PEDIATRICS SPECIALIST)', '(DMC) BCS', 'MBBS (1ST POSITION) GOLD MEDALIST', 'DTCD (DU)', 'DEM(BIRDEM)', 'MD(ENDOCRINOLOGY)', 'MS(ENT)', 'PGT (GYNAE)', 'C-ULTRA (DHAKA)', 'C-ENDOS (BARDEM)', 'MPH (REPRODUCTIVE HEALTH)', 'DGO (DU)', 'DTCD (THORACOLOGY)', 'FACS (US)', 'AFCPS (GYNAECOLOGY)', 'DO(DU)', 'FCPS(EYE)', 'DGO(OBGYN)', 'MBBS(SSMC)', 'FCPS(ENT)', 'MD(CRITICAL CARE MEDICINE)', 'MD(NEUROLOGY)', 'MD(NEURO MEDICINE)', 'MS(PEDIATRIC SURGERY)', 'MD(DERMATOLOGY)', 'FRCP(GLASGOW)', 'FAAD(USA)', 'DDV(DU)', 'DD(THAILAND)', 'MRCS(UK)', 'MS(COLORECTAL SURGERY)', 'FCPS(PLASTIC SURGERY)', 'MS(THESIS)', 'PHD (UROLOGY)', 'MRCS (EDIN', 'MD (SEX & SKIN)', 'FRCP(UK)', 'MCP(AMERICA)', 'OGT &G-MED(AFMI)', 'MS(ORTHO SURGERY)', 'MD(NEPHROLOGY)', 'FCPS(OBS & GYNAE)', 'FCPS(HEMATOLOGY)', 'M.PHIL (RADIOLOGY & IMAGING)', 'MD(RADIOLOGY & IMAGING)', 'MD (RADIOTHERAPY)', 'D-CARD (DUKE)', 'FCPS (PK) FRCP (UK)', 'WHO FELLOW (USA)', 'FELLOW IN NUCLEAR CARDIOLOGY', 'FKIT (KOREA)', 'FCPS (ORTHO SURGERY)', 'PHD (NEUROSURGERY)', 'MS IN ENT', 'FICS (USA)', 'MHPED (AU)', 'FCPS (PK)', 'MD (INTERNAL MEDICINE) BSMMU', 'MRCPS (GLASG)', 'IVF&ICSI (THAILAND)', 'MSC (SINGAPORE)', 'MD (DU)', 'PHD (RESEARCH)', 'MCPS (PATHOLOGY)', 'FIGO', 'MPHIL MSC (RHEUMATOLOGY) PHD', 'MBBS.', 'DD (DHAKA)', 'AEL', 'DTAE', 'AESD&V', 'AND FAAD (USA)', 'DD (BANGKOK)', 'DPD (UK)', 'AND FRCS (UK)', 'FRCSS (GLASGOW', 'FCPS(PEDIATRICS)', 'MD(PEDIATRIC GASTROENTEROLOGY)', 'FCPS(ANESTHESIOLOGY)', 'FACC(USA)', 'MD (CHILD HEALTH', 'DCH (GLASGOW)', 'MRCP (IRELAND)', 'MD (INDIA)', 'MD (OBS & GYNAE) INDIA', 'FTM & H (LONDON)', 'MS (FOOD AND NUTRITION)', 'MPH (COMMUNITY NUTRITION)', 'FCPS (SKIN)', 'MS PHASE- B (PLASTIC SURGERY)', 'MCPS FCPS', 'MCPS(MEDICINE)', 'MBBS(DCH)', 'MD(NEONATOLOGY)', 'FELLOW NEONATOLOGY (SINGAPORE)', 'MBBS ( CU )', 'D OPHTH ( BSMMU )', 'DNM (BSMMU)', 'DMU (BSU)', 'DTCD (DHAKA UNIVERSITY)', 'MS (OPHTHALMOLOGY)', 'DEM(DU)', 'FAACE(USA)', 'FELLOW NEONATOLOGY (BRITISH)', 'BDS(DU)', 'PGT(GENERAL DENTISTRY)', 'FCGP(FAMILY MEDICINE)', 'CCD(DIABETOLOGY', ' BIRDEM)', 'MD (ANESTHESIA)', 'DA (DU)', 'B.SC (FOOD & NUTRITION SCIENCE)', 'MSC (FOOD & NUTRITION SCIENCE)', 'ALPIDE HUMAN SCIENCE (DHAKA UNIVERSITY)', 'DA (ANAESTHESIA', ' PAIN AND ICU SPECIALIST)', 'PGT (CRITICAL CARE MEDICINE)', 'PGT (PSYCHIATRY)', 'FCPS (BLOOD DISORDERS)', 'MRCGP (UK)', 'DFSRH (UK)', 'DRCOG (UK)', 'B.SC', 'PHYSICAL THERAPY', 'BSC (UK)', 'CIMA (UK)', 'BA HON. (UK)', 'MCPS(EYE)', 'MS(EYE)', 'FCRS(SNEC', 'FCPS(CARDIOLOGY)', 'MD(PULMONOLOGY)', 'MRCPS(GLASGOW)', 'MRCP(PACES)(USA)', 'MD(RHEUMATOLOGY)', 'MBBS(CMC)', 'MD(PSYCHIATRY)', 'DMRD', 'JSPS', 'FELLOW (JAPAN)', 'MBBS(SZMC)', 'FCPS (ENT & HNS)', 'MRCP UK (MEDICINE)', 'PGT (NEUROMEDICINE)', 'MCPS (GYNE & OBS)', 'MRCOG (PART- 2 )', 'MS (GYNE & OBS)', 'DEPLOMA IN MEDICAL ULTRASOUND', 'PGT (GYNE & OBS)', 'FCCS (INDIA)', 'ACMU (ULTRA)', 'MCGP (MEDICINE)', 'MD(HEMATOLOGY)', 'D-CARD(BSMMU)', 'DA(ANESTHESIA)', 'MCPS(OBS & GYNAE)', 'DGO(OBS & GYNAE)', 'CCD (DIABETOLOGY)', 'PGT (MEDICINE & NEPHROLGY)', 'PGT (PEDIATRIC)', 'DVD (SKIN & SEX)', 'PH.D', 'MSC (NUTRITION)', 'FCCS (USA)', 'FCPS(GYNAE & OBS)', 'BCS(HEALTH) DGO', 'FCPS(GYNAE)', 'MS(PLASTIC SURGERY)', 'FELLOWSHIP(INDIA)', 'M.PHIL (PSYCHIATRY)', 'FCPS (ORTHO)', 'MD (JAPAN)', 'B.SC (FOOD & NUTRITION)', 'DCH(ICMH', ' BSMMU) CCD(BIRDEM)', 'MD(SKIN & SEX)', 'GOLD MEDALIST', 'MD(DHERMATOLOGY & VENEROLOGY)', 'MS(ORTHO-SURGERY)', 'DCO(CU)', 'FICO(UK)', 'MS(OPHTH)', 'FICD(AMERICA)', 'PHD(JAPAN)', 'PGD(JAPAN)', 'FRSPH(LONDON)', 'FCPS(FINAL PART)', 'FCPS(PHYSICAL MEDICINE)', 'MD (NEPHROLOGY) BSMMU', 'MBBS (AFMC)', 'MD (PULMONOLOGY)', '(SSMC)', 'FCPS (OBS AND GYNECOLOGY)', 'FCPS (GYNAE & OPS)', 'DGO (BSMMU) PGT (GYNAE AND OBS)', 'FCPS (GYANE & OBST)', 'FCPS (GYANE & OBS)', 'MD (USSR)', 'ACGS (USSR)', 'FCPS (FEAC)', 'DO (BSMMU)', 'FCPS (P-II)', 'MD (ENDOCRINOLOGY) BIRDEM', 'BSMMU (EX-PG HOSPITAL)', 'FCPS (FINAL PART)', 'DIPLOMA IN ORAL & MAXILLOFACIAL SURGERY', 'FCPS (OMS)', 'BDS (SHAHEED SUHRAWARDY MEDICAL COLLEGE)', 'MS (CHILD SURGERY)', 'D-CARD (GERMANY)', 'MS (PAED. SURGURY)', 'PHD (UROLOGY) JAPAN', 'ACT (JAPAN)', 'DGO (DHAKA)', 'PGC (RAWAL PINDI', ' PAKISTAN)', 'MD (PHO)', 'MD (COLOMBO)', 'DIPLOMA IN MEDICAL ULTRASOUND', 'MPHIL (ONCOLOGY)', 'MS (PEDI. SURGERY)', 'BPT (DU)', 'RPT', 'CRP', 'FRCS (EDIN', 'MS (CV&TS)', 'DDV (SKIN & VENEREAL DISEASES)', 'DGO (PG HOSPITAL)', 'FCPS (GYNECOLOGY AND OBSTETRICS)', 'MBBS BCS', 'MCPS (RADIOTHERAPY)', 'FCPS (SURGERY) MRCS (EDINBURGH', 'FCPS (SURGERY) MS (UROLOGY)', 'MRCS (EDINBURGH)', 'MBBS (MMC)', 'FCPS (OBSTETRICS & GYNAECOLOGY)', 'FCPS (MEDICINE )', 'DIP IN ASTHMA (UK)', 'MSC IN GASTROENTEROLOGY (LONDON', 'MS (VASCULAR SURGERY)', 'MCPS ( ANESTHESIOLOGY)', 'MD (CRITICAL CARE)', 'FCPS (CARD)', 'MSC (DIABETES', ' LONDON)', 'PHD (NEUROMEDICINE', ' ITALY)', 'MCPS (PEDIATRIC)', 'FIAOG (INDIA)', 'AND DFFP (GLASGOW)', 'MBSS; FCPS; MCPS; MD', 'DIPLOMA IN CARDIOLOGY & MRCP (UK)', 'MBBS; MCPS (PSYCHIATRY)', 'FASN', 'MBBS; MD(NEUROLOGY); MAAN(USA)', 'MBBS; FCPS (MEDCINE)', 'MS (BRAIN & SPINE SURGEON)', 'MBBS; FCPS(HEMATOLOGY)', 'BSC (FOOD & NUTRITION)', 'CCD (ADVANCED DIETETICS)', 'PHD (FELLOW)', 'SSC-MED (INTERNAL MEDICINE)', 'FCPS (OBS-GYNEA)', 'DMED (UK)', 'A.O BASIC', 'FMAS & IVF', 'AND ADVANCE IVF COURSE', 'MCPS (CLINICAL PATH)', 'MPHIL (PATH)', 'MD (BIOCHEMISTRY)', 'DCH (CMC)', 'MRCPCH (UK)', 'DIPLOMA IN CHILD HEALTH', 'RCPCH', 'MPHIL (RADIOLOGY & IMAGING)', 'MD (RADIOLOGY & IMAGING)', 'MCPS (SURGERY', 'MS (CHEST)', 'MCPS (OBSTETRICS', ' GYNECOLOGY)', 'FACS(USA)', 'DMAS (COLORECTAL SURGERY- INDIA)', 'FCPS & DIP-MAS', 'MD (GASTEROENTEROLOGY)', 'MBBS- CMCH', 'DLO-BSMMU', 'MCPS (ENT)-BCPS', 'MS(ENT)-DMH', 'PHD (ENT)', 'FRCP (GLASSGO)', 'MRCP (P-II)', 'MBGPH', 'FRSPH (UK)', 'MBBS (RAJ)', 'FCPS (LAST PART)', 'FCPS (GYNAE & OBS- PART II)', 'MRCOG- ENGLAND (PART III)', 'DEM- (ENDOCRINOLOGY & METABOLISM) ADVANCED TRAINING ON ENDOCRINOLOGY (SINGAPORE)', 'D-ORTHO (DMC)', 'AO BASIC (TRAUMA)', 'MSC- CLINICAL DERMATOLOGY (UK)', 'DD-DERMATOLOGY (BANGKOK)', 'MD (ANESTHESIOLOGY)', 'MS (OTOLARYNGOLOGY)', 'FRSTM (UK)', 'FCPS (MEDICINE) CCD (BIRDEM)', 'DPM (DU)', 'CERTIFIED IN DIABETOLOGY (BIRDEM)', 'FCCS (CRITICAL CARE MEDICINE)', 'MSC (FOOD AND NUTRITION) (DU)', 'PGT (WHO)', 'CERTIFIED TRAINEE (IDF)', 'MICRO-EAR SURGERY (BOMBAY)', 'FESS (DELHI)', 'FCPS(BD)', 'FCPS(PAK)', 'BCS (BCS)', 'FICMCH', 'DHR QUALIFIED (UK)', 'FCPS (OBS. & GYNAE)', 'MS (OBS. & GYNAE)', 'MD (CHILD & ADOLESCENT PSYCHIATRY)', ' MCPS)', 'DGO ( AUSTRIA )', 'BPT (NITOR-DU)', 'MPS (DU)', 'PGD (SPORTS SCIENCE', ' BKSP)', 'BSC (HONS.)', 'MSC (FOOD AND NUTRITION SCIENCE', 'M.PHIL (NUTRITION AND FOOD SCIENCE ', 'B. SC (FOOD AND NUTRITION', ' KU)', 'PGT (INTERNAL MEDICINE)', 'DIPLOMA IN INTERNAL MEDICINE (USA)', 'AND FELLOW IN GYNE ONCOLOGY (UK & SG)', 'FRCP (MEDICINE)', 'WHO FELLOW (SINGAPORE)', 'FCPS (MEDICINE) MRCP (UK)', 'MSC IN DERMATOLOGY (UK)', 'MS (ORTHO.)', 'AST (JAPAN)', 'PGT (NEUROSURGERY)', 'M-CARD (COURSE)', 'FCPS (NEONATOLOGY)', 'MD (CHILD', ' THESIS PART)', 'FCPS (CHILD', 'DMUD', 'MD (CHILD GASTROENTEROLOGY)', 'DIP', 'MIS.', 'FRCS (GLASGOW)', 'SAGES (USA)', 'MD (USA)', 'FELLOW IN UROLOGY (USA)', 'CCD (BIRDEM )', 'DMU (ADVANCED)', 'FCPS (ANESTHESIOLOGY)', 'FCPS (PART-2) (MEDICINE)', 'DD (THAILAND/JAPAN)', 'BCS (HEALTH) MS (PRACTICAL AND RECONSTRUCTIVE SURGERY)', 'MS (CHILD)', 'D. ORTHO', 'MD (NEONATAL)', 'DTM (SWEDEN)', 'DEM (BSMMU)', 'MD (GASTRO-ENTEROLOGY)', ' PACES)', 'FCPS (MEDICINE LAST PART)', 'FCPS (MEDICINE PART-2)', 'MCPS (ANAESTHESIA)', 'FICO (UK)', 'MRCS ED. (UK)', 'FRCS ED. (UK)', 'MBBS (DMCH)', 'FCPS (GYNAE & OBS) - 2 (BD)', 'MRCOG - 2 (LONDON)', 'PGT (CHILD DISEASES) PGT (ENT)', 'PGT (PAEDIATRIC)', 'BCS (HEALTH) DCH', 'MCPS(PEDIATRICS)', 'MCPS (GYNAE)', 'MPH (OEH)', 'MS (HEPATOBILIARY SURGERY)', 'MS (ORTHOPEDICS SURGERY)', 'D-PAD (AUSTRIA)', 'DCH (UK)', 'PGC IN CHILD', 'DPH (DU)', 'MS (CARDIO VASCULAR & THORASIC)', 'MACE', 'PH.D(RUSSIA)', 'DO(EYE)', 'FICO (EYE)', 'M.PHIL IN CLINICAL PSYCHOLOGY', 'BSC (PSYCHOLOGY)', 'MSC (PSYCHOLOGY)', 'MD(GASTROENTEROLOGY)', 'DO (EYE)', 'DEM (ENDOCRINOLOGY-BIRDEM)', 'MS (MINIMAL ACCESS SURGERY', 'MD (EM', 'CPR (DMCH)', 'ISP (TMDU)', 'DV (BANGKOK)', 'EOC (PHILIPPINES)', 'MBBS. BCS( HEALTH). MS (UROLOGY). FACS (USA)', 'FCPS (USA)', 'FCPS. DO', 'MS (OPHTH)', 'ICO (UK)', 'FRCS (EDINBURG)', 'FCPS. DCO. FICO', 'MS (OPH.)', 'ICO (LONDON)', 'FCPS (OPH)', 'FVRS (RETINA)', 'FRCS (EDINBURGH). MS (OPHTH). FCPS (OPHTH). DCEH (LONDON)', 'ICO', 'FRCS (EDINBURGH) FRCS (GLASGOW)', 'DO (OPH)', 'FRCS (GLASS.UK)', 'DDV (DERMATOLOGY & VENEREOLOGY)', 'ARCS (ENGLAND)', 'FCPS ( ORAL AND MAXILLOFACIAL SURGERY)', 'FRSH', 'MD (PEDIATRICS GASTROENTEROLOGY)', 'MS (ORTHO) CCD (BIRDEM)', 'MRCS (GLASG)', 'FCPS-1', 'DIPLOMA', 'MD (PULMONOLOGY - PHASE B)', 'ENS( GERMANY)', 'PGPN (BOSTON', 'MD (HEPATO)', 'FRCS', 'PGT (ENT & HNS)', 'MD (PAED CARD)', 'FCPS( MEDICINE)', 'MBBS (SHSMCH)', 'FOS (NUH', 'MBBS. MS (ORTHO-SURGERY)', 'MICS', 'FRCP (GLASGOW-UK)', 'MS (DISABILITY & REHABILITATION)', 'BSPT(DU) NITOR', 'MSC (CLINICAL DERMATOLOGY)', 'MS (ORTHOPAEDICS) FELLOWSHIP IN ARTHROSCOPY AND ARTHROPLASTY (INDIA)', 'FCPS (MEDICINE) FCPS (NEPHROLOGY)', 'POST-GRADUATE AWARD IN A. R. T (UK)', 'MBBS ( DHAKA )', 'RCP & SI ( DABIN )', 'MSC ( IN.D.) LONDON', 'FRCP ( IRELAND )', \"B.SC (HON'S)\", 'M.SC (NUTRITION AND FOOD SCIENCE)', 'MRCP (PART- 1)', 'PGT (CHEST & ORTHO)', 'MCPS (OBSTETRICS AND GYNAECOLOGY)', 'FCPS (OBSTETRICS AND GYNAECOLOGY)', 'DA (BSMMU)', 'MCCP (UK)', 'DOC (SKIN)', 'B. SC (HONS)', 'M. SC (FOOD AND NUTRITION)', 'PGCC (NIN)', 'ICMR', 'DCH (DU) PGPN (PAEDIATRIC NUTRITION)', 'MD (THESIS)', 'CCD (BARDEM)', 'FCPS (MEDICINE - GOLD MEDALIST)', '(USA)', '(PSYCHIATRY)', 'MHPED', 'FRCP (GLASG)', 'PGT (ICDDRB)', 'MD CLINICAL & INTERVENTIONAL PEDIATRIC CARDIOLOGIST', 'FCPS (GYNE)', 'FCPS (INFERLITY)', 'MBBS (BOARD STAND)', 'FMAS (INDIA).', 'M.SC (FOOD & NUTRITION)', 'MPH (BRAC UNIVERSITY)', 'D.ORTH (ORTHOPAEDICS)', 'BCS (HEALTH) MS (NEUROSURGERY)', 'MS (ORTHODONTICS)', 'MDS', 'MTM', 'FCPS (PEDIATRIC GASTRO)', 'MRCPCH (CLINICAL)(UK)', 'MD (PAEDIATRIC HAEMATOLOGY AND ONCOLOGY)', 'DMU (AIMS)', 'MSC (NUTRITION & FOOD)', 'PGT (ORAL AND MAXILLOFACIAL SURGERY)', 'PGT (CONSERVATIVE DENTISTY)', 'PGT (ORTHODONTICS)', 'TDO (JAPAN)', 'MPH (PIU)', 'PGT (CONSERVATIVE)', 'PGT (ORAL SURGERY', 'BPT', 'MS (PHYSIOTHERAPY)', 'MS (BRAIN & SPINE)', 'MCPS (EYE)', 'PGT (SKIN & SEX)', 'DCH (CHILD)', 'BSPT (DU)', 'MS (ORTHO SURGERY', ' NITOR)', 'MBBS ( DU )', 'PH.D (SURGERY)', 'MCPS (OBS & GYNE)', 'MS (HEPATOBILIARY AND PANCREATIC SURGERY)', 'DCP (BSMMU)', 'BCS (HEATLT)', 'MBBS( CMU)', 'ICU', 'MRCS (GLASSGROW)', 'DMRT (RADIATION ONCOLOGY )', 'D- ORTHO', 'FIPM (INDIA)', 'MD (CARDIOLOGY).', 'FCPS (GYNE&OBS)', 'MCPS (GYNE&OBS)', 'MRCM', 'RCM (LONDON-UK)', 'MD ( PEDIATRIC NEUROLOGY)', 'FCPS (OBS & GYNECOLOGY)', 'MPH (PUBLIC HEALTH & HOSPITAL MANAGEMENT)', 'M.S (FOOD & NUTRITION). BSC (FOOD & NUTRITION)', 'M.SC (FOOD & NUTRITION', 'TDM (INDIA)', 'CPD (INDIA)', 'MRCP (PART-1)', 'D- ECZAMA', 'PGT(MEDICINE', ' GASTROENTEROLOGY)', 'MD (COURSE)', 'IDM (FRANCE)', 'CCCD (CARDIOLOGY)', 'MPH (EPAI)', 'MCCP (CHEST DISEASE)', 'MD (THESIS PART', 'DO (OPHTHALMOLOGY)', 'MS (OPTH)', 'DO (B.S.M.M.U)', 'MD (UROLOGY)', 'MBBS (SOMS)', 'FCPS (BCGP)', 'DIABETOLOGIST (BOSTON UNIVERSITY', 'PGDM U (BOU)', 'CMU (ULTRASONOGRAPHY)', 'DOC (SKIN & DV)', 'DVD (DERMATOLOGY)', 'DLP (DIABETOLOGY)', 'DDV (DERMATOLOGIST)', 'CCD (DIABETOLOGIST-BARDEM)', 'MS (HEPATOBILIARY)', 'MS (PEDIATRIC SURGEON)', 'MD (PAEDIATRIC GASTRO)', 'FCPS (PAEDIATRIC FP)', 'FCPS (OBGYN/FP-BSMMU)', 'MS (OBS & GYNECOLOGY)', 'MD (CARD)', 'DTM&H (LIVERPOOL UNIVERSITY', 'UK)', 'MDMR', 'MCPS ( MED. )', 'D - CARD', 'MBBS ( SUST)', 'D.O (NIOH)', 'MS (EYE-BSMMU)', 'M.PHIL (PATH)', 'MD (PATH)', 'D-ORTHO MEDICINE (BELGIUM)', 'BPT (DHAKA)', 'MPH (ASAU)', 'CMT (INDIA)', 'MCCONNELL APROS (LBP)', 'PGT (OMS', ' DMK)', 'FICD (AMERICA)', 'MBBS (DMH)', 'FCPS (SKIN SEX)', 'FCPS (INFANT)', 'A', 'O (BASIC TRAUMA)', 'D - ORTHO (BSMMU)', 'DGO (GYN & OBS)', 'FCPS (GYN & OBS FINAL)', 'MS (GYN & OBS)', 'MS (NEURO SURGEON)', 'FRCS (EDINBURGH', 'MRCPCH (PART-I)', 'MCPS (SKIN & SEXUAL)', 'DLO (DMC)', 'IWP (THROAT)', 'IWR (NOSE)', 'MPHIL (ON COURSE)', 'PGT (PODIODENTRICS & OMS)', 'DDV (SKIN)', 'MS (OBSTETRICS AND GYNAECOLOGY)', 'MRCS (EDINE)', 'DGHS (DHAKA)', 'UK). MACP (USA)', 'MMCP', 'DO (DHAKA)', 'MBBS (SIR SALIMULLAH MEDICAL COLLEGE & HOSPITAL)', 'FOTS (HONG KONG)', 'DTMH (LONDON)', 'MBBS MD (CARDIOLOGY)', 'FCPS (NEUROLOGY', 'MS (ENT BSMMU)', 'DMU (SONOLOGY)', 'FCGP (FMED)', 'FELO (WHO)', 'FCPS (MEDICINE FINAL PART)', 'PGT (ANESTHESIOLOGY)', 'DCH (PAE.)', 'D-CARD (UK)', 'M-CARD (EUROPE)', 'NST FELLOW (MEDICINE)', 'FASE (EU)', 'FCPS (ORTHODONTICS)', 'ADMF', 'HONORARY TRAINING (ANESTHESIA)', 'PGT (ANESTHESIA)', 'DCH (AUSTRALIA)', 'MD ( PEDIATRIC)', 'MCPS (CLIN PATH)', 'DCP (CLIN PATH)', 'FCPS (MICROBIOLOGY)', 'FCPS(PART 2)', 'BCS (HEALTH) DTCD', 'ADMS (CANADA)', 'MSC (FOOD AND NUTRITION) - MASTER OF MEDICAL SCIENCE.', 'MCPS (DENTISTRY)', 'MPH (STATE UNIVERSITY)', 'FCPS (PROSTHODONTICS)', 'PGT(ORAL & MAXILLOFACIAL SURGERY)', 'CCU', 'DMRD (DU)', 'PGT (GYNE OBS)', 'PGT (DDC)', 'MRCP (UK) MEDICINE', 'MD (CARDIOLOGY) THESIS', 'NITOR (PONGU HOSPITAL)', 'TRAINED ON MANUAL THERAPY (CMTB)', 'EMPH (MATERNAL & CHILD HEALTH)', 'DGO (CURSE)', 'DMU (OBS & GYNAE)', 'MCPS (PAEDIATRICS)', 'THESIS PART', 'BCS (HEALTH) MS (ENT)', 'DCH (DUBLIN)', 'MBBS (DMC) MCPS', 'MBBS (SSMC', 'DTCD (BSMMU)', 'MD (CHEST DISEASES', 'BCS (HEALTH) DLO', 'MSC (DERMATOLOGY', 'BPT (BMC)', 'MPH (SUB)', 'CMTB (BIHS)', 'CSP (BISS)', 'PGT(MUSCULOSKELETAL)', 'PHD (SURGERY)', 'D.ORTHO ( PG)', 'A.O. SPINE MEMBER ( SWITZARLAND)', 'FCPS (GYNAE & OBS )', 'MS(GYNAE & OBS)', 'FCPS ( GYNAE & OBS)', 'M.SC (FOOD & NUTRITION SCIENCE)', 'MAMS (VIENA)', 'CCD (UK)', 'BCS (HALTH )', 'BCS( HEALTH )', 'FCPS(SKIN & SEX)', 'MCPS (PEDIATRIC )', 'MD (PEDIATRIC NEPHROLOGY)', 'ICPPN (SINGAPORE)', 'FCPS PART-2 (NEWBORN)', 'MD (PAED)', 'PH.D (DU)', 'MD (CARDIOLOGIST)', 'AMACC (USA)', 'MD (REDIATION ONCOLOGY)', 'FELLOW ORBIT & OCULOPLASTY', 'FICO (ENGLAND)', 'FCPS (EYE) MRCS (EYE) (UK)', 'DO (D.U.)', 'PGT (OMFS)', 'M. PHIL (PATH)', 'PGT (ORBIS)', 'MPH (C.OPHTH.)', 'MRCS (FINAL PART)', '(SUST)', 'PH.D (JAPAN)', 'M.PHILL (ONCOLOGY)', 'MSC (CLINICAL PSYCHOLOGY)', 'M.S. (CLINICAL PSYCHOLOGIST)', 'M.S. (SCHOOL PSYCHOLOGIST)', 'MD ( PSYCHIATRY)', 'MSC (ORTHO)', 'D. ORTHO(AUSTRIA)', 'MACG', 'FACP', 'MD (ENDCRINOLOGY)', 'DMUD (USTC)', 'C.ULTRA (BSU). JUREI (USA)', 'DTM (DUBLIN)', 'DPP (PSYCHIATRY)', 'JUREI (USA)', 'FCPS IN SURGERY', 'FMAS IN INDIA', 'MBBS (KARACHI)', 'RCPS (IRELAND)', 'DCH (LONDON)', 'MRCP (IRE)', 'M. PHIL', 'MD (GASTROLOGY)', 'PGC', 'FCPS (PHYSICAL MEDICINE AND REHABILITATION)', 'MBBS. MPHIL (BSMMU)', 'IAEA FELLOW TRAINING (SOUTH KOREA)', 'BCS. D- ORTHO', 'PGT(JAPAN)', 'CCD. MPH', 'C-ALTRA', 'MD ( NEURO)', 'PGT (DMU)', 'PH.D. (NEUROSURGERY)', 'PGT (DMS)', 'MRSH', 'DPH (LONDON)', 'CHDC (LONDON)', 'FRSTMH (UK)', 'MBBS (LONDON)', 'CLINICAL ATTACHMENT', 'QUEEN ELIZABETH HOSPITAL (LONDON)', 'DGO (OBS & GYNAECOLOGY)', 'D-OPHTHALMOLOGY', 'DDV (DMC)', 'FPOA', 'DEM (DU)', 'BCS (HEALTH) MD (NEPHROLOGY)', 'MD (CHESTOLOGY)', 'MD (MEDICAL ONCOLOGY)', 'DTM & H (LONDON)', 'FCPS (GENERAL SURGERY) MS (PLASTIC SURGERY)', 'FMAS (DELHI)', 'PDF (JAPAN)', 'GOLD MEDAL (BD)', 'DCH (KSA)', 'ECHO-CHD (ESC-EACVI/APEC)', 'MBBS. FCPS (PAEDIATRICS)', 'FCPS (OBS & GYNE) FCPS (FETO-MATERNAL MEDICINE)', 'BCS (HEALTH) FCPS (OBS & GYNAE)', 'FCPS (OBS AND GYNAE) FCPS (REPRODUCTIVE ENDOCRINOLOGY & INFERTILITY)', 'FCPS (GYNAECOLOGICAL ONCOLOGY) MS (OBS & GYNAE)', 'BCS (HEALTH) FCPS (GYNE & OBS) FCPS (PHYTO-MATERNAL MEDICINE)', 'FCPS (GYNECOLOGY & OBSTETRICS)', 'MD (BSMMU)', 'MD (CRITICAL CARE MEDICINE)', 'MD (CHESTOLOGY) MACP (USA)', 'MD (NEUROSURGERY)', 'MS( ORTHODONTICS) BSSMU', 'FCPS (FETO-MATERNAL MEDICINE)', 'MMAD (GOLD MEDALIST)', 'FIAGIS (INDIA)', 'BCS (HELTH)', 'D-CARD(CARDIOLOGY)', 'MD (R&I)', 'FCPS (SPECIALIST PAIN', ' PARALYSIS & RHEUMATIC DISEASES)', 'FRCP (EDINBURGH)', 'MRCR (UK)', 'MRCPE', 'EDIC (BELGIUM)', 'MS (FELLOWSHIP IN GENERAL SURGERY & MS IN SURGICAL ONCOLOGY)', 'MSC CRITICAL CARE (U. EDIN)', 'F. GASTRO (SHANGHAI)', 'B.SC (FOOD & NUTRITION', 'DIP (CARDIOLOGY)', 'MD CARD. (NICVD)', 'FIC (SINGAPORE)', 'FCPS (PSY)', 'MCAP (CLINICAL PATHOLOGY)', 'IFCAP', 'D. (ORTHO)', 'FCPS (GYNECOLOGICAL ONCOLOGY)', 'FCPS (OBS & GYNE) FCPS (GYNECOLOGICAL ONCOLOGY)', 'DDV (SINGAPORE)', 'MSC IN CLINICAL DERMATOLOGY (LONDON)', 'MSSVD (LONDON)', 'MCPS (CLINICAL PATHOLOGY)', 'MS ( CARDIOTHORACIC SURGERY)', 'MS (CARDIO-VASCULAR & THORACIC SURGERY)', 'MS (CARDIAC SURGERY)', 'FRCSI (IRELAND)', 'FICS (UROLOGY)', 'FRCS (GLASG)', 'FCPS (PLASTIC SURGERY)', 'MD (PEDIATRIC CARDIOLOGY)', 'MD (PEAD)', 'DO (USA)', 'NEUROLOGY RESIDENCY (USA)', 'DIPLOMA IN CLINICAL NEUROLOGY (UK)', 'MSC NEUROSCIENCE (UK)', 'USMLE', 'FCPS ( OBS-GYN)', 'FAMASI', 'FCPS (ENDOCRINOLOGY AND METABOLISM)', 'FCPS (ORTHODONTICS & DENTOFACIAL ORTHOPEDICS)', 'ADVANCED TRAINING IN DENTAL SURGERY (INDIA)', 'DENTAL IMPLANT (INDIA)', 'FCPS (ORTHODONTICS AND DENTOFACIAL ORTHOPEDICS)', 'MD (ANESTH)', 'POST GRADUATE IN DIABETES (JOHNS HOPKINS', ' AMERICA)', 'FRSH (ENGLAND)', 'MS(NEUROSURGERY)', 'MD (DOCTOR OF MEDICINE)', 'MD (CARDIOLOGY-BSMMU)', 'FCPS (ANAESTHESIOLOGIST)', 'MS (OMS) DIP. OMS (JAPAN)', 'PHDHE', 'PHD (NEPHROLOGIST)', 'FELLOW WHO (BANGKOK)', 'AO (TRAUMA)', 'AO (SPINE)', 'MD (CRITICAL CARE MEDICINE - BSMMU)', 'DRH (UK)', 'DDV (THAILAND)', 'MS (PB)', 'MCPS (OBSTETRICS)', 'FCPS ( PEDI)', 'DLSB', 'BCS (HEALTH) FCPS - PLASTIC SURGERY (FINAL PART) MS- PLASTIC SURGERY (RESIDENT)', 'MPT (ORTHOPAEDICS)', 'BPT (DU-NITOR)', 'NSU INTERNSHIP', 'FCPS (ORAL AND MAXILLOFACIAL SURGERY) PAT-02', 'MS (ORTHOPAEDICS SURGERY)', 'FCPS (GYNECOLOGY)', 'CCD (DIABETIC', 'CCVD (CARDIOLOGY)', 'PGT (MEDICINE & PEDIATRICS)', 'MBBS (BMC)', 'MBBS. D-ORTHO (BSMMU)', 'FCPS (GYNEA & OBS)', 'FCPS (CARDIO)', 'PGT ( CONSERVATIVE DENTISTRY) PGT (ORAL AND MAXILLOFACIAL SURGERY)', 'FCPS (PAED', ' NEUROLOGY & DEVELOPMENT)', 'MCPS ( MEDICINE)', 'D-OPHTH (BSMMU)', 'FCPS (GYNAC &OBS)', 'MD (RADIOLOGY)', 'MD(NEURO-MEDICINE)', 'MCPS (OBS. & GYNAE)', 'DLO (OTOLARYNGOLOGY)', 'FCPS (OTOLARYNGOLOGY)', 'D-CARD.', 'D.A', 'DSC (CTS)', 'FIACS', 'FRCS (ENG)', 'FCPS (PSYCH.)', 'MCPS (PSYCH.) GRADED SPL (ARMY)', 'FCPS (OBS & GYNEE)', 'DDS(DU) & FICD(USA)', 'OJT RHEUMATOLOGY', 'FCPS (UROL-F)', 'CCD (BADAS)', 'DMU (NU)', 'PGST (PEDIATRICS)', 'MBBS (D.U)', 'FCPS SURGERY', 'CLINICAL ORDINATURA (UROLOGY)', 'BDS (D.U)', 'MPH (NU)', 'MS ( OBS. & GYNAE )', 'DPD (CARDIFF', 'MS (PAED SURG)', 'COMMONWEALTH FELLOW NEPHROLOGY (UK)', 'FCPS (SURGERY) MS (PLASTIC SURGERY)', 'BAPRAS FELLOW (UK)', 'MRCSED', 'MRCS (GLASGOW)', 'DLO(ENT)', 'DLO (ENGLAND)', 'FRCS (IRELAND)', 'A.O (INDIA)', 'MS (ORTHO) NITOR', 'DNM', 'MS (AUSTRALIA)', 'DEM (CC-BIRDEM)', 'FCPS (HISTO)', 'MFIL (ONCOLOGY', 'PH.D (UROLOGY)', 'NCCP (INDIA)', 'MMAD', 'PGT (ARTHO)', 'PGT (PROSTHO)', 'PGT (OMC)', 'MBBS (SPORE)', 'MRCPCH (UK', ' RCPCH)', 'MMED PEDIATRICS (SPORE)', 'DAGO (LONDON)', 'FCPS(S)', 'FRCS(EDIN)', 'MS (GYNE & OBS.)', 'M.PHIL (PSYCHO)', 'MD (PSYCHOLOGY)', 'DEM (BARDEM)', 'DCH (PEDIATRIC)', 'FCPS (FINAL PHASE)', 'PGT (NEPHROLOGY)', 'AFIBS (THAILAND)', 'MS (HEPATOBILIARY & PANCREATIC SURGERY)', 'CMU (ULTRASOUND)', 'B.SC (NUTRITION)', 'MBBS (ARMED FORCE MEDICAL COLLEGE)', 'MS (NIKDU)', 'PHD (THE UNIVERSITY OF TOKYO) IN INTERNAL MEDICINE', 'MD (CHEST) (DU)', 'FCPS (BCPS)', 'FRCS (ED)', 'DCH (BICH)', 'MBBS (SHER - E - BANGLA MEDICAL COLLEGE)', 'DCH (DMC)', 'MS(ORTHO) PH. D', 'FCPS (OPTH)', 'DMRT (IPGM&R)', 'MBBS (SHSM)', 'MS IN GYNE & OBS (BSMMU)', 'MCPS(GYNAE AND OBS)', 'FCPS(REPRODUCTIVE ENDOCRINOLOGY AND INFERTILITY)(PART-2):', 'MBBS (BMCH)', 'MRCOG PART 1 (UK)', 'DMU( DU)', 'MS (DU)', 'B.SC & M.SC', 'FOOD & NUTRITION', 'MSC & BSC IN FOOD & NUTRITION (DU)', 'SPECIALTY CERTIFICATE IN NEUROLOGY (SCE', 'MBBS (SHER E BANGLA MEDICAL COLLEGE)', 'MD- NEPHROLOGY (DMC)', 'DIPLOMA IN COUNCELING (TA & NLP)', 'PH.D. (INDIA)', 'MA AND BA (DU)', 'FELLOWSHIP ON NCD (UK)', 'MACP (USA) & MASN (USA)', 'FCPS-1ST PART (MEDICINE)', 'DIP. IN ASTHMA (ICDDR', 'B)', 'CCCD (NHF)', 'PG. DIP. IN FAMILY MEDICINE', 'MBCHB (DUNDEE MEDICAL SCHOOL)', 'FMD (USTC)', 'DOC (SKIN & VENERAL)', 'DMU (BITMIR)', 'DOC (SKIN & VD)', 'FCPS (PART-2) (DMC)', 'MBBS (INDIA)', 'DIPLOMA IN DERMATOLOGY', 'DIP. DERMATOLOGY (INSTITUTE OF DERMATOLOGY', 'PHD (TOKYO', 'POST-DOC (JAPAN)', 'PGD (JAPAN)', 'DTM & H', 'D CARD (LONDON)', 'FSCI', 'D. CARD (BSMMU)', 'NICVD', 'D- CARD (BSMMU)', 'DIPLOMA IN EMERGENCY MEDICINE (UK)', 'MPH (COMMUNITY MEDICINE)', 'DTMH (BANGKOK)', 'MSC (DERMATOLOGY-LONDON)', 'FCPS (GYNAECOLOGY)', 'PRSA FELLOWSHIP (UK)', ' ENGLAND)', 'DSM (GASTRO)', 'FAMS (AUSTRIA)', 'IHM (MED', ' IRAN)', 'FGH (ENGLAND)', 'DLO (DHAKA)', 'FCPS (GYN & OBS).', 'FCPS(CHILD NEUROLOGY & DEVELOPMENT)', 'D-ORTH', 'MS (ORTH)', 'MS (GYNE)', 'EULER ECRD IN RHEUMATOLOGY', 'MD (ENDO)', 'FCPS(MED)', 'FCPS (NEURO)', 'BSC(HONS)', 'MS (PAED. SURGERY)', 'MBBS. DCH. MD (CHILD HEALTH)', 'MBBS. DCH. FCPS (CHILD)', 'D.T.M & H (BANKOK)', 'MD((NEONATOLOGY)', 'MBBS BCS (HEALTH)', 'MD (CARDIOLOGY-NICVD)', 'D -CARD', 'FCPS (MED)', 'MS (CARDIOTHORACIC)', 'MS (PED)', 'FCPS (ONCOLOGY) M.PHIL (IMMUNOLOGY)', 'MD (NEUROLOGY) MACP (USA)', 'MSC (GASTROENTEROLOGY)', 'FCPS(SURGERY P-2) CBLS(LAPAROSCOPIC SURGERY', ' BSMMU', 'MACP (USA) FCPS (MEDICINE PART-2)', 'MD (CARDIOLOGY) MACP (USA)', 'URC (SINGAPORE)', 'MPHIL (PSYCH)', 'FCPS (PSYCH)', 'ECPS', 'FECSM', 'ICAP-I', 'D ORTHO (DU)', 'PHD FELLOW (SPINE)', 'BSMMU.', 'MD (INTERNAL MEDICINE; BSMMU)', 'FSCP (USA)', '(MEDICINE)', 'FCPS (GYNAE AND OBS.)', 'MS (GYNAE & OBS.)', 'M.SC (NUTRITION)', 'MCCEE (CANADA)', 'FCPS (PULMONOLOGY)', 'MBBS (DU); MD (PAEDIATRICS)', 'MD (PAEDIATRIC CARDIOLOGY)', 'CCD (BIRDEM) D-CARD', 'D-CARD (DU)', 'MBBS. PGT', 'D-CARD (DTCD)', 'MS (CARDIOVASCULAR – THOROSIS)', 'DTCE (JAPAN)', 'MBBS. BCS (HEALTH) MD (NEPHROLOGY)', 'M', 'MCPS (PAED)', 'FCPS (PED)', '(CU)', 'ACCP', 'MD (PAEDIATRIC NUTRITION', ' LIVER & DIGESTIVE SYSTEM)', 'DVD (DHAKA)', 'M-DERM (INDIA)', 'EP FELLOW (USA)', 'D-ORTHO (ORTHOPEDIC SURGERY)', 'M. ED. (ENGLAND). DIPLOMA IN EPIDEMIOLOGY (ENGLAND)', 'MD (UK)', 'FCPGS (GYNAE & OBS)', 'FRCP (EDIN).', 'FELLOW (MIS).', 'FMAS.', 'MBBS (DU)-SSMC. MS (NITOR)-ORTHOPEDIC.', 'MD (ENDOCRINOLGY & METABOLISM)', 'MD (RESPIRATORY MEDICINE) FINAL PART', 'MRIT (JAPAN)', 'MPH (THAILAND)', 'DIP – E. MED (RSA)', 'FRACGP (AUSTRALIA)', 'MD (PEDIATRIC NEUROLOGY & NEURO-DEVELOPMENT)', 'MDT (CRED – USA)', 'MRCS (LONDON)', 'MRCPS (GLASGOW', 'FCPS (ENT & HEAD – NECK SURGERY)', 'DCH (ICMH', 'FCPS (MED.)', 'PGFEM (GWU-USA)', 'FCCM (IBMS-USA)', 'FICM', 'BCCPM (WHO)', 'MSC (GASTRO', 'FCPS (PART 2)', 'M.PHIL (PATHOLOGY)', 'M.PHIL PATHOLOGY (BSMMU)', 'M.PHIL (HISTO-CYTO PATHOLOGY)', 'MD (IMMUNOLOGY)', 'M. PHIL (MEDICAL BIOCHEMISTRY)', 'MPH (REPRODUCTIVE AND CHILD HEALTH)', 'M.SC IN (NUTRITION AND FOOD SCIENCE)', 'MRCP (MEDICINE) - UK', 'MRCP (NEUROLOGY) UK', 'FCPS (NEUROLOGY- THESIS)', 'DCN (LONDON)', 'C-CARD (USA)', 'FCPS (OBS AND GYNAE)', 'MS (GYNAE-OBS)', 'FWHO (BANGKOK)', 'FSCAI (USA).', 'FCPS (IN COURSE MEDICINE)', 'MS (OPTHALMOLOGY)', 'MD (TRANSFUSION MEDICINE)', 'M.PHIL IN RADIOTHERAPY', 'FCPS (PHYSICAL MEDICINE AND REHABILIATION)', 'MBBS (DAC.)', 'MD (EDIN', '(CTS)', 'MS (CTS)', 'MS (CARDIOTHORACIC & VASCULAR SURGERY)', 'MS (CARDIOVASCULAR-THORACIC SURGERY)FICS (USA)', 'FELLOW-WHO (SINGAPORE', 'MS (INDIA)', 'PIT (TURKEY)', 'PGT (SINGAPORE)', 'MBBS (DMC) (GOLD MEDALIST) MCPS', 'FCPS (PAED.)', 'FICS (NEUROSURGERY. USA)', 'A.O. FELLOW', 'MS (ORTHO) DU', 'FCPS (URO)', 'FCPS (S)', 'FCPS (UROLOGY) MRCS (EDINBURGH)', 'FRCS (GLASG.)', 'FRCS (EDIN.)', 'D. UROL (LONDON)', 'FCPS (GENERAL SURGERY) FCPS (THORACIC SURGERY)', 'MS. ADVANCE STUDY (CHINA)', '(SURGERY)', 'MMED (BSMM)', 'FCPS (CARDIOVASCULAR SURGERY)', '(GENERAL SURGERY)', 'MPH DGO', 'DGO (OBS&AMP;AMP; GYNAE)', '(HEALTH) MD (HEPATOLOGY-LIVER)', 'BSMMU (PG HOSPITAL)', 'FCPS (MEDICINE) MD (CARDIOLOGY)', 'FRCP (ENGLAND)', 'FACP (AMERICA)', 'FCPS (OPHTH)', 'DIPLOMA IN OPHTHALMOLOGY.', 'FRCS (OPHTH) (GLASY)', 'MRCSED (OPHTH)', 'LONG TERM FELLOWSHIP (CORNEA) NIOCIH.', 'FRCS (GLASGO)', 'M.S. (OPHTH)', 'MS (GYNAE AND OBS)', 'MBBS; FCPS (PHYCHIATRIC)', 'MBBS. MD (DERMA)', 'D PED. (VIENNA)', 'MAMS (VIENNA)', 'UROLOGY FELLOW (SINGAPORE)', 'MS-NEUROSURGERY (BSMMU)', 'AO FELLOWSHIP IN TRAUMA', 'FMD (MEDICINE)', 'FID-RLA (UK)', 'FICM (INDIA)', 'DIM (LONDON)', 'FELLOW ARTHROPLASTY & ARTHROSCOPY (INDIA)', 'JICA FELLOW (JAPAN)', 'ADVANCE TRAINING ON RHEUMATIC FEVER (JAPAN)', 'FELLOWSHIP IN AESTHETIC MEDICINE (DELHI', 'DOCTOR - MPHILL (1 PART) (DU)', 'DCH (BSMMU) BCS (HEALTH)', 'MBBS. BCS (HEALTH) MD (ONCOLOGY)', 'MRCP (LONDON) EULER (ECRD) N RHEUMATOLOGY', 'SWITZERLAND', 'EDC', 'BARDEM (DHAKA)', 'MPH (LU)', 'BCS (HEALTH) M-S (UROLOGY)', 'DIPLOMA IN ENDOCRINOLOGY (UK) MSC IN ENDOCRINOLOGY (UK', ' LONDON) MRCP (UK) - PACES', 'FCGP (BD) FELLOW IN DIABETES (ROYAL COLLEGE', 'FRCS (SURGERY)', 'FELLOW PLASTIC SURGERY (SINGAPORE)', 'CCD (BIRDEM) MD (NEUROLOGY)', 'M.PHIL (NUCLEAR MEDICINE)', 'SPECIAL TRAINED TVS & COLOR DOPPLER', 'DMUD (SUB)', 'C- ULTRA (NETHERLAND)', 'MS (MASTER OF SURGERY)', 'MPH (RCH)', 'BCS (HEALTH) MD (HEPATOLOGY)', 'CCD (BARDEM) DMU', '(CMC)', 'BCS (HEALTH) D-ORTHO (DMC)', 'MD (PHYSICAL MEDICINE & REHABILITATION) BSMMU', 'DM', 'CCD MPH', 'MCCP', 'FCPS PART-1', 'BCS (HEALTH) FCPS (MEDICINE) MD (GRACTO) MACP (AMERICA)', 'MBBS (DHAKA) DD (JAPAN) DD (THAILAND) PHILO LASER & COSMETICS SURGERY (I&D', ' BANGKOK)', 'DIPLOMA IN LABORATORY MEDICINE (DLM)', 'DIPLOMA IN LABORATORY MEDICINE (DLM) (BSMMU). MCPS (LABORATORY MEDICINE)', 'MS (GYNAE & OBTS)', 'MRCOG PART-3', 'FCPS (OBS-GYNAE)', 'MS (OBS-GYNAE)', 'FCPS (ENDOCRINOLOGY & METABOLISM)', '(DMC) FCPS (GYNE & OBS.)', 'FSCAI', 'BCS (HEALTH) MD (NEONATOLOGY)', 'FCPS (CONSERVATIVE DENTISTRY AND ENDODONTICS)', 'MBBS BCS (HEALTH) MD (NEONATOLOGY)', 'MBBS (SSMC) CCD (BIRDEM)', 'MD CARDIOLOGY (NHN)', 'MBBS (CMC) BCS (HEALTH) MD (NEONATOLOGY)', 'B.SC (PSYCHOLOGY)', 'M.PHIL (CLINICAL PSYCHOLOGY)', '& MS (CLINICAL PSYCHOLOGY) (DU)', 'PGT (PSYCHOTHERAPY)', 'M. PHIL (PSYCHIATRY)', 'FELLOW APA (USA)', 'MD (PSYCHIATRY) BSMMU', 'MBBS (SOMCH)', 'MS (DMC)', 'TRAINED IN MICRO-SURGERY (INTERPLAST', 'BCS (HEALTH) MD (CRITICAL CARE MEDICINE)', 'M. MED (SURGERY)', 'MHE (DU)', 'PGDHE (DU)', 'PGT (OMS & ORTHODONTIA) BSMMU', 'MS (ENT) BSMMU', 'WHO FELLOW (INDONESIA)', 'D-ORTHOPEDIC', 'MS (ORTHO', 'PBGM', 'MPH (PUBLIC HEALTH DENTISTRY)', 'MD NEUROLOGY', 'FELLOW IN CLINICAL NEUROELECTRO PHYSIOLOGY (MINS)', 'DCH (GLASGOW', 'PGPN (BOSTON UNIVERSITY', 'MD (PEDIATRIC HEMATOLOGY)', 'DCH (DHAKA SHISHU HOSPITAL)', 'PEDIATRIC NUTRITION (BOSTON', 'MS (NEUROSURGARY)', 'MSC (NUTRITION', 'TRAINED IN CLINICAL NUTRITION (INDIA)', 'M-PHIL (APPLIED NUTRITION & FOOD TECHNOLOGY) ISLAMIC UNIVERSITY (KUSHTIA)', 'MSC (FOOD & NUTRITIONAL SCIENCE)', 'M.SC (NUTRITION & FOOD SCIENCE) INFS', 'DU', 'FACE (USA)', 'M.A.C.E (USA)', 'MS (CHEST SURGERY)', 'FCPS (MEDICINE) MD (GASTROENTEROLOGY)', 'FCPS (MEDICINE) D-CARD (CARDIOLOGY)', 'FCPS (END PHASE)', 'BCS (HEALTH) DGO', 'FCPS (INFERTILITY & REPRODUCTIVE MEDICINE)', 'M.MED (MEDICAL EDUCATION)', 'MCPS (GAYNEE & OBS)', 'FWHO (UROLOGY)', 'FRCS (LONDON)', 'FACRSI', 'M-PHIL', 'DIPLOMA IN LATERAL SKULL BASE (INDIA)', 'MBBS (COMC)', 'PGT (SKIN & VD)', 'PGDCC (INDIA)', 'DIPLOMA IN CLINICAL COSMETIC DERMATOLOGY (INDIA)', 'DIPLOMA IN CLINICAL NUTRITION (INDIA)', 'MCTS (SEOUL)', 'DDV (PG)', 'FELLOW IN LASER & COSMETIC DERMATO SURGERY (INDIA)', 'FELLOW OF SKIN LASER (THAILAND)', 'MD (CARDIOLOGY- THESIS)', 'FCPS (SURGERY) MS (COLORECTAL SURGERY)', 'FIC (INDIA)', 'DIPLOMA (UK)', 'FESC (EU)', 'MCPS (MEDICINE) CCD (BIRDEM)', 'M.PHIL (MICROBIOLOGY)', 'DDV (BSMMU) FCPS (DERMATOLOGY & VENEREOLOGY)', 'FRCOG (UK)', 'FACOG', 'MBBBS', 'MRCP MRCPE (EDINBUURGH)', 'MRCPE (GLASSGOW)', 'FELLOW NEURO INTERVENTION & STROKE (INDIA)', 'D-ORTHO (ORTHOPEDICS)', 'FRCP (ED)', 'FACS (USA))', 'MD (PSYCHIATRY', 'CCD (BIRDEM) MS (UROLOGY)', 'CPA (USA)', 'MD (PHYSICAL MEDICINE & REHABILITATION)', 'DOMFS', 'BSC (HON)', 'MS (FOOD & NUTRITION)', 'PH.D. (PAIN & PARALYSIS)', 'FCPS (HEPATOLOGY)', 'MD (HEAPATOLOGY)', 'FELLOWSHIP IN NEPHROLOGY (JAPAN)', 'DCD (INDIA)', 'ADMS (ULTRA)', 'MSS (DU)', 'MD (GASTOENTEROLOGY)', 'PGT (BIRDEM)', 'MS (CONSERVATIVE DENTISTRY & ENDODONTICS)', 'DCD', 'MS (PAEDIATRICS SURGERY)', 'DCH (IRELAND)', 'MPH (MATERNITY', ' CHILD HEALTH', 'DMAS (LAPAROSCOPY)', 'PGT (ORAL SURGERY)', 'PLAB CERTIFIED (ENGLAND)', 'D. ORTHO (PANGU HOSPITAL)', 'AO TRAUMA BASIC', 'FCPS (SURGERY) MRCS (UK)', 'CHILD HEALTH (DCH)', 'FISCP (IN)', 'FASCRS (USA)', 'FELLOW WHO', 'ESCORTS (DELHI)', 'FCPS (CONSERVATIVE DENTISTRY & ENDODONTICS)', 'PHD (HEPATOBILIARY-PANCREATIC SURGERY)', 'FELLOW NEUROSURGERY (AUSTRALIA)', 'FIMS (INDIA)', 'FELLOW IN JOINT REPLACEMENT SURGERY (INDIA)', 'MCH (ORTHO', 'FRSM (UK)', 'FELLOWSHIP (SPINE SURGERY)', 'AO BASIC (SPINE SURGERY)', 'FASCRS', 'COLORECTAL FELLOW (USA)', 'PHD (VASCULAR SURGERY)', 'MS (UROLOGY', ' MOSCOW)', 'D.ENDO UROLOGY', 'GRADING MEDICINE (AFMI)', 'PGT (GENERAL', ' PLASTIC & HAND SURGERY)', 'AO SPINE (ADVANCE)', 'FCPS (ORTHOPEDICS)', 'MRCS (EDINBURGH', 'AO TRAUMA', 'MPHIL (NEURO-PSYCHIATRY)', 'FCPS (GYNEA)', 'RESEARCH FELLOW (BIRDEM)', 'MD (PEDIATRIC NEUROLOGY & NEURODEVELOPMENT)', 'MS (CD)', 'BDS (DU-DDC)', 'FELLOW WFO (USA)', 'MRCP (PACES)', 'CCD (BIRDEM))', 'ECRD', 'FCPS (THORACIC SURGERY)', 'MAAN (USA)', 'MRCP (MEDICINE)', 'BDS (DHAKA UNIVERSITY)', 'FCPS (PEDIATRICS & NEONATALOGY)', 'DGO (GYNAECOLOGY & OBS)', 'FCPS (NEUOSURGERY)', 'MS (NEUOSURGERY)', 'MRCS (SURGERY)', 'CCD (BRIDEM)', 'FCPS (OBS & GYNAE) MRCOG PART-1 (UK)', 'DMEU', 'TVS ULTRASONOGRAM', 'ECFMG CERTIFIED (AMERICA)', 'FCPS (PAEDI)', 'MD (PEDIATRIC HAEMATOLOGY & ONCOLOGY)', 'DD (THAILAND-JAPAN)', 'FELLOW APOA (TRAUMA)', 'APSS (SPINE)', 'APOA FELLOWSHIP (INDIA)', 'JOINT REPLACE SURGERY FELLOWSHIP (INDIA)', 'AO FELLOW (SWITZERLAND)', 'D. ORTHO (BSMMU)', 'FCPS (ENDOCRINOLOGY)', ' DMC)', 'MS (NEURO-SURGERY', 'CPR (DMC)', 'FCPS (SKIN & SEXUAL)', 'MD (GASTROLENTEROLOGY)', 'FCPS (ORTHOPAEDICS)', 'FAGS (USA)', 'MCPS (GYNE)', 'MRCOG (FINAL', 'FCPS (SKIN & DV)', 'FCPS (PEDIATRIC GASTROENTEROLOGY & NUTRITION)', 'MD (PEDIATRIC HEMATOLOGY & ONCOLOGY)', 'D. CARD', 'MSC (HS)', 'FELLOWSHIP & TRAINED IN INTERVENTIONAL CARDIOLOGY', 'DTCD (UK) D.CARD (AUSTRIA) DTM & H (ENGLAND)', 'FRSTM & H (LONDON)', 'MMS (ENGLAND)', 'FCPS (NEUROMEDICINE)', 'FCPS (GYNAE & OBS) CCD (BIRDEM)', 'MRCP (GYNAE & INFERTILITY)', 'ADVANCED DIPLOMA IN ART & REPRODUCTIVE MEDICINE (UK)', 'OKETANI LMT TRAINING (JAPAN)', 'SPECIAL TRAINED IN CARDIOLOGY', 'DTCT', 'M.SC.(FOOD AND NUTRITION)', 'M.SC (FOOD AND NUTRITION)', 'NDD', 'WMN (BADN)', 'WHO FELLOW (AUSTRALIA)', 'D.ORTHO (BSMMU)', 'FELLOWSHIP IN PLASTIC', 'RECONSTRUCTIVE', 'HAND & MICROSURGERY', 'MCPS (GYNAE AND OBSTETRICS)', 'IAPEN (CRITICAL PATIENT CARE)', 'FCPS (NEURO SURGERY)', 'D.ORTHO (BSMMU-FORMER IPGMR)', 'A.O SPINE MEMBER (SWITZERLAND)', 'CCD (BRDEM)', 'PGT (CONSERVATIVE DENTISTRY', ' ORAL AND MAXILLOFACIAL SURGERY', ' PAEDIATRIC DENTISTRY)', 'MDS (PROSTHODONTICS)', 'MS (PHASE-A)', 'FCPS (PART-2', ' ORAL & MAXILLOFACIAL SURGERY)', 'MS (CONSERVATION DENTISTRY ENDODONTICS)', 'DGO (GYNAC & OBS)', 'MPH (PH)', 'MD (NEUROLOGY/NEUROMEDICINE)', 'BDS (RMC', ' DENTAL UNIT)', 'DDS (CONSERVATIVE DENTISTRY)', 'AFMI (CMH. DHAKA)', 'PGT (SHSMCH)', 'MPH (HM)', 'FRSM (PAEDID)', 'LONDON', 'MPH (NUTRITION)', 'MD (PATHOLOGY)', 'M.SC (FOOD & NUTRITIONAL SCIENCE)', 'FCPS (PEDIATRIC NEUROLOGY)', 'MTM (BSMMU)', 'TRAIN IN LAPAROSCOPIC SURGERY (GERMANY)', 'ADVANCE TRAINING IN LAPAROSCOPIC SURGERY', 'GENERAL LAPAROSCOPIC', 'HERNIA', 'BREAST AND COLORECTAL SURGEON', 'FAM (FELLOWSHIP IN AESTHETIC MEDICINE- INDIA/GERMANY)', 'MCPS (PSYCH)', 'BSPT (BHPI-DU)', 'BSPT (CRP', 'MD (CLINICAL AND RADIATION ONCOLOGY)', 'MBBS (DEU)', 'MCPS (OBS AND GYNAE)', 'FCPS (GOLD MEDALIST) SURGERY', 'MS (NEUROSURGERY', 'DIPLOMA IN FAMILY MEDICINE', 'SPECIALIST TRAINING (LONDON)', 'MSC (CLINICAL EMBRYOLOGY-INDIA)', 'DIPLOMA IN REPRODUCTIVE MEDICINE & INFERTILITY (GERMANY)', 'MSC (REPRODUCTIVE MEDICINE AND INFERTILITY', 'FELLOW PEDIATRIC CARDIOLOGY (USA)', 'DCO (UK)', 'DGO (OBGYN)', 'MD (ENDOCRINOLOGY AND METABOLISM', 'ADVANCED TRAINING IN ENDOCRINOLOGY (MAYA CLINIC', 'FCPS (ORAL & MAXILOFACIAL SURGERY)', 'TREND HOS VATS', 'ROBOTIC SURGERY (DELHI)', '(DU) MS (CARDIOVASCULAR AND THORACIC SURGERY)', 'DIH', 'FCPS (SURG)', 'DA (ANEAS)', 'DCH AND FCPS', 'M.PHIL (BIRDEM)', 'MRCSED (EDINBURG)', 'MS (THORACIC SURGERY-NIDCH)', 'AO ADVANCED (INDONESIA)', 'AO FELLOW (BANGKOK)', 'MS (ORTHO).', 'MD (PMR-BSMMU)', 'MD (RADIOLOGY & IMAGING', ' NIDCH)', 'FELLOW IN MINIMAL INVASIVE THORACIC SURGERY (SINGAPORE)', 'TRAINED IN THORACOSCOPIC SURGERY (INDIA', ' CHINA', ' S. KOREA)', 'MS (ORTHO. SURGERY)', 'MCPS (DERMATOLOGY & VENEREOLOGY)', 'MSC (CPHN', 'RESEARCH FELLOW (JAPAN)', 'FELLOW IN SKULL BASE AND MICRO-NEUROSURGERY (MUMBAI', ' GERMANY)', 'TRAINING (LAPAROSCOPIC SURGERY)', 'FISN (CA)', 'FASN (USA)', 'DMAS', 'FART (INDIA)', 'FELLOWSHIP TRAINING (FETOMATERNAL MEDICINE)', 'MD (ENDOCRINOLOGY & METABOLISM', 'DDS (CONSERVATIVE & ENDODONTICS)', 'MS (CARDIOVASCULAR & THORACIC SURGERY', 'D-CARD (AUSTRIA)', 'MCPS (MED)', 'FELLOWSHIP TRAINING (GYNAE ONCOLOGY)', 'DMRT (DU)', 'D- CARD', 'IMPLANTOLOGIST', 'DPM', 'D-CARD (LONDON)', 'FCPS (PAIN MANAGMENT)', 'D. OPTH', 'MRCPS', 'PHD (OMS-JAPAN)', 'FDS', 'RCPS (GLASGOW', 'IHTC FELLOWSHIP IN MALAYSIA', 'MS (OMFS)', 'PGT (LASER)', 'MS (GEN. SURGERY)', 'MCH (PLASTIC SURGERY)', 'PGT (MEDICINE & CARDIOLOGY)', 'MPHIL (PSYCHIATRY', 'TRAINED IN MICROSURGERY', 'DIPLOMA IN INTERNAL MEDICINE (UK)', 'MS (PGIMER)', 'PGT (RHEUMATOLOGY)', 'MSC (BIOMEDICINE)', 'MD (PEDIATRICS NEPHROLOGY)', 'DCH (SCOTLAND)', 'MD (AIIMS)', 'MCPS (RADIOLOGY & IMAGING)', 'FCPS (RADIOLOGY & IMAGING)', 'MD (PEDIATRIC GASTROENTEROLOGY & LIVER NUTRITION)', 'D-CARD (BSMMU). FCPS (CARDIOLOGY)', 'FCPS (MEDICAL)', 'PGDND', 'DCH (CHILD HEALTH)', 'MSC (CLINICAL DERMATOLOGY', 'FINS (INDIA)', 'MRCP (INTERNAL MEDICINE) UK', 'PACES', 'FRCS (GLASG & EDIN)', 'DIPLOMA (UROLOGY', 'WHO', 'NUH (SINGAPORE)', 'FELLOW OF THE WHO (CHILD PSYCHIATRY)', 'DMRT (BSMMU)', 'DDS (WELS)', 'M. PHIL (ONCOLOGY)', 'TRAINING (INDIA)', 'TRAINED IN CARDIOLOGY (JAPAN)', 'WHO FELLOW', 'FELLOWSHIP', 'FRCS (GLAS)', 'FCPS (PHY MED)', 'AND A BCCPM DEGREE (KERALA)', 'FELLOW ENDOCRINOLOGY (AUSTRALIA)', 'FACE', 'FCPS (ARAB BOARD)', 'RCPS (IRE)', 'FCPS (REPRODUCTIVE ENDOCRINOLOGY AND INFERTILITY)', 'DNB (ORTHO)', 'M.SC (DU', ' FOOD & NUTRITION)', 'EPILEPSY AND EEG (UMMC', 'FELLOWSHIP IN EPILEPSY & EEG (MALAYSIA)', 'MS (MEDICINE', ' CANADA)', 'MPHTM', 'MACTM', 'IHTC FELLOWSHIP IN MALAYSHIA', 'FCPC (OBGYN)', 'MD (ENDOCRINOLOGY', 'MRCS (ENG)', 'FMAS (IND.)', 'HDCH', 'MD (CHILD HEMATOLOGY & ONCOLOGY)', 'BDS (GSVMC)', 'DTCD (CHEST MEDICINE)', 'MS (PSYCHOLOGY', 'DDV (SKIN & VD)', 'DTM & H (BANGKOK)', 'M.SC (LONDON)', 'FELLOW (TOBI', 'FCPS (PADIATRIC)', 'FCPS (PADIATRIC NEURO)', 'FCPS(PAEDIATRICS)', 'MPH(EPIDEMIOLOGY)', 'MS-ORTHO (NITOR)', 'A O TRAUMA', 'FCPS (PHYSIATRICS)', 'AO BASIC TRAUMA', 'SPECIAL TRAINING IN FESS (SINGAPORE)', 'HEAD', 'NECK & EAR SURGERY (USA', 'PGT (ENDODONTIC)', 'DDS (D-PROSTHODONTICS)', 'FCPS (ORTHODONICS & DENTOFACIAL ORTHOPEDICS)', 'PHD (DIABETES', 'MD (SKIN & SEX)', 'M.PHIL (PSYCH)', 'MD (PSYCH)', 'FCPS (PHYSICAL MEDICINE & REHABITATION)', 'MS (ORTHO-SUGERY)', 'POST GEADUATE GRADING COURSE (MEDICINE)', 'AFMI', 'MCPS (USA)', 'MBBS (PG HOSPITAL)', 'FCPS (AMERICA)', 'FELLOW GASTRO. (JAPAN)', 'FCGP (BD)', 'MRSH (LONDON)', 'MD (ENDOCRINE & METABOLISM)', 'MPH (PREVENTIVE DENTISTRY)', 'DCH (PAED)', 'MMED (UK)', 'M.SC (UK)', 'D-CARD (NICVD) FACC (USA) FELLOW (WHO)', 'MBBS (C.M.C)', 'ADVANCE TRAINING IN CARDIAC SURGERY (SINGAPORE', ' PHILIPPINE', ' RUSSIA)', 'MS (CARDIOVASCULAR SURGERY)', 'USMLE (USA)', 'MRCH (ENGLAND)', 'F.M', 'AO TRAUMA (SWITZERLAND)', 'MSC (FOOD & NUTRITION). CCND (OBSERVER SHIP)', 'MSC (APPLIED NUTRITION & FOOD TECH)', 'MD (NEURO- MEDICINE)', 'DTM & H (ENGLAND)', 'AMC', 'MCQ', 'MRCPS (MEDICINE', 'MCPS (MEDICINE). MD (NEPHROLOGY)', 'MD (KIDNEY)', 'MS (HEPATO-BILIARY)', 'HIGHER TRAINING IN LIVER TRANSPLANT SURGERY DELHI (INDIA)', 'FCPS (GYNAC & OBS)', 'DMSU', 'TRAINED ON EVIDENCE BASED OBSTETRICS (AUSTRALIA', ' INDONESIA)', 'MACA', 'MS (ENT) & HNS', 'FS (JAPAN)', 'MSS', 'PGT (DENTAL)', 'BMDC', 'ECRD (SWITZERLAND)', 'DIP. IN ORTHOPADIC MEDICINE (BELGIUM)', 'WIC-SICOT (UK)', 'FELLOW ORTHOPEDIC & TRAUMA SURGERY', 'PGCM (ENGLAND)', 'DTM&H (ENG)', 'FCPS (GYNEE & OBS)', 'FELLOW UITREO- RETINA EYE/ OPHTHALMOLOGY', 'FAAP (USA)', 'MRCP (UK) FRCP (GLASGOW)', 'FRCP (EDINBURG)', 'DTCH', 'MS NUTRITION (USA)', 'M.SC (I.F.S.D.U)', 'B.SC.(HONS)', 'M.SC.(NUTRITION & FOOD TECHNOLOGY)', 'FCPS (LAPAROSCOPIC & HEPATO-BILLIARY)', 'FCPS (GASTRO)', 'DLO (IPGMR)', 'HIGER TRAINING TATA MEMORIAL HOSPITAL', 'MUMBAI', 'FELLOW UROLOGY (AUSTRALIA)', 'MS (CARDIO VASCULAR & THORACIC SURGERY)', 'FSCA (USA)', 'FACS (GENERAL', ' CLORECTAL', ' LAPAROSCOPIC', ' BARIATRIC SERGEON AND SERGICAL ONCOLOGIST)', 'FICS (GENERAL AND GASTROENTEROLOGY SERGERY)', 'MS (NEU. SUR.)', 'MRCPH (UK)', 'FELLOW PEDIATRIC CARDIOLOGY (AIMS)', 'FCPS (ORAL & MAXILLOFACIAL)', 'MS (ORAL & MAXILLOFACIAL)', 'M. PHIL (DENTAL)', 'MADA', 'D-CARD (BSMIMU)', 'PDCC (INDIA)', 'MD (CARDIO)', 'FASC (EUROPE)', 'MCSP', 'DDV (AUSTRIA)', 'PHD (CU)', 'PGT (COSMETIC SURGERY)', 'EMHE (DU)', 'FSPU', 'FELLOW PEDIATRIC UROLOGY (USA)', 'WHO FELLOW ON PEDIATRIC UROLOGY (INDIA)', 'FELLOW REPLACEMENT SURGERY (JAPAN)', 'BUMS (DU)', 'BHS (UPPER)', 'TRAINING ON ADVANCE HEMATOLOGY & BONE MARROW TRANSPLANT (BANGKOK & USA)', 'MS (THESIS)', 'ADVANCE TRAINING IN LAPAROSCOPY & INFERTILITY (INDIA)', 'DLP', 'D-MED (UK)', 'D-OPHTH (DU)', 'DLO (VIENNA)', 'MS (ENT) SPECIAL TRAINING ON MICRO EAR SURGERY & ENDOSCOPIC SINUS SURGERY', 'TRAINING ON VIMS & KKR INSTITUTE', 'INDIA', 'MACE & MACP (USA)', 'DDC', 'PGT (MOHKSA)', 'DR SC IN PED (USA)', ' UK).', 'FIC', 'MRCP (MEDICINE', 'FELLOW-WHO (INDIA)', 'FELLOW (WHO)', 'MD (GASTRO', 'MBBS (R.U)', 'MD (NEUROLOGY', 'CCD-DIABETES (BIRDEM)', 'MD (CARD', 'MD (NUCLEAR MEDICINE)', 'TRAINING (IVF', ' IUI)', 'ECGP', 'CDMU', 'M PHIL (NUCL MED) PHD (BUET) RESEARCH FELLOW (AUSTRALIA)', 'FICM(INDIA)', 'D.ORTHO( DU)', 'PHD(USA)', 'MS (OBS & GYNAE-BSMMU)', 'MD (OBGYN', 'FTMOH (LONDON)', 'FRDH (LONDON)', 'WCH (LONDON)', 'DIPLOMA IN DERMATOLOGY (UK)', 'TRAINED IN COSMO-DERMATOLOGY (INDIA)', 'INVASIVE COSMO-DERMATOLOGY (QATAR)', 'MD (CHEST PAIN)', 'MD (CARDIOLOGY)-BSMMU FCPS (MEDICINE)', 'FACC (AMERICA)', 'FESC (EUROPE)', 'FACS (UNITED STATES)', 'AO SPINE BASIC (INDIA)', 'ADVANCE AO SPINE COURSE (SG', ' MY)', 'ARTHROPLASTY BASIC (INDIA)', 'FCPS (OBS & GAYNE)', 'TRAINED IN INFERTILITY (INDIA)', 'TRAINED IN ADVANCED LAPAROSCOPIC SURGERY & HYSTEROSCOPY (INDIA)', 'DGO (OBS & GYNEA)', 'MRCOG (PART-1) LONDON', 'MRCOG-2 (UK)', 'DOWH (IRELAND)', 'MRCOG2 (UK)', 'APASL', 'AASLD (CHINA) JOINT AWARD', 'OJT (GASTROENTEROLOGY)', 'FELLOWSHIP GASTROENTEROLOGY & HEPATOLOGY (PAK)', 'HIGHER TRAINING (INDIA', ' PHILIPPINES & USA)', 'MD (ENDOCRINE MEDICINE)', 'MBA (HEALTH CARE MANAGEMENT)', 'MRSH (UK)', 'ECHO (INDIA)', 'MESC (ITALY)', 'MD (PEDATRICS)', 'MBBS (HEALTH)', 'MPH (MOTHER AND CHILD)', 'DCH (DHAKA)', 'MS (USA)', 'DTM&H (LONDON)', 'FCPS (BREAST-SURGERY)', 'MRCP (M', 'DLP (UK)', 'MS (ORTHOPEDIC & TRAUMATOLOGY)', 'FCS (USA)', 'MACG (GAESTROENTEROLOGY)', 'CEU', 'FCPS (DERMATROLOGY)', 'FP', 'P.G.P.N (CARDIOLOGIST)', 'FRSH (GENERAL PHYSICIAN)', 'INFERTILITY SPECIALIST (CHENNAI)', 'FELLOW COSMETIC GYNAECOLOGY (DUBAI)', 'MRCS (LP)', 'FCPS (FEITO MATERNAL MEDICINE)', 'DGO (VIENA)', 'FAMS (VIENA)', 'AFACC (USA)', 'FASIC & FSCAI (USA)', 'FCPS (CONTINUE)', 'FP(MEDICINE)', 'MS (CARDIOLOGY)', 'WHO FELLOW (RADIATION ONCOLOGY)', 'MD (NEPHRLOGY)', 'MCPS (GYNE & OBS.)', 'FCPS (GYNE & OBS.)', 'MS (GYNAE & OBS; CMU', ' DMU)', 'FCPS (GYNEAY & OBS)', 'HIGHLY TRAINED IN OBS. (INDIA', ' MUMBAI)', 'FRSH (LNDON)', 'MCS (HEALTH)', 'MD (PAEDIATRICS GASTROENTROLOGY)', 'FCPS (NEURO MEDICINE)', 'MD (INFANT)', 'FCPS (CHILD NEUROLOGY)', 'MS (MEDICINE)', 'MD (RHEUMATIC FEVER)', 'MRCP (ENGLAD)', 'MACP (INTERNAL MEDICINE', 'UK RESIDENT PHYSICIAN (R.P)', 'FELLOWSHIP IN DERMATOLOGY LASER SURGERY (SKIN ALLERGY & SEX DISEASE (CMH))', 'FCPS (SKIN/DERMATOLOGY)', 'MCPS (SKIN & STD)', 'AND FRSH (UK)', 'D-ORTHO (MMCH)', 'MRCS (UK', ' EDIN)', 'MS (ORTHOSURGERY-NITOR)', 'SPINE SURGERY (USA)', 'MBBS. MCPS (SURGERY)', 'FELLOW IN INTERVENTIONAL NEUROLOGY & STOKE (SWITZERLAND)', 'TRAINING (NEPHROLOGY)', 'FELLOW IN GASTROENTEROLOGY (TURKEY)', 'MCPS (MEDI)', 'MD (NEPHRO)', 'MS (THESIS', ' GYNAE AND OBS)', 'MPH (DMU)', 'DFFP (UK)', 'MRCP (MEDICINE & GASTRO', 'MSC (GASTROENTEROLOGY', ' LONDON', 'CCD-BIRDEM', 'PGDIP-DIABETES (UK)', 'MD-ENDOCRINOLOGY & METABOLISM (BSMMU)', '(NEONATE & CHILD SPECIALIST)', '(MMC)', 'FCPS (GYNAE & ONCOLOGY)', 'MD (GASTROENTEROLOGY) (BSMMU)', 'MRCP (AMERICA)', 'ADVANCED TRAINING (COLORECTAL', ' ENDOSCOPIC & LASER SURGERY)', 'PHD (RESOURCE FELLOW)', 'CCD (DIABETICS)', 'MACC (AMERICA)', 'TRAINED IN ECHO (CARDIOGRAPHY)', 'PH.D. (VASCULAR SURGERY)', 'FICA (USA)', 'FACC & FSCAI (USA)', 'DD (JAPAN', 'FCOG (UK)', 'DTCE', 'MPH (NIDCH)', 'DIM', 'MD (ANEAS)', 'FCPS (ANEAS)', 'FELLOWSHIP IN LAPAROSCOPIC SURGERY (INDIA)', 'FELLOW IN LAPAROSCOPIC SURGERY (INDIA)', 'MEMBER (ASCRS)', 'FELLOW (ISUCRS)', 'FELLOW RHEUMATOLOGY (USA)', 'FWPA (USA)', 'CME-WCP', 'AO TRAUMA (BASIC)', 'AAOS (USA)', 'WHO FELLOW ARTHROPLASTY', 'ARTHROSCOPY (INDIA)', 'FELLOWSHIP IN ARTHROSCOPY & ARTHROPLASTY (KOREA & INDIA)', 'FELLOW (SPINE SURGERY)', 'RCO (USA)', 'PHD (NEUROSURGERY) TRAINED IN NEURO INTERVENTION & STROKE (JAPAN', ' INDIA & GERMANY)', 'MS (NEUROSURGERY) FELLOW ENDOVASCULAR NEUROSURGERY & STROKE (MUMBAI)', 'TRAINING IN MODERN NEUROSURGERY (JAPAN & TURKEY)', 'FCPS (MEDICINE) FELLOW NEUROLOGY', 'WHO (THAILAND)', 'TRAINED IN NEUROSONOLOGY (SINGAPORE)', 'HIGHER TRAINING (RHEUMATOLOGY)', 'WHO FELLOW (DIABETICS)', 'PHD (USA) WHO FELLOW (THAILAND)', 'POST FELLOWSHIP TRAINING (CARDIOLOGY)', 'TRAINING (KIDNEY DISEASES)', 'FWHO (RHEUMATOLOGY)', 'MPH (UK)', 'PHD (NEPHROLOGY-UK)', 'FISN (UK)', 'FASH (USA)', 'TRAINING (FRANCE & JAPAN)', 'DLSB (IND)', 'FICS (USA) ENT (EAR', ' NOSE', ' THROAT)', 'MD (EM)', 'MSC (CANADA)', 'FELLOW- COLORECTAL SURGERY (JAPAN)', 'MSC (JAPAN)', 'FELLOW CMRI (SWITZERLAND)', 'FSGC', 'FRCP (EDIN). FACC (USA)', 'FAPSIC', 'MPHIL (CLINICAL ONCOLOGY)', 'DIH (DU)', 'M.PHIL (RADIOTHERAPY', 'LM', 'DGO (IRELAND)', 'POST GRADUATION TRAINING (MEDICAL ONCOLOGY)', 'FELLOWSHIP TRAINING IN RADIATION ONCOLOGY (INDIA)', 'WHO FELLOW ONCOLOGY (BANGKOK)', 'FELLOW NEWBORN MEDICINE (SINGAPORE)', 'MPT (BHPI-CRP) MSS (GERIATRIC-DU)', 'DIP IN OM (CYRIAX-ONCOURSE)', 'CERTIFIED DRY NEEDLING PARCTITIONER', 'MS (ORTHOPEDIC SURGERY', 'FIPM (AESCULAP ACADEMY)', 'ROS (JAPAN)', 'WHO FELLOW (THAILAND)', 'M PHIL (PSYCHIATRY)', 'FELLOW – CHILD PSYCHIATRY (PAKISTAN)', \"FRCP (UK)' MACP (USA)\", 'FCPS (INFECTION & TROPICAL DISEASES)', 'DAND', 'DPT (STATE MEDICAL FACULTY)', 'BPT (DU MEDICINE FACULTY) ST', 'TRAINED IN SPORTS PHYSIO (BISS)', 'M.S (ORTHOPAEDICS)', 'PHARMACOLOGY (DAMEK)', 'D CARD (CARDIOLOGY)', 'FCPS (SURGERY PART 2)', 'MS (ENT-ON COURSE)', 'DMU (ULTRASOUND)', 'DCH (IRE)', 'TRAINED IN GYNE ONCOLOGY (INDIA)', 'MMED (DU)', 'MD (PAED HAEM & ONCOLOGY)', 'HMO', 'DOC (SKIN & SEX)', 'MPH (PREVENTIVE MEDICINE)', 'DIPLOMA (FAMILY MEDICINE)', 'CTM (DU)', 'C-CARD (NATIONAL HEART FOUNDATION)', 'MPH (PUBLIC HEALTH NUTRITION)', 'ARAB BOARD', 'KSA', 'MCPS FCPS (OBGYN)', 'SPECIAL TRAINING ON INFERTILITY (INDIA)', 'FELLOW (PEDIATRIC GASTROENTEROLOGY & NUTRITION)', 'FELLOW SPINE SURGERY (WASHINGTON UNIVERSITY', ' USA) N SPINE COURSE (NOTTINGHAM UNIVERSITY', ' UK) APSS SPINE FELLOW (AUSTRALIA) FELLOW SPINE SURGERY (JAPAN', ' TAIWAN) APOLLO SPINE FELLOW (MADRAS', ' INDIA) HIGHER COURSE MISS (FRANCE) SRS SCHOLAR (USA) AO SPINE', 'BASIC', 'ADVANCE AND MASTERS (MALAYSIA)', 'DNM (DU)', 'FNM (UK)', 'FELLOWSHIP IN NEUROSURGERY (SWEDEN)', 'DCO', 'LIVER TRANSPLANT FELLOW (MEDANTA-DELHI NCR)', 'MRCP (GLASGOW)', 'BDS(DDC)', 'PGT(CONSERVATIVE DENTISTRY & ENDODONTICS)']\n",
            "--------------------------------------------------------\n",
            "Unique Concentration Entries after changing the case:\n",
            "No. of unique concentration: 2290\n",
            "['Bacterial Endocarditis', 'Cardiac Ablation', 'Cardiac Anesthesia', 'Cardiac Catheterization', 'Cardiac Disease', 'Cardiac Invasive Procedures', 'Cardiac Medicine', 'Cardiac Mri', 'Cardiac Rehabilitation', 'Cardiac Transplant', 'Cardiac Tumor Resection', 'Congenital Heart Disease', 'Congenital Heart Surgery', 'Healthy Heart Diet', 'Adolescent Medicine', 'Aesthetic Medicine', 'Critical Care Medicine', 'Family Medicine', 'Fetal Medicine', 'Fetomaternal Medicine', 'General Medicine', 'Geriatric Medicine', 'Immediate Dentures', 'Kidney Medicine', 'Lung & Mediastinal Tumors', 'Medical Advisor', 'Neonatal Medicine', 'Diabetes Management', 'Diet Management', 'Food Allergies', 'Food Sensitivity Management', 'Gastroparesis', 'Geriatric Nutrition', 'Mindful Eating', 'Naonatal Nutrition', 'Nutritional Assessment', 'Nutritional Support For Pregnancy', 'Pcod/ Pcos Diet Counselling', 'Sports Nutrition', 'Weight Loss Diet Counseling', 'Nutritional Supplements', \"Alzheimer'S Disease\", 'Arthritis Problem', 'Heart Diseases', 'Infectious Diseases', 'Influenza (Common Cold)', \"Parkinson'S Disease\", 'Pediatric Medicine', 'Trauma And Wound Care', 'Trouble Sleeping', 'Vaccination / Immunization', 'Maternal Fetal Medicine', 'Abnormal Liver Biochemical And Function Tests', 'Abnormal Uterine Bleeding', 'Acquired Von Willebrand Syndrome', 'Acute Bacterial Meningitis', 'Acute Bronchitis', 'Anxiety Disorders Treatment', 'Bacterial Brain Abscess', 'Bleeding Peptic Ulcers', 'Cardiogenic Shock', 'Colonic Ischemia', 'Lactic Acidosis', 'Lyme Disease', 'Thrombotic Thrombocytopenic Purpura (Ttp)', 'Cellulitis & Skin Abscesses', 'Asbestosis', 'Chronic Bronchitis', 'Chronic Cough', 'Cystic Fibrosis', 'Emphysema', 'Goodpasture Syndrome', 'Hypersensitivity Pneumonitis', 'Lung Abscess', 'Pleural Effusion', 'Pneumonia', 'Pulmonary Edema', 'Pulmonary Hypertension', 'Tuberculosis', 'Primary Ciliary Dyskinesia (Pcd)', 'Cardiac Pacing', 'Cardic Tmt', ' Ecg', ' Echo', 'Cardio Thoracic Surgery', 'All Gynae Surgery', 'Breast Examination', 'Gynaec Laparoscopy', 'Gynecologic Oncology', 'Gynecomastia Treatment / Surgery', 'Obstetrics Problems', \"Women'S Health\", 'Vaginal Hysterectomy', 'Acne Treatment', 'Birthmark Reduction', 'Body Contouring Surgery', 'Burn Scar Reconstruction', 'Colonoscopy', 'Cosmetic Surgery', 'Dermatosurgery', 'Endosurgery', 'Fistula Surgery', 'Lip Reconstruction', 'Liposuction', 'Minor Surgery', 'Reconstructive Surgery', 'Rhinoplasty', 'Robotic Surgery', 'Vascular Malformation Treatment', 'Webbed Fingers / Toes Correction', 'Safe Ear Piercing For Infants And Children', 'Arthritis', 'General Health', 'General Illness', 'Infectious Disease Treatment', 'Rheumatism Treatment', 'Rheumatology', 'Vaccination/ Immunization', 'Health Checkup (General)', 'Acute Care Imaging', 'Cardiography', 'Cardiology', 'Cardiomyopathy', 'Cosmetic Laser Gynaecologist', 'Gynae Check Up', 'Gynae Problems', 'Gynaecological Endoscopy', 'Gynec Advices', 'Gynecological Cancer Treatment', 'Maternal Care', 'Maternal Care/ Checkup', 'Ob-Gyn Anesthesia', 'Obstetrics & Gynecology', 'Uro Gynecological Problems', 'Advaced Laproscopic Gynaecological Surgery', 'Diseases In Pregnancy', 'Doppler Scan In Pregnancy', 'Laparoscopic Surgery (Obs & Gyn)', 'Complicated Pregnancy Treatment', 'Dengue Fever', 'Mediastinoscopy', 'Fever Treatment', 'Medical Oncology', 'Medical Peels', 'Medical Vitiligo Treatment', 'Acute Hematologic Disorder', 'Benign Hematology Treatment', 'Blood Banking', 'Blood Calcium', 'Blood Cancer Specialist', 'Blood Clots', 'Blood Disease', 'Blood Disorder Treatment', 'Blood Group Test', 'Blood In Motion', 'Blood In Urine', 'General Hematology', 'Brain Hemorrhage', 'Kidney Function Test', 'Prostate Gland', 'Urinary Bladder', 'Andrology', 'Venereal Disease', 'Urethra', 'Endourology', 'Erectile Dysfunction', 'Minimal Invasive Urology', 'Urology Consultation', 'Varicoceles & Male Infertility', 'Male Infertility Treatment', 'Chronic Infectious Diseases', 'Acne', 'Allergic Bronchopulmonary Aspergillosis', 'Allergic Conjunctivitis', 'Allergic Enteropathy', 'Allergic Rhinitis', 'Allergy & Immunotheraphy', 'Allergy Skin Prick Test', 'Bacterial Skin Infection Treatment', 'Chronic Skin Allergy', 'Dimple Creation', 'Dull Skin', 'Dull Skin Treatment', 'Fractional Co2 Laser Skin Resurfacing', 'Pimples Treatment', 'Sun Burn Treatment', 'Hair Disease', 'Amblyopia (Lazy Eye)', 'Anophthalmia (Absent Eye)', 'Cataract & Lasik Eye Surgery', 'Chronic Eye Diseases', 'Diabetic Eye Checkup', 'Dry Eye - Evaluation / Treatment', 'Dry Eyes', 'Eye Cancer', 'Eye Checkup - General', 'Eye Disorder', 'Eye Exercises For Double Vision', 'Eye Patch Therapy', 'Eye Problems', 'Eye Surgery', 'Eye Ultrasound', 'Eyebrow Design', 'Brain Aneurysm Coiling', 'Brain Infection', 'Brain Mapping', 'Neurourology', 'Peripheral Neuropathies', 'Traumatic Brain Injury (Tbi) Treatment', 'Trigeminal Neuralgia', 'Meningitis', 'Artificial Teeth', 'Dental Braces Fixing', 'Dental Caries', 'Dental Checkup (General)', 'Dental Crowns', 'Dental Fillings', 'Dental Implants', 'Impacted Teeth', 'Straightening Teeth', 'Sensitive Teeth', 'Abdominoperineal Resection (Pediatric)', 'Advanced Pediatric Life Support (Apls)', 'Bone Marrow Transplant(Pediatrics)', 'Exchange Transfusion (Pediatric)', 'Health Checkup (Pediatric)', 'Pediatric Allergy', 'Pediatric Critical Care', 'Pediatric Dermatology', 'Pediatric Diabetes', 'Pediatric Emergencies', 'Cognitive Remediation Therapy (Crt)', 'Dengue Fever Treatment', 'Typhoid Fever Treatment', 'Mediastinal Tumor', 'Diabetes', 'Diabetes In Children', 'Diabetes Renal Failure', 'Growth Hormone Disorders', 'Hormonal Therapy', 'Hormone Testing', 'Hyper / Hypo - Thyroid Treatment', 'Hyperthyroidism', 'Insulin Hormone', 'Parathyroid Gland', 'Cardiovascular Treatment', 'Diagnostic Cardiovascular Imaging', 'Fast Heartbeat', 'Heart Muscle Inflammation', 'Medical Emergencies', 'Chronic Cardiac Failure', 'Bladder Control Problems', 'Cystocele', 'Epididymitis', 'Erectile Dysfunction (Ed)', 'Hydronephrosis', 'Kidney Stones', 'Neurogenic Bladder', \"Peyronie'S Disease\", 'Prostate Problems', 'Pyelonephritis', 'Ureteral Stricture', 'Urinary Tract Infections', 'Urologic Diseases', 'Orchitis', 'Abortion / Medical Termination Of Pregnancy (Mtp)', 'Advice To Pregnant Women', 'Anxiety Neurosis', 'Brain Aneursym Surgery', 'Brain Spine Tb', 'Brain Suite', 'Clinical Neurologist', 'Brain Surgery', 'Cosmelan Treatment', 'Lip Augmentation', 'Cochlear Implants', 'Ear Drum Repair', 'Ear Micro Surgery', 'Frontal Sinus Surgery', 'Head And Neck Tumor / Cancer Surgery', 'Microsurgery Of The Larynx', 'Nasal Endoscopy', 'Nasal Polypectomy', 'Reconstructive Middle Ear Surgery', 'Skull Base Surgery', 'Sleep Apnea', 'Surgery For Snoring', 'Tonsillitis Treatment', 'Tympanoplasty', 'Tonsillectomy', 'Pediatric Otolaryngology', 'Nasal Polyps', 'Breast Oncologist', 'Breast Oncology', 'Bronchial Asthma Treatment', 'Gastrointestinal Oncology', 'Haemato Oncology', 'Hemato Oncology', 'Hematological Oncology', 'Laparoscopic Oncology', 'Neuro-Oncology', 'Oncosurgeon', 'Bronchoscopy', 'Acidity In Children', 'Arthritis In Children', 'Asthma In Children', 'Auto-Immune Diseases In Children', 'Behaviour Problem In Children', 'Pediatric & Neonatal Emergencies', 'Dentofacial Orthopedics', 'Functional Orthopedics', 'General Orthopedic Clinic', 'Jaw Orthopedics', 'Lingual Orthodontics', 'Orthodontics', 'Orthographic Surgery', 'Orthopaedic Diseases', 'Orthopedic In Pitampura', 'Orthopedic Physiotherapy', 'Orthopedic Surgery', 'Orthotic Splints', 'Paediatric Orthopedic Surgeon', 'Paediatrics - Ortho', 'Early Pregnancy Scan', 'Ectopic Pregnancy Removal', 'Sexual Problems', 'Acne Scar Treatment', 'Allergies', 'Glutathione - Skin Whitening', 'Hair Loss Treatment', 'Hair Patch', 'Hardening Of The Skin', 'Laser Skin Whitening', 'Lip Reduction', 'Abdominal Surgery', 'Adenoid / Tonsil Surgery', 'Anal Fissure Surgery', 'Diabetic Kidney Disorder', 'Hernia Laparoscopic Surgery', 'Hernia Surgery', 'Piles Surgery', 'Umbilical Hernia', 'Bariatric Surgery', 'Adrenal Disorders', 'Osteoporosis Treatment', 'Parathyroid Diseases', 'Thyroid Disorder Treatment', 'Thyroid Disorders In Pregnancy', 'Thyroid Swelling', 'Hyperlipidemia', 'Appendix Removal', 'Gall Bladder Surgery', 'Pleural Effusion Treatment', 'Abdominal Fluid', 'Breast Tumor Removal', 'Stomach Tumor Surgery', 'Hernia Repair', 'Resection Of Thoracic Tumors', 'Lobectomy And Pneumonectomy', 'Resection Of Thoracic Tumours And Malignancies', 'Biopsy And Lymph Node Excision', 'Adnexal Tumors', 'Adrenal Cancer', 'Bladder Cancer', 'Bone-Marrow Transfusion', 'Colorectal Cancer', 'Gastrointestinal Stromal Tumors (Gist)', \"Hodgkin'S Lymphoma\", 'Leukemia', 'Melanoma Treatment', 'Multiple Myeloma', 'Neuroblastoma', 'Pediatric Oncology', 'Soft Tissue Sarcoma', 'Thymic Carcinoma', 'Salivary Gland Tumors', 'Abdominal Cancer Surgery', 'Advance Laparoscopic Surgeries', 'Anterior Segment Surgery', 'Anti Reflux (Gerd) Surgery', 'Aortic Aneurysm Surgery / Endovascular Repair', 'Aortic Valve Surgery', 'Anal Fissure Treatment (Non-Surgical)', 'Brain Aneurysm Treatment', 'Brain Arteriovenous Fistula Embolization', 'Brain Structure & Function', 'Confusion', 'Memory Disorders', 'Memory Improvement', 'Memory Problem', 'Hormonal Disturbances In Women', 'Laparoscopic Gynaecology', 'Normal Vaginal Delivery (Nvd)', 'Nutrition For Pregnant Women', 'Parathyroid Disorders', 'Thyroid', 'Thyroid Diet Counseling', 'Vaginal Infection Treatment', 'Vaginal Prolapse', 'Women And Vascular Disease', 'High-Risk Pregnancy Care', 'Abnormal Behaviour', 'Abnormal', ' Unusual', ' Strange Behavior', 'Anger Control', 'Anger Management', 'Disturbed Sleep', 'Family Counseling', 'Family Planning', 'Loss Of Interest', 'Memory Loss', 'Pre-Marital Counselling', 'Relationship Problem', 'De-Addiction', 'Acid-Base Fluctuations', 'Chronic Kidney Disease (Ckd)', 'Chronic Renal Failure', 'Dialysis', 'Electrolyte Disorders', 'Glomerular Complications', 'Kidney Disease Treatment', 'Kidney Infections', 'Kidney Stone Treatment', 'Nephrotic Syndrome Treatment', 'Polycystic Kidneys Diseases', 'Transplant Nephrology', 'Ureteroscopy (Urs)', 'Renal Insufficiency', 'Blood Clotting Problems', 'Blood In Urine (Hematuria) Treatment', 'Endovenous Laser Treatment', 'Hair Care', 'Smile Design', 'Chronic Liver Disease', 'Colon Resection', 'Gallbladder', 'Gastric Balloon', 'Gastritis Treatment', 'Gastroenteritis Treatment', 'Gastroenterology', 'Gastrointestinal Diseases', 'Gastrointestinal Disorders', 'Peptic / Gastric Ulcer Treatment', 'Stomach', 'Colon Polyps', 'Hypertension (High Blood Pressure)', 'Vaccination', 'Invasive Cardiac', 'Pacemaker Implantation', 'Peripheral Angioplasty', 'Hiatal Hernia', 'Atrial Tachycardia', 'Anesthesia', 'Epidural And Spinal Anesthesia', 'General Anesthesia', 'Geriatric Anesthesia', 'Inhalational Anesthesia', 'Intrathecal Anesthesia', 'Neuro Anesthesia', 'Pediatric Anesthesia', 'Proxymetacaine Anesthesia', 'Regional Anesthesia', 'Sedation Anesthesia', 'Spinal Anesthesia', 'Trauma Anesthesia', 'Abdominal Pain', 'Abdominal Pain Treatment', 'Embolization', 'Female Sexual Dysfunction', 'Hormone Dirtubances', 'Ovarian Cystectomy', 'Ovarian Cysts', 'Pelvic Inflammatory Disease (Pid)', 'Polycystic Ovary Syndrome (Pcos)', 'Pregnancy Care & Check-Up', 'Premenstrual Syndrome (Pms)', 'Recurrent Miscarriages', 'Sexually Transmitted Disease (Std) Treatment', 'Uterine Fibroids', 'Hysteroscopy', 'Antenatal Counselling For Mothers With High Risk Pregnancies', 'Delivery Care', 'Maternity Care', 'Adult Nephrology', 'Female Infertility Disorders', 'In-Vitro Fertilization (Ivf)', 'Infertility Evaluation', 'Intra-Uterine Insemination (Iui)', 'Male Infertility Disorders', 'Sexually Transmitted Infections (Stis)', 'Genetic Factors Impacting Fertility', 'Breast Cancer Treatment', 'Cancer Screening (Preventive)', 'Cervical Dysplasia (Pre-Cancerous Changes)', 'Fallopian Tube Cancer', 'Gestational Trophoblastic Disease (Molar Pregnancy)', 'Lumpectomy', 'Mastectomy', 'Mixed Epithelial Tumors', 'Ovarian Borderline Tumors', 'Ovarian Cancer', 'Pap Collection', 'Uterine Cancer', 'Vaginal Cancer', 'Vulvar Cancer', 'Breast Ultrasound', 'Chest Radiology', 'Computed Tomography (Ct)', 'Enchondroma', 'Gallbladder Cancer', 'Interventional Diagnostic', 'Magnetic Resonance Imaging (Mri)', 'Osteochondroma', 'Pancreatic Cancer', 'Pelvic Ultrasound', 'Positron Emission Tomography (Pet)', 'Pregnancy Ultrasound', 'Vascular Imaging', 'X-Rays', 'Neuroradiology', 'Anemia', 'Autoimmune Hemolytic Anemia (Aiha)', 'Blood Transfusion', 'Bone Marrow Failure Syndromes', 'Coagulation Disorders', 'Hemochromatosis (Excess Iron)', 'Hemoglobinopathies (E.G.', ' Hbs', ' Hbc)', 'Hemophilia', 'Iron-Deficiency Anemia', 'Lymphoma', 'Plasma Cell Disorders', 'Sickle Cell Anemia', 'Thalassemia', 'Eosinophilic Disorders', 'Adrenal Gland Disorders', 'Hypopituitarism', 'Hypothyroidism', 'Lesions Goiter', 'Obesity', 'Pituitary Stalk Lesions', 'Thyroid Storm', 'Goiter Treatment', 'Amyotrophic Lateral Sclerosis (Als)', 'Carpal Tunnel Syndrome', 'Chronic Fatigue Syndrome', 'Degenerative Disc Disease', 'Joints Problem', 'Ligaments Problem', 'Meniscus Tear', 'Multiple Sclerosis (Ms)', 'Muscles Problem', 'Nerves Problem', 'Patellofemoral Pain Syndrome', 'Peripheral Nerve Injury', 'Plantar Fasciitis', 'Spinal Cord Problem', 'Osteoarthritis', 'Autism', 'Autism Spectrum Disorder (Asd)', 'Bipolar Disorder Treatment', 'Depression And Anxiety', 'Eating Disorders', 'Generalized Anxiety Disorder (Gad)', 'Genetic Predisposition', 'Major Depressive Disorder', 'Panic Disorder', 'Post-Traumatic Stress Disorder (Ptsd)', 'Schizophrenia Treatment', 'Social Anxiety Disorder', 'Substance Abuse', 'Obsessive Compulsive Disorder (Ocd) Counselling', 'Panic Attacks', 'Cyst & Lipoma Removal', 'Gallbladder Removal', 'Laparoscopic Surgery', 'Liver Biopsy', 'Lymph Node Biopsy', 'Pancreas Removal', 'Perianal Abscess Drainage', 'Skin Lesion Excision & Biopsy', 'Whipple Procedure', 'Spleen Removal', 'Limb Amputation', 'Rectal Prolapse Repair', 'Colonoscopy Special', 'General Surgery', 'Bronchitis Treatment', 'Testicular Cancer', 'Acne Problems', 'Alopecia Areata', 'Atopic Dermatitis Treatment', 'Dermatitis Treatment', 'Eczema', 'Herpes Simplex (Cold Sores)', 'Herpes Zoster (Shingles)', 'Impetigo', 'Psoriasis Treatment', 'Rosacea', 'Skin Allergies', 'Treatment For Ringworm', 'Vitiligo', 'Warts', 'Cellulitis', 'Adenoiditis', 'Chronic Rhinitis', 'Conductive Hearing Loss', 'Deviated Septum', 'Head And Neck Tumor', 'Laryngitis', \"Meniere'S Disease\", 'Otitis Media (Middle Ear Infection)', 'Otosclerosis', 'Sinusitis', \"Swimmer'S Ear\", 'Tinnitus (Ringing In The Ears)', 'Cholesteatoma', 'Laryngeal Papillomatosis', \"Zenker'S Diverticulum\", 'Acidity Treatment', 'Celiac Disease', 'Constipation', 'Diarrhea', 'Diverticulitis', 'Gastroesophageal Reflux Disease (Gerd)', 'Gastrointestinal Bleeding', 'Gastrointestinal Motility Disorders', 'Gastroscopy', 'Inflammatory Bowel Disease (Ibd)', 'Irritable Bowel Syndrome (Ibs)', 'Lactose Intolerance', 'Malabsorption Syndromes', 'Peptic Ulcers', 'Stomach Ache', 'Eczema Treatment', 'Allergy Testing', 'Asthma', 'Child Nutrition', 'Child Trauma & Injuries', 'Malnutrition', 'New Born Care', 'Pediatric Intensive Care Unit (Picu)', 'Pneumonia Treatment', 'Viral Fever Treatment', 'Growth & Development', 'Menorrhagia (Menstrual Disorder)', 'Dysmenorrhea (Menstrual Disorder)', 'Bacterial Vaginosis', 'Arthroscopy', 'Fracture Fixation', 'Joint Resurfacing', 'Rotator Cuff Repair', 'Shoulder Bursitis', 'Shoulder Fractures', 'Spinal Decompression', 'Spinal Disc Replacement', 'Spinal Fusion', 'Tendon Repair', 'Total Joint Replacement', 'Ligament Reconstruction', 'Achilles Tendonitis', \"Baker'S Cyst\", 'Cubital Tunnel Syndrome', 'Herniated Disc', 'Joint Mobilization', 'Knee Osteotomy', 'Knee Replacement', 'Ligament Sprains', 'Rheumatoid Arthritis', 'Spinal Disorders', 'Stress Fractures', 'Tennis Elbow', 'Trigger Finger', 'Asthma Allergy', 'Pediatric Bronchoscopy', 'Chronic Asthma', 'Interstitial Lung Disease Treatment', 'Lung Infections Treatment', 'Dry Mouth', 'Improve Jaw Function', 'Mouth Tumors', 'Periodontal Disease', 'Salivary Gland Disorders', 'Temporomandibular Joint (Tmj)', 'Tooth Decay', 'Treat Oral Diseases', 'Age-Related Macular Degeneration Treatment', 'Cataracts', 'Diabetic Retinopathy Screening/ Treatment', 'Glaucoma', 'Injuries And Trauma', 'Ptosis', 'Refractive Errors', 'Retinal Detachment', 'Strabismus', 'Treatment For Keratoconus', 'Color Vision Deficiency', 'Anterior Cervical Discectomy And Fusion (Acdf)', 'Aortic Aneurysms', 'Brain Tumors', 'Chiari Decompression', 'Cranioplasty', 'Deep Brain Stimulation (Dbs)', 'Endovascular Coiling', 'Intracranial Pressure Monitoring', 'Peripheral Nerve Surgery', 'Pituitary Tumors', 'Spine Problems', 'Vascular Problems', 'Shunt Placement', 'Obstetric Medicine', 'Atrial Fibrillation Surgery', 'Atrial Septal Defect (Asd)', 'Congenital Heart Defects', 'Coronary Angiogram', 'Coronary Angioplasty', 'Coronary Artery Bypass Grafting (Cabg)', 'Heart Failure', 'Heart Valve Replacement', 'Open Heart Surgery', 'Robotic Cardiac Surgery', 'Ventricular Septal Defect (Vsd)', 'Burn Management', 'Nail Surgery', 'Nose Piercing', 'Nose Reshaping', 'Severe Burn Injuries', 'Sun Spots', ' Age Spots', ' And Other Pigmented Lesions', 'Diagnostic Endoscopy Of Ear-Nose-Throat', 'Diagnostic Nasal Endoscopy', 'Ear Infections', 'Ear Pain', 'Ear Reconstruction', 'Fracture Nasal Bone Correction', 'Nasal Disorders', 'Nose Infections', 'Thoracic Imaging', 'Thoracoscopy', 'Obsessive Compulsive Disorder (Ocd) Treatment', 'Eosinophilic Esophagitis (Eoe)', 'Food Allergies & Intolerances', 'Hirschsprung’S Disease', 'Intestinal Pseudo-Obstruction', 'Jaundice Treatment', 'Necrotizing Enterocolitis (Nec)', 'Pancreatic Insufficiency', 'Pancreatitis', 'Treatment Of Vomiting', 'Volvulus', 'Brain Dural Arteriovenous Fistula Embolization', 'Cerebrovascular Disease', 'Dementia Treatment', 'Headache Disorders', 'Laminectomy', 'Movement Condition Or Imbalance', 'Numbness Or Tingling', 'Seizure Disorders', 'Vertigo/Dizziness', 'Cerebral Stroke', 'Chronic Pancreatitis', 'Epilepsy', 'Polycystic Ovary Syndrome (Pcos) In Adolescence', 'Hemolytic Anemia', 'Anemia In Newborns', 'Abdominoperineal Resection', 'Bowel Resection Surgery', 'Hernia Repair Surgery', 'Prostrate Removal', 'Esophageal Anti-Reflux Surgery', 'Gastrointestinal Infections', 'Treatments For Ringworm', 'Cavities (Tooth Decay)', 'Neuroendocrine Tumors (Nets)', 'Asd / Vsd Closure', 'Coronary Artery Disease', 'Esophageal Atresia Repair', 'Heart Transplant.', 'Heart Valves', 'Implantable Cardioverter Defibrillator (Icd)', 'Mitral Valve Replacement', 'Patent Ductus Arteriosus (Pda) Ligation', 'Tetralogy Of Fallot Repair', 'Thoracotomy', 'Tracheoesophageal Fistula (Tef)', 'Left Ventricular Assist Device (Lvad)', 'Abnormal Heartbeat', 'Anticoagulation Therapy', 'Antiplatelet Therapy', 'Coronary Artery Disease (Cad)', 'Heart Abnormalities', 'Heart Attack', 'Heart Infection (Endocarditis)', 'High Blood Pressure', 'High Cholesterol', 'General Cardiac Check-Up', 'Trans Oral Robotic Surgery', 'Acute Respiratory Distress Syndrome (Ards)', 'Alpha-1 Antitrypsin Deficiency', 'Chronic Obstructive Pulmonary Disease (Copd) Treatment', 'Eosinophilia Treatment', 'Pneumothorax', 'Polysomnography', 'Pulmonary Aspergillosis', 'Sarcoidosis', 'Upper Respiratory Infection', 'Abscess', 'Anal Fissure Treatment', 'Anal Fistula Repair', 'Breast Cancer Screening', 'Breast Disease', 'Breast Surgery', 'Breast Infection', 'Breast Lump', 'Nipple Problem', 'Axillary Swelling', 'Hernia Treatmemt', 'Fibrocystic Disease Of Breast', 'Fibroadenoma', 'Hemorrhoids Treatment', 'Colon And Rectal Cancer', 'Rectal Bleeding', 'Piles Treatment', 'Pilonidal', 'Laser Piles Treatment', 'Laser Treatment', 'Biopsy', '24 Hours Neuro Emergency Care', 'Abdominal Aortic Aneurysms', 'Aortic Aneurysm Endograft Stent', 'Bile Flow Obstruction', 'Hepatitis B Treatment', 'Hepatitis C Treatment', 'Liver Abscess', 'Liver Disease Treatment', 'Liver Granulomas', 'Liver Metastases', 'Liver Vasculitis', 'Portal Biliopathy', 'Primary Biliary Cholangitis (Pbc)', 'Primary Sclerosing Cholangitis (Psc)', \"Wilson'S Disease Treatment\", 'Cirrhosis', 'Arteriovenous Malformation Embolization', 'Gastroscopy General Surgeon', 'Acute Diarrhea', 'Pediatric Gastrointestinal Bleeding', 'Congenital Ptosis', 'Lens For Keratoconus', 'Electrocautery For Warts', 'Sinus / Sinusitis Treatment', 'Intestinal Infections', 'Adrenal Gland Tumors', 'Colorectal Surgery', 'Hipato Biliary Surgery', 'Kidney Biopsies', 'Laparoscopic Hernial Repair', 'Liver Resection', 'Tubal Ligation And Reversal', 'Cystic Fibrosis (Cf)', 'Skin Grafting For Vitiligo', 'Osteoporosis & Metabolic Bone Disease', 'Ultrasound Ablation Of Uterine Fibroids', 'Adenoid Cystic Carcinoma (Cervix)', 'Obesity And Other Lifestyle Disease Modifications', 'Chemoembolization', 'High Cholesterol (Dyslipidemia)', 'Meningitis Surgery', \"Deep Brain Stimulation For Parkinson'S Disease\", 'Achalasia', 'Anorectal Malformations', 'Appendicitis', 'Benign Adrenal Tumors', 'Bowel Obstruction', 'Congenital Diaphragmatic Hernia', 'Esophageal Atresia', \"Hirschsprung'S Disease\", 'Pediatric Oncological Surgery', 'Pyloric Stenosis', 'Vascular Anomalies In Children', 'Anti Phospholipid Syndrome', 'Arthritis Management', 'Gout Treatment', 'Juvenile Idiopathic Arthritis', 'Loco-Regional Pain', 'Myositis', 'Scleroderma Treatment', 'Sjogren Syndrome', 'Reactive Arthritis', 'Vomiting', 'Gastrointestinal Inflammation', 'Retinal Detachment Surgery', 'Congenital Disabilities', 'Congenital Malformations', 'Jaundice', 'Managing Nutrition', 'Metabolic Disorders', 'Neonatal Intensive Care Unit (Nicu)', 'Neonatal Trauma', 'Neonatal Vaccination / Immunization', 'Premature Birth', 'Neonatal Sepsis', 'Adopted Child Syndrome Treatment', 'Behavioural Disorders In Children', 'Blood Disorders In Children', 'Child And Adolescent Problems', 'Child Birth Education', 'Aortic Coarctation', 'Aortic Valve Stenosis', 'Arrhythmias', 'Cardioversion', 'Endocarditis', 'Heart Conditions', 'Hypoplastic Left Heart Syndrome (Hlhs)', 'Kawasaki Disease', 'Paediatric Critical Care', 'Pulmonary Artery Stenosis', 'Resynchronization', 'Heart Murmurs', 'Crt For Heart Failure', 'Esophageal Cancer', 'Empyema', 'Anal Cancer', 'Antenatal Scan', 'Breast Cancer', 'Autism - Stem Cell Treatment', \"Parkinson'S Disease Treatment\", 'Orthopedic Physical Therapy', 'Orthopedic Surgeon In Pitampura', 'Ambulatory Blood Pressure Monitoring', 'Clinical Hematology', 'Hematological Cancer', 'Hematopathology', 'Hematuria', 'Testicle Correction Surgery', 'Alcoholic Fatty Liver Disease', 'Depression And Anxiety In Diabetes', 'Diabetes Type 2', 'Gestational Diabetes', 'Metabolic Disease', 'Non-Alcoholic Fatty Liver Disease (Nafld)', 'Pituitary Diseases', 'Prediabetes', 'Thyroid Disorders In Diabetes', 'Type 1 Diabetes Treatment', 'Aortic Anuerysm Surgery / Endovascular Repair', 'Aqueductal Stenosis Surgery', 'Arthoscopic Surgery', 'Atrial Septal Defect Surgery', 'Biliary Bypass Surgery', 'Insuiln Pump', 'Suicidal Behavior', 'Acute Kidney Disease ( Aki ) Treatment', 'Acute Kidney Injury (Aki)', 'Bp With Kidney Disease', 'Cancer - Kidney', 'Kidney Diseases', 'Kidney Failure Treatment', 'Kidney Dialysis', 'Kidney Transplant', 'Acne / Pimples Treatment', 'Allergic Rhinitis Including Hay Fever', 'Acute Renal Failure', 'Alport Syndrome', 'Denys-Drash Syndrome', 'Iga Nephropathy', 'Medullary Cystic Kidney Disease (Mckd)', 'Obstructive Uropathy', 'Reflux Nephropathy', 'Urinary Tract Infection (Uti)', 'Posterior Urethral Valves (Puv)', 'Fractional Skin Rejuvenation', 'Eye Involvement In Rheumatic Disease', 'Eye Muscle Surgery', 'Acute Liver Failure', 'Alcoholic Liver Diseases', 'Cancer - Liver', 'Gastric Plication', 'Gastro Intenstinal Onco Surgery', 'Gastro-Intestinal Cancer Treatment', 'Gas Bloat', 'Gastrointestinal Cancer Surgery', 'General Pediatrics', 'Pediatric Dentistry', 'Cancer In Children', 'Child Pathologist', 'Uro Gynecology', 'Orthoptics', 'Aesthetic Dentistry', 'Conservative Dentistry', 'Cosmetic Dentistry', 'Dental Restoration', 'General Dentistry', 'Laser Dentistry', 'Colorectal & Hepatobiliary Surgery', 'Hepatitis A Treatment', 'Hepato-Biliary-Pancreatic', 'Interventional Hepatology', 'Detox Diet Counseling', 'Infant & Child Nutrition', 'Liver Nutrition', 'Neonatal Nutrition', 'Nutrition Programs', 'Diet For Athletes', 'Diabetic Diet Counseling', 'Diet Counseling', 'Diet For Kids', 'Brain Tumor', 'Brain Tumor Surgery', 'Nuclear Medicine', 'Earlobe Suturing', 'Genito Urinary Cancer', 'Genitourinary Cancers', 'Genitourinary Malignancies', 'Genitourinary Surgery', 'Urinary Diversion', 'Urinary Fistula', 'Urinary Incontinence (Ui)', 'Urinary Incontinence (Ui) Treatment', 'Urinary Leakage', 'Bariatric (Gastric Bypass) Surgery', 'Epigastralgia – Acute In Peptic Ulcer', '', 'Teeth Straightening/Braces', 'Aplastic Anemia', 'Bone Marrow Failure', 'Frequent Fatigue', 'Hereditary Blood Diseases', 'Platelet Function Disorders', 'Sickle Cell Disorders', 'Unexplained Bruises', 'White Blood Cell Disorders', 'Nutriton Support Service', ' Hemothorax', ' Pl.Effusion', ' Empyema', ' Thicken Pleural', 'Arterial Embolism', 'Atherosclerosis', 'Carotid Artery Disease', 'Deep Vein Thrombosis (Dvt)', 'Endoleak', 'Endovenous Laser Ablation For Varicose Veins', 'May-Thurner Syndrome', 'Peripheral Artery Disease', 'Takayasu’S Arteritis.', 'Thoracic Outlet Syndrome', 'Vasculitis', 'Lymphedema', 'Varicose Veins Radio', 'Nerve Trauma', 'Neurological Problems', 'Congenital Defects', 'Hepatitis D Treatment', 'Hepatitis E Treatment', 'Nail Diseases Treatment', 'Diabetes In Cancers(Immunocompromised)', 'Gallbladder Surgery And Gynecology Operations', 'Hand Deformities', 'Prp Hair Transplantation', 'Abdominoperineal Resection (Apr)', 'Memography', '2D - Echocardiography (2D-Echo)', 'Acne Scars', 'Dengue Fever Test', 'Fever', 'Laparoscopic Colorectal Surgery', 'Ear', ' Nose & Throat Evaluation', 'Acrylic Partial Denture', 'Teeth Whitening', 'Bronchopulmonary Dysplasia (Bpd)', 'Chest Disease', 'Chest Disease Treatment', 'Chest Pain', 'Lower/Upper Respiratory Tract Infection Treatment', 'Respiratory Conditions', 'Respiratory Failure', 'Respiratory Problems', 'Respiratory Tract Infection', 'Respiratory Tract Infection Treatment', 'Chest Pain Treatment', 'Vitiligo Surgery', 'Maxillary Nerve Block', 'Obstructive Sleep Apnea (Osa)', 'Pain Management', 'Stroke', 'Back & Neck Pain', 'Joint Conservation', 'Viral Fever', 'Back Pain', '3D & 4D Ultrasonography', '3D/4D Ultrasound', 'Abdominal Ultrasound', 'Cranial Ultrasound', 'Cytology Guided By Ultrasound', 'Endoscopic Ultrasound', 'Intravascular Ultrasound (Ivus)', 'Lower Abdomen Ultrasound', 'Ultrasound And Color Doppler', 'Vascular Doppler Ultrasound', 'Whole Abdomen Ultrasound', 'Pregnant Women Counseling', 'Pregnancy Hypertension (Preeclampsia/ Eclampsia)', 'Menstrual Disorders In Adolescent Girls', 'Infertility Evaluation / Treatment', 'Menopause Advice', 'Endometriosis Treatment', 'Polycystic Ovary Syndrome (Pcos) Treatment', 'Caesarean Section (C Section)', 'D&C (Dilation And Curettage)', 'Pre & Post Delivery Care', 'Anger Problems', 'Depression Counselling', 'Disorder Of Sexual Differentiation', 'Psychoanalysis To Suicide', 'Strange Behavior', 'Unusual', 'Ear Reconstructive Surgery', 'Male Breast Reduction', 'Hormonal Imbalances', 'Luteal Phase Defects', 'Ovulatory Disorders', 'Primary Ovarian Insufficiency (Poi)', 'Ovarian Hyperstimulation Syndrome (Ohss)', 'Attention-Deficit/Hyperactivity Disorder (Adhd)', 'Cerebral Palsy (Cp)', 'Developmental Delays', 'Down Syndrome', 'Movement & Coordination', 'Neuromuscular Disorders', 'Pediatric Neurosurgery', 'Sensory Processing Disorder', 'Encephalitis', 'Tumors And Cysts', 'Cancer Of Stomach', 'Cancer Surgery', 'Gi Cancer Surgeries', 'Laparoscopic Cholecystectomy', 'Laparoscopic Surgeon', 'Surgical Oncology', 'Upper Gi Surgery', 'Back Pain Physiotherapy', 'Frozen Shoulder', 'Post Pregnancy Classes', 'Postural Reeducation', 'Soft Tissue Injury Management', 'Spinal Cord Injury', 'Sports Physiotherapy', 'Sprains And Strains', 'Tendonitis', 'Cerebral Palsy Treatment', 'Neuromedicine', 'Dust Pollen & Pet Allergies Diagnosis & Treatment', 'Spine Arthroscopy', 'Obesity And Surgery', 'Liver Diseases Especially Hepatitis B', ' C And Alcoholic Liver Disease.', '3-D', '4-D Ultrasound', 'Bloodstream Infections', 'Clinical Pathology', 'Colorectal Polyps', 'Cytopathology', 'Dermatopathology', 'Histopathology', 'Neuropathology', 'Surgical Pathology', 'Uropathology', 'Vector-Borne Infections', 'X- Ray', 'Immunopathology', 'Urinary Tract / Bladder Stones Treatment', 'Uriticaria & Atopic Dermatitis Evaluation & Treatment', '3D Live/ 4D Ultrasounds', 'Digital Ultrasound', 'Level 2 Ultrasound', 'Musculoskeletal Ultrasound - Diagnostic & Theraputic', 'Thyroid Ultrasound', 'Ultrasound Guided Fnac/Biopsy', 'Ligament And Tendon Repair', 'Viral Hepatitis', 'Allergy And Asthma Clinic', \"Children'S Infectious Diseases\", 'Breast Cancer Management', 'Cancer - Bone', 'Cancer Markers', 'Intervention Neurology', 'Laparoscopic Urology', 'Arthritis And Pain Management', 'Pelvic Floor Dysfunction', 'Post-Surgery Rehabilitation', 'Adult Vaccination', 'Allergy Vaccine', 'Female Genital Aesthetic Surgery', 'Embryo Biopsy', 'Congenital Ear Problem Treatment', 'Ear & Nose Piercing', 'Ear Lobe Correction / Repair', 'Nasal And Sinus Allergy Care', 'Laryngoscopy', 'Microlaryngoscopy', 'Tracheotomy/Tracheostomy', 'Esophagoscopy', 'Wide Local Excision', 'Glossectomy (Partial', ' Hemi', ' Total)', 'Mandibulectomy', 'Maxillectomy', 'Phrenectomy', 'Laryngectomy (Partial Or Total)', 'Neck Dissection (Selective', ' Modified Radical', ' Radical)', 'Sentinel Lymph Node Biopsy', 'Parotidectomy', 'Submandibular Gland Excision', 'Thyroidectomy (Partial Or Total)', 'Parathyroidectomy', 'Skin Grafts', 'Local Flaps', 'Regional (Myocutaneous) Flaps', 'Transoral Laser Microsurgery (Tlm)', 'Calf Liposuction', 'Acell Matrix Hair Transplantation', 'Adult Counselling', 'Counselling & Psychotherapy For Anxiety And Depression', 'Drug Abuse', 'Drug Abuse & De-Addiction Therapy', 'Acute Aortic Dissection', 'Foreign Body Aspiration', 'Mesothelioma', 'Mold Infections', 'Pericarditis', 'Aortic Dissection', 'Thymoma', 'Female Sexual Disorders', 'Pediatric Endocrinology', 'Addiction Psychiatrist', 'De-Addiction Counselling', 'Depression And Suicidal Treatment', 'Depression Treatment', 'Home Ventilator(Non Invasive) Therapy For Chronic Respiratory Failure', 'Laminectomy (Cervical) With Fusion', 'Diagnostic Nasal', ' Otological & Laryngeal Endoscopy', 'Hyper / Hypo - Thyroidism Treatment', 'Tongue Tie Release', 'Antiphospholipid Antibody Syndrome & Recurrent Pregnancy Loss', 'Hair Regrowth', 'Hair Replacement', 'Advanced Endoscopic & Laparoscopic Surgeries', 'Laparoscopic & Open Surgery For Colon Cancer', 'Laparoscopic Adjustable Gastric Band', 'Laparoscopic Appendectomy', 'Laparoscopic Hernia Repair', 'Laparoscopic Hiatus Hernia Repair', 'Knee Braces For Osteoarthritis', 'Lymphoma Myeloma', 'Ct - Scan', 'Growth Scan', '3D/4D Sonography', 'Adverse Reactions To Radiotherapy Or Chemotherapy', 'Contrast Radiography', 'Cooled Radio-Frequency Ablation', 'Cranial Cyber-Knife Radiosurgery', 'Gamma-Knife Radiosurgery', 'Sonography', \"Sonomed 'A' Scan\", 'General Radiology', 'Medical Termination Of Pregnancy', 'Cancer - Lung', 'Interventional Pulmonology', 'Chest Trauma', 'Chest Wall Tumour', 'Diseases Of The Chest', 'Paediatrics - Chest', 'Cruciate Ligament Reconstruction', 'Bronchiolitis', 'Cleft Lip And Palate', 'Croup', 'Epiglottitis', 'Muscular Dystrophy', 'Nebulizer Treatments', 'Noisy Breathing', 'Trouble Breathing', 'Cystic Hygroma', 'Endoscopic Nose & Throat Examination', 'Nasal Septum Surgery', 'Foreign Body In Eyes', ' Ears', ' Nose And Throat', 'Infertiliade', 'Infertility', 'Fertility Enhancing Laparoscopic Surgeries', 'Obstetric Trauma', 'Insomnia Treatment', 'Post- Traumatic Stress Disorder (Ptsd)', 'Aesthetic Dermatology', 'Ultrasound Contrast', 'Ultrasound Scan', 'Upper Abdomen Ultrasound', 'Orbital Decompression Surgery For Thyroid Eye Disease', 'Diabetes Induced Erectile Dysfunction', 'Hormone Therapy For Breast Cancer', 'Parathyroid Hormone', 'Chronic Back Pain', 'Chronic Pelvic Pain Syndrome', 'Complex Regional Pain Syndrome (Crps)', 'Eripheral Vascular Disease (Pvd) Pain', 'Foot Care', 'Hand Pain Treatment', 'Knee Care', 'Migraines & Headaches', 'Neck And Shoulder Pain', 'Post-Surgical Pain', 'Spinal Therapy', 'Post-Amputation Pain', 'Drug Abuse & Deaddiction Therapy', 'Ultrasonography - Pelvic', 'Ultrasound/Ultrasonography', 'Diagnostic Neuroradiology', 'Radial Angioplasty', 'Radial Approach', 'Digital X-Ray', 'Blood In Your Stool', 'Laboratory Hematology', 'Pediatric Hematology', 'Cerebral Aneurysm', 'Interventional Neuroradiology', 'Hair Multiplication', 'Laser Hair Removal - Face', 'Eyelid Surgery', 'Lazy Eye Exercises', 'Abscesses', 'Diverticulosis', 'Fissures', 'Fistulas', 'Hemorrhoids', 'Pilonidal Cysts', 'Uterine Fibroids Embolization', 'Bone Marrow Transplant', 'Chelation Therapy', 'Chemotherapy', 'Retinoblastomas', 'Stem Cell Transplantation', 'Osteosarcoma Treatment', 'Varicose Veins Treatment', 'Bone Infection', 'Infertility Test', 'Infertility Treatment', 'Male Infertility Program', 'Sexual Infertility', 'Tubal Factor Infertility', 'Interventional Nephrology', 'Bleeding Internally', 'Well Woman / Gynecological Cancer Screening', 'Alagille Syndrome', 'Gallbladder Disease', 'Nose Fillers', 'Sinonasal Malignancies', 'Ear Wash', 'Childhood Acute Lymphoblastic Leukemia', 'Lip Dissolve Injection', 'Accidents', 'Child Vaccination', 'Acne/ Pimple Scars Treatment', 'Bariatric', 'Hair Weaving & Bonding', 'Polishing', 'Male Sexual Problems', 'Hormone Therapy For Prostate Cancer', 'Gestational Diabetes Management', 'Cardiovascular & Pulmonary Physiotherapy', 'Antisocial Behavior', 'Child Psychiatry', 'Pre Marital Problems', 'Withdrawal Symptoms Management', 'Urinary Tract Obstruction', 'Growth & Development Evaluation / Management', 'Amblyopia', 'Congenital Aniridia', 'Congenital Glaucoma', 'Nystagmus', 'Pediatric Ocular Allergies', 'Retinopathy Of Prematurity (Rop)', 'Strabismus (Crossed Eyes)', 'Microphthalmia (Small Eye)', 'Onychocryptosis', 'Bile Duct Reconstruction', 'Congenital Anomalies', 'Distal Pancreatectomy', 'Gallbladder Stone Removal', 'Liver Shunt Surgery', 'Liver Transplantation Consultation', 'Liver Tumor Ablation', 'Pancreatectomy', 'Radiofrequency Ablation (Rfa)', 'Rheumatoid Arthritis Treatment', 'Cervical Mucus Abnormalities', 'Endovascular Aneurysm Repair', 'Laser Treatment For Varicose Veins', 'Paeditric Oncology', 'Urologic Oncology', 'Cancer Pain', 'Gum Infection', 'Scar Revision Surgery', 'Crt Device Implantation', 'Low Confidence', 'Head And Neck Infection Treatment', 'Diet Therapy', 'Adenoidectomy', ' Tonsilectomy', ' Treachostomy', ' Sub Mandibular Gland Excision', '2.2 Mm Phaco Surgery For Cataract', 'Glaucoma Evaluation / Treatment', 'Trauma And Joint Replacement', 'Transmyocardial Revascularization (Tmr)', \"Ebstein'S Anomaly Repair\", 'Pulmonary Sequestration', 'Embolization For Fibroid', 'Incontinence', 'Bleeding From The Rectum', 'Concentration Problems', 'Spine Surgery', 'Epilepsy Surgery', 'Bone Grafting', 'Endoscopic Surgery', 'Meningioma Surgery', 'Hydrocephalus Shunt Surgery', 'Muscular Dystrophy Surgery', 'Chiari Malformation Surgery', 'Tethered Cord Release Surgery', 'Spinal Cord Tumor Surgery', 'Pituitary Tumor Surgery', 'Laser Kidney Stone Removal', 'Diabetes Mellitus', 'Knee Replacement Reconstruction & Rehabilitation', '100% Blocked Artery Angioplasty', 'Digestive Disorders', 'Heart Burn', 'Varicose Veins Laser Therapy', 'Von Willebrand Disease', 'Red Blood Cell Disorders', 'Evans Syndrome', 'Breast Reduction Surgery', 'Bypass Surgery', 'Cartilage Surgery', 'Lumbar Radiofrequency Neurotomy', 'Neural Stem Cell Therapy', 'Micro Neuro Surgeries', 'Nt Scan', 'Liver Fibroscan', 'Nuclear Scans', 'Laryngotracheal Anomalies', 'Color Doppler', 'Blood Sugar Test', 'Fatty Liver Disease', 'Diabetic Foot Care', 'Impacted Tooth Extraction', 'Impaction / Impacted Tooth Extraction', 'Tooth Extraction', 'Wisdom Tooth Extraction', 'Wisdom Tooth Infection', 'Antenatal And Postnatal Exercise/ Physiotherapy', 'Electrophysiology', 'Electrophysiology Hearing', 'Frozen Shoulder Physiotherapy', 'M.S Physiotherapy Lab', 'Neurological Physiotherapy', 'Neurophysiology', 'Physiotherapy For Sports Injury Rehabilitation', 'Marriage Counselling', 'Sleep Disorder', 'Mental Health', 'Sleep Disorder Treatment', 'Sleep Disorders', 'Therapy For Autism', 'Cosmetic Treatments', 'Cosmetology', 'Hand Surgery Burn', 'Cosmetology (Botox', ' Chemical Peels & Dermal Fillers)', 'Oculoplastic Surgery', 'Fractional Laser', 'Echocardiography', 'Family Planning & Contraceptive Counselling', 'Drug Alchol Rehabilitation', 'Neuro Anaesthesia', 'Childhood Asthama-Management And Counselling', 'Pediatrics – Chest', 'Pediatric Imaging', 'Neuro Ophthalmology', 'Biovascular Scaffold Implantation', 'Neuro Clinic', 'Bioidentical Hormone Therapies For Men And Women', 'Thoracic Oncology Surgeries', 'Thoracic/Lung Tumor', 'Cataract Surgery', 'Craniotomy Surgery', 'Complications Of Gall Bladder Surgery', 'Corneal Surgery', 'Coronary Angioplasty / Bypass Surgery', 'Growth & Sexual Maturation In Children', 'Sexual Diseases', 'Anxiety Disorder Counselling', 'Sexual Dysfunction', 'Carotid Cavernous Fistula', 'Cysts', 'Cancer Screening', 'Pediatric Glaucoma Management', 'Pediatric Gastroenterology', 'Emotional Outbursts', 'Alcohol De-Addiction Treatment', 'Deaddiction Counselling', 'Marriage/ Marital Counselling', 'Premarital Counseling', 'Mental Retardation', 'Insomnia', 'Cerebrovascular Surgery', 'Decompression Micovascular', 'Endovascular Interventions', 'Orthosis', 'Urinary Tract Infection Treatment', 'Unexplained Physical Symptoms', 'Head And Neck Oncosurgery', 'Derma Roller For Acne', 'Deaddiction Services', 'Women Mental Health Issues', 'Following Stroke', 'Including Depressive', 'Neurosis And Depression', 'Biliary Colicincluding', 'Dysmenorrhea Treatment', 'Headache', 'Hypotension', ' Primary', 'Hypertension', ' Essential', 'Knee Pain', 'Leukopenia', 'Low Back Pain', 'Morning Sickness', 'Periarthritis Of The Shoulder', 'Sciatica', 'Stroke Treatment', 'Acne Vulgaris', 'Alcohol Dependence And Detoxification', 'Bell’S Palsy', 'Competition Stress Syndrome', 'Physiotherapy Rehab', 'Nephrology Consultation Opd', 'Complete Percutaneous Liver', ' Lung', ' And Renal Tumor', ' Management', 'Fatty Liver Treatment', 'Liver & Pancreas Diseases', 'Liver Biliary & Pancreatic Surgery', 'Liver Cirrhosis', 'Liver Disease', 'Gi And Onco-Interventions Like Tace', 'Tare & Rfa For Liver Tumours', 'Liver Elastography', 'Pediatric Urology', 'Reconstructive Urology', 'Urological Malignancies', 'Csf Rhinorrhea Repair Surgery', 'Complications Of Hernia Surgery', 'Kidney Tumor', 'Peripheral Neuro Surgery', 'Electrocardiography', 'Electrocardiography (Ecg)', 'Fetal Echocardiography', 'General And Interventional Cardiology', 'Device Closure For Congenital Heart Diseases', 'Disorders In The Hormone-Producing Adrenal Glands And Pituitary Glands', 'Hypertrophic Cardiomyopathy', 'Thyroid Disease Management', 'Nosebleed Treatment', 'Throat And Voice Problems', 'Gastrointestinal Endoscopic Mucosal Resection', 'Female Infertility Treatment', 'Dermoscopy', 'Breast Implant', 'Psychosexual Problems', 'Diagnosis And Management Of Various Rheumatic Diseases', 'Geriatric Rheumatology', 'Pediatric Rheumatology', 'Rheumatic Heart', 'Rheumatic Heart Disease', 'Rheumatic Heart Disease Treatment', 'Dermatomyositis', 'Disc Surgery', 'Non-Invasive Cardiology', 'Achilles Tendon Rupture Treatment', 'Microscopic Voice Surgery', 'Voice Clinic & Speech Therapy', 'Throat Infections', 'Nephrectomy (Kidney Removal)', 'Neurological Dysfunction', 'Endovascular', 'Complex Spine Disorder', 'Blood Testing Labs', 'Blood Vomiting', 'Cystic Fibrosis-Related Diabetes', 'Dermatology', 'Foetal Echocardiography', 'Gastrostomy Tube', 'Joint Dislocation Treatment', 'Bone Trauma', 'Joints & Musculoskeletal Disorders', 'Bone Focal Lesions', 'Bone Fracture', 'Bone Injury', 'Bone Tumours', 'Heart Stroke Issues', 'Bone And Calcium Metabolism', 'Bone Marrow Transfusion', 'Bone', ' Spine And Pain Management Interventions', 'Tailbone Pain Treatment', 'Joint Pain Treatment', 'Child Development Disease Treatment', 'Blackheads', 'Head & Neck Tumor Embolization', 'Liver Disorder', 'Acute Pancreatitis Treatment', 'Spleen', 'Physical Medicine', 'Muscle Spasm', 'Electrical Muscle Stimulation', 'Muscle Fatigue', 'Sports Injury Treatment/Management', 'Muscle Relaxing Injections', 'Muscle Release', 'Nerve & Muscle Disorders', 'Joint And Muscle Problems', 'Joint Injections', 'Bone Densitometry', 'Joint Replacement Both Upper & Lower Limbs', 'Joint Replacement Surgery', 'Reconstruction And Bone Lengthening', 'Thyroid Nodule', 'Adrenal Gland', 'Endocrinology', 'Complete Endocrine Work-Up', 'Reproductive Endocrinology', 'Nephrology Icu', 'Renal Denervation', 'Disk Slip', 'Post Surgery Physiotherapy/Rehabilitation', 'Pulmonary Function Studies', 'Pulmonary Medicine', 'Pulmonary Rehabilitation', 'Lung Function Tests/Spirometry', 'Non Surgical Scar Treatment', 'Skin Tag Treatment', 'Skin Tumors', 'Scar Treatment', 'Inflammatory Bowel Disease (Ibd) Treatment', 'Irritable Bowel Syndrome (Ibs) Treatment', 'Constipation Treatment', 'Thyroid Disease In Children', 'Insomnia In Children', 'Neonatal Intensive Care (Nicu)', 'Adolescent Pathologist', 'Neonatal Pathologist', 'Neonatal Transfusions', 'Dengue', 'Melasma Treatment', 'Severe Heatstroke', 'Skin Boosters And Fillers', 'Obesity Complications', 'Pcod Treatment', 'Polycystic Ovarian Disease (Pcod)', 'Obstetrics / Antenatal Care', 'Pcod/Pcos Treatment', 'Colposcopy', 'Cryopreservation ( Eggs', 'Semen', 'Embryos)', 'Sperm And Egg Processing', 'Fertilisation In Vitro - Embryo Transfer (Ivf - Et)', 'In Vitro Fertilisation(Ivf - Test Tube Baby)/Icsi', 'Ovarian Infections', 'Women Health', 'Weightloss Program For Pcos', 'Menopause', 'Menopause & Perimenopausal Symptoms', 'Type 2 Diabetes Treatment', 'Acute Poisoning / Overdose', 'Severe Anaphylaxis', 'Severe Sepsis', 'Severe Metabolic Disturbances', 'Postoperative Critical Care', 'Hemorrhagic Shock', 'Multiorgan Failure', 'Neurological Emergencies', 'Sepsis', 'Severe Traumatic Injuries', 'Septic Shock', 'Craniofacial Clefts', 'Traumatic Reconstruction', 'Hand Surgery', 'Brow Lift', 'Skin Tag Surgical Removal', 'Neonatal Nursing', 'Neuro Developmental Therapy', 'Paediatric Cardiac Intensive Care (Pcic)', 'Asd / Vsd Device Closure', 'Weight Gain Diet Counseling', 'Therapeutic Diets', 'Nerve Blocks', 'Nail Fold Capillaroscopy', 'Ears', 'Head & Neck Tumour Embolization', 'Deep Brain Stimulation', 'Thyroid Diseases', 'Bronchial Artery Embolization', 'Vascular Brain Diseases', 'Neurotology And Skull Base Surgery', 'Rf Neurotomy', 'Chronic Migraine', 'Acidity', 'Piles Treatment (Non Surgical)', 'Irritable Bowel Syndrome ( Ibs ) Treatment', 'Hearing Aid Fitting', 'Hearing Assesment', 'Nosebleed (Epistaxis) Treatment', 'Herpes Infection Treatment', 'Bps Dentures Fixing', 'Oral Infection Treatment', 'Mouth Bleed', 'Vascular Surgery', 'Robotic Heart Surgery', 'Heart Transplant', 'Thoracoscopic Esophageal Surgery', 'Endovascular Surgery', 'Peripheral Vascular Surgery', 'Vascular Trauma', 'Bariatric Surgeries', 'Cross Sectional Interventional Radiology', 'Pathologist', 'Pathologist Blood Sugar Test', 'Pathology', 'Pathology Services', 'Disseminated Intravascular Coagulation (Dic)', 'Hemolytic Disease Of Newborn (Hdn)', 'Transfusion Reactions', 'Transfusion Support', 'Transfusion Transmitted Infections', 'Appendectomy', 'Appendicitis Treatment', 'Laparoscopic Hernia Surgery', 'Laparoscopy', 'Laparoscopic Myomectomy', 'Laser Depigmentation', 'Skin Rash Treatment', 'Skin Tags Removal', 'Skin Treatment', 'Skin Whitening Treatment', 'Wart Removal', 'Skin Rejuvenation', 'Hairfall Treatment', 'Systemic Sclerosis (Scleroderma)', 'Pigmented Skin', 'Skin Tightening', 'Adult Psychiatry', 'Mental Retardation/ Behavioral Problems', 'Radiotherapy', 'Fistula', 'Peptic Ulcer', ' Jaundice', ' Hernia & Piles Surgeries', 'Fistula Treatment', 'Neuro Consultation', 'Neuromodulation', 'Minimally Invasive Brain And Spine Surgeries', 'Neurospine Surgeon', \"Children'S Health\", 'Early Newborn Care', 'Epilepsy In Children', 'Hyperactivity In Children', 'Leukamia In Children', 'Sepsis (New Born)', 'New Born Life Support(Nls)', 'Newborn Jaundice', 'Newborn Screening', 'Preterm Newborns', 'Pediatrics', 'Cough In Children', 'Immunization', 'Reproduction', 'Clinical Embryologist', 'Embryo Assessment', 'Oocyte Retrieval', 'Reproductive Medicine', 'Sperm Retrieval', 'Green Ivf ( Natural Cycle Ivf)', 'Ivf Surgery', 'Natural Cycle Ivf', 'Platelet Rich Plasma', 'Vomit Blood', 'Liver Transplant (Cadaveric And Living Donor)', 'Pediatric Neurology', 'Thyroid Specialist', 'Hysterectomy (Abdominal/Vaginal)', 'Labour And Delivery', 'Vagina Surgery', 'Cervix Cancer', 'Corneal Ulcer Treatment', \"Inflammatory Bowel Disease: Ulcerative Colitis / Crohn'S Disease\", 'Complete Glaucoma Workup And Followup', 'Glaucoma Surgery', 'Glaucoma Valve Implantation', 'Eardrum Rupture Treatment', 'Hearing Deficiency Assessment', 'Allergy Health Education', 'Hearing Impairment', 'Periodontal (Gum) Disease', 'Oral & Maxillofacial', 'Oral Surgery Procedures', 'Oral Cancer Treatment', 'Minimally Invasive Cardiac Surgery', 'Vascular Interventions', 'Vascular Malformations', 'Implantable Cardioverter Defibrillators (Icds)', 'Hypertrophic Scar Treatment', 'Reconstruction And Rehabilitation', 'Tumor Resection & Reconstruction', 'High Fever', 'Chronic Pain', 'Interventional Radiology', 'Simple Radiology', 'Teleradiology', 'Critical Care', 'Icu - Intensive Care Unit', 'Transoral Laser Surgery', 'Uterus Removal Surgery', 'Vocal Cord Surgery', 'Renal Angioplasty', 'Renal Biopsy', 'Cerebral Angioplasty', 'Skin Peeling', 'Diabetic Ulcer Treatment', 'Peripheral Angiography', 'Permanent Pacemaker', 'Leg Pains', 'Leg Length Inequality', 'Wounds On Legs', 'Sleep Apnea And Snoring Clinic', 'Mole Removal', 'Male Hypogonadism', 'Male Sexual Dysfunction Treatment', 'Ureteric Tumors', 'Androgenetic Alopecia Treatment', 'Male Sexual Disorders', 'Pediatric Surgery', 'Decompression Microvascular', 'Minimal Invasive Surgery', 'Minimally-Invasive Lumbar Micro Decompression', 'Complex Fracture Treatment', 'Joint Pain Treatment Endoscopic Disc Surgery', 'Spine Injury', 'Spine Scoliosis And Kyphosis', 'Spinal Cord Injury Treatment', 'Prostate Cancer Surgery', 'Soft Tissues Cancer', 'Stretch Marks', 'Epilepsy Treatment', 'Nerve Conduction Study', 'Peripheral Nerve', 'Ncs - Nerve Conduction Study', 'Neurolytic Nerve Blocks', 'Vagus Nerve Stimulation (Epilepsy)', 'Fissure Surgery', 'Endoscopic Discectomy', 'Virtual Colonoscopy', 'Bladder Stone Treatment', 'Emphyma Gall Bladder', 'Cerebrospinal Fluid Shunt', 'Endoscopic Spine Surgery', 'Key Hole Spine Surgery', 'Hypertension And End-Stage Renal Disease', 'Pcnl For Renal Stones', 'Neonatal Surgery', 'Bile Ducts', 'Distal Pancreatectory', 'Gall Bladder (Biliary) Stone Treatment', 'Liver Tranplant', 'Liver Surgery', 'Pancreatic Necrosectomy', 'Pancreatitis Treatment', 'Liver Problem', 'Peptic Ulcer Treatment', 'Sudden Hearing Loss', 'Metabolic Syndrome', 'Endocrine Surgery', 'Anal Papillectomy', 'Loop Colostomy', 'J-Pouch Surgery', 'Vascular Health Check', 'Irregular Heartbeat', 'Breast Lift', 'Face Lift/ Rhytidectomy', 'Prostate Problem ( Bph ) - Medical And Surgical Treatments', 'Fetal Mri', 'Mri', 'Mri Defecography', 'Pregnancy Scan', 'Pet Scan', 'Nuchal Translucency Scan', 'Vitreoretinal Surgery', 'Allergy Immunotherapy', 'Allergy Test', 'Drug Allergy', 'Tracheostomy', 'Laser', 'Bad Breath Treatment', 'Spine Pain Management', 'Endoscopic Carpal Tunnel Release', 'Treatment For Tremers', 'Tuberculosis (Tb) Treatment', 'Laparoscopic Nephrectomy', 'Laparoscopic Pyeloplasty', 'Behaviour & Thought Problems', 'Testicle Infections Treatments', 'Articular Pain Treatment', 'Chronic Pain Treatment', 'Chronic Pelvic Pain', 'Trauma', 'Arteriovenous Malformations (Avm)', 'Artery Disease', 'Blocked Carotid Arteries', 'Deep Vein Thrombosis - Dvt', 'Intracranial Vascular Stenting', 'Low Vision Aid', 'Optical Coherence Tomography (Oct)', 'Optical Counter', 'Reduced Vision', 'Vision Therapy Exercises', 'Liver Function Test', 'Breast Augmentation/Mammoplasty', 'Breast Lump Treatment', 'Lymphatic Drainage', 'Plasma Therapy', 'Scaling / Polishing', 'Maxillofacial Surgery', 'Scaling', 'Skin Allergy Treatment', 'Skin Biopsy', 'Skin Disease Treatment', 'Radiofrequency Neurotomy', 'Orbital & Optic Nerve Decompression', 'Neuropathy Assessment', 'Diagnostic & Therapeutic Endoscopy', 'Laparascopic Cancer Surgery In Delhi', 'Back Pain Treatment', 'Men And Women Wellness Screening', 'Malaria Treatment', 'Travel Vaccination And Consultation', 'Measles Treatment', 'Migraine Treatment', 'Nightmares/Bad Dreams', 'Pami', 'Azoospermia Treatment', 'Hydrocele Treatment (Surgical)', 'Pelvic Lymph Node Dissection', 'Treatment Of Erectile Dysfunction', 'Direct Visual Internal Urethrectomy (Dviu)', 'Lumbago', 'Disc Herniation', 'Knee Arthritis', 'Palliative Services', 'Spinal Disc Surgery', 'Cancer Treatment', '2D Echo', 'Limping Child', 'Indigestion', 'Echo', 'Bp Monitoring', 'Temporary Pacemaker', 'Acute Diarrhea Treatment', 'Detoxification', 'Geriatric Healthcare', 'Incisional Hernia', 'Minimally Invasive Surgery', 'Adrenalectomy', 'Lithotripsy', 'Ureteroscopy', 'Peritoneal Dialysis', 'Lactation', 'Facetal Injection', 'Neck And Spine Biopsy', 'Regenerative Technique', 'Spine 3D Printing', 'Botox Injections', 'Chin', 'Labiaplasty', 'Otoplasty', 'Thighplasty (Thigh Lift)', 'Irritable Bowel Syndrome', 'Small Intestine', 'Steatosis', 'Ulcerative Colitis Treatment', 'Ent Checkup', 'Giddiness', 'Thyroplasty', 'Pediatric Solid Tumors', 'Botox Injection', 'Drug Or Chemical-Induced Diabetes', 'Filaria Treatment', 'Hypertriglyceridemia', 'Monogenic Diabetes Syndromes', 'Immunity Therapy', 'Preoperative Treatment', 'Dermatologic Surgery Small', 'Laser Skin Whitening - Procedure', 'Skin Checks', 'Vaser Liposuction', 'Flexible Ureteroscopy', 'Hemodiafiltration', 'Percutaneous Nephrolithotomy', 'Percutaneous Nephrolithotripsy', 'Renal (Kidney) Surgery', 'Renal Replacement Therapy', 'Laser Hair Removal - Procedure', 'Neck Lift', 'Pancreas Transplantation', 'Testicular Surgery', 'Cough', 'Minimally Invasive', 'Anterior Cervical', 'Artificial Cervical Disc Replacement', 'Discectomy & Fusion', 'Paralysis', 'Stroke Paralysis', 'Ventriculoperitoneal Shunt', 'Spinal Surgery', 'Movement Disorder', 'Numbness And Tingling', 'Sclerosis Treatment', 'Seizure Disorder', 'Treatment For Headache', 'Pap Smear', 'Ovarian Cyst Removal', 'Myomectomy', 'Carotid Angioplasty And Stenting', 'Congenital And Acquired Deformity Correction', 'Congenital Diseases', 'Splenectomy', 'Giant Cell Tumor', 'Skin Hydration', 'Ct Angiogram', 'Ent Checkup (General)', 'Obesity Related Lung Diseases', 'Non Surgical Eye Lift', 'Robotic Calipers / Injections', 'Disc Prolapse', 'Endoscopic Disc Surgery', 'Neck Pain Treatment', 'Diabetic Foot', 'Varicocele Surgery', 'Ventricular Septal Defect Surgery', 'Trauma Surgery', 'Complete Dentures Fixing', 'Derma Roller', 'Cool Sculpting', 'Mood Disorders', 'Accupressure', 'Avastin Injections', 'Permanent Acne Solutions', 'Stem Cell Therapy For Orthopedic Conditions', 'Piles/Constipation/Acidity', 'Ulcer Problem', 'Lasik Eye Surgery', 'Mirena (Hormonal Iud)', 'Gastrointestinal Surgery', 'Sinonasal Polyp', 'Insulin Treatment', 'Thyroid Surgery', 'Childhood Arthritis', 'Piles Treatment (Non-Surgical)', 'Breast Enhancement Care', 'Foot Pressure/Vascular Assessment', 'Endovascular Treatment For Renal', 'Cast Partial Denture', 'Canalith Repositioning', 'Abdominal Myomectomy', 'Endometrial Cancer', 'Uterus/ Uterine Prolapse Treatment', 'Skin Blemishes Treatment', 'Skin Care', 'Anemia Treatment', 'Biliary Drainage And Stenting', 'Small Bowel Disease', 'Specialist In Newborn Intensive Care', 'Paediatric Cardiac Surgery', 'Pleurodesis', 'Tb', ' Copd & Interstitial Lung Disease', 'Brief Psychoanalytic Psychotherapy', 'Psychic Integration', 'Psychological Diagnosis', 'Psychosocial Rehabilitation', 'Psychotherapy For Couples', 'Hemodiafiltration (Hdf)', 'Hemodialysis', 'Renal Angioplasty & Stenting', 'Laser Fistula', 'Holter Monitoring', 'Hypertension Treatment', 'Monitoring', 'Ongoing Constipation Or Diarrhea', 'Secondary Hypertension', 'Treatment Of Viral Diarrhea', 'Nasofriboscopia', 'Lower Back Pain Treatment', 'Gall Bladder Stone Treatment', 'Chickenpox', 'Pediatric Solid Tumor', 'Epidural Transformational Injection', 'Neck And Back Pain Clinic', 'Spine Clinic', 'Spine Conservative', 'Spine Conservative Management / Non Surgical Technique', 'Diabetic Foot Check-Up', 'Cervical Cancer Vaccination', 'Childhood Cancers', 'Cancer Specialist', 'Dermaroller', 'Ear Wax (Cerumen) Removal', 'Hearing Loss', 'Hearing', ' Speech Impairment', 'Paediatrics Cardiology', 'Hair Transplant Surgery', 'Hearing Counselling', 'Canaloplasty', 'Flap Surgery', 'Antisocial Behaviour', 'Lap Donor Nephrectomy', 'Lap Nephrectomy', 'Nephrectomy', 'Laser Procedures For Retinal Diseases', 'Lasik For Glasses Removal', 'Retina Examination', 'Congenital Disorders Evaluation / Treatment', 'Abdominal Hysterectomy', 'Pure Tone Audiometry', 'Lactation Counselling', 'Headache Management', \"Ewing'S Sarcoma Treatment\", 'Giant Cell Tumour Treatment', 'Picc Line Insertion', 'Development Assessment', 'Bullectomy', 'Decortication', 'Lung Surgery', 'Lung Transplant', 'Pneumonectomy', 'Pulmonary Function Test', 'Lobectomy', 'Treadmill Test - Tmt', 'Ffr (Fractional Flow Reserve)', 'Pulmonary Function Test (Pft)', 'Coronary', ' Renal & Peripheral Angiography', 'Noninvasive Pain Management', 'Complex Percutaneous Coronary Intervention', 'Right And Left Heart Catheterization', 'Coronary Angiograms/ Angioplasty (Radial/Femoral)', 'Parotid Surgery', 'Lung Cancer Treatment', 'Brachytherapy', 'Chemotherapy Of Haematological Malignancies', 'Radiation Therapy', 'Chemotherapy Of Solid Tumors', 'Mohs Surgery', 'Panoramic Radiology', 'Vascular Image', 'Brachytherapy (Internal Radiation Therapy)', 'Advanced Therapies (Ozone', ' Growth Factors', ' Stem Cells)', 'Colposcopy Examination', 'Cryotherapy', 'Needle Biopsy', 'Venous Access Catheters', 'Disease In Children', 'Elbow Pain', 'Head And Neck Pain', 'Hip Pain Treatment', 'Intolerable Pain', 'Cervical & Lumbar', 'Electrotherapy', 'Facial Palsy', 'Knee Injury', 'Knee Pain Treatment', 'Laser Therapy', 'Lumbar Disc Disease', 'Lumbar Disc Prolapse', 'Lumbar Spondylosis', 'Mckinzie Treatment For Spine', 'Paraffin Wax Bath', 'Parkinsonism And Movement Disorders', 'Pre And Post Operative Conditions', 'Spinal Deformity Correction', 'Spinal Rehabiliation Technique', 'Spinal Rehabilitation Technique', 'Sports Injury', 'Transcutaneous Electrical Nerve Stimulation (Tens)', 'Short Wave Diathermy', 'Immunotherapy', 'Solid Cancer', 'Solid Tumor', 'Foot & Ankle Surgery', 'Hip Replacement', 'Hip', ' Ankle', ' Knee Injury', 'Total Hip Replacement', 'Trauma & Fracture Management', 'Adrenal', 'Gland Disorders', 'Pituitary Stalk', 'Foot Infection', 'Fungal Infection Treatment', 'Orchitis (Bacterial-Testicle Infection)', 'Hiv Treatment', 'Fracture Treatment', 'Prp Treatment', 'Soft Tissue Manipulation', 'Allergy Treatment', 'Female Sexual Problems', 'Meso Glow', 'Mesotherapy', 'Laser Resurfacing', 'Permanent Hair Removal', 'Prostate Laser Surgery', 'Sexual Dysfunction Treatment', 'Sebaceous Cyst Excision', 'Endoscopy', 'Laser Surgery', 'Fertility Conserving Procedures', 'Fertilization', 'Tubectomy/Tubal Ligation', 'Viability Scan', 'Cough Treatment', 'Dyslipidemia', 'Type 2 Diabetes', 'Cervical Posterior Foraminotomy', 'Cord Stimulator Implant', 'Lateral Lumbar', 'Chickenpox Treatment', 'Congenital Disorders', 'Laparoscopic Sterilization', 'Adhd', 'Eswl (Extra Corporeal Shock Wave Lithotripsy )', 'Sigmoidoscopy', 'Treatment Of Fractures And Other Injuries In Children', 'Former Obese', 'Bad Breath (Halitosis) Treatment', 'Circumcision', 'Cystectomy', 'Disorders Of Puberty', 'Obesity Treatment', 'Balance Exercises', 'Cervical Cerclage', 'Laproscopic Surgeon', 'Laproscopic Hernia Surgery', 'Neuroimmunology', 'Neurology', 'Neurology Treatment', 'Sex Hormone Problems', 'Loose Motion', 'Spine Mobilization', 'Keyhole Spine Surgeon', 'Vertigo Treatment', 'Mini Scleral Contact Lens', 'Retina Surgery And Lasik', 'Retinal Diseases', 'Vision Therapy', 'Head And Neck Cancer']\n"
          ]
        }
      ],
      "source": [
        "# Flatten the list of lists and then get unique values of the education field\n",
        "education_list_flat = [item for sublist in df['Education'] for item in sublist]\n",
        "print(\"Unique Education Entries after changing the case:\")\n",
        "print(f'No. of unique education: {len(pd.Series(education_list_flat).unique().tolist())}')\n",
        "print(pd.Series(education_list_flat).unique().tolist())\n",
        "\n",
        "print(\"--------------------------------------------------------\")\n",
        "\n",
        "#Flatten the list of lists and then get unique values of the concentration field\n",
        "concentration_list_flat = [item for sublist in df['Concentration'] for item in sublist]\n",
        "print(\"Unique Concentration Entries after changing the case:\")\n",
        "print(f'No. of unique concentration: {len(pd.Series(concentration_list_flat).unique().tolist())}')\n",
        "print(pd.Series(concentration_list_flat).unique().tolist())"
      ]
    },
    {
      "cell_type": "markdown",
      "metadata": {
        "id": "xiKd039Mp4Ku"
      },
      "source": [
        "### Remove Empty String and Entries starting with '(' on Education Field"
      ]
    },
    {
      "cell_type": "code",
      "execution_count": 8,
      "metadata": {
        "colab": {
          "base_uri": "https://localhost:8080/"
        },
        "id": "e48d2de0",
        "outputId": "7880f7f3-1f3e-4e2d-f33b-265b031586ee"
      },
      "outputs": [
        {
          "name": "stdout",
          "output_type": "stream",
          "text": [
            "Unique Education Entries after removing entries starting with '(':\n",
            "No. of unique education: 2789\n",
            "['MBBS', 'D-CARD', 'PHD', 'CCD', 'MD (MEDICINE)', 'MSC', 'MPHIL', 'PHD (NUTRITION & FOOD SCIENCE)', 'INFS (DU)', 'BCS (HEALTH)', 'FCPS (MEDICINE)', 'PGT (NEUROLOGY)', 'MBBS (DHAKA)', 'BCS (HEALTH) FCPS (MEDICINE)', 'MACP (USA)', 'MPH', 'MD (INTERNAL MEDICINE)', 'FACP (USA)', 'MD (RESPIRATORY MEDICINE)', 'MD (CARDIOLOGY)', 'MPH (DHAKA)', 'MS (OBS & GYNAE)', 'FCPS (GENERAL SURGERY)', 'MS (PLASTIC SURGERY)', 'MCPS', 'FELLOW IN RHEUMATOLOGY', 'FRCP (UK)', 'FCPS (OBGYN)', 'FCPS(OBS&GYNAE)', 'FRCP (GLASGOW)', 'FCPS (HEMATOLOGY)', 'MS (UROLOGY)', 'MSC (UK)', 'FCPS', 'DO', 'MBBS (DMC)', 'MD (NEUROLOGY)', 'BDS', 'FCPS (OMFS)', 'FHN (SURGERY)', 'FTMJ', 'DCH(GLASGOW)', 'MRCP(UK)', 'FCPS (PEDIATRICS)', 'FRCP', 'FRCPCH', 'MRCP (UK)', 'FRCP (LONDON)', 'MD (ENDOCRINOLOGY)', 'FCPS (CARDIOLOGY)', 'FCPS (SURGERY)', 'MCPS (MEDICINE)', 'MD (CHEST)', 'MD (GASTRO)', 'MACP', 'M.MED (UK)', 'BCS (HEALTH) FCPS (MEDICINE) FCPS (NEUROLOGY)', 'DTM', 'PHD (PLASTIC SURGERY', ' JAPAN)', 'FCPS (ENT)', 'FICS', 'M.PHIL.', 'FCPS (RADIOTHERAPY)', 'FCPS (PAEDIATRICS)', 'MS (NITOR)', 'AO-BASIC (INDIA)', 'DDV', 'DEM (BIRDEM)', 'MACE (USA)', 'MCPS (SURGERY)', 'MS (CARDIOTHORACIC SURGERY)', 'ADVANCED VATS TRAINING (INDIA)', 'M.PHIL', 'MD (NEUROMEDICINE)', 'FCPS (OBS & GYNAE)', 'FCPS (PSYCHIATRY)', 'CCD (BIRDEM)', 'MD (NEPHROLOGY)', 'DDV (BSMMU)', 'FRCP (GLASGOW', 'FCPS (MED))', 'BCS', 'MS (CVTS)', 'MD-CARD (NICVD)', 'FACC (USA)', 'MS (CARDIOVASCULAR & THORACIC SURGERY)', 'MBBS (DNMC)', 'DA (DMC)', 'FCPS (ANAESTHESIOLOGY)', 'MCPS (ANESTHESIOLOGY)', 'FCPS (ORBS & GYNAE)', 'DGO', 'FRCOG (LONDON)', 'MS (GYNAE)', 'DGO (OBS & GYNAE)', 'MRCOG', 'FCPS (GYNAE & OBS)', 'MD', 'MACP (MEDICINE)', 'MD (HAEMATOLOGY)', 'MD (HEMATOLOGY)', 'MD (ENDOCRINOLOGY AND METABOLISM)', 'FACE (AMERICA)', 'FCPS (PHYSICAL MEDICINE & REHABILITATION)', 'MD (PHYSICAL MEDICINE)', 'M. PHIL ( RADIATION ONCOLOGY )', 'PGT (MEDICINE)', 'M.PHIL. (RADIOATION & ONOCOLOGY)', 'DMRT', 'MBBS (CMC)', 'MCPS (PSYCHIATRY)', 'MD (PSYCHIATRY)', 'MPHIL (MENTAL DISEASES)', 'BCS ( HEALTH )', 'MPH (EPIDIMILLOGY)', 'MS (SURGERY)', 'FACS (USA)', 'MS (NEUROSURGERY)', 'FCPS ( SURGERY)', 'MS (NEURO-MEDICINE)', 'MS (NEURO-SURGERY)', 'MD ( PULMONOLOGY)', 'FCPS (MEDICINE-FP)', 'MD (CHEST DISEASES)', 'DTCD', 'FCCP (AMERICA)', 'MD (CHEST MEDICINE)', 'MBBS (SSMC)', 'MRCS', 'MS (GENERAL SURGERY)', 'BCS (HEALTH) MS (UROLOGY)', 'FCPS (SKIN&VD)', 'FCPS (SKIN & VD)', 'MD (DERMATOLOGY & VENEREOLOGY)', 'FCPS (SKIN & SEX)', 'DLO (ENT)', 'DLO', 'MS (ENT)', 'MD (GASTROENTEROLOGY)', 'MACG (USA)', 'DDV (DU)', 'MPHIL (PSYCHIATRIC)', 'PHD (USA)', 'FCPS (OBS & GYNE)', 'MCPS (PEDIATRICS)', 'MD (PEDIATRICS)', 'MD (CHILD MEDICINE)', 'DCH', 'PGPN (BOSTON)', 'DGO (DMC)', 'FCPS (GYNEA&OBS)', 'MBBS. BCS (HEALTH)', 'D ORTHO', 'MS (ORTHO SURGERY)', 'D - ORTHO', 'D-ORTHO', 'DTCD (CHEST)', 'FCCP (USA)', 'MD (PHYSICAL MEDICINE AND REHABILITATION)', 'FCPS (GYNE & OBS)', 'FELLOWSHIP IN IVA (DUBAI)', 'DIPLOMA IN CLINICAL RESEARCH (CANADA)', 'FCPS (GYN & OBS)', 'FELLOW COLORECTAL SURGERY (NUH', ' SINGAPORE)', 'MD (ENDOCRINOLOGY & METABOLISM)', 'BDS (CU)', 'PGT (BSMMU)', 'MS (OMS)', 'BDS (DU)', 'PGT (OMS)', 'FCPS (OPHTHALMOLOGY)', 'FICO (LONDON)', 'FCPS (NEUROSURGERY)', 'FCPS (PLASTIC & RECONSTRUCTIVE SURGERY) ADVANCED TRAINING IN USA', 'UK', 'SINGAPORE', 'THAILAND & INDIA', 'D- CARD (CARDIOLOGY)', 'MS (THORACIC SURGERY)', 'CMU', 'DCH (CHILD) (BSMMU)', 'FCPS (PAED)', 'MD (PAED GASTROENTEROLOGY )', 'MBBS (SOMC)', 'FCPS (RADIATION ONCOLOGY)', 'MCPS (RADIATION ONCOLOGY)', 'FCPS (NEUROLOGY)', 'BCS (HEALTH) MD (NEUROLOGY)', 'FCPS (GYNAE)', 'MRCP (UK LONDON)', 'MACP (AMERICA)', 'FCPS(MEDICINE)', 'MD (NEURO MEDICINE)', 'FCCS (CCM-USA)', 'MRCP (LONDON)', 'FCPS (PEDIATRIC)', 'MCPS (GYNAE & OBS)', 'MS (ORTHO)', 'MS (ORTHOPEDICS)', 'MS (ORTHOPAEDICS)', 'MS (NEURO SURGERY)', 'MCPS (INTERNAL MEDICINE)', 'FMAS (INDIA)', 'FRCS (GLASGOW', ' UK)', 'MD ( HEPATOLOGY)', 'DM (GASTROENTEROLOGY)', 'FRCS (EDIN)', 'MCPS (ENT)', 'FCPS (OTOLARYNGOLOGY- HEAD & NECK SURGERY)', 'FCPS (DERMATOLOGY)', 'MSC (LONDON)', 'FICD', 'BDS (DHAKA)', 'MSC (ORTHODONTICS', ' MALAYSIA)', 'FCPS (ORAL AND MAXILLOFACIAL SURGERY)', 'M. PHIL (RADIOTHERAPY)', 'MD (ONCOLOGY)', 'DEM (DIABETOLOGY & ENDOCRINOLOGY)', 'FCPS (UROLOGY)', 'FRCS (UK)', 'FCPS (PHYSICAL MEDICINE)', 'MD (DERMATOLOGY)', 'FCGP (MEDICINE)', 'FCPS (CHEST)', 'MBBS (DU) PGT', 'E.O.C. (GAINI & OBS)', 'DMU (STATE UNIVERSITY)', 'DCM', 'FCPS - GENERAL SURGERY', 'FACS (AMERICA)', 'MRCPS (GLASGOW)', 'FCPS (PM&R)', 'PHD (UK)', 'FCPS (NEPHROLOGY)', 'PHD (NEPHROLOGY)', 'MD (HEPATOLOGY)', 'MS (GYNAE & OBS', 'CMU (ULTRA)', 'FSCAI (USA)', 'FMD', 'MS (EYE)', 'FCCS (SG)', 'DNB (CARDIOLOGY)', 'FCCP', 'BCS (HEALTH) M.PHIL (RADIOTHERAPY)', 'BCS (HEALTH) MCPS', 'DCH (BSMMU)', 'DVD', 'D-CARD (NICVD)', 'DLO (DU)', 'FRCS (GLASSGOW)', 'FESC', 'MBBC', 'D-CARD (DHAKA)', 'MBBS (CU)', 'DLO (BSMMU)', 'MPHIL (RADIOTHERAPY)', 'FCPS (ANESTHESIA)', 'MD (PEDIATRIC)', 'MD (CARDIO', ' NICVD)', 'DO (DU)', 'MS (UK)', 'DCH (DU)', 'D-CARD (BSMMU)', 'DIPLOMA IN ASTHMA (UK)', 'MCPS (ONCOLOGY)', 'IAIA (FELLOW)', 'MS (SURGICAL ONCOLOGY)', 'MS', 'DDV (SKIN & SEX)', 'MBBS (DU)', 'DD (THAILAND & JAPAN)', 'MCPS (BCPS)', 'DLO (B.S.M.M.U)', 'FCPS (GASTRO-THESIS)', 'MRCP (PASHAS-LONDON)', 'PGPN', 'MD (CHILD HEALTH)', 'MD (CHILD)', 'PGPN (USA)', 'FCPS (NEONETOLOGY)', 'MSC (COGNITIVE & CLINICAL NEUROSCIENCE', 'D-CARD (CARDIOLOGY)', 'MBBS (DHAKA). BCS (HEALTH). MS (ORTHOPEDIC)', 'MBBS (DHAKA MEDICAL)', 'MS (ORTHOPAEDIC SURGERY)', 'MS (ORTHOPEDIC)', 'D-ORTHO (BSMMU)', 'FWHO (THAILAND)', 'D-ORTHO (NITOR)', 'MS-ORTHO (BSMMU)', 'MCPS (OBGYN)', 'DGO (BSMMU)', 'FRCP (EDIN)', 'FRSPH', 'MACP (US)', 'MRCP (LONDON', 'BCS (HEALTH) DEM (DIABETES & HORMONE-BIRDEM)', 'MS (ORTHOSURGERY)', 'MS (OBGYN)', 'MCPS (OBS & GYNAE)', 'MCPS (CLINICAL PATHOLOGY', 'DCP', 'MBBS (CMCH)', 'MCPS (DERMATOLOGY)', 'MCPS (SKIN & SEX)', 'DDV(CU)', 'DTCD (CHEST DISEASES)', 'PH.D (PHYSICAL MEDICINE)', 'MBBS (GOLD MEDALIST)', 'BCS (HEALTH) MD (CARDIOLOGY)', 'PHD (JAPAN)', 'FUAMS (USA)', 'POST DOC (USA)', 'MS (PEDIATRIC SURGERY)', 'MS (CHILD SURGERY-BSMMU)', 'MD (RHEUMATOLOGY)', 'MD (CHEST DISEASE)', 'MD (PEDIATRIC GASTROENTEROLOGY)', 'FCPS (ORAL & MAXILLOFACIAL SURGERY)', 'MCPS (DENTAL SURGERY)', 'MS (PROSTHODONTICS)', 'PGT (DENTISTRY)', 'MD (SKIN & VD)', 'MCPS (SKIN & VD)', 'MBBS (RMC)', 'DDV (DHAKA)', 'FMD (DHAKA)', 'DDOC (AUSTRIA)', 'DDV(BSMMU)', 'FCPS (EYE)', 'M-PHIL (RADIOTHERAPY)', 'MS (ENT-BSMMU)', 'BCS(HEALTH)', 'FCPS (CHILD)', 'MD (NEWBORN MEDICINE)', 'AO TRAUMA (INDIA)', 'MS (ORTHO-SURGERY)', 'D-ORTHO ( DMC)', 'FCPS (GYNAE & OBSTETRICS)', 'MCPS (GYNAE & OBSTETRICS)', 'FMAS', 'FACS', 'BSMMU', 'FCPS (P-2)', 'MD (NEPHROLOGY', ' COURSE)', 'MS (CV & TS)', 'MRCS (UK)', 'MS (CARDIOVASCULAR AND THORACIC SURGERY)', 'FEBCTS (EUROPE)', 'M.PHIL (ONCOLOGY)', 'MD (NEURO-MEDICINE)', 'MCPS (HEMATOLOGY)', 'MD (CHILD HEMATO-ONCOLO)', 'MS (COLORECTAL SURGERY', ' BSMMU)', 'MBBS. BCS. FCPS. MS', 'CCD (DIABETES', 'BIRDEM)', 'PGT (MEDICINE', 'NEPHROLOGY', ' NEURO MEDICINE', 'CARDIOLOGY)', 'MRCP (USA)', 'MS(SURGERY)', 'MS ( COLORECTAL SURGERY)', 'MBBS. MS (ORTHO)', 'D.ORTHO', 'MBBS. CCD. D-ORTHO', 'FCPS (DERMATOLOGY & VD)', 'FAMS', 'FCPS (PART-LL)', 'CRP (DMC)', 'PGT', 'PGT (DENTISTRY & OMS)', 'BDS. DDS. PHD', 'MACP (NEPHROLOGY)', 'FCPS (UROLOGY- FINAL PHASE)', 'FCPS(SKIN & VD)', 'MCPS (OPH)', 'MS (OPH)', 'MCPS (CHILD)', 'FCPS (MEDICINE) FINAL', 'PGT (NEURO)', 'D-CARD (D.U)', 'CCD ( BIRDEM )', 'MBBS. BCS. MD', 'FCPS (INFERTILITY)', 'DGO (OBST.& GYNAE)', 'MS (GYNAE&OBS)', 'FCPS (GYNAE&OBS)', 'MBBS (KMC)', 'FCPS (INTERNAL MEDICINE)', 'MRCP', 'D.ORTHO (NITOR', 'DHAKA)', 'AO TRAUMA(FELLOW)', 'BDS (RMCH)', 'PGT (CNSERVATIVE DENTISTRY AND ENDODONTICS)', 'BDS (RMC)', 'DDS (BSMMU)', 'MS (SURGICAL ONCOLOGY', 'FCPS( SURGERY)', 'FMAS ( INDIA)', 'MS (OBS AND GYNAE)', 'PGT (BSMMU).', 'PHD (ONCOLOGY)', 'M. PHILL (BSMMU)', 'FANMB', 'B.SC (HONS)', 'MS(FOOD & NUTRITION', 'DU)', 'M.PHIL(NUTRITION & FOOD SCIENCE', 'INFS', \"B.SC HON'S. M.S. (NUTRITION SCIENCE)\", 'FCCP ( AMERICA)', 'FCPS ( MEDICINE)', 'CCD(BIRDEM)', 'BSC', 'MS (N&F TECHNOLOGY)', 'MS(GENARAL SURGERY)', 'MBBS(DHAKA)', 'PH.D. (JAPAN)', 'MD(GASTRO)', 'FCPS (CARDIOLOGY', ' THESIS)', 'FCPS (MEDICINE GOLD MEDALIST)', 'MCPS (MEDCINE)', 'FCPS (CARIDOLOGY)', 'FRCP (GLASGO)', 'M.SC FOOD AND NUTIRITION', 'MD (RADIOLOGY&IMAGING)', 'M-PHIL (RADIOLOGY&IMAGING)', 'FCPS (RADIOLOGY)', 'MS (PAEDIATRIC SURGERY)', 'FCPS (CHILD HAEMATOLOGY & ONCOLOGY)', 'B.S.C', 'M.S.C', 'INTERNSHIP IN CLINICAL NUTRITION (BIRDEM)', 'C.N.D (MIRDEM)', 'MBBS ( DHAKA)', 'MS.(BSMMU)', 'FCPS (MEDI)', 'MBBS (DHAKA). DCH (DHAKA CHILD HOSPITAL). BCS (HEALTH). FRSH (LONDON). MD (PEDIATRIC)', 'DCARD (BSMMU)', 'MS(CARDIOVASCULAR & THORACIC SURGERY)', 'FCPS ( CARDIOVASCULAR SURGERY )', 'MBBS (DHAKA MEDICAL COLLEGE)', 'FCPS (PAEDIATRIC NEUROLOGY & DEVELOPMENT)', 'MD (PAEDIATRICS)', 'MACP(USA)', 'MD(HEPATOLOGY)', 'DDV (DERMATOLOGY & VENEREOLOGY) (DMC)', 'PGT (CHEST DISEASE', ' GASTROLIVER)', 'DMU', 'MS (GYNAE & OBS)', 'DA', 'FIPM', 'FCPS (RHEUMATOLOGY)', 'DMU (BIRDEM)', 'DEM', 'MACE (BIRDEM)', 'MS (VASCULAR SURGERY)-BSMMU', 'FCPS (SUR)', 'MS (COLORECTAL SURGERY)', 'MRCS ED', '.DCN (ITALY)', 'MSC(LONDON)', 'MD(CHILD)', 'FELLOW', 'CHILD NUTRITON (BOSTON', ' USA)', 'PHD (CARD)', 'FSCAI (AMERICA)', 'FRCP (GLASSGOW)', 'MS(ORTHO)', 'MBBS. BCS', 'BSC (HONS)', 'MSC (FOOD & NUTRITION)', 'MBBS(DMC)', 'CCU (B.S.U)', 'EAORL-HNS (DIPLOMA)', 'MD (DERMATOLOGY & VD)', 'MS-(ORTHO)', 'AO FELLOW (INDIA)', 'WHO FELLOW ( INDONESIA)', 'BCS (HEALTH). MS-ORTHOPEDIC SURGERY', 'FICS(ORTHO)', 'BCS ( HEALTH)', 'FCPS ( GYNAECOLOGICAL ONCOLOGY )', 'MMED', 'IFAPA (USA)', 'DD', 'MBBS (DMC )', 'BCS ( HEALTH ) FCPS ( MEDICINE )', 'MD ( CARDIOLOGY )', 'FCPS (BSMMU)', 'MS (ORTHOPAEDIC SURGERY', 'NITOR)', 'FCPS (GOLD MEDALIST)', 'BSC (HEALTH)', 'FCPS (ENT) HEAD & NECK SURGERY', 'BDS (DHAKA DENTAL COLLEGE)', 'MS (ORAL & MAXILLOFACIAL SURGERY)', 'FCPS (GYNECOLOGY & OBS)', 'FCPS (PART-1)', 'DO (U-R)', 'MS (OPTH-UG)', 'FCPS (PART-2)', 'DTM&H (THAILAND)', 'MSC IN DIABETES(UK)', 'M.SC', 'DCH/IPPC', 'MS (ORAL & MAXILLOFACIAL SURGEON)', 'AO(TRAUMA)', 'FCPS(CHILD)', 'IPPN (CHILD NUTRITION-AUSTRALIA)', 'DCH-CHILD', 'CCCD', 'FCPS (OBS & GYNEACOLOGY)', 'FCPS (REPRODUCTIVE ENDOCRINOLOGY & INFERTILITY)', 'DMCH', 'FCPGS', 'DTCD (CHEST MEDICINE-CC)', 'BCPS', 'MD (BSMMU/PG HOSPITAL) DLO (ENT)', 'CCD-DIABETOLOGY (BIRDEM)', 'D-ORTHO (BSMMU/PG HOSPITAL)', 'MACP (AMERIKA)', 'D-CARD (CARDIOLOGY-CC)', 'CCD-DIABETIES (BIRDEM)', 'MS (UROLOGY COURSE)', 'PGPN (BOSTAN', ' USA) CCD (BIRDEM)', 'BCS (HEALTH) FCPS (GYNAE & OBS)', 'MS (CHILD SURGERY', 'BSMMU)', 'MRCS (ENGLAND)', 'MRCS (EDIN)', 'DMJ (DHAKA)', 'PGT (CHILD HEALTH)', 'DMU (ULTRA)', 'MS (ENT', 'FCPS (NOSE', ' EAR AND THROAT', ' FP)', 'PGT (SKIN & DV)', 'DVD (JAPAN', ' THAILAND)', 'DGO (GYNAE & OBS- BSMMU)', 'FCPS (GYNAE & OBS-FP)', 'PGT (DIABETIC & HORMONAL)', 'MS (GYNAE & OBS - FINAL PART)', 'PGT (ORTHO)', 'FCGP', 'MS (DHAKA)', 'MBBS (CEU)', 'DVD (BSMMU)', 'MD (PAEDIATRIC)', 'MD (KIDNEY', 'B. SC', 'M.SC. (FOOD AND NUTRITION)', 'MCPS (DERMA & VD)', 'GRADING COURSE( AFMI)', 'POSTGRADUATE DIPLOMA (UK)', 'FCPS (GYNAECOLOGY & OBSTETRICS)', 'BDS (RU)', 'MPH (NIPSOM)', 'MD(CARDIOLOGY)', 'FCPS (MEDICINE', 'MCPS (GYNAE AND OBS)', 'FCPS (GYNAE AND OBS)', 'PGT (JAPAN)', 'FCPS (OBS & GYNAECOLOGY)', 'DVD (DU)', 'MSC (SUB)', 'DCPD (ENGLAND)', 'MPH (CHILD HEALTH)', 'PGT (DERMATOLOGY & VENEREOLOGY)', 'PGT (ANAESTHESIA)', 'POST GRADUATE DIPLOMA IN CLINICAL COSMETOLOGY (INDIA)', 'FCPS (PLASTIC & RECONSTRUCTIVE SURGERY)', 'BCS HEALTH', 'FCPC (ENGLAND)', 'CCP (CANADA)', 'CCD (DIABETES)', 'DOC (SKIN', ' SEX', ' ALLERGY)', 'SMO (MEDICINE)', 'FCPS (PLASTIC AND RECONSTRUCTIVE SURGERY)', 'DDCM &V', 'MS (INFERTILITY)', 'MD (PED', ' NEUROLOGY)', 'FCPS (ENT & HEAD-NECK SURGERY)', 'FCPS(SURGERY)', 'MS(SURGICAL ONCOLOGY)', 'DD (JAPAN)', 'DD (THAILAND)', 'PHYSIOTHERAPY', 'MD (RADIATION ONCOLOGY)', 'FCPS (GYNAECOLOGY & OBS)', 'MD (CHEST-RESIDENT)', 'D-ORTHO (PONGU HOSPITAL)', 'PGT (SURGERY)', 'DVD (SKIN & DERMATOLOGY)', 'ACLS (BIRDEM)', 'PGT (CARDIOLOGY)', 'PGT (NEURO-MEDICINE)', 'MS (ORTHO-SURGERY', 'MBBS (DMU)', 'DIPLOMA IN MEDICAL ULTRASOUND (DMU)', 'MCPS (GYNAE&OBS)', 'MBBS (SHSMC)', 'PGT(MEDICINE)', 'FCPS (II)', 'MD (THESIS', ' NEPHROLOGY)', 'D-ORTHO (DU)', 'MS (ORTHOPEDIC SURGERY)', 'BDS (CMC)', 'MS (PROSTHODONTICS', 'DDS', 'FIN (NEPHROLOGY) INDIA', 'FCPS (PART - II)', 'DOMS', 'MPH (OPTH)', 'D-ORTHO (COURSE)', 'MBBS (SRILANKA)', 'MBBS (DAC)', 'DTM&H (BANGKOK)', 'DIP-IN-SAF & MGM.(GENEVA)', 'GAMC (UK)', 'FRSH (UK)', 'DCP (DU)', 'FCPS (HAEMATOLOGY)', 'FCPS (PAEDIATRICS', 'MD (NEONATAL & CHILD MEDICINE)', 'DGO (GYNAE)', 'MD (NEONATALOGY)', 'FCPS (OBS & GYNAE-ONCOLOGY)', 'MMMED', 'MCPS (FM)', 'MPH (DU)', 'FRSH (LONDON)', 'MRCP (MEDICINE- IRELAND)', 'D - CARD (CARDIOLOGY)', 'BCS (HEALTH) DE-CARD', 'DCH (BSMMU', ' PG HOSPITAL)', 'PH.D (PAED) (MOSCOW)', 'BCS (HEALTH) M', 'PHIL (CLINICAL PATHOLOGY)', 'MD (CHEST', 'MCPS (GYNAECOLOGY & OBS)', 'FCPS (GYNAECOLOGY CANCER)', 'MS (PAEDIATRIC SURGEON)', 'FCPS (SKIN & DERMATOLOGY', 'FCPS (FP)', 'FCPS (OBST & GYNAE)', 'FCP (PART-1)', 'BCS (HEALTH) FCPS', 'MRCOG (PART-1)', 'D.CARD (DU)', 'MS-ORTHO', 'TVS', 'D.ORTHO (NITOR)', 'MRCPI (GENERAL MEDICINE)', 'MESC', 'DDS (DENTAL SURGERY)', 'MS (RESIDENCY COURSE)', 'BCS (HEATH)', 'D.CARD', 'FCPS (MEDICINE-II)', 'FCPS (GYNA & OBS)', 'MBBS (DMC) FCPS', 'FCPS (NEUROLOGY FORCE). MRCP (PESEN)', 'FPMD (GASTROENTEROLOGY)', 'FCPS (ONCOLOGY)', 'MRCOG (LONDON)', 'DCH (PAEDIATRIC)', 'MD (PAEDIATRIC).', 'MS (GENERAL SURGERY', 'FCPS (GENERAL SURGERY', ' PART-I)', 'PGT (GS)', ' PART-II)', 'PGT MEDICINE (DMCAE)', 'MBBS (IBRAHIM MEDICAL COLLEGE)', 'PGT (GYNAE & OBS.)', 'DMU (SONOLOGIST)', 'MSC (FOOD & NUTRITION', ' DU)', 'PGT IN NUTRITION & DIET THERAPY (DCC)', 'CND (BIRDEM)', 'MPH (NSU)', 'PGT (ORAL & MAXILLOFACIAL SURGERY)', 'PGT (CONSERVATIVE SURGERY)', 'PGT (PG HOSPITAL)', 'FCPS (FINAL PART-BSMMU)', 'MPH (USA)', 'FCPS (IN COURSE)', 'MSC (NUTRITION) DU', 'MSC(TROPICAL & INFECTIOUS DISEASES)', 'MD(ENDOCRINOLOGY & METABOLISM)', 'MD(INTERNAL MEDICINE)', 'FCPS(RHEUMATOLOGY)', 'MD (HEPATOLOGY', 'FCPS (GYNAE & OBS.)', 'MS (OBS. & GYNAE-BSMMU)', 'DGO (GYNAE & OBS.)', 'FCPS (NEPHROLOGY-FP)', 'MSC IN NEPHROLOGY (UK)', 'MPHIL (PSM)', 'PGT (ENT)', 'DFM (BSMMU)', 'FCPS (PAEDIATRIC)', 'PHD (PHYSIO)', 'MS (PHYSIO', ' INDIA)', 'BSPT', 'ADIE (DU)- RESOURCE PERSON', 'PGD (MEDICINE', ' BELGIUM)', 'PGT (MULLIGAN', 'FCPS (OBS & GYNAE) DGO', 'FCPS(OBGYN)', 'MS(GYNAE & OBSTETRICS)', 'FCPS (GASTROENTEROLOGY)', 'MS (GY & OBS)', 'BDS (DDC)', 'MS (BSMMU)', 'MS (COURSE', ' DMCH)', 'MRCP PART 2 (UK)', 'PGT (PAEDIATRICS)', 'MD (BIO)', 'PGT (MEDICINE & CARDIO)', 'MBBS (RU)', 'PGT (GYNAE & OBS)', 'CMU (USG)', 'FCPS (GYNAE & OBS', 'CCD (BMJ/FORTIS', 'FMD (FAMILY MEDICINE)', 'FCGP (FAMILY MEDICINE)', 'DOC (DERMATOLOGY)', 'D-ORTHO (ORTHO-SURGERY)', 'MPH (BELGIUM)', 'DGO (GYNAE & OBS)', 'FCGP (DHAKA)', 'MS ( PEDIATRIC SURGERY)', 'MD(DERMATOLOGY', 'PGT (CONSER)', 'DDCH', 'FCPS (PART-II)', 'D-ORTHO (ORTHO SURGERY', 'MS (ORTHOPAEDIC)', 'EPID (AUSTRALIA)', 'FCPS (INFECTIOUS DISEASES)', 'FCPS (PHYSICAL MEDICINE', ' FP) PGT (PHYSICAL MEDICINE AND REHABILITATION)', 'POST GRADUATE TRAINING IN MEDICINE', 'MBBS (DANDONG MEDICAL COLLEGE', ' CHINA)', 'BDS (RAJ)', 'PGT (CONSERVATIVE DENTISTRY)', 'DVD (COURSE)', 'MCGP', 'DLO (ENT', 'MBBS (AFMC', 'A.O TRAUMA-BASIC AND ADVANCE (INDIA)', 'AND FCPS (ENT)', 'MD (PED)', 'MD (NEONATOLOGY)', 'MD (PHYSICAL MEDICINE REHABILITATION)', 'FCPS (ORAL & MAXILOFACIAL SURGRY)', 'MD(CHEST DISEASES)', 'FCPS(CHEST DISEASES)', 'FCPS (DERMATOLOGY & VENEREOLOGY)', 'FCPS (BD)', 'FCPS (PAK)', 'FRCP (EDIN', ' GLASGOW', ' IRELAND)', 'DM (UK)', 'MPHIL (PSYCHIATRY)', 'MS(UROLOGY)', 'MS(CVTS)', 'PGT (CHILD)', 'MRCS (ENT)', 'DLO (UK)', 'FRCS (EDINBURGH)', 'MBBS (SMC)', 'MCTM (THAILAND)', 'FCPS (GYNAECOLOGICAL ONCOLOGY)', 'MD (CARDIOLOGY) (NICVD)', 'MS (CARDIOVUSCULAR & THORACIC SURGERY)', 'CHD (USA)', 'TSTD (THAILAND)', 'C-ULTRA', 'MBBS (RPMC)', 'M-PHIL (BSMMU)', 'MD (CARDIOLOGY', 'MPH (MATERNAL & CHILD HEALTH)', 'DVD (PG)', 'BDS (SWC)', 'FCPS (SURGERY', 'MS (NEUROSURGERY-COURSE)', 'PHD (PSYCHIATRY)', 'MS(THORACIC SURGERY)', 'MCPS(SURGERY)', 'FICS(USA)', 'FACC', 'PGT (NEONATAL)', 'DCH (PAEDIATRICS)', ' BARDEM)', ' ON COURSE)', 'CMU (SONOLOGIST)', 'MPH (PUBLIC HEALTH)', 'ADVANCED DIPLOMA IN MEDICAL ULTRASOUND. FORMERLY (BIRDEM)', 'MCPS (RT)', 'FWHO (INDIA)', 'FIEA (SINGAPORE', 'ENS (GERMANY)', 'MD (PHASE-B)', 'DEM (ENDOCRINOLOGY)', 'MRCP (EDIN)', 'AFMC', 'MBBS(DU)', 'MRCOG (UK)', 'MBBS MS (GENERAL SURGERY', 'FICS (AMERICA)', 'IFHNOS (MSKCC-USA)', 'DCH (NEONATOLOGY & PEDIATRICS SPECIALIST)', 'MBBS (1ST POSITION) GOLD MEDALIST', 'DTCD (DU)', 'DEM(BIRDEM)', 'MD(ENDOCRINOLOGY)', 'MS(ENT)', 'PGT (GYNAE)', 'C-ULTRA (DHAKA)', 'C-ENDOS (BARDEM)', 'MPH (REPRODUCTIVE HEALTH)', 'DGO (DU)', 'DTCD (THORACOLOGY)', 'FACS (US)', 'AFCPS (GYNAECOLOGY)', 'DO(DU)', 'FCPS(EYE)', 'DGO(OBGYN)', 'MBBS(SSMC)', 'FCPS(ENT)', 'MD(CRITICAL CARE MEDICINE)', 'MD(NEUROLOGY)', 'MD(NEURO MEDICINE)', 'MS(PEDIATRIC SURGERY)', 'MD(DERMATOLOGY)', 'FRCP(GLASGOW)', 'FAAD(USA)', 'DDV(DU)', 'DD(THAILAND)', 'MRCS(UK)', 'MS(COLORECTAL SURGERY)', 'FCPS(PLASTIC SURGERY)', 'MS(THESIS)', 'PHD (UROLOGY)', 'MRCS (EDIN', 'MD (SEX & SKIN)', 'FRCP(UK)', 'MCP(AMERICA)', 'OGT &G-MED(AFMI)', 'MS(ORTHO SURGERY)', 'MD(NEPHROLOGY)', 'FCPS(OBS & GYNAE)', 'FCPS(HEMATOLOGY)', 'M.PHIL (RADIOLOGY & IMAGING)', 'MD(RADIOLOGY & IMAGING)', 'MD (RADIOTHERAPY)', 'D-CARD (DUKE)', 'FCPS (PK) FRCP (UK)', 'WHO FELLOW (USA)', 'FELLOW IN NUCLEAR CARDIOLOGY', 'FKIT (KOREA)', 'FCPS (ORTHO SURGERY)', 'PHD (NEUROSURGERY)', 'MS IN ENT', 'FICS (USA)', 'MHPED (AU)', 'FCPS (PK)', 'MD (INTERNAL MEDICINE) BSMMU', 'MRCPS (GLASG)', 'IVF&ICSI (THAILAND)', 'MSC (SINGAPORE)', 'MD (DU)', 'PHD (RESEARCH)', 'MCPS (PATHOLOGY)', 'FIGO', 'MPHIL MSC (RHEUMATOLOGY) PHD', 'MBBS.', 'DD (DHAKA)', 'AEL', 'DTAE', 'AESD&V', 'AND FAAD (USA)', 'DD (BANGKOK)', 'DPD (UK)', 'AND FRCS (UK)', 'FRCSS (GLASGOW', 'FCPS(PEDIATRICS)', 'MD(PEDIATRIC GASTROENTEROLOGY)', 'FCPS(ANESTHESIOLOGY)', 'FACC(USA)', 'MD (CHILD HEALTH', 'DCH (GLASGOW)', 'MRCP (IRELAND)', 'MD (INDIA)', 'MD (OBS & GYNAE) INDIA', 'FTM & H (LONDON)', 'MS (FOOD AND NUTRITION)', 'MPH (COMMUNITY NUTRITION)', 'FCPS (SKIN)', 'MS PHASE- B (PLASTIC SURGERY)', 'MCPS FCPS', 'MCPS(MEDICINE)', 'MBBS(DCH)', 'MD(NEONATOLOGY)', 'FELLOW NEONATOLOGY (SINGAPORE)', 'MBBS ( CU )', 'D OPHTH ( BSMMU )', 'DNM (BSMMU)', 'DMU (BSU)', 'DTCD (DHAKA UNIVERSITY)', 'MS (OPHTHALMOLOGY)', 'DEM(DU)', 'FAACE(USA)', 'FELLOW NEONATOLOGY (BRITISH)', 'BDS(DU)', 'PGT(GENERAL DENTISTRY)', 'FCGP(FAMILY MEDICINE)', 'CCD(DIABETOLOGY', ' BIRDEM)', 'MD (ANESTHESIA)', 'DA (DU)', 'B.SC (FOOD & NUTRITION SCIENCE)', 'MSC (FOOD & NUTRITION SCIENCE)', 'ALPIDE HUMAN SCIENCE (DHAKA UNIVERSITY)', 'DA (ANAESTHESIA', ' PAIN AND ICU SPECIALIST)', 'PGT (CRITICAL CARE MEDICINE)', 'PGT (PSYCHIATRY)', 'FCPS (BLOOD DISORDERS)', 'MRCGP (UK)', 'DFSRH (UK)', 'DRCOG (UK)', 'B.SC', 'PHYSICAL THERAPY', 'BSC (UK)', 'CIMA (UK)', 'BA HON. (UK)', 'MCPS(EYE)', 'MS(EYE)', 'FCRS(SNEC', 'FCPS(CARDIOLOGY)', 'MD(PULMONOLOGY)', 'MRCPS(GLASGOW)', 'MRCP(PACES)(USA)', 'MD(RHEUMATOLOGY)', 'MBBS(CMC)', 'MD(PSYCHIATRY)', 'DMRD', 'JSPS', 'FELLOW (JAPAN)', 'MBBS(SZMC)', 'FCPS (ENT & HNS)', 'MRCP UK (MEDICINE)', 'PGT (NEUROMEDICINE)', 'MCPS (GYNE & OBS)', 'MRCOG (PART- 2 )', 'MS (GYNE & OBS)', 'DEPLOMA IN MEDICAL ULTRASOUND', 'PGT (GYNE & OBS)', 'FCCS (INDIA)', 'ACMU (ULTRA)', 'MCGP (MEDICINE)', 'MD(HEMATOLOGY)', 'D-CARD(BSMMU)', 'DA(ANESTHESIA)', 'MCPS(OBS & GYNAE)', 'DGO(OBS & GYNAE)', 'CCD (DIABETOLOGY)', 'PGT (MEDICINE & NEPHROLGY)', 'PGT (PEDIATRIC)', 'DVD (SKIN & SEX)', 'PH.D', 'MSC (NUTRITION)', 'FCCS (USA)', 'FCPS(GYNAE & OBS)', 'BCS(HEALTH) DGO', 'FCPS(GYNAE)', 'MS(PLASTIC SURGERY)', 'FELLOWSHIP(INDIA)', 'M.PHIL (PSYCHIATRY)', 'FCPS (ORTHO)', 'MD (JAPAN)', 'B.SC (FOOD & NUTRITION)', 'DCH(ICMH', ' BSMMU) CCD(BIRDEM)', 'MD(SKIN & SEX)', 'GOLD MEDALIST', 'MD(DHERMATOLOGY & VENEROLOGY)', 'MS(ORTHO-SURGERY)', 'DCO(CU)', 'FICO(UK)', 'MS(OPHTH)', 'FICD(AMERICA)', 'PHD(JAPAN)', 'PGD(JAPAN)', 'FRSPH(LONDON)', 'FCPS(FINAL PART)', 'FCPS(PHYSICAL MEDICINE)', 'MD (NEPHROLOGY) BSMMU', 'MBBS (AFMC)', 'MD (PULMONOLOGY)', 'FCPS (OBS AND GYNECOLOGY)', 'FCPS (GYNAE & OPS)', 'DGO (BSMMU) PGT (GYNAE AND OBS)', 'FCPS (GYANE & OBST)', 'FCPS (GYANE & OBS)', 'MD (USSR)', 'ACGS (USSR)', 'FCPS (FEAC)', 'DO (BSMMU)', 'FCPS (P-II)', 'MD (ENDOCRINOLOGY) BIRDEM', 'BSMMU (EX-PG HOSPITAL)', 'FCPS (FINAL PART)', 'DIPLOMA IN ORAL & MAXILLOFACIAL SURGERY', 'FCPS (OMS)', 'BDS (SHAHEED SUHRAWARDY MEDICAL COLLEGE)', 'MS (CHILD SURGERY)', 'D-CARD (GERMANY)', 'MS (PAED. SURGURY)', 'PHD (UROLOGY) JAPAN', 'ACT (JAPAN)', 'DGO (DHAKA)', 'PGC (RAWAL PINDI', ' PAKISTAN)', 'MD (PHO)', 'MD (COLOMBO)', 'DIPLOMA IN MEDICAL ULTRASOUND', 'MPHIL (ONCOLOGY)', 'MS (PEDI. SURGERY)', 'BPT (DU)', 'RPT', 'CRP', 'FRCS (EDIN', 'MS (CV&TS)', 'DDV (SKIN & VENEREAL DISEASES)', 'DGO (PG HOSPITAL)', 'FCPS (GYNECOLOGY AND OBSTETRICS)', 'MBBS BCS', 'MCPS (RADIOTHERAPY)', 'FCPS (SURGERY) MRCS (EDINBURGH', 'FCPS (SURGERY) MS (UROLOGY)', 'MRCS (EDINBURGH)', 'MBBS (MMC)', 'FCPS (OBSTETRICS & GYNAECOLOGY)', 'FCPS (MEDICINE )', 'DIP IN ASTHMA (UK)', 'MSC IN GASTROENTEROLOGY (LONDON', 'MS (VASCULAR SURGERY)', 'MCPS ( ANESTHESIOLOGY)', 'MD (CRITICAL CARE)', 'FCPS (CARD)', 'MSC (DIABETES', ' LONDON)', 'PHD (NEUROMEDICINE', ' ITALY)', 'MCPS (PEDIATRIC)', 'FIAOG (INDIA)', 'AND DFFP (GLASGOW)', 'MBSS; FCPS; MCPS; MD', 'DIPLOMA IN CARDIOLOGY & MRCP (UK)', 'MBBS; MCPS (PSYCHIATRY)', 'FASN', 'MBBS; MD(NEUROLOGY); MAAN(USA)', 'MBBS; FCPS (MEDCINE)', 'MS (BRAIN & SPINE SURGEON)', 'MBBS; FCPS(HEMATOLOGY)', 'BSC (FOOD & NUTRITION)', 'CCD (ADVANCED DIETETICS)', 'PHD (FELLOW)', 'SSC-MED (INTERNAL MEDICINE)', 'FCPS (OBS-GYNEA)', 'DMED (UK)', 'A.O BASIC', 'FMAS & IVF', 'AND ADVANCE IVF COURSE', 'MCPS (CLINICAL PATH)', 'MPHIL (PATH)', 'MD (BIOCHEMISTRY)', 'DCH (CMC)', 'MRCPCH (UK)', 'DIPLOMA IN CHILD HEALTH', 'RCPCH', 'MPHIL (RADIOLOGY & IMAGING)', 'MD (RADIOLOGY & IMAGING)', 'MCPS (SURGERY', 'MS (CHEST)', 'MCPS (OBSTETRICS', ' GYNECOLOGY)', 'FACS(USA)', 'DMAS (COLORECTAL SURGERY- INDIA)', 'FCPS & DIP-MAS', 'MD (GASTEROENTEROLOGY)', 'MBBS- CMCH', 'DLO-BSMMU', 'MCPS (ENT)-BCPS', 'MS(ENT)-DMH', 'PHD (ENT)', 'FRCP (GLASSGO)', 'MRCP (P-II)', 'MBGPH', 'FRSPH (UK)', 'MBBS (RAJ)', 'FCPS (LAST PART)', 'FCPS (GYNAE & OBS- PART II)', 'MRCOG- ENGLAND (PART III)', 'DEM- (ENDOCRINOLOGY & METABOLISM) ADVANCED TRAINING ON ENDOCRINOLOGY (SINGAPORE)', 'D-ORTHO (DMC)', 'AO BASIC (TRAUMA)', 'MSC- CLINICAL DERMATOLOGY (UK)', 'DD-DERMATOLOGY (BANGKOK)', 'MD (ANESTHESIOLOGY)', 'MS (OTOLARYNGOLOGY)', 'FRSTM (UK)', 'FCPS (MEDICINE) CCD (BIRDEM)', 'DPM (DU)', 'CERTIFIED IN DIABETOLOGY (BIRDEM)', 'FCCS (CRITICAL CARE MEDICINE)', 'MSC (FOOD AND NUTRITION) (DU)', 'PGT (WHO)', 'CERTIFIED TRAINEE (IDF)', 'MICRO-EAR SURGERY (BOMBAY)', 'FESS (DELHI)', 'FCPS(BD)', 'FCPS(PAK)', 'BCS (BCS)', 'FICMCH', 'DHR QUALIFIED (UK)', 'FCPS (OBS. & GYNAE)', 'MS (OBS. & GYNAE)', 'MD (CHILD & ADOLESCENT PSYCHIATRY)', ' MCPS)', 'DGO ( AUSTRIA )', 'BPT (NITOR-DU)', 'MPS (DU)', 'PGD (SPORTS SCIENCE', ' BKSP)', 'BSC (HONS.)', 'MSC (FOOD AND NUTRITION SCIENCE', 'M.PHIL (NUTRITION AND FOOD SCIENCE ', 'B. SC (FOOD AND NUTRITION', ' KU)', 'PGT (INTERNAL MEDICINE)', 'DIPLOMA IN INTERNAL MEDICINE (USA)', 'AND FELLOW IN GYNE ONCOLOGY (UK & SG)', 'FRCP (MEDICINE)', 'WHO FELLOW (SINGAPORE)', 'FCPS (MEDICINE) MRCP (UK)', 'MSC IN DERMATOLOGY (UK)', 'MS (ORTHO.)', 'AST (JAPAN)', 'PGT (NEUROSURGERY)', 'M-CARD (COURSE)', 'FCPS (NEONATOLOGY)', 'MD (CHILD', ' THESIS PART)', 'FCPS (CHILD', 'DMUD', 'MD (CHILD GASTROENTEROLOGY)', 'DIP', 'MIS.', 'FRCS (GLASGOW)', 'SAGES (USA)', 'MD (USA)', 'FELLOW IN UROLOGY (USA)', 'CCD (BIRDEM )', 'DMU (ADVANCED)', 'FCPS (ANESTHESIOLOGY)', 'FCPS (PART-2) (MEDICINE)', 'DD (THAILAND/JAPAN)', 'BCS (HEALTH) MS (PRACTICAL AND RECONSTRUCTIVE SURGERY)', 'MS (CHILD)', 'D. ORTHO', 'MD (NEONATAL)', 'DTM (SWEDEN)', 'DEM (BSMMU)', 'MD (GASTRO-ENTEROLOGY)', ' PACES)', 'FCPS (MEDICINE LAST PART)', 'FCPS (MEDICINE PART-2)', 'MCPS (ANAESTHESIA)', 'FICO (UK)', 'MRCS ED. (UK)', 'FRCS ED. (UK)', 'MBBS (DMCH)', 'FCPS (GYNAE & OBS) - 2 (BD)', 'MRCOG - 2 (LONDON)', 'PGT (CHILD DISEASES) PGT (ENT)', 'PGT (PAEDIATRIC)', 'BCS (HEALTH) DCH', 'MCPS(PEDIATRICS)', 'MCPS (GYNAE)', 'MPH (OEH)', 'MS (HEPATOBILIARY SURGERY)', 'MS (ORTHOPEDICS SURGERY)', 'D-PAD (AUSTRIA)', 'DCH (UK)', 'PGC IN CHILD', 'DPH (DU)', 'MS (CARDIO VASCULAR & THORASIC)', 'MACE', 'PH.D(RUSSIA)', 'DO(EYE)', 'FICO (EYE)', 'M.PHIL IN CLINICAL PSYCHOLOGY', 'BSC (PSYCHOLOGY)', 'MSC (PSYCHOLOGY)', 'MD(GASTROENTEROLOGY)', 'DO (EYE)', 'DEM (ENDOCRINOLOGY-BIRDEM)', 'MS (MINIMAL ACCESS SURGERY', 'MD (EM', 'CPR (DMCH)', 'ISP (TMDU)', 'DV (BANGKOK)', 'EOC (PHILIPPINES)', 'MBBS. BCS( HEALTH). MS (UROLOGY). FACS (USA)', 'FCPS (USA)', 'FCPS. DO', 'MS (OPHTH)', 'ICO (UK)', 'FRCS (EDINBURG)', 'FCPS. DCO. FICO', 'MS (OPH.)', 'ICO (LONDON)', 'FCPS (OPH)', 'FVRS (RETINA)', 'FRCS (EDINBURGH). MS (OPHTH). FCPS (OPHTH). DCEH (LONDON)', 'ICO', 'FRCS (EDINBURGH) FRCS (GLASGOW)', 'DO (OPH)', 'FRCS (GLASS.UK)', 'DDV (DERMATOLOGY & VENEREOLOGY)', 'ARCS (ENGLAND)', 'FCPS ( ORAL AND MAXILLOFACIAL SURGERY)', 'FRSH', 'MD (PEDIATRICS GASTROENTEROLOGY)', 'MS (ORTHO) CCD (BIRDEM)', 'MRCS (GLASG)', 'FCPS-1', 'DIPLOMA', 'MD (PULMONOLOGY - PHASE B)', 'ENS( GERMANY)', 'PGPN (BOSTON', 'MD (HEPATO)', 'FRCS', 'PGT (ENT & HNS)', 'MD (PAED CARD)', 'FCPS( MEDICINE)', 'MBBS (SHSMCH)', 'FOS (NUH', 'MBBS. MS (ORTHO-SURGERY)', 'MICS', 'FRCP (GLASGOW-UK)', 'MS (DISABILITY & REHABILITATION)', 'BSPT(DU) NITOR', 'MSC (CLINICAL DERMATOLOGY)', 'MS (ORTHOPAEDICS) FELLOWSHIP IN ARTHROSCOPY AND ARTHROPLASTY (INDIA)', 'FCPS (MEDICINE) FCPS (NEPHROLOGY)', 'POST-GRADUATE AWARD IN A. R. T (UK)', 'MBBS ( DHAKA )', 'RCP & SI ( DABIN )', 'MSC ( IN.D.) LONDON', 'FRCP ( IRELAND )', \"B.SC (HON'S)\", 'M.SC (NUTRITION AND FOOD SCIENCE)', 'MRCP (PART- 1)', 'PGT (CHEST & ORTHO)', 'MCPS (OBSTETRICS AND GYNAECOLOGY)', 'FCPS (OBSTETRICS AND GYNAECOLOGY)', 'DA (BSMMU)', 'MCCP (UK)', 'DOC (SKIN)', 'B. SC (HONS)', 'M. SC (FOOD AND NUTRITION)', 'PGCC (NIN)', 'ICMR', 'DCH (DU) PGPN (PAEDIATRIC NUTRITION)', 'MD (THESIS)', 'CCD (BARDEM)', 'FCPS (MEDICINE - GOLD MEDALIST)', 'MHPED', 'FRCP (GLASG)', 'PGT (ICDDRB)', 'MD CLINICAL & INTERVENTIONAL PEDIATRIC CARDIOLOGIST', 'FCPS (GYNE)', 'FCPS (INFERLITY)', 'MBBS (BOARD STAND)', 'FMAS (INDIA).', 'M.SC (FOOD & NUTRITION)', 'MPH (BRAC UNIVERSITY)', 'D.ORTH (ORTHOPAEDICS)', 'BCS (HEALTH) MS (NEUROSURGERY)', 'MS (ORTHODONTICS)', 'MDS', 'MTM', 'FCPS (PEDIATRIC GASTRO)', 'MRCPCH (CLINICAL)(UK)', 'MD (PAEDIATRIC HAEMATOLOGY AND ONCOLOGY)', 'DMU (AIMS)', 'MSC (NUTRITION & FOOD)', 'PGT (ORAL AND MAXILLOFACIAL SURGERY)', 'PGT (CONSERVATIVE DENTISTY)', 'PGT (ORTHODONTICS)', 'TDO (JAPAN)', 'MPH (PIU)', 'PGT (CONSERVATIVE)', 'PGT (ORAL SURGERY', 'BPT', 'MS (PHYSIOTHERAPY)', 'MS (BRAIN & SPINE)', 'MCPS (EYE)', 'PGT (SKIN & SEX)', 'DCH (CHILD)', 'BSPT (DU)', 'MS (ORTHO SURGERY', ' NITOR)', 'MBBS ( DU )', 'PH.D (SURGERY)', 'MCPS (OBS & GYNE)', 'MS (HEPATOBILIARY AND PANCREATIC SURGERY)', 'DCP (BSMMU)', 'BCS (HEATLT)', 'MBBS( CMU)', 'ICU', 'MRCS (GLASSGROW)', 'DMRT (RADIATION ONCOLOGY )', 'D- ORTHO', 'FIPM (INDIA)', 'MD (CARDIOLOGY).', 'FCPS (GYNE&OBS)', 'MCPS (GYNE&OBS)', 'MRCM', 'RCM (LONDON-UK)', 'MD ( PEDIATRIC NEUROLOGY)', 'FCPS (OBS & GYNECOLOGY)', 'MPH (PUBLIC HEALTH & HOSPITAL MANAGEMENT)', 'M.S (FOOD & NUTRITION). BSC (FOOD & NUTRITION)', 'M.SC (FOOD & NUTRITION', 'TDM (INDIA)', 'CPD (INDIA)', 'MRCP (PART-1)', 'D- ECZAMA', 'PGT(MEDICINE', ' GASTROENTEROLOGY)', 'MD (COURSE)', 'IDM (FRANCE)', 'CCCD (CARDIOLOGY)', 'MPH (EPAI)', 'MCCP (CHEST DISEASE)', 'MD (THESIS PART', 'DO (OPHTHALMOLOGY)', 'MS (OPTH)', 'DO (B.S.M.M.U)', 'MD (UROLOGY)', 'MBBS (SOMS)', 'FCPS (BCGP)', 'DIABETOLOGIST (BOSTON UNIVERSITY', 'PGDM U (BOU)', 'CMU (ULTRASONOGRAPHY)', 'DOC (SKIN & DV)', 'DVD (DERMATOLOGY)', 'DLP (DIABETOLOGY)', 'DDV (DERMATOLOGIST)', 'CCD (DIABETOLOGIST-BARDEM)', 'MS (HEPATOBILIARY)', 'MS (PEDIATRIC SURGEON)', 'MD (PAEDIATRIC GASTRO)', 'FCPS (PAEDIATRIC FP)', 'FCPS (OBGYN/FP-BSMMU)', 'MS (OBS & GYNECOLOGY)', 'MD (CARD)', 'DTM&H (LIVERPOOL UNIVERSITY', 'UK)', 'MDMR', 'MCPS ( MED. )', 'D - CARD', 'MBBS ( SUST)', 'D.O (NIOH)', 'MS (EYE-BSMMU)', 'M.PHIL (PATH)', 'MD (PATH)', 'D-ORTHO MEDICINE (BELGIUM)', 'BPT (DHAKA)', 'MPH (ASAU)', 'CMT (INDIA)', 'MCCONNELL APROS (LBP)', 'PGT (OMS', ' DMK)', 'FICD (AMERICA)', 'MBBS (DMH)', 'FCPS (SKIN SEX)', 'FCPS (INFANT)', 'A', 'O (BASIC TRAUMA)', 'D - ORTHO (BSMMU)', 'DGO (GYN & OBS)', 'FCPS (GYN & OBS FINAL)', 'MS (GYN & OBS)', 'MS (NEURO SURGEON)', 'FRCS (EDINBURGH', 'MRCPCH (PART-I)', 'MCPS (SKIN & SEXUAL)', 'DLO (DMC)', 'IWP (THROAT)', 'IWR (NOSE)', 'MPHIL (ON COURSE)', 'PGT (PODIODENTRICS & OMS)', 'DDV (SKIN)', 'MS (OBSTETRICS AND GYNAECOLOGY)', 'MRCS (EDINE)', 'DGHS (DHAKA)', 'UK). MACP (USA)', 'MMCP', 'DO (DHAKA)', 'MBBS (SIR SALIMULLAH MEDICAL COLLEGE & HOSPITAL)', 'FOTS (HONG KONG)', 'DTMH (LONDON)', 'MBBS MD (CARDIOLOGY)', 'FCPS (NEUROLOGY', 'MS (ENT BSMMU)', 'DMU (SONOLOGY)', 'FCGP (FMED)', 'FELO (WHO)', 'FCPS (MEDICINE FINAL PART)', 'PGT (ANESTHESIOLOGY)', 'DCH (PAE.)', 'D-CARD (UK)', 'M-CARD (EUROPE)', 'NST FELLOW (MEDICINE)', 'FASE (EU)', 'FCPS (ORTHODONTICS)', 'ADMF', 'HONORARY TRAINING (ANESTHESIA)', 'PGT (ANESTHESIA)', 'DCH (AUSTRALIA)', 'MD ( PEDIATRIC)', 'MCPS (CLIN PATH)', 'DCP (CLIN PATH)', 'FCPS (MICROBIOLOGY)', 'FCPS(PART 2)', 'BCS (HEALTH) DTCD', 'ADMS (CANADA)', 'MSC (FOOD AND NUTRITION) - MASTER OF MEDICAL SCIENCE.', 'MCPS (DENTISTRY)', 'MPH (STATE UNIVERSITY)', 'FCPS (PROSTHODONTICS)', 'PGT(ORAL & MAXILLOFACIAL SURGERY)', 'CCU', 'DMRD (DU)', 'PGT (GYNE OBS)', 'PGT (DDC)', 'MRCP (UK) MEDICINE', 'MD (CARDIOLOGY) THESIS', 'NITOR (PONGU HOSPITAL)', 'TRAINED ON MANUAL THERAPY (CMTB)', 'EMPH (MATERNAL & CHILD HEALTH)', 'DGO (CURSE)', 'DMU (OBS & GYNAE)', 'MCPS (PAEDIATRICS)', 'THESIS PART', 'BCS (HEALTH) MS (ENT)', 'DCH (DUBLIN)', 'MBBS (DMC) MCPS', 'MBBS (SSMC', 'DTCD (BSMMU)', 'MD (CHEST DISEASES', 'BCS (HEALTH) DLO', 'MSC (DERMATOLOGY', 'BPT (BMC)', 'MPH (SUB)', 'CMTB (BIHS)', 'CSP (BISS)', 'PGT(MUSCULOSKELETAL)', 'PHD (SURGERY)', 'D.ORTHO ( PG)', 'A.O. SPINE MEMBER ( SWITZARLAND)', 'FCPS (GYNAE & OBS )', 'MS(GYNAE & OBS)', 'FCPS ( GYNAE & OBS)', 'M.SC (FOOD & NUTRITION SCIENCE)', 'MAMS (VIENA)', 'CCD (UK)', 'BCS (HALTH )', 'BCS( HEALTH )', 'FCPS(SKIN & SEX)', 'MCPS (PEDIATRIC )', 'MD (PEDIATRIC NEPHROLOGY)', 'ICPPN (SINGAPORE)', 'FCPS PART-2 (NEWBORN)', 'MD (PAED)', 'PH.D (DU)', 'MD (CARDIOLOGIST)', 'AMACC (USA)', 'MD (REDIATION ONCOLOGY)', 'FELLOW ORBIT & OCULOPLASTY', 'FICO (ENGLAND)', 'FCPS (EYE) MRCS (EYE) (UK)', 'DO (D.U.)', 'PGT (OMFS)', 'M. PHIL (PATH)', 'PGT (ORBIS)', 'MPH (C.OPHTH.)', 'MRCS (FINAL PART)', 'PH.D (JAPAN)', 'M.PHILL (ONCOLOGY)', 'MSC (CLINICAL PSYCHOLOGY)', 'M.S. (CLINICAL PSYCHOLOGIST)', 'M.S. (SCHOOL PSYCHOLOGIST)', 'MD ( PSYCHIATRY)', 'MSC (ORTHO)', 'D. ORTHO(AUSTRIA)', 'MACG', 'FACP', 'MD (ENDCRINOLOGY)', 'DMUD (USTC)', 'C.ULTRA (BSU). JUREI (USA)', 'DTM (DUBLIN)', 'DPP (PSYCHIATRY)', 'JUREI (USA)', 'FCPS IN SURGERY', 'FMAS IN INDIA', 'MBBS (KARACHI)', 'RCPS (IRELAND)', 'DCH (LONDON)', 'MRCP (IRE)', 'M. PHIL', 'MD (GASTROLOGY)', 'PGC', 'FCPS (PHYSICAL MEDICINE AND REHABILITATION)', 'MBBS. MPHIL (BSMMU)', 'IAEA FELLOW TRAINING (SOUTH KOREA)', 'BCS. D- ORTHO', 'PGT(JAPAN)', 'CCD. MPH', 'C-ALTRA', 'MD ( NEURO)', 'PGT (DMU)', 'PH.D. (NEUROSURGERY)', 'PGT (DMS)', 'MRSH', 'DPH (LONDON)', 'CHDC (LONDON)', 'FRSTMH (UK)', 'MBBS (LONDON)', 'CLINICAL ATTACHMENT', 'QUEEN ELIZABETH HOSPITAL (LONDON)', 'DGO (OBS & GYNAECOLOGY)', 'D-OPHTHALMOLOGY', 'DDV (DMC)', 'FPOA', 'DEM (DU)', 'BCS (HEALTH) MD (NEPHROLOGY)', 'MD (CHESTOLOGY)', 'MD (MEDICAL ONCOLOGY)', 'DTM & H (LONDON)', 'FCPS (GENERAL SURGERY) MS (PLASTIC SURGERY)', 'FMAS (DELHI)', 'PDF (JAPAN)', 'GOLD MEDAL (BD)', 'DCH (KSA)', 'ECHO-CHD (ESC-EACVI/APEC)', 'MBBS. FCPS (PAEDIATRICS)', 'FCPS (OBS & GYNE) FCPS (FETO-MATERNAL MEDICINE)', 'BCS (HEALTH) FCPS (OBS & GYNAE)', 'FCPS (OBS AND GYNAE) FCPS (REPRODUCTIVE ENDOCRINOLOGY & INFERTILITY)', 'FCPS (GYNAECOLOGICAL ONCOLOGY) MS (OBS & GYNAE)', 'BCS (HEALTH) FCPS (GYNE & OBS) FCPS (PHYTO-MATERNAL MEDICINE)', 'FCPS (GYNECOLOGY & OBSTETRICS)', 'MD (BSMMU)', 'MD (CRITICAL CARE MEDICINE)', 'MD (CHESTOLOGY) MACP (USA)', 'MD (NEUROSURGERY)', 'MS( ORTHODONTICS) BSSMU', 'FCPS (FETO-MATERNAL MEDICINE)', 'MMAD (GOLD MEDALIST)', 'FIAGIS (INDIA)', 'BCS (HELTH)', 'D-CARD(CARDIOLOGY)', 'MD (R&I)', 'FCPS (SPECIALIST PAIN', ' PARALYSIS & RHEUMATIC DISEASES)', 'FRCP (EDINBURGH)', 'MRCR (UK)', 'MRCPE', 'EDIC (BELGIUM)', 'MS (FELLOWSHIP IN GENERAL SURGERY & MS IN SURGICAL ONCOLOGY)', 'MSC CRITICAL CARE (U. EDIN)', 'F. GASTRO (SHANGHAI)', 'B.SC (FOOD & NUTRITION', 'DIP (CARDIOLOGY)', 'MD CARD. (NICVD)', 'FIC (SINGAPORE)', 'FCPS (PSY)', 'MCAP (CLINICAL PATHOLOGY)', 'IFCAP', 'D. (ORTHO)', 'FCPS (GYNECOLOGICAL ONCOLOGY)', 'FCPS (OBS & GYNE) FCPS (GYNECOLOGICAL ONCOLOGY)', 'DDV (SINGAPORE)', 'MSC IN CLINICAL DERMATOLOGY (LONDON)', 'MSSVD (LONDON)', 'MCPS (CLINICAL PATHOLOGY)', 'MS ( CARDIOTHORACIC SURGERY)', 'MS (CARDIO-VASCULAR & THORACIC SURGERY)', 'MS (CARDIAC SURGERY)', 'FRCSI (IRELAND)', 'FICS (UROLOGY)', 'FRCS (GLASG)', 'FCPS (PLASTIC SURGERY)', 'MD (PEDIATRIC CARDIOLOGY)', 'MD (PEAD)', 'DO (USA)', 'NEUROLOGY RESIDENCY (USA)', 'DIPLOMA IN CLINICAL NEUROLOGY (UK)', 'MSC NEUROSCIENCE (UK)', 'USMLE', 'FCPS ( OBS-GYN)', 'FAMASI', 'FCPS (ENDOCRINOLOGY AND METABOLISM)', 'FCPS (ORTHODONTICS & DENTOFACIAL ORTHOPEDICS)', 'ADVANCED TRAINING IN DENTAL SURGERY (INDIA)', 'DENTAL IMPLANT (INDIA)', 'FCPS (ORTHODONTICS AND DENTOFACIAL ORTHOPEDICS)', 'MD (ANESTH)', 'POST GRADUATE IN DIABETES (JOHNS HOPKINS', ' AMERICA)', 'FRSH (ENGLAND)', 'MS(NEUROSURGERY)', 'MD (DOCTOR OF MEDICINE)', 'MD (CARDIOLOGY-BSMMU)', 'FCPS (ANAESTHESIOLOGIST)', 'MS (OMS) DIP. OMS (JAPAN)', 'PHDHE', 'PHD (NEPHROLOGIST)', 'FELLOW WHO (BANGKOK)', 'AO (TRAUMA)', 'AO (SPINE)', 'MD (CRITICAL CARE MEDICINE - BSMMU)', 'DRH (UK)', 'DDV (THAILAND)', 'MS (PB)', 'MCPS (OBSTETRICS)', 'FCPS ( PEDI)', 'DLSB', 'BCS (HEALTH) FCPS - PLASTIC SURGERY (FINAL PART) MS- PLASTIC SURGERY (RESIDENT)', 'MPT (ORTHOPAEDICS)', 'BPT (DU-NITOR)', 'NSU INTERNSHIP', 'FCPS (ORAL AND MAXILLOFACIAL SURGERY) PAT-02', 'MS (ORTHOPAEDICS SURGERY)', 'FCPS (GYNECOLOGY)', 'CCD (DIABETIC', 'CCVD (CARDIOLOGY)', 'PGT (MEDICINE & PEDIATRICS)', 'MBBS (BMC)', 'MBBS. D-ORTHO (BSMMU)', 'FCPS (GYNEA & OBS)', 'FCPS (CARDIO)', 'PGT ( CONSERVATIVE DENTISTRY) PGT (ORAL AND MAXILLOFACIAL SURGERY)', 'FCPS (PAED', ' NEUROLOGY & DEVELOPMENT)', 'MCPS ( MEDICINE)', 'D-OPHTH (BSMMU)', 'FCPS (GYNAC &OBS)', 'MD (RADIOLOGY)', 'MD(NEURO-MEDICINE)', 'MCPS (OBS. & GYNAE)', 'DLO (OTOLARYNGOLOGY)', 'FCPS (OTOLARYNGOLOGY)', 'D-CARD.', 'D.A', 'DSC (CTS)', 'FIACS', 'FRCS (ENG)', 'FCPS (PSYCH.)', 'MCPS (PSYCH.) GRADED SPL (ARMY)', 'FCPS (OBS & GYNEE)', 'DDS(DU) & FICD(USA)', 'OJT RHEUMATOLOGY', 'FCPS (UROL-F)', 'CCD (BADAS)', 'DMU (NU)', 'PGST (PEDIATRICS)', 'MBBS (D.U)', 'FCPS SURGERY', 'CLINICAL ORDINATURA (UROLOGY)', 'BDS (D.U)', 'MPH (NU)', 'MS ( OBS. & GYNAE )', 'DPD (CARDIFF', 'MS (PAED SURG)', 'COMMONWEALTH FELLOW NEPHROLOGY (UK)', 'FCPS (SURGERY) MS (PLASTIC SURGERY)', 'BAPRAS FELLOW (UK)', 'MRCSED', 'MRCS (GLASGOW)', 'DLO(ENT)', 'DLO (ENGLAND)', 'FRCS (IRELAND)', 'A.O (INDIA)', 'MS (ORTHO) NITOR', 'DNM', 'MS (AUSTRALIA)', 'DEM (CC-BIRDEM)', 'FCPS (HISTO)', 'MFIL (ONCOLOGY', 'PH.D (UROLOGY)', 'NCCP (INDIA)', 'MMAD', 'PGT (ARTHO)', 'PGT (PROSTHO)', 'PGT (OMC)', 'MBBS (SPORE)', 'MRCPCH (UK', ' RCPCH)', 'MMED PEDIATRICS (SPORE)', 'DAGO (LONDON)', 'FCPS(S)', 'FRCS(EDIN)', 'MS (GYNE & OBS.)', 'M.PHIL (PSYCHO)', 'MD (PSYCHOLOGY)', 'DEM (BARDEM)', 'DCH (PEDIATRIC)', 'FCPS (FINAL PHASE)', 'PGT (NEPHROLOGY)', 'AFIBS (THAILAND)', 'MS (HEPATOBILIARY & PANCREATIC SURGERY)', 'CMU (ULTRASOUND)', 'B.SC (NUTRITION)', 'MBBS (ARMED FORCE MEDICAL COLLEGE)', 'MS (NIKDU)', 'PHD (THE UNIVERSITY OF TOKYO) IN INTERNAL MEDICINE', 'MD (CHEST) (DU)', 'FCPS (BCPS)', 'FRCS (ED)', 'DCH (BICH)', 'MBBS (SHER - E - BANGLA MEDICAL COLLEGE)', 'DCH (DMC)', 'MS(ORTHO) PH. D', 'FCPS (OPTH)', 'DMRT (IPGM&R)', 'MBBS (SHSM)', 'MS IN GYNE & OBS (BSMMU)', 'MCPS(GYNAE AND OBS)', 'FCPS(REPRODUCTIVE ENDOCRINOLOGY AND INFERTILITY)(PART-2):', 'MBBS (BMCH)', 'MRCOG PART 1 (UK)', 'DMU( DU)', 'MS (DU)', 'B.SC & M.SC', 'FOOD & NUTRITION', 'MSC & BSC IN FOOD & NUTRITION (DU)', 'SPECIALTY CERTIFICATE IN NEUROLOGY (SCE', 'MBBS (SHER E BANGLA MEDICAL COLLEGE)', 'MD- NEPHROLOGY (DMC)', 'DIPLOMA IN COUNCELING (TA & NLP)', 'PH.D. (INDIA)', 'MA AND BA (DU)', 'FELLOWSHIP ON NCD (UK)', 'MACP (USA) & MASN (USA)', 'FCPS-1ST PART (MEDICINE)', 'DIP. IN ASTHMA (ICDDR', 'B)', 'CCCD (NHF)', 'PG. DIP. IN FAMILY MEDICINE', 'MBCHB (DUNDEE MEDICAL SCHOOL)', 'FMD (USTC)', 'DOC (SKIN & VENERAL)', 'DMU (BITMIR)', 'DOC (SKIN & VD)', 'FCPS (PART-2) (DMC)', 'MBBS (INDIA)', 'DIPLOMA IN DERMATOLOGY', 'DIP. DERMATOLOGY (INSTITUTE OF DERMATOLOGY', 'PHD (TOKYO', 'POST-DOC (JAPAN)', 'PGD (JAPAN)', 'DTM & H', 'D CARD (LONDON)', 'FSCI', 'D. CARD (BSMMU)', 'NICVD', 'D- CARD (BSMMU)', 'DIPLOMA IN EMERGENCY MEDICINE (UK)', 'MPH (COMMUNITY MEDICINE)', 'DTMH (BANGKOK)', 'MSC (DERMATOLOGY-LONDON)', 'FCPS (GYNAECOLOGY)', 'PRSA FELLOWSHIP (UK)', ' ENGLAND)', 'DSM (GASTRO)', 'FAMS (AUSTRIA)', 'IHM (MED', ' IRAN)', 'FGH (ENGLAND)', 'DLO (DHAKA)', 'FCPS (GYN & OBS).', 'FCPS(CHILD NEUROLOGY & DEVELOPMENT)', 'D-ORTH', 'MS (ORTH)', 'MS (GYNE)', 'EULER ECRD IN RHEUMATOLOGY', 'MD (ENDO)', 'FCPS(MED)', 'FCPS (NEURO)', 'BSC(HONS)', 'MS (PAED. SURGERY)', 'MBBS. DCH. MD (CHILD HEALTH)', 'MBBS. DCH. FCPS (CHILD)', 'D.T.M & H (BANKOK)', 'MD((NEONATOLOGY)', 'MBBS BCS (HEALTH)', 'MD (CARDIOLOGY-NICVD)', 'D -CARD', 'FCPS (MED)', 'MS (CARDIOTHORACIC)', 'MS (PED)', 'FCPS (ONCOLOGY) M.PHIL (IMMUNOLOGY)', 'MD (NEUROLOGY) MACP (USA)', 'MSC (GASTROENTEROLOGY)', 'FCPS(SURGERY P-2) CBLS(LAPAROSCOPIC SURGERY', ' BSMMU', 'MACP (USA) FCPS (MEDICINE PART-2)', 'MD (CARDIOLOGY) MACP (USA)', 'URC (SINGAPORE)', 'MPHIL (PSYCH)', 'FCPS (PSYCH)', 'ECPS', 'FECSM', 'ICAP-I', 'D ORTHO (DU)', 'PHD FELLOW (SPINE)', 'BSMMU.', 'MD (INTERNAL MEDICINE; BSMMU)', 'FSCP (USA)', 'FCPS (GYNAE AND OBS.)', 'MS (GYNAE & OBS.)', 'M.SC (NUTRITION)', 'MCCEE (CANADA)', 'FCPS (PULMONOLOGY)', 'MBBS (DU); MD (PAEDIATRICS)', 'MD (PAEDIATRIC CARDIOLOGY)', 'CCD (BIRDEM) D-CARD', 'D-CARD (DU)', 'MBBS. PGT', 'D-CARD (DTCD)', 'MS (CARDIOVASCULAR – THOROSIS)', 'DTCE (JAPAN)', 'MBBS. BCS (HEALTH) MD (NEPHROLOGY)', 'M', 'MCPS (PAED)', 'FCPS (PED)', 'ACCP', 'MD (PAEDIATRIC NUTRITION', ' LIVER & DIGESTIVE SYSTEM)', 'DVD (DHAKA)', 'M-DERM (INDIA)', 'EP FELLOW (USA)', 'D-ORTHO (ORTHOPEDIC SURGERY)', 'M. ED. (ENGLAND). DIPLOMA IN EPIDEMIOLOGY (ENGLAND)', 'MD (UK)', 'FCPGS (GYNAE & OBS)', 'FRCP (EDIN).', 'FELLOW (MIS).', 'FMAS.', 'MBBS (DU)-SSMC. MS (NITOR)-ORTHOPEDIC.', 'MD (ENDOCRINOLGY & METABOLISM)', 'MD (RESPIRATORY MEDICINE) FINAL PART', 'MRIT (JAPAN)', 'MPH (THAILAND)', 'DIP – E. MED (RSA)', 'FRACGP (AUSTRALIA)', 'MD (PEDIATRIC NEUROLOGY & NEURO-DEVELOPMENT)', 'MDT (CRED – USA)', 'MRCS (LONDON)', 'MRCPS (GLASGOW', 'FCPS (ENT & HEAD – NECK SURGERY)', 'DCH (ICMH', 'FCPS (MED.)', 'PGFEM (GWU-USA)', 'FCCM (IBMS-USA)', 'FICM', 'BCCPM (WHO)', 'MSC (GASTRO', 'FCPS (PART 2)', 'M.PHIL (PATHOLOGY)', 'M.PHIL PATHOLOGY (BSMMU)', 'M.PHIL (HISTO-CYTO PATHOLOGY)', 'MD (IMMUNOLOGY)', 'M. PHIL (MEDICAL BIOCHEMISTRY)', 'MPH (REPRODUCTIVE AND CHILD HEALTH)', 'M.SC IN (NUTRITION AND FOOD SCIENCE)', 'MRCP (MEDICINE) - UK', 'MRCP (NEUROLOGY) UK', 'FCPS (NEUROLOGY- THESIS)', 'DCN (LONDON)', 'C-CARD (USA)', 'FCPS (OBS AND GYNAE)', 'MS (GYNAE-OBS)', 'FWHO (BANGKOK)', 'FSCAI (USA).', 'FCPS (IN COURSE MEDICINE)', 'MS (OPTHALMOLOGY)', 'MD (TRANSFUSION MEDICINE)', 'M.PHIL IN RADIOTHERAPY', 'FCPS (PHYSICAL MEDICINE AND REHABILIATION)', 'MBBS (DAC.)', 'MD (EDIN', 'MS (CTS)', 'MS (CARDIOTHORACIC & VASCULAR SURGERY)', 'MS (CARDIOVASCULAR-THORACIC SURGERY)FICS (USA)', 'FELLOW-WHO (SINGAPORE', 'MS (INDIA)', 'PIT (TURKEY)', 'PGT (SINGAPORE)', 'MBBS (DMC) (GOLD MEDALIST) MCPS', 'FCPS (PAED.)', 'FICS (NEUROSURGERY. USA)', 'A.O. FELLOW', 'MS (ORTHO) DU', 'FCPS (URO)', 'FCPS (S)', 'FCPS (UROLOGY) MRCS (EDINBURGH)', 'FRCS (GLASG.)', 'FRCS (EDIN.)', 'D. UROL (LONDON)', 'FCPS (GENERAL SURGERY) FCPS (THORACIC SURGERY)', 'MS. ADVANCE STUDY (CHINA)', 'MMED (BSMM)', 'FCPS (CARDIOVASCULAR SURGERY)', 'MPH DGO', 'DGO (OBS&AMP;AMP; GYNAE)', 'BSMMU (PG HOSPITAL)', 'FCPS (MEDICINE) MD (CARDIOLOGY)', 'FRCP (ENGLAND)', 'FACP (AMERICA)', 'FCPS (OPHTH)', 'DIPLOMA IN OPHTHALMOLOGY.', 'FRCS (OPHTH) (GLASY)', 'MRCSED (OPHTH)', 'LONG TERM FELLOWSHIP (CORNEA) NIOCIH.', 'FRCS (GLASGO)', 'M.S. (OPHTH)', 'MS (GYNAE AND OBS)', 'MBBS; FCPS (PHYCHIATRIC)', 'MBBS. MD (DERMA)', 'D PED. (VIENNA)', 'MAMS (VIENNA)', 'UROLOGY FELLOW (SINGAPORE)', 'MS-NEUROSURGERY (BSMMU)', 'AO FELLOWSHIP IN TRAUMA', 'FMD (MEDICINE)', 'FID-RLA (UK)', 'FICM (INDIA)', 'DIM (LONDON)', 'FELLOW ARTHROPLASTY & ARTHROSCOPY (INDIA)', 'JICA FELLOW (JAPAN)', 'ADVANCE TRAINING ON RHEUMATIC FEVER (JAPAN)', 'FELLOWSHIP IN AESTHETIC MEDICINE (DELHI', 'DOCTOR - MPHILL (1 PART) (DU)', 'DCH (BSMMU) BCS (HEALTH)', 'MBBS. BCS (HEALTH) MD (ONCOLOGY)', 'MRCP (LONDON) EULER (ECRD) N RHEUMATOLOGY', 'SWITZERLAND', 'EDC', 'BARDEM (DHAKA)', 'MPH (LU)', 'BCS (HEALTH) M-S (UROLOGY)', 'DIPLOMA IN ENDOCRINOLOGY (UK) MSC IN ENDOCRINOLOGY (UK', ' LONDON) MRCP (UK) - PACES', 'FCGP (BD) FELLOW IN DIABETES (ROYAL COLLEGE', 'FRCS (SURGERY)', 'FELLOW PLASTIC SURGERY (SINGAPORE)', 'CCD (BIRDEM) MD (NEUROLOGY)', 'M.PHIL (NUCLEAR MEDICINE)', 'SPECIAL TRAINED TVS & COLOR DOPPLER', 'DMUD (SUB)', 'C- ULTRA (NETHERLAND)', 'MS (MASTER OF SURGERY)', 'MPH (RCH)', 'BCS (HEALTH) MD (HEPATOLOGY)', 'CCD (BARDEM) DMU', 'BCS (HEALTH) D-ORTHO (DMC)', 'MD (PHYSICAL MEDICINE & REHABILITATION) BSMMU', 'DM', 'CCD MPH', 'MCCP', 'FCPS PART-1', 'BCS (HEALTH) FCPS (MEDICINE) MD (GRACTO) MACP (AMERICA)', 'MBBS (DHAKA) DD (JAPAN) DD (THAILAND) PHILO LASER & COSMETICS SURGERY (I&D', ' BANGKOK)', 'DIPLOMA IN LABORATORY MEDICINE (DLM)', 'DIPLOMA IN LABORATORY MEDICINE (DLM) (BSMMU). MCPS (LABORATORY MEDICINE)', 'MS (GYNAE & OBTS)', 'MRCOG PART-3', 'FCPS (OBS-GYNAE)', 'MS (OBS-GYNAE)', 'FCPS (ENDOCRINOLOGY & METABOLISM)', 'FSCAI', 'BCS (HEALTH) MD (NEONATOLOGY)', 'FCPS (CONSERVATIVE DENTISTRY AND ENDODONTICS)', 'MBBS BCS (HEALTH) MD (NEONATOLOGY)', 'MBBS (SSMC) CCD (BIRDEM)', 'MD CARDIOLOGY (NHN)', 'MBBS (CMC) BCS (HEALTH) MD (NEONATOLOGY)', 'B.SC (PSYCHOLOGY)', 'M.PHIL (CLINICAL PSYCHOLOGY)', '& MS (CLINICAL PSYCHOLOGY) (DU)', 'PGT (PSYCHOTHERAPY)', 'M. PHIL (PSYCHIATRY)', 'FELLOW APA (USA)', 'MD (PSYCHIATRY) BSMMU', 'MBBS (SOMCH)', 'MS (DMC)', 'TRAINED IN MICRO-SURGERY (INTERPLAST', 'BCS (HEALTH) MD (CRITICAL CARE MEDICINE)', 'M. MED (SURGERY)', 'MHE (DU)', 'PGDHE (DU)', 'PGT (OMS & ORTHODONTIA) BSMMU', 'MS (ENT) BSMMU', 'WHO FELLOW (INDONESIA)', 'D-ORTHOPEDIC', 'MS (ORTHO', 'PBGM', 'MPH (PUBLIC HEALTH DENTISTRY)', 'MD NEUROLOGY', 'FELLOW IN CLINICAL NEUROELECTRO PHYSIOLOGY (MINS)', 'DCH (GLASGOW', 'PGPN (BOSTON UNIVERSITY', 'MD (PEDIATRIC HEMATOLOGY)', 'DCH (DHAKA SHISHU HOSPITAL)', 'PEDIATRIC NUTRITION (BOSTON', 'MS (NEUROSURGARY)', 'MSC (NUTRITION', 'TRAINED IN CLINICAL NUTRITION (INDIA)', 'M-PHIL (APPLIED NUTRITION & FOOD TECHNOLOGY) ISLAMIC UNIVERSITY (KUSHTIA)', 'MSC (FOOD & NUTRITIONAL SCIENCE)', 'M.SC (NUTRITION & FOOD SCIENCE) INFS', 'DU', 'FACE (USA)', 'M.A.C.E (USA)', 'MS (CHEST SURGERY)', 'FCPS (MEDICINE) MD (GASTROENTEROLOGY)', 'FCPS (MEDICINE) D-CARD (CARDIOLOGY)', 'FCPS (END PHASE)', 'BCS (HEALTH) DGO', 'FCPS (INFERTILITY & REPRODUCTIVE MEDICINE)', 'M.MED (MEDICAL EDUCATION)', 'MCPS (GAYNEE & OBS)', 'FWHO (UROLOGY)', 'FRCS (LONDON)', 'FACRSI', 'M-PHIL', 'DIPLOMA IN LATERAL SKULL BASE (INDIA)', 'MBBS (COMC)', 'PGT (SKIN & VD)', 'PGDCC (INDIA)', 'DIPLOMA IN CLINICAL COSMETIC DERMATOLOGY (INDIA)', 'DIPLOMA IN CLINICAL NUTRITION (INDIA)', 'MCTS (SEOUL)', 'DDV (PG)', 'FELLOW IN LASER & COSMETIC DERMATO SURGERY (INDIA)', 'FELLOW OF SKIN LASER (THAILAND)', 'MD (CARDIOLOGY- THESIS)', 'FCPS (SURGERY) MS (COLORECTAL SURGERY)', 'FIC (INDIA)', 'DIPLOMA (UK)', 'FESC (EU)', 'MCPS (MEDICINE) CCD (BIRDEM)', 'M.PHIL (MICROBIOLOGY)', 'DDV (BSMMU) FCPS (DERMATOLOGY & VENEREOLOGY)', 'FRCOG (UK)', 'FACOG', 'MBBBS', 'MRCP MRCPE (EDINBUURGH)', 'MRCPE (GLASSGOW)', 'FELLOW NEURO INTERVENTION & STROKE (INDIA)', 'D-ORTHO (ORTHOPEDICS)', 'FRCP (ED)', 'FACS (USA))', 'MD (PSYCHIATRY', 'CCD (BIRDEM) MS (UROLOGY)', 'CPA (USA)', 'MD (PHYSICAL MEDICINE & REHABILITATION)', 'DOMFS', 'BSC (HON)', 'MS (FOOD & NUTRITION)', 'PH.D. (PAIN & PARALYSIS)', 'FCPS (HEPATOLOGY)', 'MD (HEAPATOLOGY)', 'FELLOWSHIP IN NEPHROLOGY (JAPAN)', 'DCD (INDIA)', 'ADMS (ULTRA)', 'MSS (DU)', 'MD (GASTOENTEROLOGY)', 'PGT (BIRDEM)', 'MS (CONSERVATIVE DENTISTRY & ENDODONTICS)', 'DCD', 'MS (PAEDIATRICS SURGERY)', 'DCH (IRELAND)', 'MPH (MATERNITY', ' CHILD HEALTH', 'DMAS (LAPAROSCOPY)', 'PGT (ORAL SURGERY)', 'PLAB CERTIFIED (ENGLAND)', 'D. ORTHO (PANGU HOSPITAL)', 'AO TRAUMA BASIC', 'FCPS (SURGERY) MRCS (UK)', 'CHILD HEALTH (DCH)', 'FISCP (IN)', 'FASCRS (USA)', 'FELLOW WHO', 'ESCORTS (DELHI)', 'FCPS (CONSERVATIVE DENTISTRY & ENDODONTICS)', 'PHD (HEPATOBILIARY-PANCREATIC SURGERY)', 'FELLOW NEUROSURGERY (AUSTRALIA)', 'FIMS (INDIA)', 'FELLOW IN JOINT REPLACEMENT SURGERY (INDIA)', 'MCH (ORTHO', 'FRSM (UK)', 'FELLOWSHIP (SPINE SURGERY)', 'AO BASIC (SPINE SURGERY)', 'FASCRS', 'COLORECTAL FELLOW (USA)', 'PHD (VASCULAR SURGERY)', 'MS (UROLOGY', ' MOSCOW)', 'D.ENDO UROLOGY', 'GRADING MEDICINE (AFMI)', 'PGT (GENERAL', ' PLASTIC & HAND SURGERY)', 'AO SPINE (ADVANCE)', 'FCPS (ORTHOPEDICS)', 'MRCS (EDINBURGH', 'AO TRAUMA', 'MPHIL (NEURO-PSYCHIATRY)', 'FCPS (GYNEA)', 'RESEARCH FELLOW (BIRDEM)', 'MD (PEDIATRIC NEUROLOGY & NEURODEVELOPMENT)', 'MS (CD)', 'BDS (DU-DDC)', 'FELLOW WFO (USA)', 'MRCP (PACES)', 'CCD (BIRDEM))', 'ECRD', 'FCPS (THORACIC SURGERY)', 'MAAN (USA)', 'MRCP (MEDICINE)', 'BDS (DHAKA UNIVERSITY)', 'FCPS (PEDIATRICS & NEONATALOGY)', 'DGO (GYNAECOLOGY & OBS)', 'FCPS (NEUOSURGERY)', 'MS (NEUOSURGERY)', 'MRCS (SURGERY)', 'CCD (BRIDEM)', 'FCPS (OBS & GYNAE) MRCOG PART-1 (UK)', 'DMEU', 'TVS ULTRASONOGRAM', 'ECFMG CERTIFIED (AMERICA)', 'FCPS (PAEDI)', 'MD (PEDIATRIC HAEMATOLOGY & ONCOLOGY)', 'DD (THAILAND-JAPAN)', 'FELLOW APOA (TRAUMA)', 'APSS (SPINE)', 'APOA FELLOWSHIP (INDIA)', 'JOINT REPLACE SURGERY FELLOWSHIP (INDIA)', 'AO FELLOW (SWITZERLAND)', 'D. ORTHO (BSMMU)', 'FCPS (ENDOCRINOLOGY)', ' DMC)', 'MS (NEURO-SURGERY', 'CPR (DMC)', 'FCPS (SKIN & SEXUAL)', 'MD (GASTROLENTEROLOGY)', 'FCPS (ORTHOPAEDICS)', 'FAGS (USA)', 'MCPS (GYNE)', 'MRCOG (FINAL', 'FCPS (SKIN & DV)', 'FCPS (PEDIATRIC GASTROENTEROLOGY & NUTRITION)', 'MD (PEDIATRIC HEMATOLOGY & ONCOLOGY)', 'D. CARD', 'MSC (HS)', 'FELLOWSHIP & TRAINED IN INTERVENTIONAL CARDIOLOGY', 'DTCD (UK) D.CARD (AUSTRIA) DTM & H (ENGLAND)', 'FRSTM & H (LONDON)', 'MMS (ENGLAND)', 'FCPS (NEUROMEDICINE)', 'FCPS (GYNAE & OBS) CCD (BIRDEM)', 'MRCP (GYNAE & INFERTILITY)', 'ADVANCED DIPLOMA IN ART & REPRODUCTIVE MEDICINE (UK)', 'OKETANI LMT TRAINING (JAPAN)', 'SPECIAL TRAINED IN CARDIOLOGY', 'DTCT', 'M.SC.(FOOD AND NUTRITION)', 'M.SC (FOOD AND NUTRITION)', 'NDD', 'WMN (BADN)', 'WHO FELLOW (AUSTRALIA)', 'D.ORTHO (BSMMU)', 'FELLOWSHIP IN PLASTIC', 'RECONSTRUCTIVE', 'HAND & MICROSURGERY', 'MCPS (GYNAE AND OBSTETRICS)', 'IAPEN (CRITICAL PATIENT CARE)', 'FCPS (NEURO SURGERY)', 'D.ORTHO (BSMMU-FORMER IPGMR)', 'A.O SPINE MEMBER (SWITZERLAND)', 'CCD (BRDEM)', 'PGT (CONSERVATIVE DENTISTRY', ' ORAL AND MAXILLOFACIAL SURGERY', ' PAEDIATRIC DENTISTRY)', 'MDS (PROSTHODONTICS)', 'MS (PHASE-A)', 'FCPS (PART-2', ' ORAL & MAXILLOFACIAL SURGERY)', 'MS (CONSERVATION DENTISTRY ENDODONTICS)', 'DGO (GYNAC & OBS)', 'MPH (PH)', 'MD (NEUROLOGY/NEUROMEDICINE)', 'BDS (RMC', ' DENTAL UNIT)', 'DDS (CONSERVATIVE DENTISTRY)', 'AFMI (CMH. DHAKA)', 'PGT (SHSMCH)', 'MPH (HM)', 'FRSM (PAEDID)', 'LONDON', 'MPH (NUTRITION)', 'MD (PATHOLOGY)', 'M.SC (FOOD & NUTRITIONAL SCIENCE)', 'FCPS (PEDIATRIC NEUROLOGY)', 'MTM (BSMMU)', 'TRAIN IN LAPAROSCOPIC SURGERY (GERMANY)', 'ADVANCE TRAINING IN LAPAROSCOPIC SURGERY', 'GENERAL LAPAROSCOPIC', 'HERNIA', 'BREAST AND COLORECTAL SURGEON', 'FAM (FELLOWSHIP IN AESTHETIC MEDICINE- INDIA/GERMANY)', 'MCPS (PSYCH)', 'BSPT (BHPI-DU)', 'BSPT (CRP', 'MD (CLINICAL AND RADIATION ONCOLOGY)', 'MBBS (DEU)', 'MCPS (OBS AND GYNAE)', 'FCPS (GOLD MEDALIST) SURGERY', 'MS (NEUROSURGERY', 'DIPLOMA IN FAMILY MEDICINE', 'SPECIALIST TRAINING (LONDON)', 'MSC (CLINICAL EMBRYOLOGY-INDIA)', 'DIPLOMA IN REPRODUCTIVE MEDICINE & INFERTILITY (GERMANY)', 'MSC (REPRODUCTIVE MEDICINE AND INFERTILITY', 'FELLOW PEDIATRIC CARDIOLOGY (USA)', 'DCO (UK)', 'DGO (OBGYN)', 'MD (ENDOCRINOLOGY AND METABOLISM', 'ADVANCED TRAINING IN ENDOCRINOLOGY (MAYA CLINIC', 'FCPS (ORAL & MAXILOFACIAL SURGERY)', 'TREND HOS VATS', 'ROBOTIC SURGERY (DELHI)', 'DIH', 'FCPS (SURG)', 'DA (ANEAS)', 'DCH AND FCPS', 'M.PHIL (BIRDEM)', 'MRCSED (EDINBURG)', 'MS (THORACIC SURGERY-NIDCH)', 'AO ADVANCED (INDONESIA)', 'AO FELLOW (BANGKOK)', 'MS (ORTHO).', 'MD (PMR-BSMMU)', 'MD (RADIOLOGY & IMAGING', ' NIDCH)', 'FELLOW IN MINIMAL INVASIVE THORACIC SURGERY (SINGAPORE)', 'TRAINED IN THORACOSCOPIC SURGERY (INDIA', ' CHINA', ' S. KOREA)', 'MS (ORTHO. SURGERY)', 'MCPS (DERMATOLOGY & VENEREOLOGY)', 'MSC (CPHN', 'RESEARCH FELLOW (JAPAN)', 'FELLOW IN SKULL BASE AND MICRO-NEUROSURGERY (MUMBAI', ' GERMANY)', 'TRAINING (LAPAROSCOPIC SURGERY)', 'FISN (CA)', 'FASN (USA)', 'DMAS', 'FART (INDIA)', 'FELLOWSHIP TRAINING (FETOMATERNAL MEDICINE)', 'MD (ENDOCRINOLOGY & METABOLISM', 'DDS (CONSERVATIVE & ENDODONTICS)', 'MS (CARDIOVASCULAR & THORACIC SURGERY', 'D-CARD (AUSTRIA)', 'MCPS (MED)', 'FELLOWSHIP TRAINING (GYNAE ONCOLOGY)', 'DMRT (DU)', 'D- CARD', 'IMPLANTOLOGIST', 'DPM', 'D-CARD (LONDON)', 'FCPS (PAIN MANAGMENT)', 'D. OPTH', 'MRCPS', 'PHD (OMS-JAPAN)', 'FDS', 'RCPS (GLASGOW', 'IHTC FELLOWSHIP IN MALAYSIA', 'MS (OMFS)', 'PGT (LASER)', 'MS (GEN. SURGERY)', 'MCH (PLASTIC SURGERY)', 'PGT (MEDICINE & CARDIOLOGY)', 'MPHIL (PSYCHIATRY', 'TRAINED IN MICROSURGERY', 'DIPLOMA IN INTERNAL MEDICINE (UK)', 'MS (PGIMER)', 'PGT (RHEUMATOLOGY)', 'MSC (BIOMEDICINE)', 'MD (PEDIATRICS NEPHROLOGY)', 'DCH (SCOTLAND)', 'MD (AIIMS)', 'MCPS (RADIOLOGY & IMAGING)', 'FCPS (RADIOLOGY & IMAGING)', 'MD (PEDIATRIC GASTROENTEROLOGY & LIVER NUTRITION)', 'D-CARD (BSMMU). FCPS (CARDIOLOGY)', 'FCPS (MEDICAL)', 'PGDND', 'DCH (CHILD HEALTH)', 'MSC (CLINICAL DERMATOLOGY', 'FINS (INDIA)', 'MRCP (INTERNAL MEDICINE) UK', 'PACES', 'FRCS (GLASG & EDIN)', 'DIPLOMA (UROLOGY', 'WHO', 'NUH (SINGAPORE)', 'FELLOW OF THE WHO (CHILD PSYCHIATRY)', 'DMRT (BSMMU)', 'DDS (WELS)', 'M. PHIL (ONCOLOGY)', 'TRAINING (INDIA)', 'TRAINED IN CARDIOLOGY (JAPAN)', 'WHO FELLOW', 'FELLOWSHIP', 'FRCS (GLAS)', 'FCPS (PHY MED)', 'AND A BCCPM DEGREE (KERALA)', 'FELLOW ENDOCRINOLOGY (AUSTRALIA)', 'FACE', 'FCPS (ARAB BOARD)', 'RCPS (IRE)', 'FCPS (REPRODUCTIVE ENDOCRINOLOGY AND INFERTILITY)', 'DNB (ORTHO)', 'M.SC (DU', ' FOOD & NUTRITION)', 'EPILEPSY AND EEG (UMMC', 'FELLOWSHIP IN EPILEPSY & EEG (MALAYSIA)', 'MS (MEDICINE', ' CANADA)', 'MPHTM', 'MACTM', 'IHTC FELLOWSHIP IN MALAYSHIA', 'FCPC (OBGYN)', 'MD (ENDOCRINOLOGY', 'MRCS (ENG)', 'FMAS (IND.)', 'HDCH', 'MD (CHILD HEMATOLOGY & ONCOLOGY)', 'BDS (GSVMC)', 'DTCD (CHEST MEDICINE)', 'MS (PSYCHOLOGY', 'DDV (SKIN & VD)', 'DTM & H (BANGKOK)', 'M.SC (LONDON)', 'FELLOW (TOBI', 'FCPS (PADIATRIC)', 'FCPS (PADIATRIC NEURO)', 'FCPS(PAEDIATRICS)', 'MPH(EPIDEMIOLOGY)', 'MS-ORTHO (NITOR)', 'A O TRAUMA', 'FCPS (PHYSIATRICS)', 'AO BASIC TRAUMA', 'SPECIAL TRAINING IN FESS (SINGAPORE)', 'HEAD', 'NECK & EAR SURGERY (USA', 'PGT (ENDODONTIC)', 'DDS (D-PROSTHODONTICS)', 'FCPS (ORTHODONICS & DENTOFACIAL ORTHOPEDICS)', 'PHD (DIABETES', 'MD (SKIN & SEX)', 'M.PHIL (PSYCH)', 'MD (PSYCH)', 'FCPS (PHYSICAL MEDICINE & REHABITATION)', 'MS (ORTHO-SUGERY)', 'POST GEADUATE GRADING COURSE (MEDICINE)', 'AFMI', 'MCPS (USA)', 'MBBS (PG HOSPITAL)', 'FCPS (AMERICA)', 'FELLOW GASTRO. (JAPAN)', 'FCGP (BD)', 'MRSH (LONDON)', 'MD (ENDOCRINE & METABOLISM)', 'MPH (PREVENTIVE DENTISTRY)', 'DCH (PAED)', 'MMED (UK)', 'M.SC (UK)', 'D-CARD (NICVD) FACC (USA) FELLOW (WHO)', 'MBBS (C.M.C)', 'ADVANCE TRAINING IN CARDIAC SURGERY (SINGAPORE', ' PHILIPPINE', ' RUSSIA)', 'MS (CARDIOVASCULAR SURGERY)', 'USMLE (USA)', 'MRCH (ENGLAND)', 'F.M', 'AO TRAUMA (SWITZERLAND)', 'MSC (FOOD & NUTRITION). CCND (OBSERVER SHIP)', 'MSC (APPLIED NUTRITION & FOOD TECH)', 'MD (NEURO- MEDICINE)', 'DTM & H (ENGLAND)', 'AMC', 'MCQ', 'MRCPS (MEDICINE', 'MCPS (MEDICINE). MD (NEPHROLOGY)', 'MD (KIDNEY)', 'MS (HEPATO-BILIARY)', 'HIGHER TRAINING IN LIVER TRANSPLANT SURGERY DELHI (INDIA)', 'FCPS (GYNAC & OBS)', 'DMSU', 'TRAINED ON EVIDENCE BASED OBSTETRICS (AUSTRALIA', ' INDONESIA)', 'MACA', 'MS (ENT) & HNS', 'FS (JAPAN)', 'MSS', 'PGT (DENTAL)', 'BMDC', 'ECRD (SWITZERLAND)', 'DIP. IN ORTHOPADIC MEDICINE (BELGIUM)', 'WIC-SICOT (UK)', 'FELLOW ORTHOPEDIC & TRAUMA SURGERY', 'PGCM (ENGLAND)', 'DTM&H (ENG)', 'FCPS (GYNEE & OBS)', 'FELLOW UITREO- RETINA EYE/ OPHTHALMOLOGY', 'FAAP (USA)', 'MRCP (UK) FRCP (GLASGOW)', 'FRCP (EDINBURG)', 'DTCH', 'MS NUTRITION (USA)', 'M.SC (I.F.S.D.U)', 'B.SC.(HONS)', 'M.SC.(NUTRITION & FOOD TECHNOLOGY)', 'FCPS (LAPAROSCOPIC & HEPATO-BILLIARY)', 'FCPS (GASTRO)', 'DLO (IPGMR)', 'HIGER TRAINING TATA MEMORIAL HOSPITAL', 'MUMBAI', 'FELLOW UROLOGY (AUSTRALIA)', 'MS (CARDIO VASCULAR & THORACIC SURGERY)', 'FSCA (USA)', 'FACS (GENERAL', ' CLORECTAL', ' LAPAROSCOPIC', ' BARIATRIC SERGEON AND SERGICAL ONCOLOGIST)', 'FICS (GENERAL AND GASTROENTEROLOGY SERGERY)', 'MS (NEU. SUR.)', 'MRCPH (UK)', 'FELLOW PEDIATRIC CARDIOLOGY (AIMS)', 'FCPS (ORAL & MAXILLOFACIAL)', 'MS (ORAL & MAXILLOFACIAL)', 'M. PHIL (DENTAL)', 'MADA', 'D-CARD (BSMIMU)', 'PDCC (INDIA)', 'MD (CARDIO)', 'FASC (EUROPE)', 'MCSP', 'DDV (AUSTRIA)', 'PHD (CU)', 'PGT (COSMETIC SURGERY)', 'EMHE (DU)', 'FSPU', 'FELLOW PEDIATRIC UROLOGY (USA)', 'WHO FELLOW ON PEDIATRIC UROLOGY (INDIA)', 'FELLOW REPLACEMENT SURGERY (JAPAN)', 'BUMS (DU)', 'BHS (UPPER)', 'TRAINING ON ADVANCE HEMATOLOGY & BONE MARROW TRANSPLANT (BANGKOK & USA)', 'MS (THESIS)', 'ADVANCE TRAINING IN LAPAROSCOPY & INFERTILITY (INDIA)', 'DLP', 'D-MED (UK)', 'D-OPHTH (DU)', 'DLO (VIENNA)', 'MS (ENT) SPECIAL TRAINING ON MICRO EAR SURGERY & ENDOSCOPIC SINUS SURGERY', 'TRAINING ON VIMS & KKR INSTITUTE', 'INDIA', 'MACE & MACP (USA)', 'DDC', 'PGT (MOHKSA)', 'DR SC IN PED (USA)', ' UK).', 'FIC', 'MRCP (MEDICINE', 'FELLOW-WHO (INDIA)', 'FELLOW (WHO)', 'MD (GASTRO', 'MBBS (R.U)', 'MD (NEUROLOGY', 'CCD-DIABETES (BIRDEM)', 'MD (CARD', 'MD (NUCLEAR MEDICINE)', 'TRAINING (IVF', ' IUI)', 'ECGP', 'CDMU', 'M PHIL (NUCL MED) PHD (BUET) RESEARCH FELLOW (AUSTRALIA)', 'FICM(INDIA)', 'D.ORTHO( DU)', 'PHD(USA)', 'MS (OBS & GYNAE-BSMMU)', 'MD (OBGYN', 'FTMOH (LONDON)', 'FRDH (LONDON)', 'WCH (LONDON)', 'DIPLOMA IN DERMATOLOGY (UK)', 'TRAINED IN COSMO-DERMATOLOGY (INDIA)', 'INVASIVE COSMO-DERMATOLOGY (QATAR)', 'MD (CHEST PAIN)', 'MD (CARDIOLOGY)-BSMMU FCPS (MEDICINE)', 'FACC (AMERICA)', 'FESC (EUROPE)', 'FACS (UNITED STATES)', 'AO SPINE BASIC (INDIA)', 'ADVANCE AO SPINE COURSE (SG', ' MY)', 'ARTHROPLASTY BASIC (INDIA)', 'FCPS (OBS & GAYNE)', 'TRAINED IN INFERTILITY (INDIA)', 'TRAINED IN ADVANCED LAPAROSCOPIC SURGERY & HYSTEROSCOPY (INDIA)', 'DGO (OBS & GYNEA)', 'MRCOG (PART-1) LONDON', 'MRCOG-2 (UK)', 'DOWH (IRELAND)', 'MRCOG2 (UK)', 'APASL', 'AASLD (CHINA) JOINT AWARD', 'OJT (GASTROENTEROLOGY)', 'FELLOWSHIP GASTROENTEROLOGY & HEPATOLOGY (PAK)', 'HIGHER TRAINING (INDIA', ' PHILIPPINES & USA)', 'MD (ENDOCRINE MEDICINE)', 'MBA (HEALTH CARE MANAGEMENT)', 'MRSH (UK)', 'ECHO (INDIA)', 'MESC (ITALY)', 'MD (PEDATRICS)', 'MBBS (HEALTH)', 'MPH (MOTHER AND CHILD)', 'DCH (DHAKA)', 'MS (USA)', 'DTM&H (LONDON)', 'FCPS (BREAST-SURGERY)', 'MRCP (M', 'DLP (UK)', 'MS (ORTHOPEDIC & TRAUMATOLOGY)', 'FCS (USA)', 'MACG (GAESTROENTEROLOGY)', 'CEU', 'FCPS (DERMATROLOGY)', 'FP', 'P.G.P.N (CARDIOLOGIST)', 'FRSH (GENERAL PHYSICIAN)', 'INFERTILITY SPECIALIST (CHENNAI)', 'FELLOW COSMETIC GYNAECOLOGY (DUBAI)', 'MRCS (LP)', 'FCPS (FEITO MATERNAL MEDICINE)', 'DGO (VIENA)', 'FAMS (VIENA)', 'AFACC (USA)', 'FASIC & FSCAI (USA)', 'FCPS (CONTINUE)', 'FP(MEDICINE)', 'MS (CARDIOLOGY)', 'WHO FELLOW (RADIATION ONCOLOGY)', 'MD (NEPHRLOGY)', 'MCPS (GYNE & OBS.)', 'FCPS (GYNE & OBS.)', 'MS (GYNAE & OBS; CMU', ' DMU)', 'FCPS (GYNEAY & OBS)', 'HIGHLY TRAINED IN OBS. (INDIA', ' MUMBAI)', 'FRSH (LNDON)', 'MCS (HEALTH)', 'MD (PAEDIATRICS GASTROENTROLOGY)', 'FCPS (NEURO MEDICINE)', 'MD (INFANT)', 'FCPS (CHILD NEUROLOGY)', 'MS (MEDICINE)', 'MD (RHEUMATIC FEVER)', 'MRCP (ENGLAD)', 'MACP (INTERNAL MEDICINE', 'UK RESIDENT PHYSICIAN (R.P)', 'FELLOWSHIP IN DERMATOLOGY LASER SURGERY (SKIN ALLERGY & SEX DISEASE (CMH))', 'FCPS (SKIN/DERMATOLOGY)', 'MCPS (SKIN & STD)', 'AND FRSH (UK)', 'D-ORTHO (MMCH)', 'MRCS (UK', ' EDIN)', 'MS (ORTHOSURGERY-NITOR)', 'SPINE SURGERY (USA)', 'MBBS. MCPS (SURGERY)', 'FELLOW IN INTERVENTIONAL NEUROLOGY & STOKE (SWITZERLAND)', 'TRAINING (NEPHROLOGY)', 'FELLOW IN GASTROENTEROLOGY (TURKEY)', 'MCPS (MEDI)', 'MD (NEPHRO)', 'MS (THESIS', ' GYNAE AND OBS)', 'MPH (DMU)', 'DFFP (UK)', 'MRCP (MEDICINE & GASTRO', 'MSC (GASTROENTEROLOGY', ' LONDON', 'CCD-BIRDEM', 'PGDIP-DIABETES (UK)', 'MD-ENDOCRINOLOGY & METABOLISM (BSMMU)', 'FCPS (GYNAE & ONCOLOGY)', 'MD (GASTROENTEROLOGY) (BSMMU)', 'MRCP (AMERICA)', 'ADVANCED TRAINING (COLORECTAL', ' ENDOSCOPIC & LASER SURGERY)', 'PHD (RESOURCE FELLOW)', 'CCD (DIABETICS)', 'MACC (AMERICA)', 'TRAINED IN ECHO (CARDIOGRAPHY)', 'PH.D. (VASCULAR SURGERY)', 'FICA (USA)', 'FACC & FSCAI (USA)', 'DD (JAPAN', 'FCOG (UK)', 'DTCE', 'MPH (NIDCH)', 'DIM', 'MD (ANEAS)', 'FCPS (ANEAS)', 'FELLOWSHIP IN LAPAROSCOPIC SURGERY (INDIA)', 'FELLOW IN LAPAROSCOPIC SURGERY (INDIA)', 'MEMBER (ASCRS)', 'FELLOW (ISUCRS)', 'FELLOW RHEUMATOLOGY (USA)', 'FWPA (USA)', 'CME-WCP', 'AO TRAUMA (BASIC)', 'AAOS (USA)', 'WHO FELLOW ARTHROPLASTY', 'ARTHROSCOPY (INDIA)', 'FELLOWSHIP IN ARTHROSCOPY & ARTHROPLASTY (KOREA & INDIA)', 'FELLOW (SPINE SURGERY)', 'RCO (USA)', 'PHD (NEUROSURGERY) TRAINED IN NEURO INTERVENTION & STROKE (JAPAN', ' INDIA & GERMANY)', 'MS (NEUROSURGERY) FELLOW ENDOVASCULAR NEUROSURGERY & STROKE (MUMBAI)', 'TRAINING IN MODERN NEUROSURGERY (JAPAN & TURKEY)', 'FCPS (MEDICINE) FELLOW NEUROLOGY', 'WHO (THAILAND)', 'TRAINED IN NEUROSONOLOGY (SINGAPORE)', 'HIGHER TRAINING (RHEUMATOLOGY)', 'WHO FELLOW (DIABETICS)', 'PHD (USA) WHO FELLOW (THAILAND)', 'POST FELLOWSHIP TRAINING (CARDIOLOGY)', 'TRAINING (KIDNEY DISEASES)', 'FWHO (RHEUMATOLOGY)', 'MPH (UK)', 'PHD (NEPHROLOGY-UK)', 'FISN (UK)', 'FASH (USA)', 'TRAINING (FRANCE & JAPAN)', 'DLSB (IND)', 'FICS (USA) ENT (EAR', ' NOSE', ' THROAT)', 'MD (EM)', 'MSC (CANADA)', 'FELLOW- COLORECTAL SURGERY (JAPAN)', 'MSC (JAPAN)', 'FELLOW CMRI (SWITZERLAND)', 'FSGC', 'FRCP (EDIN). FACC (USA)', 'FAPSIC', 'MPHIL (CLINICAL ONCOLOGY)', 'DIH (DU)', 'M.PHIL (RADIOTHERAPY', 'LM', 'DGO (IRELAND)', 'POST GRADUATION TRAINING (MEDICAL ONCOLOGY)', 'FELLOWSHIP TRAINING IN RADIATION ONCOLOGY (INDIA)', 'WHO FELLOW ONCOLOGY (BANGKOK)', 'FELLOW NEWBORN MEDICINE (SINGAPORE)', 'MPT (BHPI-CRP) MSS (GERIATRIC-DU)', 'DIP IN OM (CYRIAX-ONCOURSE)', 'CERTIFIED DRY NEEDLING PARCTITIONER', 'MS (ORTHOPEDIC SURGERY', 'FIPM (AESCULAP ACADEMY)', 'ROS (JAPAN)', 'WHO FELLOW (THAILAND)', 'M PHIL (PSYCHIATRY)', 'FELLOW – CHILD PSYCHIATRY (PAKISTAN)', \"FRCP (UK)' MACP (USA)\", 'FCPS (INFECTION & TROPICAL DISEASES)', 'DAND', 'DPT (STATE MEDICAL FACULTY)', 'BPT (DU MEDICINE FACULTY) ST', 'TRAINED IN SPORTS PHYSIO (BISS)', 'M.S (ORTHOPAEDICS)', 'PHARMACOLOGY (DAMEK)', 'D CARD (CARDIOLOGY)', 'FCPS (SURGERY PART 2)', 'MS (ENT-ON COURSE)', 'DMU (ULTRASOUND)', 'DCH (IRE)', 'TRAINED IN GYNE ONCOLOGY (INDIA)', 'MMED (DU)', 'MD (PAED HAEM & ONCOLOGY)', 'HMO', 'DOC (SKIN & SEX)', 'MPH (PREVENTIVE MEDICINE)', 'DIPLOMA (FAMILY MEDICINE)', 'CTM (DU)', 'C-CARD (NATIONAL HEART FOUNDATION)', 'MPH (PUBLIC HEALTH NUTRITION)', 'ARAB BOARD', 'KSA', 'MCPS FCPS (OBGYN)', 'SPECIAL TRAINING ON INFERTILITY (INDIA)', 'FELLOW (PEDIATRIC GASTROENTEROLOGY & NUTRITION)', 'FELLOW SPINE SURGERY (WASHINGTON UNIVERSITY', ' USA) N SPINE COURSE (NOTTINGHAM UNIVERSITY', ' UK) APSS SPINE FELLOW (AUSTRALIA) FELLOW SPINE SURGERY (JAPAN', ' TAIWAN) APOLLO SPINE FELLOW (MADRAS', ' INDIA) HIGHER COURSE MISS (FRANCE) SRS SCHOLAR (USA) AO SPINE', 'BASIC', 'ADVANCE AND MASTERS (MALAYSIA)', 'DNM (DU)', 'FNM (UK)', 'FELLOWSHIP IN NEUROSURGERY (SWEDEN)', 'DCO', 'LIVER TRANSPLANT FELLOW (MEDANTA-DELHI NCR)', 'MRCP (GLASGOW)', 'BDS(DDC)', 'PGT(CONSERVATIVE DENTISTRY & ENDODONTICS)']\n"
          ]
        }
      ],
      "source": [
        "# Remove empty strings and entries starting with '(' from 'Education' lists\n",
        "df['Education'] = df['Education'].apply(lambda education_list: [edu for edu in education_list if edu != '' and not edu.startswith('(')])\n",
        "\n",
        "# Flatten the list of lists and then get unique values\n",
        "education_list_flat = [item for sublist in df['Education'] for item in sublist]\n",
        "print(\"Unique Education Entries after removing entries starting with '(':\")\n",
        "print(f'No. of unique education: {len(pd.Series(education_list_flat).unique().tolist())}')\n",
        "print(pd.Series(education_list_flat).unique().tolist())"
      ]
    },
    {
      "cell_type": "markdown",
      "metadata": {
        "id": "uWQ2OibPqtNx"
      },
      "source": [
        "### Standardizing Education Entries using Regular Expressions"
      ]
    },
    {
      "cell_type": "code",
      "execution_count": 9,
      "metadata": {
        "colab": {
          "base_uri": "https://localhost:8080/"
        },
        "id": "e03b2dfe",
        "outputId": "8c0105c6-2b04-4bf2-891a-4b6fc2d1cfab"
      },
      "outputs": [
        {
          "name": "stdout",
          "output_type": "stream",
          "text": [
            "Unique Education Entries after cleaning: 1082\n",
            "Unique Education Entries after cleaning: ['MBBS', 'D-CARD', 'PHD', 'CCD', 'MD', 'MS', 'MPH', 'INFS', 'BCS', 'FCPS', 'PGT', 'MACP', 'FACP', 'MCPS', 'FELLOW IN RHEUMATOLOGY', 'FRCP', 'DO', 'BDS', 'FHN', 'FTMJ', 'DCH', 'MRCP', 'M.MED', 'DTM', ' JAPAN)', 'FICS', 'M.PHIL', 'AO-BASIC', 'DDV', 'DEM', 'MACE', 'ADVANCED VATS TRAINING (INDIA)', 'FACC (USA)', 'DA (DMC)', 'DGO', 'FRCOG (LONDON)', 'MRCOG', 'FACE (AMERICA)', 'DM', 'FACS (USA)', 'DTCD', 'FCCP', 'MRCS', 'DLO', 'MACG (USA)', 'PGPN', 'D-ORTHO', 'DTCD (CHEST)', 'FELLOWSHIP IN IVA (DUBAI)', 'DIPLOMA IN CLINICAL RESEARCH (CANADA)', 'FELLOW COLORECTAL SURGERY (NUH', ' SINGAPORE)', 'FICO (LONDON)', 'UK', 'SINGAPORE', 'THAILAND & INDIA', 'CMU', 'FCCS (CCM-USA)', 'FMAS (INDIA)', 'FRCS', ' UK)', 'FICD', ' MALAYSIA)', 'FCGP (MEDICINE)', 'E.O.C. (GAINI & OBS)', 'DCM', 'FACS (AMERICA)', 'CMU (ULTRA)', 'FSCAI (USA)', 'FMD', 'FCCS (SG)', 'DNB (CARDIOLOGY)', 'DVD', 'FESC', 'MBBC', ' NICVD)', 'DO (DU)', 'DIPLOMA IN ASTHMA (UK)', 'IAIA (FELLOW)', 'DD (THAILAND & JAPAN)', 'FWHO (THAILAND)', 'FRSPH', 'DCP', 'DTCD (CHEST DISEASES)', 'PH.D (PHYSICAL MEDICINE)', 'FUAMS (USA)', 'POST DOC (USA)', 'FMD (DHAKA)', 'DDOC (AUSTRIA)', 'AO TRAUMA (INDIA)', 'FMAS', 'FACS', 'BSMMU', ' COURSE)', 'MRCS (UK)', 'FEBCTS (EUROPE)', ' BSMMU)', 'BIRDEM)', 'NEPHROLOGY', ' NEURO MEDICINE', 'CARDIOLOGY)', 'D.ORTHO', 'FAMS', 'CRP (DMC)', 'D.ORTHO (NITOR', 'DHAKA)', 'AO TRAUMA(FELLOW)', 'DDS (BSMMU)', 'FMAS ( INDIA)', 'FANMB', 'BSC', 'DU)', 'PH.D. (JAPAN)', ' THESIS)', 'B.S.C', 'INTERNSHIP IN CLINICAL NUTRITION (BIRDEM)', 'C.N.D (MIRDEM)', 'DCARD (BSMMU)', ' GASTROLIVER)', 'DA', 'FIPM', 'MRCS ED', '.DCN (ITALY)', 'FELLOW', 'CHILD NUTRITON (BOSTON', ' USA)', 'FSCAI (AMERICA)', 'BSC (HONS)', 'CCU (B.S.U)', 'EAORL-HNS (DIPLOMA)', 'AO FELLOW (INDIA)', 'WHO FELLOW ( INDONESIA)', 'FICS(ORTHO)', 'MMED', 'IFAPA (USA)', 'DD', 'NITOR)', 'BSC (HEALTH)', 'DO (U-R)', 'DTM&H (THAILAND)', 'AO(TRAUMA)', 'IPPN (CHILD NUTRITION-AUSTRALIA)', 'CCCD', 'FCPGS', 'DTCD (CHEST MEDICINE-CC)', 'BCPS', ' USA) CCD (BIRDEM)', 'BSMMU)', 'MRCS (ENGLAND)', 'MRCS (EDIN)', ' EAR AND THROAT', ' FP)', 'DVD (JAPAN', ' THAILAND)', 'FCGP', 'DVD (BSMMU)', 'B. SC', 'GRADING COURSE( AFMI)', 'POSTGRADUATE DIPLOMA (UK)', 'DVD (DU)', 'POST GRADUATE DIPLOMA IN CLINICAL COSMETOLOGY (INDIA)', 'FCPC (ENGLAND)', 'CCP (CANADA)', 'DOC (SKIN', ' SEX', ' ALLERGY)', 'SMO (MEDICINE)', 'DDCM &V', ' NEUROLOGY)', 'DD (JAPAN)', 'DD (THAILAND)', 'PHYSIOTHERAPY', 'DVD (SKIN & DERMATOLOGY)', 'ACLS (BIRDEM)', 'DIPLOMA IN MEDICAL ULTRASOUND (DMU)', ' NEPHROLOGY)', 'DDS', 'FIN (NEPHROLOGY) INDIA', 'DOMS', 'DTM&H (BANGKOK)', 'DIP-IN-SAF & MGM.(GENEVA)', 'GAMC (UK)', 'FRSH (UK)', 'FRSH (LONDON)', 'D - CARD (CARDIOLOGY)', ' PG HOSPITAL)', 'PH.D (PAED) (MOSCOW)', 'PHIL (CLINICAL PATHOLOGY)', 'FCP (PART-1)', 'MRCOG (PART-1)', 'D.CARD (DU)', 'TVS', 'D.ORTHO (NITOR)', 'DDS (DENTAL SURGERY)', 'D.CARD', 'FPMD (GASTROENTEROLOGY)', 'MRCOG (LONDON)', ' PART-I)', ' PART-II)', ' DU)', 'CND (BIRDEM)', 'DFM (BSMMU)', ' INDIA)', 'BSPT', 'ADIE (DU)- RESOURCE PERSON', 'PGD (MEDICINE', ' BELGIUM)', ' DMCH)', 'CMU (USG)', 'FMD (FAMILY MEDICINE)', 'FCGP (FAMILY MEDICINE)', 'DOC (DERMATOLOGY)', 'FCGP (DHAKA)', 'DDCH', 'EPID (AUSTRALIA)', ' FP) PGT (PHYSICAL MEDICINE AND REHABILITATION)', 'POST GRADUATE TRAINING IN MEDICINE', ' CHINA)', 'DVD (COURSE)', 'MCGP', 'A.O TRAUMA-BASIC AND ADVANCE (INDIA)', 'AND FCPS (ENT)', ' GLASGOW', ' IRELAND)', 'MRCS (ENT)', 'MCTM (THAILAND)', 'CHD (USA)', 'TSTD (THAILAND)', 'C-ULTRA', 'DVD (PG)', 'FICS(USA)', 'FACC', ' BARDEM)', ' ON COURSE)', 'CMU (SONOLOGIST)', 'ADVANCED DIPLOMA IN MEDICAL ULTRASOUND. FORMERLY (BIRDEM)', 'FWHO (INDIA)', 'FIEA (SINGAPORE', 'ENS (GERMANY)', 'AFMC', 'MRCOG (UK)', 'FICS (AMERICA)', 'IFHNOS (MSKCC-USA)', 'DTCD (DU)', 'C-ULTRA (DHAKA)', 'C-ENDOS (BARDEM)', 'DTCD (THORACOLOGY)', 'FACS (US)', 'AFCPS (GYNAECOLOGY)', 'DO(DU)', 'FAAD(USA)', 'DD(THAILAND)', 'MRCS(UK)', 'MRCS (EDIN', 'MCP(AMERICA)', 'OGT &G-MED(AFMI)', 'WHO FELLOW (USA)', 'FELLOW IN NUCLEAR CARDIOLOGY', 'FKIT (KOREA)', 'FICS (USA)', 'MHPED (AU)', 'IVF&ICSI (THAILAND)', 'FIGO', 'DD (DHAKA)', 'AEL', 'DTAE', 'AESD&V', 'AND FAAD (USA)', 'DD (BANGKOK)', 'DPD (UK)', 'AND FRCS (UK)', 'FACC(USA)', 'FTM & H (LONDON)', 'FELLOW NEONATOLOGY (SINGAPORE)', 'D OPHTH ( BSMMU )', 'DNM (BSMMU)', 'DTCD (DHAKA UNIVERSITY)', 'FAACE(USA)', 'FELLOW NEONATOLOGY (BRITISH)', 'FCGP(FAMILY MEDICINE)', ' BIRDEM)', 'DA (DU)', 'ALPIDE HUMAN SCIENCE (DHAKA UNIVERSITY)', 'DA (ANAESTHESIA', ' PAIN AND ICU SPECIALIST)', 'MRCGP (UK)', 'DFSRH (UK)', 'DRCOG (UK)', 'PHYSICAL THERAPY', 'BSC (UK)', 'CIMA (UK)', 'BA HON. (UK)', 'FCRS(SNEC', 'JSPS', 'FELLOW (JAPAN)', 'MRCOG (PART- 2 )', 'DEPLOMA IN MEDICAL ULTRASOUND', 'FCCS (INDIA)', 'ACMU (ULTRA)', 'MCGP (MEDICINE)', 'DA(ANESTHESIA)', 'DVD (SKIN & SEX)', 'PH.D', 'FCCS (USA)', 'FELLOWSHIP(INDIA)', ' BSMMU) CCD(BIRDEM)', 'GOLD MEDALIST', 'DCO(CU)', 'FICO(UK)', 'FICD(AMERICA)', 'PGD(JAPAN)', 'FRSPH(LONDON)', 'ACGS (USSR)', 'DO (BSMMU)', 'BSMMU (EX-PG HOSPITAL)', 'DIPLOMA IN ORAL & MAXILLOFACIAL SURGERY', 'ACT (JAPAN)', 'PGC (RAWAL PINDI', ' PAKISTAN)', 'DIPLOMA IN MEDICAL ULTRASOUND', 'BPT (DU)', 'RPT', 'CRP', 'MRCS (EDINBURGH)', 'DIP IN ASTHMA (UK)', ' LONDON)', ' ITALY)', 'FIAOG (INDIA)', 'AND DFFP (GLASGOW)', 'DIPLOMA IN CARDIOLOGY & MRCP (UK)', 'FASN', 'BSC (FOOD & NUTRITION)', 'SSC-MED (INTERNAL MEDICINE)', 'A.O BASIC', 'FMAS & IVF', 'AND ADVANCE IVF COURSE', 'DIPLOMA IN CHILD HEALTH', 'RCPCH', ' GYNECOLOGY)', 'FACS(USA)', 'MBGPH', 'FRSPH (UK)', 'MRCOG- ENGLAND (PART III)', 'AO BASIC (TRAUMA)', 'DD-DERMATOLOGY (BANGKOK)', 'FRSTM (UK)', 'DPM (DU)', 'CERTIFIED IN DIABETOLOGY (BIRDEM)', 'FCCS (CRITICAL CARE MEDICINE)', 'CERTIFIED TRAINEE (IDF)', 'MICRO-EAR SURGERY (BOMBAY)', 'FESS (DELHI)', 'FICMCH', 'DHR QUALIFIED (UK)', ' MCPS)', 'BPT (NITOR-DU)', 'PGD (SPORTS SCIENCE', ' BKSP)', 'BSC (HONS.)', 'B. SC (FOOD AND NUTRITION', ' KU)', 'DIPLOMA IN INTERNAL MEDICINE (USA)', 'AND FELLOW IN GYNE ONCOLOGY (UK & SG)', 'WHO FELLOW (SINGAPORE)', 'AST (JAPAN)', 'M-CARD (COURSE)', ' THESIS PART)', 'DIP', 'SAGES (USA)', 'FELLOW IN UROLOGY (USA)', 'DD (THAILAND/JAPAN)', 'D. ORTHO', 'DTM (SWEDEN)', ' PACES)', 'FICO (UK)', 'MRCS ED. (UK)', 'MRCOG - 2 (LONDON)', 'D-PAD (AUSTRIA)', 'PGC IN CHILD', 'DPH (DU)', 'PH.D(RUSSIA)', 'DO(EYE)', 'FICO (EYE)', 'BSC (PSYCHOLOGY)', 'DO (EYE)', 'CPR (DMCH)', 'ISP (TMDU)', 'DV (BANGKOK)', 'EOC (PHILIPPINES)', 'ICO (UK)', 'ICO (LONDON)', 'FVRS (RETINA)', 'ICO', 'DO (OPH)', 'ARCS (ENGLAND)', 'FRSH', 'MRCS (GLASG)', 'DIPLOMA', 'ENS( GERMANY)', 'FOS (NUH', 'MICS', 'BSPT(DU) NITOR', 'POST-GRADUATE AWARD IN A. R. T (UK)', 'RCP & SI ( DABIN )', 'DA (BSMMU)', 'MCCP (UK)', 'DOC (SKIN)', 'B. SC (HONS)', 'M. SC (FOOD AND NUTRITION)', 'PGCC (NIN)', 'ICMR', 'MHPED', 'FMAS (INDIA).', 'D.ORTH (ORTHOPAEDICS)', 'MTM', 'TDO (JAPAN)', 'BPT', 'BSPT (DU)', ' NITOR)', 'PH.D (SURGERY)', 'ICU', 'MRCS (GLASSGROW)', 'D- ORTHO', 'FIPM (INDIA)', 'MRCM', 'RCM (LONDON-UK)', 'TDM (INDIA)', 'CPD (INDIA)', 'D- ECZAMA', ' GASTROENTEROLOGY)', 'IDM (FRANCE)', 'CCCD (CARDIOLOGY)', 'MCCP (CHEST DISEASE)', 'DO (OPHTHALMOLOGY)', 'DO (B.S.M.M.U)', 'DIABETOLOGIST (BOSTON UNIVERSITY', 'PGDM U (BOU)', 'CMU (ULTRASONOGRAPHY)', 'DOC (SKIN & DV)', 'DVD (DERMATOLOGY)', 'DLP (DIABETOLOGY)', 'DTM&H (LIVERPOOL UNIVERSITY', 'UK)', 'D - CARD', 'D.O (NIOH)', 'BPT (DHAKA)', 'CMT (INDIA)', 'MCCONNELL APROS (LBP)', ' DMK)', 'FICD (AMERICA)', 'A', 'O (BASIC TRAUMA)', 'IWP (THROAT)', 'IWR (NOSE)', 'MRCS (EDINE)', 'DGHS (DHAKA)', 'UK). MACP (USA)', 'MMCP', 'DO (DHAKA)', 'FOTS (HONG KONG)', 'DTMH (LONDON)', 'FCGP (FMED)', 'FELO (WHO)', 'M-CARD (EUROPE)', 'NST FELLOW (MEDICINE)', 'FASE (EU)', 'ADMF', 'HONORARY TRAINING (ANESTHESIA)', 'ADMS (CANADA)', 'CCU', 'NITOR (PONGU HOSPITAL)', 'TRAINED ON MANUAL THERAPY (CMTB)', 'EMPH (MATERNAL & CHILD HEALTH)', 'THESIS PART', 'DTCD (BSMMU)', 'BPT (BMC)', 'CMTB (BIHS)', 'CSP (BISS)', 'D.ORTHO ( PG)', 'A.O. SPINE MEMBER ( SWITZARLAND)', 'MAMS (VIENA)', 'ICPPN (SINGAPORE)', 'PH.D (DU)', 'AMACC (USA)', 'FELLOW ORBIT & OCULOPLASTY', 'FICO (ENGLAND)', 'DO (D.U.)', 'MRCS (FINAL PART)', 'PH.D (JAPAN)', 'D. ORTHO(AUSTRIA)', 'MACG', 'C.ULTRA (BSU). JUREI (USA)', 'DTM (DUBLIN)', 'DPP (PSYCHIATRY)', 'JUREI (USA)', 'FMAS IN INDIA', 'RCPS (IRELAND)', 'PGC', 'IAEA FELLOW TRAINING (SOUTH KOREA)', 'C-ALTRA', 'PH.D. (NEUROSURGERY)', 'DPH (LONDON)', 'CHDC (LONDON)', 'FRSTMH (UK)', 'CLINICAL ATTACHMENT', 'QUEEN ELIZABETH HOSPITAL (LONDON)', 'D-OPHTHALMOLOGY', 'FPOA', 'DTM & H (LONDON)', 'FMAS (DELHI)', 'PDF (JAPAN)', 'GOLD MEDAL (BD)', 'ECHO-CHD (ESC-EACVI/APEC)', 'MMAD (GOLD MEDALIST)', 'FIAGIS (INDIA)', ' PARALYSIS & RHEUMATIC DISEASES)', 'MRCR (UK)', 'EDIC (BELGIUM)', 'F. GASTRO (SHANGHAI)', 'DIP (CARDIOLOGY)', 'FIC (SINGAPORE)', 'MCAP (CLINICAL PATHOLOGY)', 'IFCAP', 'D. (ORTHO)', 'FICS (UROLOGY)', 'DO (USA)', 'NEUROLOGY RESIDENCY (USA)', 'DIPLOMA IN CLINICAL NEUROLOGY (UK)', 'USMLE', 'FAMASI', 'ADVANCED TRAINING IN DENTAL SURGERY (INDIA)', 'DENT', 'POST GRADUATE IN DIABETES (JOHNS HOPKINS', ' AMERICA)', 'FRSH (ENGLAND)', 'FELLOW WHO (BANGKOK)', 'AO (TRAUMA)', 'AO (SPINE)', 'DRH (UK)', 'DLSB', 'MPT (ORTHOPAEDICS)', 'BPT (DU-NITOR)', 'NSU INTERNSHIP', 'CCVD (CARDIOLOGY)', ' NEUROLOGY & DEVELOPMENT)', 'D-OPHTH (BSMMU)', 'D.A', 'DSC (CTS)', 'FIACS', 'DDS(DU) & FICD(USA)', 'OJT RHEUMATOLOGY', 'PGST (PEDIATRICS)', 'CLINICAL ORDINATURA (UROLOGY)', 'DPD (CARDIFF', 'COMMONWEALTH FELLOW NEPHROLOGY (UK)', 'BAPRAS FELLOW (UK)', 'MRCSED', 'MRCS (GLASGOW)', 'A.O (INDIA)', 'DNM', 'MFIL (ONCOLOGY', 'PH.D (UROLOGY)', 'NCCP (INDIA)', 'MMAD', ' RCPCH)', 'MMED PEDIATRICS (SPORE)', 'DAGO (LONDON)', 'AFIBS (THAILAND)', 'CMU (ULTRASOUND)', 'MRCOG PART 1 (UK)', 'FOOD & NUTRITION', 'SPECIALTY CERTIFICATE IN NEUROLOGY (SCE', 'DIPLOMA IN COUNCELING (TA & NLP)', 'PH.D. (INDIA)', 'MA AND BA (DU)', 'FELLOWSHIP ON NCD (UK)', 'DIP. IN ASTHMA (ICDDR', 'B)', 'CCCD (NHF)', 'PG. DIP. IN FAMILY MEDICINE', 'MBCHB (DUNDEE MEDICAL SCHOOL)', 'FMD (USTC)', 'DOC (SKIN & VENERAL)', 'DOC (SKIN & VD)', 'DIPLOMA IN DERMATOLOGY', 'DIP. DERMATOLOGY (INSTITUTE OF DERMATOLOGY', 'POST-DOC (JAPAN)', 'PGD (JAPAN)', 'DTM & H', 'D CARD (LONDON)', 'FSCI', 'D. CARD (BSMMU)', 'NICVD', 'DIPLOMA IN EMERGENCY MEDICINE (UK)', 'DTMH (BANGKOK)', 'PRSA FELLOWSHIP (UK)', ' ENGLAND)', 'DSM (GASTRO)', 'FAMS (AUSTRIA)', 'IHM (MED', ' IRAN)', 'FGH (ENGLAND)', 'D-ORTH', 'EULER ECRD IN RHEUMATOLOGY', 'BSC(HONS)', 'D.T.M & H (BANKOK)', 'D -CARD', ' BSMMU', 'URC (SINGAPORE)', 'ECPS', 'FECSM', 'ICAP-I', 'BSMMU.', 'FSCP (USA)', 'MCCEE (CANADA)', 'DTCE (JAPAN)', 'M', 'ACCP', ' LIVER & DIGESTIVE SYSTEM)', 'DVD (DHAKA)', 'M-DERM (INDIA)', 'EP FELLOW (USA)', 'M. ED. (ENGLAND). DIPLOMA IN EPIDEMIOLOGY (ENGLAND)', 'FCPGS (GYNAE & OBS)', 'FELLOW (MIS).', 'FMAS.', 'MRIT (JAPAN)', 'DIP – E. MED (RSA)', 'FRACGP (AUSTRALIA)', 'MRCS (LONDON)', 'PGFEM (GWU-USA)', 'FCCM (IBMS-USA)', 'FICM', 'BCCPM (WHO)', 'DCN (LONDON)', 'C-CARD (USA)', 'FWHO (BANGKOK)', 'FSCAI (USA).', 'FELLOW-WHO (SINGAPORE', 'PIT (TURKEY)', 'FICS (NEUROSURGERY. USA)', 'A.O. FELLOW', 'D. UROL (LONDON)', 'MMED (BSMM)', 'BSMMU (PG HOSPITAL)', 'DIPLOMA IN OPHTHALMOLOGY.', 'MRCSED (OPHTH)', 'LONG TERM FELLOWSHIP (CORNEA) NIOCIH.', 'D PED. (VIENNA)', 'MAMS (VIENNA)', 'UROLOGY FELLOW (SINGAPORE)', 'AO FELLOWSHIP IN TRAUMA', 'FMD (MEDICINE)', 'FID-RLA (UK)', 'FICM (INDIA)', 'DIM (LONDON)', 'FELLOW ARTHROPLASTY & ARTHROSCOPY (INDIA)', 'JICA FELLOW (JAPAN)', 'ADVANCE TRAINING ON RHEUMATIC FEVER (JAPAN)', 'FELLOWSHIP IN AESTHETIC MEDICINE (DELHI', 'DOCTOR - MPHILL (1 PART) (DU)', 'SWITZERLAND', 'EDC', 'BARDEM (DHAKA)', 'DIPLOMA IN ENDOCRINOLOGY (UK) MSC IN ENDOCRINOLOGY (UK', ' LONDON) MRCP (UK) - PACES', 'FCGP (BD) FELLOW IN DIABETES (ROYAL COLLEGE', 'FELLOW PLASTIC SURGERY (SINGAPORE)', 'SPECIAL TRAINED TVS & COLOR DOPPLER', 'C- ULTRA (NETHERLAND)', 'MCCP', ' BANGKOK)', 'DIPLOMA IN LABORATORY MEDICINE (DLM)', 'DIPLOMA IN LABORATORY MEDICINE (DLM) (BSMMU). MCPS (LABORATORY MEDICINE)', 'MRCOG PART-3', 'FSCAI', '& MS (CLINICAL PSYCHOLOGY) (DU)', 'FELLOW APA (USA)', 'TRAINED IN MICRO-SURGERY (INTERPLAST', 'M. MED (SURGERY)', 'MHE (DU)', 'PGDHE (DU)', 'WHO FELLOW (INDONESIA)', 'PBGM', 'FELLOW IN CLINICAL NEUROELECTRO PHYSIOLOGY (MINS)', 'PEDIATRIC NUTRITION (BOSTON', 'TRAINED IN CLINICAL NUTRITION (INDIA)', 'DU', 'FACE (USA)', 'M.A.C.E (USA)', 'FWHO (UROLOGY)', 'FACRSI', 'DIPLOMA IN LATERAL SKULL BASE (INDIA)', 'PGDCC (INDIA)', 'DIPLOMA IN CLINICAL COSMETIC DERMATOLOGY (INDIA)', 'DIPLOMA IN CLINICAL NUTRITION (INDIA)', 'MCTS (SEOUL)', 'FELLOW IN LASER & COSMETIC DERMATO SURGERY (INDIA)', 'FELLOW OF SKIN LASER (THAILAND)', 'FIC (INDIA)', 'DIPLOMA (UK)', 'FESC (EU)', 'FRCOG (UK)', 'FACOG', 'MBBBS', 'FELLOW NEURO INTERVENTION & STROKE (INDIA)', 'FACS (USA))', 'CPA (USA)', 'DOMFS', 'BSC (HON)', 'PH.D. (PAIN & PARALYSIS)', 'FELLOWSHIP IN NEPHROLOGY (JAPAN)', 'DCD (INDIA)', 'ADMS (ULTRA)', 'DCD', ' CHILD HEALTH', 'PLAB CERTIFIED (ENGLAND)', 'D. ORTHO (PANGU HOSPITAL)', 'AO TRAUMA BASIC', 'CHILD HEALTH (DCH)', 'FISCP (IN)', 'FASCRS (USA)', 'FELLOW WHO', 'ESCORTS (DELHI)', 'FELLOW NEUROSURGERY (AUSTRALIA)', 'FIMS (INDIA)', 'FELLOW IN JOINT REPLACEMENT SURGERY (INDIA)', 'MCH (ORTHO', 'FRSM (UK)', 'FELLOWSHIP (SPINE SURGERY)', 'AO BASIC (SPINE SURGERY)', 'FASCRS', 'COLORECTAL FELLOW (USA)', ' MOSCOW)', 'D.ENDO UROLOGY', 'GRADING MEDICINE (AFMI)', ' PLASTIC & HAND SURGERY)', 'AO SPINE (ADVANCE)', 'MRCS (EDINBURGH', 'AO TRAUMA', 'RESEARCH FELLOW (BIRDEM)', 'FELLOW WFO (USA)', 'ECRD', 'MAAN (USA)', 'MRCS (SURGERY)', 'TVS ULTRASONOGRAM', 'ECFMG CERTIFIED (AMERICA)', 'DD (THAILAND-JAPAN)', 'FELLOW APOA (TRAUMA)', 'APSS (SPINE)', 'APOA FELLOWSHIP (INDIA)', 'JOINT REPLACE SURGERY FELLOWSHIP (INDIA)', 'AO FELLOW (SWITZERLAND)', 'D. ORTHO (BSMMU)', ' DMC)', 'CPR (DMC)', 'FAGS (USA)', 'MRCOG (FINAL', 'D. CARD', 'FELLOWSHIP & TRAINED IN INTERVENTIONAL CARDIOLOGY', 'DTCD (UK) D.CARD (AUSTRIA) DTM & H (ENGLAND)', 'FRSTM & H (LONDON)', 'ADVANCED DIPLOMA IN ART & REPRODUCTIVE MEDICINE (UK)', 'OKETANI LMT TRAINING (JAPAN)', 'SPECIAL TRAINED IN CARDIOLOGY', 'DTCT', 'NDD', 'WMN (BADN)', 'WHO FELLOW (AUSTRALIA)', 'D.ORTHO (BSMMU)', 'FELLOWSHIP IN PLASTIC', 'RECONSTRUCTIVE', 'HAND & MICROSURGERY', 'IAPEN (CRITICAL PATIENT CARE)', 'D.ORTHO (BSMMU-FORMER IPGMR)', 'A.O SPINE MEMBER (SWITZERLAND)', ' ORAL AND MAXILLOFACIAL SURGERY', ' PAEDIATRIC DENTISTRY)', ' ORAL & MAXILLOFACIAL SURGERY)', ' DENTAL UNIT)', 'DDS (CONSERVATIVE DENTISTRY)', 'AFMI (CMH. DHAKA)', 'FRSM (PAEDID)', 'LONDON', 'MTM (BSMMU)', 'TRAIN IN LAPAROSCOPIC SURGERY (GERMANY)', 'ADVANCE TRAINING IN LAPAROSCOPIC SURGERY', 'GENERAL LAPAROSCOPIC', 'HERNIA', 'BREAST AND COLORECTAL SURGEON', 'FAM (FELLOWSHIP IN AESTHETIC MEDICINE- INDIA/GERMANY)', 'BSPT (BHPI-DU)', 'BSPT (CRP', 'DIPLOMA IN FAMILY MEDICINE', 'SPECIALIST TRAINING (LONDON)', 'DIPLOMA IN REPRODUCTIVE MEDICINE & INFERTILITY (GERMANY)', 'FELLOW PEDIATRIC CARDIOLOGY (USA)', 'DCO (UK)', 'ADVANCED TRAINING IN ENDOCRINOLOGY (MAYA CLINIC', 'TREND HOS VATS', 'ROBOTIC SURGERY (DELHI)', 'DIH', 'DA (ANEAS)', 'MRCSED (EDINBURG)', 'AO ADVANCED (INDONESIA)', 'AO FELLOW (BANGKOK)', ' NIDCH)', 'FELLOW IN MINIMAL INVASIVE THORACIC SURGERY (SINGAPORE)', 'TRAINED IN THORACOSCOPIC SURGERY (INDIA', ' CHINA', ' S. KOREA)', 'RESEARCH FELLOW (JAPAN)', 'FELLOW IN SKULL BASE AND MICRO-NEUROSURGERY (MUMBAI', ' GERMANY)', 'TRAINING (LAPAROSCOPIC SURGERY)', 'FISN (CA)', 'FASN (USA)', 'FART (INDIA)', 'FELLOWSHIP TRAINING (FETOMATERNAL MEDICINE)', 'DDS (CONSERVATIVE & ENDODONTICS)', 'FELLOWSHIP TRAINING (GYNAE ONCOLOGY)', 'IMPLANTOLOGIST', 'DPM', 'D. OPTH', 'FDS', 'RCPS (GLASGOW', 'IHTC FELLOWSHIP IN MALAYSIA', 'MCH (PLASTIC SURGERY)', 'TRAINED IN MICROSURGERY', 'DIPLOMA IN INTERNAL MEDICINE (UK)', 'PGDND', 'FINS (INDIA)', 'PACES', 'DIPLOMA (UROLOGY', 'WHO', 'NUH (SINGAPORE)', 'FELLOW OF THE WHO (CHILD PSYCHIATRY)', 'DDS (WELS)', 'TRAINING (INDIA)', 'TRAINED IN CARDIOLOGY (JAPAN)', 'WHO FELLOW', 'FELLOWSHIP', 'AND A BCCPM DEGREE (KERALA)', 'FELLOW ENDOCRINOLOGY (AUSTRALIA)', 'FACE', 'RCPS (IRE)', 'DNB (ORTHO)', ' FOOD & NUTRITION)', 'EPILEPSY AND EEG (UMMC', 'FELLOWSHIP IN EPILEPSY & EEG (MALAYSIA)', ' CANADA)', 'MACTM', 'IHTC FELLOWSHIP IN MALAYSHIA', 'FCPC (OBGYN)', 'MRCS (ENG)', 'FMAS (IND.)', 'HDCH', 'DTCD (CHEST MEDICINE)', 'DTM & H (BANGKOK)', 'FELLOW (TOBI', 'A O TRAUMA', 'AO BASIC TRAUMA', 'SPECIAL TRAINING IN FESS (SINGAPORE)', 'HEAD', 'NECK & EAR SURGERY (USA', 'DDS (D-PROSTHODONTICS)', 'POST GEADUATE GRADING COURSE (MEDICINE)', 'AFMI', 'FELLOW GASTRO. (JAPAN)', 'FCGP (BD)', 'MMED (UK)', 'ADVANCE TRAINING IN CARDIAC SURGERY (SINGAPORE', ' PHILIPPINE', ' RUSSIA)', 'USMLE (USA)', 'MRCH (ENGLAND)', 'F.M', 'AO TRAUMA (SWITZERLAND)', 'DTM & H (ENGLAND)', 'AMC', 'MCQ', 'HIGHER TRAINING IN LIVER TRANSPLANT SURGERY DELHI (INDIA)', 'TRAINED ON EVIDENCE BASED OBSTETRICS (AUSTRALIA', ' INDONESIA)', 'MACA', 'FS (JAPAN)', 'BMDC', 'ECRD (SWITZERLAND)', 'DIP. IN ORTHOPADIC MEDICINE (BELGIUM)', 'WIC-SICOT (UK)', 'FELLOW ORTHOPEDIC & TRAUMA SURGERY', 'PGCM (ENGLAND)', 'DTM&H (ENG)', 'FELLOW UITREO- RETINA EYE/ OPHTHALMOLOGY', 'FAAP (USA)', 'DTCH', 'HIGER TRAINING TATA MEMORIAL HOSPITAL', 'MUMBAI', 'FELLOW UROLOGY (AUSTRALIA)', 'FSCA (USA)', 'FACS (GENERAL', ' CLORECTAL', ' LAPAROSCOPIC', ' BARIATRIC SERGEON AND SERGICAL ONCOLOGIST)', 'FICS (GENERAL AND GASTROENTEROLOGY SERGERY)', 'FELLOW PEDIATRIC CARDIOLOGY (AIMS)', 'MADA', 'PDCC (INDIA)', 'FASC (EUROPE)', 'EMHE (DU)', 'FSPU', 'FELLOW PEDIATRIC UROLOGY (USA)', 'WHO FELLOW ON PEDIATRIC UROLOGY (INDIA)', 'FELLOW REPLACEMENT SURGERY (JAPAN)', 'BUMS (DU)', 'BHS (UPPER)', 'TRAINING ON ADVANCE HEMATOLOGY & BONE MARROW TRANSPLANT (BANGKOK & USA)', 'ADVANCE TRAINING IN LAPAROSCOPY & INFERTILITY (INDIA)', 'DLP', 'D-MED (UK)', 'D-OPHTH (DU)', 'TRAINING ON VIMS & KKR INSTITUTE', 'INDIA', 'DDC', 'DR SC IN PED (USA)', ' UK).', 'FIC', 'FELLOW-WHO (INDIA)', 'FELLOW (WHO)', 'TRAINING (IVF', ' IUI)', 'ECGP', 'CDMU', 'FICM(INDIA)', 'D.ORTHO( DU)', 'FTMOH (LONDON)', 'FRDH (LONDON)', 'WCH (LONDON)', 'DIPLOMA IN DERMATOLOGY (UK)', 'TRAINED IN COSMO-DERMATOLOGY (INDIA)', 'INVASIVE COSMO-DERMATOLOGY (QATAR)', 'FACC (AMERICA)', 'FESC (EUROPE)', 'FACS (UNITED STATES)', 'AO SPINE BASIC (INDIA)', 'ADVANCE AO SPINE COURSE (SG', ' MY)', 'ARTHROPLASTY BASIC (INDIA)', 'TRAINED IN INFERTILITY (INDIA)', 'TRAINED IN ADVANCED LAPAROSCOPIC SURGERY & HYSTEROSCOPY (INDIA)', 'MRCOG (PART-1) LONDON', 'MRCOG-2 (UK)', 'DOWH (IRELAND)', 'MRCOG2 (UK)', 'APASL', 'AASLD (CHINA) JOINT AWARD', 'OJT (GASTROENTEROLOGY)', 'FELLOWSHIP GASTROENTEROLOGY & HEPATOLOGY (PAK)', 'HIGHER TRAINING (INDIA', ' PHILIPPINES & USA)', 'MBA (HEALTH CARE MANAGEMENT)', 'ECHO (INDIA)', 'DTM&H (LONDON)', 'DLP (UK)', 'FCS (USA)', 'MACG (GAESTROENTEROLOGY)', 'CEU', 'FP', 'P.G.P.N (CARDIOLOGIST)', 'FRSH (GENERAL PHYSICIAN)', 'INFERTILITY SPECIALIST (CHENNAI)', 'FELLOW COSMETIC GYNAECOLOGY (DUBAI)', 'MRCS (LP)', 'FAMS (VIENA)', 'AFACC (USA)', 'FASIC & FSCAI (USA)', 'FP(MEDICINE)', 'WHO FELLOW (RADIATION ONCOLOGY)', ' DMU)', 'HIGHLY TRAINED IN OBS. (INDIA', ' MUMBAI)', 'FRSH (LNDON)', 'UK RESIDENT PHYSICIAN (R.P)', 'FELLOWSHIP IN DERMATOLOGY LASER SURGERY (SKIN ALLERGY & SEX DISEASE (CMH))', 'AND FRSH (UK)', 'MRCS (UK', ' EDIN)', 'SPINE SURGERY (USA)', 'FELLOW IN INTERVENTIONAL NEUROLOGY & STOKE (SWITZERLAND)', 'TRAINING (NEPHROLOGY)', 'FELLOW IN GASTROENTEROLOGY (TURKEY)', ' GYNAE AND OBS)', 'DFFP (UK)', ' LONDON', 'PGDIP-DIABETES (UK)', 'ADVANCED TRAINING (COLORECTAL', ' ENDOSCOPIC & LASER SURGERY)', 'MACC (AMERICA)', 'TRAINED IN ECHO (CARDIOGRAPHY)', 'PH.D. (VASCULAR SURGERY)', 'FICA (USA)', 'FACC & FSCAI (USA)', 'DD (JAPAN', 'FCOG (UK)', 'DTCE', 'DIM', 'FELLOWSHIP IN LAPAROSCOPIC SURGERY (INDIA)', 'FELLOW IN LAPAROSCOPIC SURGERY (INDIA)', 'MEMBER (ASCRS)', 'FELLOW (ISUCRS)', 'FELLOW RHEUMATOLOGY (USA)', 'FWPA (USA)', 'CME-WCP', 'AO TRAUMA (BASIC)', 'AAOS (USA)', 'WHO FELLOW ARTHROPLASTY', 'ARTHROSCOPY (INDIA)', 'FELLOWSHIP IN ARTHROSCOPY & ARTHROPLASTY (KOREA & INDIA)', 'FELLOW (SPINE SURGERY)', 'RCO (USA)', ' INDIA & GERMANY)', 'TRAINING IN MODERN NEUROSURGERY (JAPAN & TURKEY)', 'WHO (THAILAND)', 'TRAINED IN NEUROSONOLOGY (SINGAPORE)', 'HIGHER TRAINING (RHEUMATOLOGY)', 'WHO FELLOW (DIABETICS)', 'POST FELLOWSHIP TRAINING (CARDIOLOGY)', 'TRAINING (KIDNEY DISEASES)', 'FWHO (RHEUMATOLOGY)', 'FISN (UK)', 'FASH (USA)', 'TRAINING (FRANCE & JAPAN)', 'DLSB (IND)', 'FICS (USA) ENT (EAR', ' NOSE', ' THROAT)', 'FELLOW- COLORECTAL SURGERY (JAPAN)', 'FELLOW CMRI (SWITZERLAND)', 'FSGC', 'FAPSIC', 'DIH (DU)', 'LM', 'POST GRADUATION TRAINING (MEDICAL ONCOLOGY)', 'FELLOWSHIP TRAINING IN RADIATION ONCOLOGY (INDIA)', 'WHO FELLOW ONCOLOGY (BANGKOK)', 'FELLOW NEWBORN MEDICINE (SINGAPORE)', 'MPT (BHPI-CRP) MSS (GERIATRIC-DU)', 'DIP IN OM (CYRIAX-ONCOURSE)', 'CERTIFIED DRY NEEDLING PARCTITIONER', 'FIPM (AESCULAP ACADEMY)', 'ROS (JAPAN)', 'WHO FELLOW (THAILAND)', 'FELLOW – CHILD PSYCHIATRY (PAKISTAN)', 'DAND', 'DPT (STATE MEDICAL FACULTY)', 'BPT (DU MEDICINE FACULTY) ST', 'TRAINED IN SPORTS PHYSIO (BISS)', 'PHARMACOLOGY (DAMEK)', 'D CARD (CARDIOLOGY)', 'TRAINED IN GYNE ONCOLOGY (INDIA)', 'MMED (DU)', 'HMO', 'DOC (SKIN & SEX)', 'DIPLOMA (FAMILY MEDICINE)', 'CTM (DU)', 'C-CARD (NATIONAL HEART FOUNDATION)', 'ARAB BOARD', 'KSA', 'SPECIAL TRAINING ON INFERTILITY (INDIA)', 'FELLOW (PEDIATRIC GASTROENTEROLOGY & NUTRITION)', 'FELLOW SPINE SURGERY (WASHINGTON UNIVERSITY', ' USA) N SPINE COURSE (NOTTINGHAM UNIVERSITY', ' UK) APSS SPINE FELLOW (AUSTRALIA) FELLOW SPINE SURGERY (JAPAN', ' TAIWAN) APOLLO SPINE FELLOW (MADRAS', ' INDIA) HIGHER COURSE MISS (FRANCE) SRS SCHOLAR (USA) AO SPINE', 'BASIC', 'ADVANCE AND MASTERS (MALAYSIA)', 'DNM (DU)', 'FNM (UK)', 'FELLOWSHIP IN NEUROSURGERY (SWEDEN)', 'DCO', 'LIVER TRANSPLANT FELLOW (MEDANTA-DELHI NCR)']\n"
          ]
        }
      ],
      "source": [
        "#Substitute education using regular expression\n",
        "df['Education'] = df['Education'].apply(lambda education_list: [re.sub('^AO-BASIC.*', 'AO-BASIC', edu) for edu in education_list])\n",
        "\n",
        "df['Education'] = df['Education'].apply(lambda education_list: [re.sub('^B.SC.*', 'BSC', edu) for edu in education_list])\n",
        "df['Education'] = df['Education'].apply(lambda education_list: [re.sub('^BCS.*', 'BCS', edu) for edu in education_list])\n",
        "df['Education'] = df['Education'].apply(lambda education_list: [re.sub('^BDS.*', 'BDS', edu) for edu in education_list])\n",
        "\n",
        "\n",
        "df['Education'] = df['Education'].apply(lambda education_list: [re.sub('^CCD.*', 'CCD', edu) for edu in education_list])\n",
        "\n",
        "df['Education'] = df['Education'].apply(lambda education_list: [re.sub('^DCP.*', 'DCP', edu) for edu in education_list])\n",
        "df['Education'] = df['Education'].apply(lambda education_list: [re.sub('^DCH.*', 'DCH', edu) for edu in education_list])\n",
        "df['Education'] = df['Education'].apply(lambda education_list: [re.sub('^DDV.*', 'DDV', edu) for edu in education_list])\n",
        "df['Education'] = df['Education'].apply(lambda education_list: [re.sub('^DEM.*', 'DEM', edu) for edu in education_list])\n",
        "df['Education'] = df['Education'].apply(lambda education_list: [re.sub('^D-CARD.*', 'D-CARD', edu) for edu in education_list])\n",
        "df['Education'] = df['Education'].apply(lambda education_list: [re.sub('^D- CARD.*', 'D-CARD', edu) for edu in education_list])\n",
        "df['Education'] = df['Education'].apply(lambda education_list: [re.sub('^DENT.*', 'DENT', edu) for edu in education_list])\n",
        "df['Education'] = df['Education'].apply(lambda education_list: [re.sub('^DGO.*', 'DGO', edu) for edu in education_list])\n",
        "df['Education'] = df['Education'].apply(lambda education_list: [re.sub('^DM.*', 'DM', edu) for edu in education_list])\n",
        "df['Education'] = df['Education'].apply(lambda education_list: [re.sub('^D ORTHO.*', 'D-ORTHO', edu) for edu in education_list])\n",
        "df['Education'] = df['Education'].apply(lambda education_list: [re.sub('^D - ORTHO.*', 'D-ORTHO', edu) for edu in education_list])\n",
        "df['Education'] = df['Education'].apply(lambda education_list: [re.sub('^D-ORTHO.*', 'D-ORTHO', edu) for edu in education_list])\n",
        "df['Education'] = df['Education'].apply(lambda education_list: [re.sub('^DLO.*', 'DLO', edu) for edu in education_list])\n",
        "\n",
        "\n",
        "df['Education'] = df['Education'].apply(lambda education_list: [re.sub('^FCPS.*', 'FCPS', edu) for edu in education_list])\n",
        "df['Education'] = df['Education'].apply(lambda education_list: [re.sub('^FCCP.*', 'FCCP', edu) for edu in education_list])\n",
        "df['Education'] = df['Education'].apply(lambda education_list: [re.sub('^FRCP.*', 'FRCP', edu) for edu in education_list])\n",
        "df['Education'] = df['Education'].apply(lambda education_list: [re.sub('^FRCS.*', 'FRCS', edu) for edu in education_list])\n",
        "df['Education'] = df['Education'].apply(lambda education_list: [re.sub('^FRCPCH.*', 'FRCPCH', edu) for edu in education_list])\n",
        "df['Education'] = df['Education'].apply(lambda education_list: [re.sub('^FACP.*', 'FACP', edu) for edu in education_list])\n",
        "df['Education'] = df['Education'].apply(lambda education_list: [re.sub('^FHN.*', 'FHN', edu) for edu in education_list])\n",
        "\n",
        "\n",
        "df['Education'] = df['Education'].apply(lambda education_list: [re.sub('^MBBS.*', 'MBBS', edu) for edu in education_list])\n",
        "df['Education'] = df['Education'].apply(lambda education_list: [re.sub('^M.B.B.S.*', 'MBBS', edu) for edu in education_list])\n",
        "df['Education'] = df['Education'].apply(lambda education_list: [re.sub('^MCPS.*', 'MCPS', edu) for edu in education_list])\n",
        "df['Education'] = df['Education'].apply(lambda education_list: [re.sub('^MD.*', 'MD', edu) for edu in education_list])\n",
        "df['Education'] = df['Education'].apply(lambda education_list: [re.sub('^MRCP.*', 'MRCP', edu) for edu in education_list])\n",
        "df['Education'] = df['Education'].apply(lambda education_list: [re.sub('^MPH.*', 'MPH', edu) for edu in education_list])\n",
        "df['Education'] = df['Education'].apply(lambda education_list: [re.sub('^MACP.*', 'MACP', edu) for edu in education_list])\n",
        "df['Education'] = df['Education'].apply(lambda education_list: [re.sub('^M.MED.*', 'M.MED', edu) for edu in education_list])\n",
        "df['Education'] = df['Education'].apply(lambda education_list: [re.sub('^MS.*', 'MS', edu) for edu in education_list])\n",
        "df['Education'] = df['Education'].apply(lambda education_list: [re.sub('^M.S.*', 'MS', edu) for edu in education_list])\n",
        "df['Education'] = df['Education'].apply(lambda education_list: [re.sub('^M.PHIL.*', 'M.PHIL', edu) for edu in education_list])\n",
        "df['Education'] = df['Education'].apply(lambda education_list: [re.sub('^M. PHIL.*', 'M.PHIL', edu) for edu in education_list])\n",
        "df['Education'] = df['Education'].apply(lambda education_list: [re.sub('^M.SC.*', 'M.SC', edu) for edu in education_list])\n",
        "df['Education'] = df['Education'].apply(lambda education_list: [re.sub('^MACE.*', 'MACE', edu) for edu in education_list])\n",
        "\n",
        "df['Education'] = df['Education'].apply(lambda education_list: [re.sub('^PGT.*', 'PGT', edu) for edu in education_list])\n",
        "df['Education'] = df['Education'].apply(lambda education_list: [re.sub('^PHD.*', 'PHD', edu) for edu in education_list])\n",
        "df['Education'] = df['Education'].apply(lambda education_list: [re.sub('^PGPN.*', 'PGPN', edu) for edu in education_list])\n",
        "\n",
        "df['Education'] = df['Education'].apply(lambda education_list: [re.sub('^INFS.*', 'INFS', edu) for edu in education_list])\n",
        "\n",
        "\n",
        "education_list = [item for sublist in df['Education'] for item in sublist]\n",
        "edList = pd.Series(education_list).unique().tolist()\n",
        "\n",
        "print(\"Unique Education Entries after cleaning:\", len(edList))\n",
        "education_list_flat = [item for sublist in df['Education'] for item in sublist]\n",
        "print(\"Unique Education Entries after cleaning:\", edList)"
      ]
    },
    {
      "cell_type": "markdown",
      "metadata": {
        "id": "p3UpYJgVXc87"
      },
      "source": [
        "### Adding a unique ID for each doctor"
      ]
    },
    {
      "cell_type": "code",
      "execution_count": 10,
      "metadata": {
        "colab": {
          "base_uri": "https://localhost:8080/",
          "height": 224
        },
        "id": "dwwjb03moK-2",
        "outputId": "05184eb5-6eef-4ee5-91cd-8da20325d08e"
      },
      "outputs": [
        {
          "name": "stdout",
          "output_type": "stream",
          "text": [
            "Before Splitting 'Education' and 'Concentration':\n"
          ]
        },
        {
          "data": {
            "text/html": [
              "<div>\n",
              "<style scoped>\n",
              "    .dataframe tbody tr th:only-of-type {\n",
              "        vertical-align: middle;\n",
              "    }\n",
              "\n",
              "    .dataframe tbody tr th {\n",
              "        vertical-align: top;\n",
              "    }\n",
              "\n",
              "    .dataframe thead th {\n",
              "        text-align: right;\n",
              "    }\n",
              "</style>\n",
              "<table border=\"1\" class=\"dataframe\">\n",
              "  <thead>\n",
              "    <tr style=\"text-align: right;\">\n",
              "      <th></th>\n",
              "      <th>Doctor ID</th>\n",
              "      <th>Doctor Name</th>\n",
              "      <th>Education</th>\n",
              "      <th>Speciality</th>\n",
              "      <th>Experience</th>\n",
              "      <th>Chamber</th>\n",
              "      <th>Location</th>\n",
              "      <th>Concentration</th>\n",
              "    </tr>\n",
              "  </thead>\n",
              "  <tbody>\n",
              "    <tr>\n",
              "      <th>0</th>\n",
              "      <td>1</td>\n",
              "      <td>Asst. Prof. Dr. Nurun Nahar Mohua</td>\n",
              "      <td>[MBBS, D-CARD, PHD]</td>\n",
              "      <td>Cardiologist</td>\n",
              "      <td>16.0</td>\n",
              "      <td>Aalok Healthcare Ltd. | Mirpur 10</td>\n",
              "      <td>Dhaka-1216</td>\n",
              "      <td>[Bacterial Endocarditis, Cardiac Ablation, Car...</td>\n",
              "    </tr>\n",
              "    <tr>\n",
              "      <th>1</th>\n",
              "      <td>2</td>\n",
              "      <td>Dr. Rezaul Alam Khan</td>\n",
              "      <td>[MBBS, CCD, MD]</td>\n",
              "      <td>Medicine Specialist</td>\n",
              "      <td>23.0</td>\n",
              "      <td>Aalok Healthcare Ltd. | Mirpur 10</td>\n",
              "      <td>Dhaka-1216</td>\n",
              "      <td>[Adolescent Medicine, Aesthetic Medicine, Card...</td>\n",
              "    </tr>\n",
              "    <tr>\n",
              "      <th>2</th>\n",
              "      <td>3</td>\n",
              "      <td>Dr. Ummy Salma Munni</td>\n",
              "      <td>[MS, MPH, PHD, INFS]</td>\n",
              "      <td>Nutritionist</td>\n",
              "      <td>14.0</td>\n",
              "      <td>BRB Hospitals Limited</td>\n",
              "      <td>Dhaka-1205</td>\n",
              "      <td>[Diabetes Management, Diet Management, Food Al...</td>\n",
              "    </tr>\n",
              "    <tr>\n",
              "      <th>3</th>\n",
              "      <td>4</td>\n",
              "      <td>Dr. Mostafa Kamal Rouf</td>\n",
              "      <td>[MBBS, BCS, FCPS, PGT]</td>\n",
              "      <td>Medicine Specialist</td>\n",
              "      <td>23.0</td>\n",
              "      <td>Aalok Healthcare Ltd. | Mirpur 10</td>\n",
              "      <td>Dhaka-1216</td>\n",
              "      <td>[Aesthetic Medicine, Alzheimer'S Disease, Arth...</td>\n",
              "    </tr>\n",
              "    <tr>\n",
              "      <th>4</th>\n",
              "      <td>5</td>\n",
              "      <td>Asst. Prof. Dr. Akhlak Ahmed</td>\n",
              "      <td>[MBBS, BCS, MACP]</td>\n",
              "      <td>Medicine Specialist</td>\n",
              "      <td>19.0</td>\n",
              "      <td>Aalok Healthcare Ltd. | Mirpur 10</td>\n",
              "      <td>Dhaka-1216</td>\n",
              "      <td>[Adolescent Medicine, Aesthetic Medicine, Card...</td>\n",
              "    </tr>\n",
              "  </tbody>\n",
              "</table>\n",
              "</div>"
            ],
            "text/plain": [
              "   Doctor ID                        Doctor Name               Education  \\\n",
              "0          1  Asst. Prof. Dr. Nurun Nahar Mohua     [MBBS, D-CARD, PHD]   \n",
              "1          2               Dr. Rezaul Alam Khan         [MBBS, CCD, MD]   \n",
              "2          3               Dr. Ummy Salma Munni    [MS, MPH, PHD, INFS]   \n",
              "3          4             Dr. Mostafa Kamal Rouf  [MBBS, BCS, FCPS, PGT]   \n",
              "4          5       Asst. Prof. Dr. Akhlak Ahmed       [MBBS, BCS, MACP]   \n",
              "\n",
              "            Speciality  Experience                            Chamber  \\\n",
              "0         Cardiologist        16.0  Aalok Healthcare Ltd. | Mirpur 10   \n",
              "1  Medicine Specialist        23.0  Aalok Healthcare Ltd. | Mirpur 10   \n",
              "2         Nutritionist        14.0              BRB Hospitals Limited   \n",
              "3  Medicine Specialist        23.0  Aalok Healthcare Ltd. | Mirpur 10   \n",
              "4  Medicine Specialist        19.0  Aalok Healthcare Ltd. | Mirpur 10   \n",
              "\n",
              "      Location                                      Concentration  \n",
              "0   Dhaka-1216  [Bacterial Endocarditis, Cardiac Ablation, Car...  \n",
              "1   Dhaka-1216  [Adolescent Medicine, Aesthetic Medicine, Card...  \n",
              "2   Dhaka-1205  [Diabetes Management, Diet Management, Food Al...  \n",
              "3   Dhaka-1216  [Aesthetic Medicine, Alzheimer'S Disease, Arth...  \n",
              "4   Dhaka-1216  [Adolescent Medicine, Aesthetic Medicine, Card...  "
            ]
          },
          "execution_count": 10,
          "metadata": {},
          "output_type": "execute_result"
        }
      ],
      "source": [
        "# Adding a unique ID for each doctor\n",
        "df['Doctor ID'] = df.index + 1\n",
        "\n",
        "# Reorder the columns to move 'Doctor ID' to the first position\n",
        "cols = df.columns.tolist()\n",
        "cols.insert(0, cols.pop(cols.index('Doctor ID')))  # Move 'Doctor ID' to the first column\n",
        "df = df[cols]  # Reorder the DataFrame columns\n",
        "print(\"Before Splitting 'Education' and 'Concentration':\")\n",
        "# print(df.head())\n",
        "df.head()"
      ]
    },
    {
      "cell_type": "markdown",
      "metadata": {
        "id": "Yef-2kbRXn3Y"
      },
      "source": [
        "### One-Hot Encoding Top Education and Concentration"
      ]
    },
    {
      "cell_type": "code",
      "execution_count": 11,
      "metadata": {
        "colab": {
          "base_uri": "https://localhost:8080/",
          "height": 328
        },
        "id": "6b61b46a",
        "outputId": "51fbc597-68f6-4566-c5f3-43cac46a54e6"
      },
      "outputs": [
        {
          "name": "stdout",
          "output_type": "stream",
          "text": [
            "DataFrame with one-hot encoded top 10 education degrees & Concentration:\n"
          ]
        },
        {
          "data": {
            "text/html": [
              "<div>\n",
              "<style scoped>\n",
              "    .dataframe tbody tr th:only-of-type {\n",
              "        vertical-align: middle;\n",
              "    }\n",
              "\n",
              "    .dataframe tbody tr th {\n",
              "        vertical-align: top;\n",
              "    }\n",
              "\n",
              "    .dataframe thead th {\n",
              "        text-align: right;\n",
              "    }\n",
              "</style>\n",
              "<table border=\"1\" class=\"dataframe\">\n",
              "  <thead>\n",
              "    <tr style=\"text-align: right;\">\n",
              "      <th></th>\n",
              "      <th>Doctor ID</th>\n",
              "      <th>Doctor Name</th>\n",
              "      <th>Education</th>\n",
              "      <th>Speciality</th>\n",
              "      <th>Experience</th>\n",
              "      <th>Chamber</th>\n",
              "      <th>Location</th>\n",
              "      <th>Concentration</th>\n",
              "      <th>MBBS</th>\n",
              "      <th>FCPS</th>\n",
              "      <th>...</th>\n",
              "      <th>Gynae Problems</th>\n",
              "      <th>Cardiac Medicine</th>\n",
              "      <th>General Medicine</th>\n",
              "      <th>Aesthetic Medicine</th>\n",
              "      <th>Adolescent Medicine</th>\n",
              "      <th>Infectious Diseases</th>\n",
              "      <th>Geriatric Medicine</th>\n",
              "      <th>Polycystic Ovary Syndrome (Pcos)</th>\n",
              "      <th>Hormone Dirtubances</th>\n",
              "      <th>Health Checkup (Pediatric)</th>\n",
              "    </tr>\n",
              "  </thead>\n",
              "  <tbody>\n",
              "    <tr>\n",
              "      <th>0</th>\n",
              "      <td>1</td>\n",
              "      <td>Asst. Prof. Dr. Nurun Nahar Mohua</td>\n",
              "      <td>[MBBS, D-CARD, PHD]</td>\n",
              "      <td>Cardiologist</td>\n",
              "      <td>16.0</td>\n",
              "      <td>Aalok Healthcare Ltd. | Mirpur 10</td>\n",
              "      <td>Dhaka-1216</td>\n",
              "      <td>[Bacterial Endocarditis, Cardiac Ablation, Car...</td>\n",
              "      <td>1</td>\n",
              "      <td>0</td>\n",
              "      <td>...</td>\n",
              "      <td>0</td>\n",
              "      <td>1</td>\n",
              "      <td>0</td>\n",
              "      <td>0</td>\n",
              "      <td>0</td>\n",
              "      <td>0</td>\n",
              "      <td>0</td>\n",
              "      <td>0</td>\n",
              "      <td>0</td>\n",
              "      <td>0</td>\n",
              "    </tr>\n",
              "    <tr>\n",
              "      <th>1</th>\n",
              "      <td>2</td>\n",
              "      <td>Dr. Rezaul Alam Khan</td>\n",
              "      <td>[MBBS, CCD, MD]</td>\n",
              "      <td>Medicine Specialist</td>\n",
              "      <td>23.0</td>\n",
              "      <td>Aalok Healthcare Ltd. | Mirpur 10</td>\n",
              "      <td>Dhaka-1216</td>\n",
              "      <td>[Adolescent Medicine, Aesthetic Medicine, Card...</td>\n",
              "      <td>1</td>\n",
              "      <td>0</td>\n",
              "      <td>...</td>\n",
              "      <td>0</td>\n",
              "      <td>1</td>\n",
              "      <td>1</td>\n",
              "      <td>1</td>\n",
              "      <td>1</td>\n",
              "      <td>0</td>\n",
              "      <td>1</td>\n",
              "      <td>0</td>\n",
              "      <td>0</td>\n",
              "      <td>0</td>\n",
              "    </tr>\n",
              "    <tr>\n",
              "      <th>2</th>\n",
              "      <td>3</td>\n",
              "      <td>Dr. Ummy Salma Munni</td>\n",
              "      <td>[MS, MPH, PHD, INFS]</td>\n",
              "      <td>Nutritionist</td>\n",
              "      <td>14.0</td>\n",
              "      <td>BRB Hospitals Limited</td>\n",
              "      <td>Dhaka-1205</td>\n",
              "      <td>[Diabetes Management, Diet Management, Food Al...</td>\n",
              "      <td>0</td>\n",
              "      <td>0</td>\n",
              "      <td>...</td>\n",
              "      <td>0</td>\n",
              "      <td>0</td>\n",
              "      <td>0</td>\n",
              "      <td>0</td>\n",
              "      <td>0</td>\n",
              "      <td>0</td>\n",
              "      <td>0</td>\n",
              "      <td>0</td>\n",
              "      <td>0</td>\n",
              "      <td>0</td>\n",
              "    </tr>\n",
              "    <tr>\n",
              "      <th>3</th>\n",
              "      <td>4</td>\n",
              "      <td>Dr. Mostafa Kamal Rouf</td>\n",
              "      <td>[MBBS, BCS, FCPS, PGT]</td>\n",
              "      <td>Medicine Specialist</td>\n",
              "      <td>23.0</td>\n",
              "      <td>Aalok Healthcare Ltd. | Mirpur 10</td>\n",
              "      <td>Dhaka-1216</td>\n",
              "      <td>[Aesthetic Medicine, Alzheimer'S Disease, Arth...</td>\n",
              "      <td>1</td>\n",
              "      <td>1</td>\n",
              "      <td>...</td>\n",
              "      <td>0</td>\n",
              "      <td>0</td>\n",
              "      <td>1</td>\n",
              "      <td>1</td>\n",
              "      <td>1</td>\n",
              "      <td>1</td>\n",
              "      <td>1</td>\n",
              "      <td>0</td>\n",
              "      <td>0</td>\n",
              "      <td>0</td>\n",
              "    </tr>\n",
              "    <tr>\n",
              "      <th>4</th>\n",
              "      <td>5</td>\n",
              "      <td>Asst. Prof. Dr. Akhlak Ahmed</td>\n",
              "      <td>[MBBS, BCS, MACP]</td>\n",
              "      <td>Medicine Specialist</td>\n",
              "      <td>19.0</td>\n",
              "      <td>Aalok Healthcare Ltd. | Mirpur 10</td>\n",
              "      <td>Dhaka-1216</td>\n",
              "      <td>[Adolescent Medicine, Aesthetic Medicine, Card...</td>\n",
              "      <td>1</td>\n",
              "      <td>0</td>\n",
              "      <td>...</td>\n",
              "      <td>0</td>\n",
              "      <td>1</td>\n",
              "      <td>1</td>\n",
              "      <td>1</td>\n",
              "      <td>1</td>\n",
              "      <td>0</td>\n",
              "      <td>1</td>\n",
              "      <td>0</td>\n",
              "      <td>0</td>\n",
              "      <td>0</td>\n",
              "    </tr>\n",
              "  </tbody>\n",
              "</table>\n",
              "<p>5 rows × 28 columns</p>\n",
              "</div>"
            ],
            "text/plain": [
              "   Doctor ID                        Doctor Name               Education  \\\n",
              "0          1  Asst. Prof. Dr. Nurun Nahar Mohua     [MBBS, D-CARD, PHD]   \n",
              "1          2               Dr. Rezaul Alam Khan         [MBBS, CCD, MD]   \n",
              "2          3               Dr. Ummy Salma Munni    [MS, MPH, PHD, INFS]   \n",
              "3          4             Dr. Mostafa Kamal Rouf  [MBBS, BCS, FCPS, PGT]   \n",
              "4          5       Asst. Prof. Dr. Akhlak Ahmed       [MBBS, BCS, MACP]   \n",
              "\n",
              "            Speciality  Experience                            Chamber  \\\n",
              "0         Cardiologist        16.0  Aalok Healthcare Ltd. | Mirpur 10   \n",
              "1  Medicine Specialist        23.0  Aalok Healthcare Ltd. | Mirpur 10   \n",
              "2         Nutritionist        14.0              BRB Hospitals Limited   \n",
              "3  Medicine Specialist        23.0  Aalok Healthcare Ltd. | Mirpur 10   \n",
              "4  Medicine Specialist        19.0  Aalok Healthcare Ltd. | Mirpur 10   \n",
              "\n",
              "      Location                                      Concentration  MBBS  FCPS  \\\n",
              "0   Dhaka-1216  [Bacterial Endocarditis, Cardiac Ablation, Car...     1     0   \n",
              "1   Dhaka-1216  [Adolescent Medicine, Aesthetic Medicine, Card...     1     0   \n",
              "2   Dhaka-1205  [Diabetes Management, Diet Management, Food Al...     0     0   \n",
              "3   Dhaka-1216  [Aesthetic Medicine, Alzheimer'S Disease, Arth...     1     1   \n",
              "4   Dhaka-1216  [Adolescent Medicine, Aesthetic Medicine, Card...     1     0   \n",
              "\n",
              "   ...  Gynae Problems  Cardiac Medicine  General Medicine  \\\n",
              "0  ...               0                 1                 0   \n",
              "1  ...               0                 1                 1   \n",
              "2  ...               0                 0                 0   \n",
              "3  ...               0                 0                 1   \n",
              "4  ...               0                 1                 1   \n",
              "\n",
              "   Aesthetic Medicine  Adolescent Medicine  Infectious Diseases  \\\n",
              "0                   0                    0                    0   \n",
              "1                   1                    1                    0   \n",
              "2                   0                    0                    0   \n",
              "3                   1                    1                    1   \n",
              "4                   1                    1                    0   \n",
              "\n",
              "   Geriatric Medicine  Polycystic Ovary Syndrome (Pcos)  Hormone Dirtubances  \\\n",
              "0                   0                                 0                    0   \n",
              "1                   1                                 0                    0   \n",
              "2                   0                                 0                    0   \n",
              "3                   1                                 0                    0   \n",
              "4                   1                                 0                    0   \n",
              "\n",
              "   Health Checkup (Pediatric)  \n",
              "0                           0  \n",
              "1                           0  \n",
              "2                           0  \n",
              "3                           0  \n",
              "4                           0  \n",
              "\n",
              "[5 rows x 28 columns]"
            ]
          },
          "execution_count": 11,
          "metadata": {},
          "output_type": "execute_result"
        }
      ],
      "source": [
        "# Count the occurrences of each degree across all lists\n",
        "education_list = [item for sublist in df['Education'] for item in sublist]\n",
        "top_10_education = pd.Series(education_list).value_counts().nlargest(10).index.tolist()\n",
        "\n",
        "# Create new columns for the top 10 education degrees and one-hot encode them\n",
        "for edu in top_10_education:\n",
        "    df[edu] = df['Education'].apply(lambda x: 1 if edu in x else 0)\n",
        "\n",
        "#Count the occurences of each concentration accrouss all lists\n",
        "concentration_list = [item for sublist in df['Concentration'] for item in sublist]\n",
        "top_10_concentration = pd.Series(concentration_list).value_counts().nlargest(10).index.tolist()\n",
        "\n",
        "# Create new columns for the top 20 concentration and one-hot encode them\n",
        "for conc in top_10_concentration:\n",
        "    df[conc] = df['Concentration'].apply(lambda x: 1 if conc in x else 0)\n",
        "\n",
        "print(\"DataFrame with one-hot encoded top 10 education degrees & Concentration:\")\n",
        "df.head()"
      ]
    },
    {
      "cell_type": "markdown",
      "metadata": {},
      "source": [
        "### Cleaning and processing Location field"
      ]
    },
    {
      "cell_type": "code",
      "execution_count": 12,
      "metadata": {},
      "outputs": [],
      "source": [
        "df['Location'] = df['Location'].str.upper().str.strip()  # Normalize location strings"
      ]
    },
    {
      "cell_type": "code",
      "execution_count": 13,
      "metadata": {},
      "outputs": [
        {
          "name": "stdout",
          "output_type": "stream",
          "text": [
            "['DHAKA-1216', 'DHAKA-1205', 'DHAKA-1217', 'DHAKA-1209', 'DHAKA-1230', 'DHAKA-1219', 'DHAKA-1204', 'BOGRA-5800', 'DHAKA-1207', 'DHAKA-1215', 'DHAKA-1212', 'CHITTAGONG-4000', 'CHITTAGONG-4337', 'CHITTAGONG-4203', 'CHITTAGONG-4212', 'BARISAL-8200', 'RAJSHAHI-6201', 'JESSORE-7400', \"COX'S BAZAR-4700\", 'DHAKA-1340', 'COMILLA-3500', 'DHAKA-1236', '1207', 'DHAKA-1360', 'DHAKA-1362', 'DHAKA-1229', 'DHAKA-1000', '1216', 'DHAKA-1213', 'DHAKA-1361', 'DHAKA-1206', 'DHAKA-1310', 'DHAKA-1450', 'DHAKA-1211', 'DHAKA-1100', 'RAJSHAHI-6000', 'CHITTAGONG-4202', 'NARAYANGANJ-1400', 'KUSHTIA-7032', 'DHAKA-1214', 'DHAKA-1711', 'NARAYANGANJ-1213', 'DHAKA-1840', 'DHAKA-1203', 'DHAKA-1430', 'GAZIPUR-1702']\n"
          ]
        }
      ],
      "source": [
        "#see the unique locations\n",
        "loc = df['Location'].tolist()\n",
        "print(pd.Series(loc).unique().tolist())"
      ]
    },
    {
      "cell_type": "code",
      "execution_count": 14,
      "metadata": {},
      "outputs": [],
      "source": [
        "df['Location'] = df['Location'].str.replace(r'^1207$', 'DHAKA-1207', regex=True)  # Change '1207' to 'DHAKA-1207'\n",
        "df['Location'] = df['Location'].str.replace('^1216$', 'DHAKA-1216', regex= True)  # Change '1205' to 'DHAKA-1205'"
      ]
    },
    {
      "cell_type": "code",
      "execution_count": 15,
      "metadata": {},
      "outputs": [],
      "source": [
        "#split the location get the city \n",
        "df['Location'] = df['Location'].str.split('-').str[0]  # Extract the city part before the hyphen\n",
        "df['Location'] = df['Location'].str.title().str.strip()  # Normalize city strings"
      ]
    },
    {
      "cell_type": "code",
      "execution_count": 16,
      "metadata": {},
      "outputs": [],
      "source": [
        "df['Location'] = df['Location'].str.replace(\"^Cox'S Bazar$\", \"Cox's Bazar\", regex= True) # Change the location 'Cox'S Bazar' to 'Cox's Bazar'"
      ]
    },
    {
      "cell_type": "markdown",
      "metadata": {},
      "source": [
        "### Cleaning the specialty column"
      ]
    },
    {
      "cell_type": "code",
      "execution_count": 17,
      "metadata": {},
      "outputs": [
        {
          "name": "stdout",
          "output_type": "stream",
          "text": [
            "Unique Speciality Entries after normalization:\n",
            "['CARDIOLOGIST', 'MEDICINE SPECIALIST', 'NUTRITIONIST', 'INTERNAL MEDICINE', 'RESPIRATORY SPECIALIST', 'GYNECOLOGISTS', 'GENERAL SURGEON\\nPLASTIC SURGEON', 'RHEUMATOLOGIST\\nMEDICINE SPECIALIST', 'GYNECOLOGIST & OBSTETRICIAN', 'INTERNAL MEDICINE SPECIALIST', 'HEMATOLOGIST', 'UROLOGIST', 'DERMATOLOGIST', 'OPHTHALMOLOGIST', 'NEUROLOGIST', 'MAXILLOFACIAL AND DENTAL SURGEON', 'PEDIATRICIAN\\nPEDIATRIC CARDIOLOGIST', 'ENDOCRINOLOGIST', 'GASTROENTEROLOGIST', 'PLASTIC SURGEON', 'OTOLARYNGOLOGISTS (ENT)', 'ONCOLOGIST', 'PEDIATRICIAN', 'ORTHOPEDIC SURGEON', 'GENERAL SURGEON', 'MEDICINE SPECIALIST\\nENDOCRINOLOGIST', 'GENERAL SURGEON\\nTHORACIC SURGEON', 'NEUROMEDICINE SPECIALIST', 'PSYCHIATRIST', 'NEPHROLOGIST', 'GASTROENTEROLOGIST\\nMEDICINE SPECIALIST', 'INTERNAL MEDICINE SPECIALIST\\nRESPIRATORY SPECIALIST', 'THORACIC SURGEON', 'CARDIAC SURGEON', 'ANESTHESIOLOGIST', 'GYNECOLOGIST & OBSTETRICIAN\\nINFERTILITY SPECIALIST', 'GYNECOLOGIC ONCOLOGIST', 'RADIOLOGIST', 'PHYSICAL MEDICINE', 'GENERAL SURGEON\\nCOLORECTAL & LAPAROSCOPIC SURGEON', 'GENERAL SURGEON\\nLAPAROSCOPIC SURGEON', 'NEUROSURGEON', 'UROLOGIST\\nGENERAL SURGEON', 'PEDIATRICIAN & NEONATOLOGIST', 'ORTHOPEDIST', 'PULMONOLOGIST\\nMEDICINE SPECIALIST', 'PEDIATRIC GASTROENTEROLOGIST', 'GASTROENTEROLOGIST\\nHEPATOLOGIST', 'CARDIOTHORACIC AND VASCULAR SURGEON', 'GENERAL SURGEON\\nLAPAROSCOPIC SURGEON\\nCOLORECTAL SURGEON', 'COLORECTAL SURGEON', 'PULMONOLOGIST', 'MEDICINE SPECIALIST\\nCARDIOLOGIST', 'HEPATOLOGIST', 'GYNECOLOGIST & OBSTETRICIAN\\nLAPAROSCOPIC SURGEON', 'CARDIOTHORACIC AND VASCULAR SURGEON\\nTHORACIC SURGEON', 'GENERAL SURGEON\\nCOLORECTAL SURGEON', 'GYNECOLOGIST & OBSTETRICIAN\\nGYNECOLOGIC ONCOLOGIST', 'MEDICINE SPECIALIST\\nGASTROENTEROLOGIST', 'MEDICINE SPECIALIST\\nHEPATOLOGIST', 'SURGEON', 'PEDIATRIC SURGEON', 'RHEUMATOLOGIST', 'GYNECOLOGIST & OBSTETRICIAN\\nINFERTILITY SPECIALIST\\nLAPAROSCOPIC SURGEON', 'MEDICINE SPECIALIST\\nNEPHROLOGIST\\nCARDIOLOGIST', 'PEDIATRIC CARDIOLOGIST', 'MEDICINE SPECIALIST\\nRHEUMATOLOGIST', 'THORACIC SURGEON\\nCARDIOTHORACIC SURGEON', 'COLORECTAL & LAPAROSCOPIC SURGEON', 'DIABETOLOGIST\\nMEDICINE SPECIALIST', 'PEDIATRIC NEPHROLOGIST', 'DENTIST', 'DIABETOLOGIST', 'PEDIATRICIAN\\nPEDIATRIC NEUROLOGIST', 'CARDIOLOGIST\\nMEDICINE SPECIALIST', 'PEDIATRIC HEMATOLOGIST & ONCOLOGIST', 'VASCULAR SURGEON', 'PEDIATRIC NEUROLOGIST', 'MEDICINE SPECIALIST\\nGASTROENTEROLOGIST\\nDIABETOLOGIST', 'GENERAL PHYSICIAN\\nFAMILY MEDICINE SPECIALIST', 'DIABETOLOGIST\\nENDOCRINOLOGIST', 'FAMILY MEDICINE SPECIALIST', 'DIABETES SPECIALIST\\nMEDICINE SPECIALIST\\nENDOCRINOLOGIST', 'CARDIOLOGIST\\nMEDICINE SPECIALIST\\nRESPIRATORY SPECIALIST\\nDIABETES SPECIALIST', 'CARDIOLOGIST\\nDIABETES SPECIALIST\\nMEDICINE SPECIALIST', 'GENERAL PHYSICIAN', 'SONOLOGIST', 'MEDICINE SPECIALIST\\nDIABETES SPECIALIST', 'INFERTILITY SPECIALIST', 'SURGEON\\nCOLORECTAL SURGEON\\nGENERAL SURGEON\\nONCOLOGIST\\nLAPAROSCOPIC SURGEON', 'PHYSIOTHERAPIST', 'MEDICINE SPECIALIST\\nDIABETOLOGIST', 'MEDICINE SPECIALIST\\nNEUROMEDICINE SPECIALIST\\nDIABETES SPECIALIST', 'MEDICINE SPECIALIST\\nGENERAL PHYSICIAN', 'CHEST SPECIALIST', 'GYNECOLOGIST & OBSTETRICIAN\\nSURGEON', 'GYNECOLOGIC ONCOLOGIST\\nGYNECOLOGIST & OBSTETRICIAN', 'ENDOCRINOLOGIST\\nMEDICINE SPECIALIST', 'PATHOLOGIST', 'DIABETES SPECIALIST\\nENDOCRINOLOGIST', 'GENERAL SURGEON\\nCOLORECTAL & LAPAROSCOPIC SURGERY', 'DIABETOLOGIST\\nMEDICINE SPECIALIST\\nPSYCHIATRIST', 'FAMILY MEDICINE SPECIALIST\\nDIABETOLOGIST', 'DIABETOLOGIST\\nDERMATOLOGIST', 'PHYSICAL MEDICINE\\nRHEUMATOLOGIST', 'NEUROMEDICINE SPECIALIST\\nRESPIRATORY SPECIALIST', 'RESPIRATORY SPECIALIST\\nCHEST SPECIALIST', 'GENERAL SURGEON\\nLAPAROSCOPIC SURGEON\\nPLASTIC SURGEON', 'GENERAL PHYSICIAN\\nDIABETES SPECIALIST', 'PEDIATRICIAN\\nNUTRITIONIST', 'LAPAROSCOPIC SURGEON', 'INFERTILITY SPECIALIST\\nGYNECOLOGIST & OBSTETRICIAN', 'UROLOGIST\\nLAPAROSCOPIC SURGEON', 'PEDIATRIC PULMONOLOGIST', 'PEDIATRICIAN\\nPEDIATRIC PULMONOLOGIST', 'LAPAROSCOPIC SURGEON\\nGENERAL SURGEON', 'GYNECOLOGIST & OBSTETRICIAN\\nINFERTILITY SPECIALIST\\nSURGEON', 'LASER DERMATOSURGEON', 'PAIN MANAGEMENT SPECIALIST', 'ENDOCRINOLOGIST\\nDIABETOLOGIST', 'MEDICINE SPECIALIST\\nNEPHROLOGIST', 'COLORECTAL & LAPAROSCOPIC SURGERY', 'COLORECTAL & LAPAROSCOPIC SURGEON\\nGENERAL SURGEON', 'INTERNAL MEDICINE\\nNEPHROLOGIST', 'INTERNAL MEDICINE\\nCARDIOLOGIST', 'INTERNAL MEDICINE\\nRHEUMATOLOGIST', 'INTERNAL MEDICINE\\nHEMATOLOGIST', 'SURGEON\\nUROLOGIST', 'HEPATOBILIARY SURGEON', 'CRITICAL CARE SPECIALIST', 'DERMATOLOGIST\\nMEDICINE SPECIALIST', 'PEDIATRICIAN\\nORTHOPEDIST', 'ANESTHESIOLOGIST\\nCRITICAL CARE SPECIALIST', 'PEDIATRIC SURGEON\\nORTHOPEDIST', 'MEDICINE SPECIALIST\\nRESPIRATORY SPECIALIST', 'ENDOCRINOLOGIST\\nDIABETES SPECIALIST', 'PSYCHOLOGIST', 'ORTHOPEDIST\\nORTHOPEDIC SURGEON', 'INTERNAL MEDICINE\\nDIABETES SPECIALIST', 'MEDICINE SPECIALIST\\nPULMONOLOGIST', 'NEUROLOGIST\\nNEUROMEDICINE SPECIALIST', 'DIABETES SPECIALIST\\nMEDICINE SPECIALIST', 'CARDIOLOGIST\\nCARDIOTHORACIC AND VASCULAR SURGEON', 'DIETICIAN\\nNUTRITIONIST', 'RESPIRATORY SPECIALIST\\nDERMATOLOGIST', 'MEDICINE SPECIALIST\\nRESPIRATORY SPECIALIST\\nDIABETES SPECIALIST', 'MEDICINE SPECIALIST\\nPAIN MANAGEMENT SPECIALIST', 'MEDICINE SPECIALIST\\nNEUROMEDICINE SPECIALIST\\nGASTROENTEROLOGIST', 'NEPHROLOGIST\\nDIABETES SPECIALIST', 'HEPATOBILIARY SURGEON\\nLAPAROSCOPIC SURGEON', 'NEUROLOGIST\\nMEDICINE SPECIALIST', 'ONCOLOGIST\\nGENERAL SURGEON', 'PHYSICAL MEDICINE\\nREHABILITATION SPECIALIST', 'GYNECOLOGIST & OBSTETRICIAN\\nLAPAROSCOPIST', 'GENERAL SURGEON\\nHEPATOBILIARY SURGEON\\nLAPAROSCOPIC SURGEON', 'DIABETOLOGIST\\nFAMILY MEDICINE SPECIALIST', 'ONCOLOGIST\\nSURGEON', 'NEUROMEDICINE SPECIALIST\\nMEDICINE SPECIALIST', 'MEDICINE SPECIALIST\\nNEUROMEDICINE SPECIALIST', 'DERMATOLOGIST\\nMEDICINE SPECIALIST\\nDIABETOLOGIST', 'CARDIAC SURGEON\\nCARDIOTHORACIC AND VASCULAR SURGEON', 'GENERAL SURGEON\\nHEPATOBILIARY SURGEON\\nCOLORECTAL & LAPAROSCOPIC SURGEON', 'GASTROENTEROLOGIST\\nMEDICINE SPECIALIST\\nDIABETES SPECIALIST', 'CARDIOLOGIST\\nMEDICINE SPECIALIST\\nDIABETES SPECIALIST', 'CARDIOLOGIST\\nRHEUMATOLOGIST\\nDIABETES SPECIALIST', 'PEDIATRICIAN\\nOPHTHALMOLOGIST', 'OPHTHALMOLOGIST\\nPEDIATRICIAN', 'MEDICINE SPECIALIST\\nNEPHROLOGIST\\nDIABETES SPECIALIST', 'DIABETES SPECIALIST\\nMEDICINE SPECIALIST\\nRHEUMATOLOGIST', 'OTOLARYNGOLOGISTS (ENT)\\nSURGEON', 'INTERVENTIONAL CARDIOLOGIST', 'GYNECOLOGISTS\\nINFERTILITY SPECIALIST', 'INTERNAL MEDICINE SPECIALIST\\nDIABETES SPECIALIST', 'NEONATOLOGIST', 'CRITICAL CARE MEDICINE SPECIALIST', 'NEPHROLOGIST\\nMEDICINE SPECIALIST', 'FAMILY MEDICINE SPECIALIST\\nDIABETES SPECIALIST', 'DIABETES SPECIALIST', 'THORACIC SURGEON\\nCARDIAC SURGEON\\nVASCULAR SURGEON', 'PEDIATRIC NEUROSURGEON', 'NEURO PHYSICIAN', 'MEDICINE SPECIALIST\\nCHEST SPECIALIST', 'PEDIATRICIAN\\nPULMONOLOGIST', 'DIABETOLOGIST\\nINTERNAL MEDICINE', 'DIABETES SPECIALIST\\nGYNECOLOGIST & OBSTETRICIAN\\nINFERTILITY SPECIALIST', 'NEUROSURGEON\\nPEDIATRIC NEUROSURGEON', 'RESPIRATORY SPECIALIST\\nINTERNAL MEDICINE', 'RESPIRATORY SPECIALIST\\nINTERNAL MEDICINE SPECIALIST', 'CLINICAL NUTRITIONIST', 'DIABETOLOGIST\\nPULMONOLOGIST', 'GASTROENTEROLOGIST\\nHEPATOLOGIST\\nMEDICINE SPECIALIST', 'VASCULAR SURGEON\\nTHORACIC SURGEON\\nCARDIAC SURGEON', 'CARDIOLOGIST\\nMEDICINE SPECIALIST\\nRHEUMATOLOGIST', 'CHEST SPECIALIST\\nDIABETES SPECIALIST\\nMEDICINE SPECIALIST', 'GENERAL SURGEON\\nVASCULAR SURGEON', 'HEPATOLOGIST\\nMEDICINE SPECIALIST', 'DIABETES SPECIALIST\\nMEDICINE SPECIALIST\\nCARDIOLOGIST', 'MEDICINE SPECIALIST\\nDIABETOLOGIST\\nENDOCRINOLOGIST', 'PULMONOLOGIST\\nRESPIRATORY SPECIALIST', 'GASTROENTEROLOGIST\\nMEDICINE SPECIALIST\\nHEPATOLOGIST', 'MEDICINE SPECIALIST\\nONCOLOGIST', 'DERMATOLOGIST\\nVENEREOLOGIST', 'RESPIRATORY SPECIALIST\\nMEDICINE SPECIALIST', 'TRANSFUSION MEDICINE SPECIALIST', 'CARDIOTHORACIC SURGEON\\nTHORACIC SURGEON', 'PEDIATRIC HEMATOLOGIST', 'MEDICINE SPECIALIST\\nNEUROLOGIST', 'PEDIATRICIAN & NEONATOLOGIST\\nNUTRITIONIST', 'INTERNAL MEDICINE SPECIALIST\\nRHEUMATOLOGIST', 'MEDICINE SPECIALIST\\nGYNECOLOGISTS', 'DIABETES SPECIALIST\\nMEDICINE SPECIALIST\\nGASTROENTEROLOGIST', 'ALLERGY SKIN-VD\\nSEXUAL MEDICINE SPECIALIST\\nDERMATOLOGIST', 'CHEST SPECIALIST\\nPULMONOLOGIST', 'PEDIATRICIAN\\nPEDIATRIC HEMATOLOGIST', 'COLORECTAL & LAPAROSCOPIC SURGEON\\nGENERAL SURGEON\\nCOLORECTAL SURGEON', 'COLORECTAL SURGEON\\nGENERAL SURGEON', 'CARDIOLOGIST\\nPEDIATRIC CARDIOLOGIST', 'PEDIATRICIAN\\nPEDIATRICIAN & NEONATOLOGIST', 'SURGEON\\nLAPAROSCOPIC SURGEON', 'HEPATOLOGIST\\nSURGEON', 'GENERAL SURGEON\\nPLASTIC SURGEON\\nLAPAROSCOPIC SURGEON', 'INTERNAL MEDICINE\\nCRITICAL CARE SPECIALIST', 'DIETICIAN', 'ONCOLOGIST\\nRADIOLOGIST', 'CHEST SPECIALIST\\nRESPIRATORY SPECIALIST', 'NEUROLOGIST\\nANESTHESIOLOGIST', 'COLORECTAL & LAPAROSCOPIC SURGEON\\nPLASTIC SURGEON', 'INTERVENTIONAL CARDIOLOGIST\\nTHORACIC SURGEON', 'UROLOGIST\\nSURGEON', 'HEPATOLOGIST\\nGASTROENTEROLOGIST', 'IMMUNOLOGIST\\nALLERGY SKIN-VD', 'LAPAROSCOPIC SURGEON\\nCOLORECTAL SURGEON', 'LAPAROSCOPIC SURGEON\\nSURGEON', 'PEDIATRICIAN\\nNEONATOLOGIST', 'PEDIATRICIAN\\nPSYCHIATRIST', 'REHABILITATION SPECIALIST', 'INTERNAL MEDICINE SPECIALIST\\nENDOCRINOLOGIST', 'PULMONARY MEDICINE SPECIALIST', 'PEDIATRIC HEMATOLOGIST\\nONCOLOGIST', 'OTOLARYNGOLOGISTS (ENT)\\nONCOLOGIST', 'CARDIOLOGIST\\nDIABETOLOGIST', 'COSMETOLOGIST\\nDERMATOLOGIST', 'DENTIST\\nMAXILLOFACIAL SURGEON', 'PEDIATRICIAN\\nMEDICINE SPECIALIST', 'NEPHROLOGIST\\nDIABETOLOGIST', 'GYNECOLOGISTS\\nINFERTILITY SPECIALIST\\nSURGEON', 'MEDICINE SPECIALIST\\nHEMATOLOGIST', 'GENERAL SURGEON\\nHEPATOLOGIST', 'VASCULAR SURGEON\\nGENERAL SURGEON', 'GENERAL SURGEON\\nLAPAROSCOPIST', 'MAXILLOFACIAL SURGEON\\nDENTIST', 'CARDIAC SURGEON\\nPEDIATRIC CARDIOLOGIST', 'CARDIOTHORACIC SURGEON', 'ONCOLOGIST\\nUROLOGIST\\nLAPAROSCOPIC SURGEON', 'COLORECTAL SURGEON\\nGENERAL SURGEON\\nLAPAROSCOPIC SURGEON', 'MAXILLOFACIAL SURGEON', 'NEUROLOGIST\\nPULMONOLOGIST', 'NUCLEOLOGISTS\\nMEDICINE SPECIALIST', 'NEONATOLOGIST\\nPEDIATRICIAN', 'CARDIOLOGIST\\nPULMONOLOGIST', 'COLORECTAL & LAPAROSCOPIC SURGEON\\nSURGEON', 'RADIOLOGIST\\nONCOLOGIST', 'PHYSIOTHERAPIST\\nREHABILITATION SPECIALIST', 'ORTHOPEDIC SURGEON\\nTRAUMA SURGEON\\nSPINE SURGEON', 'TRAUMA SURGEON\\nORTHOPEDIST', 'EPIDEMIOLOGIST\\nINTERNAL MEDICINE SPECIALIST', 'ALLERGY SKIN-VD\\nLASER DERMATOSURGEON', 'MEDICINE SPECIALIST\\nPEDIATRIC NEPHROLOGIST', 'NEONATOLOGIST\\nPEDIATRIC SURGEON', 'OBSTETRICIAN\\nGYNECOLOGISTS', 'MEDICINE SPECIALIST\\nFAMILY MEDICINE SPECIALIST', 'MEDICINE SPECIALIST\\nUROLOGIST\\nRHEUMATOLOGIST', 'MEDICINE SPECIALIST\\nINTERNAL MEDICINE', 'NEUROLOGIST\\nINTERNAL MEDICINE SPECIALIST', 'PEDIATRICIAN\\nHEMATOLOGIST', 'ORTHOPEDIST\\nSURGEON', 'PEDIATRICIAN\\nPEDIATRIC GASTROENTEROLOGIST', 'CHEST SPECIALIST\\nMEDICINE SPECIALIST', 'NEUROLOGIST\\nNEUROSURGEON', 'PEDIATRICIAN\\nPEDIATRIC NEPHROLOGIST', 'SURGEON\\nHEPATOBILIARY SURGEON\\nCOLORECTAL & LAPAROSCOPIC SURGEON']\n"
          ]
        }
      ],
      "source": [
        "df['Speciality'] = df['Speciality'].str.upper().str.strip()  # Normalize speciality strings\n",
        "print(\"Unique Speciality Entries after normalization:\")\n",
        "print(pd.Series(df['Speciality']).unique().tolist())\n"
      ]
    },
    {
      "cell_type": "code",
      "execution_count": 18,
      "metadata": {},
      "outputs": [],
      "source": [
        "#split the Speciality field\n",
        "df['Speciality'] = df['Speciality'].str.split('\\n')\n",
        "#explode the Speciality field\n",
        "df = df.explode('Speciality')"
      ]
    },
    {
      "cell_type": "markdown",
      "metadata": {},
      "source": [
        "### Changing the experience year floating to integer"
      ]
    },
    {
      "cell_type": "code",
      "execution_count": 19,
      "metadata": {},
      "outputs": [],
      "source": [
        "#change experience year floating to integer\n",
        "df['Experience'] = df['Experience'].astype(int)  # Convert 'Experience Year' to integer type"
      ]
    },
    {
      "cell_type": "markdown",
      "metadata": {
        "id": "7c04a35a"
      },
      "source": [
        "## Exporting the Cleaned Data"
      ]
    },
    {
      "cell_type": "code",
      "execution_count": 20,
      "metadata": {
        "id": "IHZEoPtFwdTa"
      },
      "outputs": [],
      "source": [
        "df.to_csv('../data/cleaned/doctors_cleaned_data.csv', index=False)"
      ]
    }
  ],
  "metadata": {
    "colab": {
      "provenance": []
    },
    "kernelspec": {
      "display_name": "venv",
      "language": "python",
      "name": "python3"
    },
    "language_info": {
      "codemirror_mode": {
        "name": "ipython",
        "version": 3
      },
      "file_extension": ".py",
      "mimetype": "text/x-python",
      "name": "python",
      "nbconvert_exporter": "python",
      "pygments_lexer": "ipython3",
      "version": "3.13.3"
    }
  },
  "nbformat": 4,
  "nbformat_minor": 0
}
